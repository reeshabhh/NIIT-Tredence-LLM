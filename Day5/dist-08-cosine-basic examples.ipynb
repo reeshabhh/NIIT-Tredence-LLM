{
 "cells": [
  {
   "cell_type": "markdown",
   "metadata": {},
   "source": [
    "--------------------------\n",
    "## cosine similarity\n",
    "------------------------\n"
   ]
  },
  {
   "cell_type": "code",
   "execution_count": 1,
   "metadata": {
    "tags": []
   },
   "outputs": [],
   "source": [
    "import numpy as np\n",
    "import pandas as pd\n",
    "\n",
    "from nltk import sent_tokenize, word_tokenize\n",
    "from nltk.stem import PorterStemmer\n",
    "import re\n",
    "\n",
    "from scipy.spatial import distance\n",
    "from sklearn.metrics.pairwise import cosine_similarity\n",
    "\n",
    "from sklearn.feature_extraction.text import TfidfVectorizer\n",
    "from sklearn.feature_extraction.text import CountVectorizer\n",
    "\n",
    "# import plotting libraries\n",
    "from mpl_toolkits.mplot3d.axes3d import Axes3D\n",
    "\n",
    "import matplotlib\n",
    "import matplotlib.pyplot as plt\n",
    "from pandas.plotting import scatter_matrix\n",
    "%matplotlib inline \n",
    "\n",
    "import seaborn as sns\n",
    "sns.set(style=\"white\", color_codes=True)\n",
    "sns.set(font_scale=1.5)\n",
    "\n",
    "from sklearn.preprocessing import normalize"
   ]
  },
  {
   "cell_type": "markdown",
   "metadata": {},
   "source": [
    "#### what is Cosine Similarity\n",
    "\n",
    "- Intuitively, let’s say we have 2 vectors, each representing a sentence. If the vectors are close to parallel, maybe we assume that both sentences are “similar” in theme. Whereas if the vectors are orthogonal, then we assume the sentences are independent or NOT “similar”. \n",
    "\n",
    "$$ \\mbox{Cosine Similarity} = \\frac{\\sum_{i=1}^{n}{x_{i} y_{i}}}\n",
    "           {\\sqrt{\\sum_{i=1}^{n}{x_{i}^{2}}}\n",
    "            \\sqrt{\\sum_{i=1}^{n}{y_{i}^{2}}}}$$\n",
    "            \n",
    "$$ \\mbox{Cosine Distance} = 1 - \\mbox{Cosine Similarity} $$ \n",
    "\n",
    "The resulting similarity ranges from \n",
    "\n",
    "- −1 meaning exactly opposite, \n",
    "-  1 meaning exactly the same, \n",
    "-  0 indicating orthogonality or decorrelation, \n",
    "- while in-between values indicate intermediate similarity or dissimilarity.\n",
    "\n",
    "#### Applications\n",
    "- In practice, cosine similarity tends to be useful when trying to determine how similar two texts/documents are. \n",
    "\n",
    "- used for sentiment analysis, translation, for detecting plagiarism. \n",
    "\n",
    "- Cosine similarity works in these usecases because we ignore magnitude and focus solely on orientation. when the magnitude of the vectors does not matter. \n",
    "\n",
    "- In NLP, this might help us still detect that a much longer document has the same “theme” as a much shorter document since we don’t worry about the magnitude or the “length” of the documents themselves.\n",
    "\n",
    "- For __text matching__, the attribute vectors A and B are usually the term frequency vectors of the documents. Cosine similarity can be seen as a method of normalizing document length during comparison.\n",
    "\n",
    "- In the case of __information retrieval__, the cosine similarity of two documents will range from 0 to 1, since the term frequencies (using tf–idf weights) cannot be negative. The angle between two term frequency vectors cannot be greater than 90°."
   ]
  },
  {
   "cell_type": "code",
   "execution_count": 2,
   "metadata": {
    "tags": []
   },
   "outputs": [],
   "source": [
    "# vectors\n",
    "a = np.array([1,  2,  3])\n",
    "b = np.array([10, 10, 40])"
   ]
  },
  {
   "cell_type": "code",
   "execution_count": 8,
   "metadata": {
    "tags": []
   },
   "outputs": [
    {
     "name": "stdout",
     "output_type": "stream",
     "text": [
      "Cosine distance =  0.05508881747693195\n",
      "cosine sim =  0.944911182523068\n"
     ]
    }
   ],
   "source": [
    "# method - 1 - using scipy\n",
    "# Compute the Cosine distance between 1-D arrays.\n",
    "# so \n",
    "# cosine sim = 1 - cosine distance\n",
    "print('Cosine distance = ', distance.cosine(a, b))\n",
    "\n",
    "print('cosine sim = ', 1-distance.cosine(a, b))"
   ]
  },
  {
   "cell_type": "code",
   "execution_count": 9,
   "metadata": {
    "tags": []
   },
   "outputs": [
    {
     "name": "stdout",
     "output_type": "stream",
     "text": [
      "Cosine similarity is 0.944911182523068\n",
      "Cosine distance   is 0.05508881747693195\n"
     ]
    }
   ],
   "source": [
    "# method - 2 - using numpy\n",
    "# manually compute cosine similarity\n",
    "dot = np.dot(a, b)\n",
    "norma = np.linalg.norm(a)\n",
    "normb = np.linalg.norm(b)\n",
    "cos = dot / (norma * normb)\n",
    "\n",
    "print(\"Cosine similarity is {}\".format(cos))\n",
    "print(\"Cosine distance   is {}\".format(1-cos))"
   ]
  },
  {
   "cell_type": "code",
   "execution_count": 10,
   "metadata": {
    "tags": []
   },
   "outputs": [
    {
     "name": "stdout",
     "output_type": "stream",
     "text": [
      "Cosine similarity is 0.944911182523068\n",
      "Cosine distance   is 0.05508881747693195\n"
     ]
    }
   ],
   "source": [
    "# Method 3\n",
    "# define own cosine function\n",
    "def compute_cosine(a, b):\n",
    "    result_num = np.dot(a, b)\n",
    "    result_den = np.sqrt(np.sum(a **2)) * np.sqrt(np.sum(b ** 2))\n",
    "    \n",
    "    return result_num / result_den\n",
    "\n",
    "cos = compute_cosine(a, b)\n",
    "\n",
    "print(\"Cosine similarity is {}\".format(cos))\n",
    "print(\"Cosine distance   is {}\".format(1-cos))"
   ]
  },
  {
   "cell_type": "markdown",
   "metadata": {},
   "source": [
    "#### When to use the cosine similarity?"
   ]
  },
  {
   "cell_type": "code",
   "execution_count": 12,
   "metadata": {
    "tags": []
   },
   "outputs": [
    {
     "data": {
      "text/html": [
       "<div>\n",
       "<style scoped>\n",
       "    .dataframe tbody tr th:only-of-type {\n",
       "        vertical-align: middle;\n",
       "    }\n",
       "\n",
       "    .dataframe tbody tr th {\n",
       "        vertical-align: top;\n",
       "    }\n",
       "\n",
       "    .dataframe thead th {\n",
       "        text-align: right;\n",
       "    }\n",
       "</style>\n",
       "<table border=\"1\" class=\"dataframe\">\n",
       "  <thead>\n",
       "    <tr style=\"text-align: right;\">\n",
       "      <th></th>\n",
       "      <th>weight</th>\n",
       "      <th>length</th>\n",
       "      <th>label</th>\n",
       "    </tr>\n",
       "  </thead>\n",
       "  <tbody>\n",
       "    <tr>\n",
       "      <th>0</th>\n",
       "      <td>6.6</td>\n",
       "      <td>6.2</td>\n",
       "      <td>1.0</td>\n",
       "    </tr>\n",
       "    <tr>\n",
       "      <th>1</th>\n",
       "      <td>9.7</td>\n",
       "      <td>9.9</td>\n",
       "      <td>2.0</td>\n",
       "    </tr>\n",
       "    <tr>\n",
       "      <th>2</th>\n",
       "      <td>8.0</td>\n",
       "      <td>8.3</td>\n",
       "      <td>2.0</td>\n",
       "    </tr>\n",
       "    <tr>\n",
       "      <th>3</th>\n",
       "      <td>6.3</td>\n",
       "      <td>5.4</td>\n",
       "      <td>1.0</td>\n",
       "    </tr>\n",
       "    <tr>\n",
       "      <th>4</th>\n",
       "      <td>1.3</td>\n",
       "      <td>2.7</td>\n",
       "      <td>0.0</td>\n",
       "    </tr>\n",
       "    <tr>\n",
       "      <th>5</th>\n",
       "      <td>2.3</td>\n",
       "      <td>3.1</td>\n",
       "      <td>0.0</td>\n",
       "    </tr>\n",
       "    <tr>\n",
       "      <th>6</th>\n",
       "      <td>6.6</td>\n",
       "      <td>6.0</td>\n",
       "      <td>1.0</td>\n",
       "    </tr>\n",
       "    <tr>\n",
       "      <th>7</th>\n",
       "      <td>6.5</td>\n",
       "      <td>6.4</td>\n",
       "      <td>1.0</td>\n",
       "    </tr>\n",
       "    <tr>\n",
       "      <th>8</th>\n",
       "      <td>6.3</td>\n",
       "      <td>5.8</td>\n",
       "      <td>1.0</td>\n",
       "    </tr>\n",
       "    <tr>\n",
       "      <th>9</th>\n",
       "      <td>9.5</td>\n",
       "      <td>9.9</td>\n",
       "      <td>2.0</td>\n",
       "    </tr>\n",
       "    <tr>\n",
       "      <th>10</th>\n",
       "      <td>8.9</td>\n",
       "      <td>8.9</td>\n",
       "      <td>2.0</td>\n",
       "    </tr>\n",
       "    <tr>\n",
       "      <th>11</th>\n",
       "      <td>8.7</td>\n",
       "      <td>9.5</td>\n",
       "      <td>2.0</td>\n",
       "    </tr>\n",
       "    <tr>\n",
       "      <th>12</th>\n",
       "      <td>2.5</td>\n",
       "      <td>3.8</td>\n",
       "      <td>0.0</td>\n",
       "    </tr>\n",
       "    <tr>\n",
       "      <th>13</th>\n",
       "      <td>2.0</td>\n",
       "      <td>3.1</td>\n",
       "      <td>0.0</td>\n",
       "    </tr>\n",
       "    <tr>\n",
       "      <th>14</th>\n",
       "      <td>1.3</td>\n",
       "      <td>1.3</td>\n",
       "      <td>0.0</td>\n",
       "    </tr>\n",
       "  </tbody>\n",
       "</table>\n",
       "</div>"
      ],
      "text/plain": [
       "    weight  length  label\n",
       "0      6.6     6.2    1.0\n",
       "1      9.7     9.9    2.0\n",
       "2      8.0     8.3    2.0\n",
       "3      6.3     5.4    1.0\n",
       "4      1.3     2.7    0.0\n",
       "5      2.3     3.1    0.0\n",
       "6      6.6     6.0    1.0\n",
       "7      6.5     6.4    1.0\n",
       "8      6.3     5.8    1.0\n",
       "9      9.5     9.9    2.0\n",
       "10     8.9     8.9    2.0\n",
       "11     8.7     9.5    2.0\n",
       "12     2.5     3.8    0.0\n",
       "13     2.0     3.1    0.0\n",
       "14     1.3     1.3    0.0"
      ]
     },
     "execution_count": 12,
     "metadata": {},
     "output_type": "execute_result"
    }
   ],
   "source": [
    "X = np.array([[6.6, 6.2, 1],\n",
    "              [9.7, 9.9, 2],\n",
    "              [8.0, 8.3, 2],\n",
    "              [6.3, 5.4, 1],\n",
    "              [1.3, 2.7, 0],\n",
    "              [2.3, 3.1, 0],\n",
    "              [6.6, 6.0, 1],\n",
    "              [6.5, 6.4, 1],\n",
    "              [6.3, 5.8, 1],\n",
    "              [9.5, 9.9, 2],\n",
    "              [8.9, 8.9, 2],\n",
    "              [8.7, 9.5, 2],\n",
    "              [2.5, 3.8, 0],\n",
    "              [2.0, 3.1, 0],\n",
    "              [1.3, 1.3, 0]])\n",
    "\n",
    "df = pd.DataFrame(X, columns=['weight', 'length', 'label'])\n",
    "df"
   ]
  },
  {
   "cell_type": "code",
   "execution_count": 13,
   "metadata": {
    "tags": []
   },
   "outputs": [
    {
     "data": {
      "image/png": "[encoded data removed]",
      "text/plain": [
       "<Figure size 640x480 with 1 Axes>"
      ]
     },
     "metadata": {},
     "output_type": "display_data"
    }
   ],
   "source": [
    "ax = df[df['label'] == 0].plot.scatter(x='weight', y='length', c='blue',   label='young')\n",
    "ax = df[df['label'] == 1].plot.scatter(x='weight', y='length', c='orange', label='mid',   ax=ax)\n",
    "ax = df[df['label'] == 2].plot.scatter(x='weight', y='length', c='red',    label='adult', ax=ax)\n",
    "\n",
    "ax;"
   ]
  },
  {
   "cell_type": "markdown",
   "metadata": {},
   "source": [
    "Looking at the plot above, we can see that the 3 classes are pretty well distinguishable by these 2 features that we have. \n",
    "\n",
    "Say that we apply k-NN to our data that will learn to classify new instances based on their distance to our known instances (and their labels). \n",
    "\n",
    "The algorithm needs a distance metric to determine which of the known instances are closest to the new one. "
   ]
  },
  {
   "cell_type": "code",
   "execution_count": 14,
   "metadata": {
    "tags": []
   },
   "outputs": [
    {
     "data": {
      "image/png": "[encoded data removed]",
      "text/plain": [
       "<Figure size 640x480 with 1 Axes>"
      ]
     },
     "metadata": {},
     "output_type": "display_data"
    }
   ],
   "source": [
    "# Considering instance #0, #1, and #4 to be our known instances, we assume that we don’t know \n",
    "# the label of #14. \n",
    "# Plotting this will look as follows:\n",
    "\n",
    "df2 = pd.DataFrame([df.iloc[0], df.iloc[1], df.iloc[4]], columns=['weight', 'length', 'label'])\n",
    "df3 = pd.DataFrame([df.iloc[14]], columns=['weight', 'length', 'label'])\n",
    "\n",
    "ax = df2[df2['label'] == 0].plot.scatter(x='weight', y='length', c='blue',   label='young')\n",
    "ax = df2[df2['label'] == 1].plot.scatter(x='weight', y='length', c='orange', label='mid',   ax=ax)\n",
    "ax = df2[df2['label'] == 2].plot.scatter(x='weight', y='length', c='red',    label='adult', ax=ax)\n",
    "\n",
    "ax = df3.plot.scatter(x='weight', y='length', c='gray', label='?', ax=ax)"
   ]
  },
  {
   "cell_type": "markdown",
   "metadata": {
    "tags": []
   },
   "source": [
    "#### Euclidean\n",
    "Our euclidean distance function can be defined as follows:\n",
    "\n",
    "$$ \\Large \\sqrt{\\sum^n_{i=1} (x_i - y_i)^2} $$"
   ]
  },
  {
   "cell_type": "code",
   "execution_count": 15,
   "metadata": {
    "tags": []
   },
   "outputs": [],
   "source": [
    "def euclidean_distance(x, y):   \n",
    "    return np.sqrt(np.sum((x - y) ** 2))"
   ]
  },
  {
   "cell_type": "code",
   "execution_count": 16,
   "metadata": {
    "tags": []
   },
   "outputs": [
    {
     "data": {
      "text/plain": [
       "array([9.7, 9.9])"
      ]
     },
     "execution_count": 16,
     "metadata": {},
     "output_type": "execute_result"
    }
   ],
   "source": [
    "X[1][:-1]"
   ]
  },
  {
   "cell_type": "code",
   "execution_count": 17,
   "metadata": {
    "tags": []
   },
   "outputs": [
    {
     "name": "stdout",
     "output_type": "stream",
     "text": [
      " x0: [6.6 6.2] \n",
      " x1: [9.7 9.9] \n",
      " x4: [1.3 2.7] \n",
      "x14: [1.3 1.3]\n"
     ]
    }
   ],
   "source": [
    "x0 = X[0][:-1]\n",
    "x1 = X[1][:-1]\n",
    "x4 = X[4][:-1]\n",
    "\n",
    "x14 = X[14][:-1]\n",
    "print(\" x0:\", x0, \"\\n x1:\", x1, \"\\n x4:\", x4, \"\\nx14:\", x14)"
   ]
  },
  {
   "cell_type": "code",
   "execution_count": 19,
   "metadata": {
    "tags": []
   },
   "outputs": [
    {
     "name": "stdout",
     "output_type": "stream",
     "text": [
      "x14 and x0: 7.218032973047436 \n",
      " x14 and x1: 12.021647141718974 \n",
      " x14 and x4: 1.4000000000000001\n"
     ]
    }
   ],
   "source": [
    "print(\"x14 and x0:\", euclidean_distance(x14, x0), \"\\n\",\n",
    "      \"x14 and x1:\", euclidean_distance(x14, x1), \"\\n\",\n",
    "      \"x14 and x4:\", euclidean_distance(x14, x4))"
   ]
  },
  {
   "cell_type": "markdown",
   "metadata": {},
   "source": [
    "According to euclidean distance, instance #14 is closest to #4. Our 4th instance had the label:\n",
    "\n",
    "0 = young, which is what we would visually also deem the correct label for this instance."
   ]
  },
  {
   "cell_type": "code",
   "execution_count": 20,
   "metadata": {
    "tags": []
   },
   "outputs": [
    {
     "data": {
      "text/plain": [
       "array([1.3, 2.7, 0. ])"
      ]
     },
     "execution_count": 20,
     "metadata": {},
     "output_type": "execute_result"
    }
   ],
   "source": [
    "X[4]"
   ]
  },
  {
   "cell_type": "markdown",
   "metadata": {},
   "source": [
    "#### Cosine\n",
    "Our cosine similarity function can be defined as follows:\n",
    "\n",
    "$$ \\Large \\frac{x \\bullet y}{ \\sqrt{x \\bullet x} \\sqrt{y \\bullet y}} $$\n",
    "\n",
    "Where x and y are two vectors"
   ]
  },
  {
   "cell_type": "code",
   "execution_count": 21,
   "metadata": {
    "tags": []
   },
   "outputs": [],
   "source": [
    "def fn_cosine_similarity(x, y):\n",
    "    return np.dot(x, y) / (np.sqrt(np.dot(x, x)) * np.sqrt(np.dot(y, y)))"
   ]
  },
  {
   "cell_type": "code",
   "execution_count": 22,
   "metadata": {
    "tags": []
   },
   "outputs": [
    {
     "name": "stdout",
     "output_type": "stream",
     "text": [
      " x14 and x0: 0.9995120760870786 \n",
      " x14 and x1: 0.9999479424242859 \n",
      " x14 and x4: 0.9438583563660174\n"
     ]
    }
   ],
   "source": [
    "print(\" x14 and x0:\", fn_cosine_similarity(x14, x0), \"\\n\",\n",
    "      \"x14 and x1:\",  fn_cosine_similarity(x14, x1), \"\\n\",\n",
    "      \"x14 and x4:\",  fn_cosine_similarity(x14, x4))"
   ]
  },
  {
   "cell_type": "markdown",
   "metadata": {},
   "source": [
    "According to cosine similarity, instance #14 is closest to #1. However, our 1st instance had the label:\n",
    "\n",
    "2 = adult, which is definitely NOT correct!"
   ]
  },
  {
   "cell_type": "code",
   "execution_count": 28,
   "metadata": {},
   "outputs": [
    {
     "data": {
      "text/plain": [
       "array([9.7, 9.9, 2. ])"
      ]
     },
     "execution_count": 28,
     "metadata": {},
     "output_type": "execute_result"
    }
   ],
   "source": [
    "X[1]"
   ]
  },
  {
   "attachments": {
    "cosine_similarity.png": {
     "image/png": "[encoded data removed]"
    }
   },
   "cell_type": "markdown",
   "metadata": {},
   "source": [
    "#### So what is the deal here ??\n",
    "\n",
    "![cosine_similarity.png](attachment:cosine_similarity.png)\n",
    "\n",
    "- visual representation of euclidean distance (d) and cosine similarity (θ)\n",
    "- cosine looks at the angle between vectors (thus not taking into regard their weight or magnitude) \n",
    "- euclidean distance is similar to using a ruler to actually measure the distance. \n",
    "\n",
    "In our example the angle between x14 and x4 was larger than those of the other vectors, even though they were further away."
   ]
  },
  {
   "cell_type": "code",
   "execution_count": 14,
   "metadata": {},
   "outputs": [
    {
     "name": "stdout",
     "output_type": "stream",
     "text": [
      "[6.6 6.2] [9.7 9.9] [1.3 2.7] [1.3 1.3]\n"
     ]
    }
   ],
   "source": [
    "print(x0 , x1 , x4 , x14 )"
   ]
  },
  {
   "cell_type": "code",
   "execution_count": 23,
   "metadata": {
    "tags": []
   },
   "outputs": [
    {
     "data": {
      "text/plain": [
       "(0.0, 12.0)"
      ]
     },
     "execution_count": 23,
     "metadata": {},
     "output_type": "execute_result"
    },
    {
     "data": {
      "image/png": "[encoded data removed]",
      "text/plain": [
       "<Figure size 1600x600 with 1 Axes>"
      ]
     },
     "metadata": {},
     "output_type": "display_data"
    }
   ],
   "source": [
    "plt.figure(figsize=(16, 6))\n",
    "plt.arrow(0, 0, x0[0], x0[1], head_width = .5,  head_length= .5, fc='y', ec='k')\n",
    "plt.annotate('0, class 1 ', xy=(x0[0], x0[1]), xytext=(x0[0],x0[1]))\n",
    "\n",
    "plt.arrow(0, 0, x1[0], x1[1], head_width = .5,  head_length= .5, fc='y', ec='k')\n",
    "plt.annotate('1, class 2 ', xy=(x1[0], x1[1]), xytext=(x1[0],x1[1]))\n",
    "\n",
    "plt.arrow(0, 0, x4[0], x4[1], head_width = .5,  head_length= .5, fc='y', ec='k')\n",
    "plt.annotate('4, class 0 ', xy=(x4[0], x4[1]), xytext=(x4[0],x4[1]))\n",
    "\n",
    "plt.arrow(0, 0, x14[0], x14[1], head_width = .5,  head_length= .5, fc='y', ec='g')\n",
    "\n",
    "plt.xlim(0, 12)\n",
    "plt.ylim(0, 12)"
   ]
  },
  {
   "cell_type": "code",
   "execution_count": 31,
   "metadata": {},
   "outputs": [
    {
     "data": {
      "text/html": [
       "<div>\n",
       "<style scoped>\n",
       "    .dataframe tbody tr th:only-of-type {\n",
       "        vertical-align: middle;\n",
       "    }\n",
       "\n",
       "    .dataframe tbody tr th {\n",
       "        vertical-align: top;\n",
       "    }\n",
       "\n",
       "    .dataframe thead th {\n",
       "        text-align: right;\n",
       "    }\n",
       "</style>\n",
       "<table border=\"1\" class=\"dataframe\">\n",
       "  <thead>\n",
       "    <tr style=\"text-align: right;\">\n",
       "      <th></th>\n",
       "      <th>weight</th>\n",
       "      <th>length</th>\n",
       "      <th>label</th>\n",
       "    </tr>\n",
       "  </thead>\n",
       "  <tbody>\n",
       "    <tr>\n",
       "      <th>0</th>\n",
       "      <td>6.6</td>\n",
       "      <td>6.2</td>\n",
       "      <td>1.0</td>\n",
       "    </tr>\n",
       "    <tr>\n",
       "      <th>1</th>\n",
       "      <td>9.7</td>\n",
       "      <td>9.9</td>\n",
       "      <td>2.0</td>\n",
       "    </tr>\n",
       "    <tr>\n",
       "      <th>4</th>\n",
       "      <td>1.3</td>\n",
       "      <td>2.7</td>\n",
       "      <td>0.0</td>\n",
       "    </tr>\n",
       "    <tr>\n",
       "      <th>14</th>\n",
       "      <td>1.3</td>\n",
       "      <td>1.3</td>\n",
       "      <td>0.0</td>\n",
       "    </tr>\n",
       "  </tbody>\n",
       "</table>\n",
       "</div>"
      ],
      "text/plain": [
       "    weight  length  label\n",
       "0      6.6     6.2    1.0\n",
       "1      9.7     9.9    2.0\n",
       "4      1.3     2.7    0.0\n",
       "14     1.3     1.3    0.0"
      ]
     },
     "execution_count": 31,
     "metadata": {},
     "output_type": "execute_result"
    }
   ],
   "source": [
    "# the 3 training and 1 test points\n",
    "df.iloc[[0, 1, 4, 14]]"
   ]
  },
  {
   "cell_type": "markdown",
   "metadata": {},
   "source": [
    "#### How do Euclidean Distance and Cosine Similarity Relate?"
   ]
  },
  {
   "cell_type": "code",
   "execution_count": 17,
   "metadata": {},
   "outputs": [
    {
     "name": "stdout",
     "output_type": "stream",
     "text": [
      "vectors \t [6.6 6.2] [9.7 9.9] \n",
      "euclidean \t 4.827007354458868 \n",
      "cosine \t\t 0.9991413385403556\n"
     ]
    }
   ],
   "source": [
    "print(\"vectors \\t\", x0, x1, \"\\n\"\n",
    "      \"euclidean \\t\", euclidean_distance(x0, x1), \"\\n\"\n",
    "      \"cosine \\t\\t\" , fn_cosine_similarity(x0, x1))"
   ]
  },
  {
   "cell_type": "markdown",
   "metadata": {},
   "source": [
    "Cosine similarity takes a unit length vector to calculate dot products. However, what happens if we do the same for the vectors we’re calculating the euclidian distance for (i.e. normalize them)?\n",
    "\n",
    "we will do the same for the vectors we’re calculating the euclidian distance for (i.e. normalize them)\n",
    "\n",
    "$$ L_1 = \\sum_i x_i $$\n",
    "\n",
    "or the $ L_2 $ norm\n",
    "\n",
    "$$ L_2 = \\sqrt{\\sum_i x_i^2 } $$"
   ]
  },
  {
   "cell_type": "code",
   "execution_count": 21,
   "metadata": {},
   "outputs": [],
   "source": [
    "def l1_normalize(v):\n",
    "    norm = np.sum(v)\n",
    "    return v / norm\n",
    "\n",
    "def l2_normalize(v):\n",
    "    norm = np.sqrt(np.sum(np.square(v)))\n",
    "    return v / norm"
   ]
  },
  {
   "cell_type": "markdown",
   "metadata": {},
   "source": [
    "We will divide the values of our vector by these norms to get a normalized vector.\n",
    "\n",
    "Applying the L1 norm to our vectors will make them sum up to 1 respectively, as such:"
   ]
  },
  {
   "cell_type": "code",
   "execution_count": 22,
   "metadata": {},
   "outputs": [
    {
     "name": "stdout",
     "output_type": "stream",
     "text": [
      "[0.515625 0.484375] [0.49489796 0.50510204]\n"
     ]
    }
   ],
   "source": [
    "x0_n = l1_normalize(x0)\n",
    "x1_n = l1_normalize(x1)\n",
    "print(x0_n, x1_n)"
   ]
  },
  {
   "cell_type": "code",
   "execution_count": 23,
   "metadata": {},
   "outputs": [
    {
     "name": "stdout",
     "output_type": "stream",
     "text": [
      "vectors \t [0.515625 0.484375] [0.49489796 0.50510204] \n",
      "euclidean \t 0.029312462230309616 \n",
      "cosine \t\t 0.9991413385403558\n"
     ]
    }
   ],
   "source": [
    "print(\"vectors \\t\", x0_n, x1_n, \"\\n\"\n",
    "      \"euclidean \\t\", euclidean_distance(x0_n, x1_n), \"\\n\"\n",
    "      \"cosine \\t\\t\", fn_cosine_similarity(x0_n, x1_n))"
   ]
  },
  {
   "cell_type": "markdown",
   "metadata": {},
   "source": [
    "before, the distance was pretty big, but the cosine similarity very high. Now that we normalized our vectors, it turns out that the distance is now very small\n",
    "\n",
    "let us try vector 4, Unnormalized:\n"
   ]
  },
  {
   "cell_type": "code",
   "execution_count": 24,
   "metadata": {},
   "outputs": [
    {
     "name": "stdout",
     "output_type": "stream",
     "text": [
      "vectors \t [6.6 6.2] [1.3 2.7] \n",
      "euclidean \t 6.351377803280167 \n",
      "cosine \t\t 0.9330794115892785\n",
      "vectors \t [0.515625 0.484375] [0.325 0.675] \n",
      "euclidean \t 0.26958446032737116 \n",
      "cosine \t\t 0.9330794115892785\n"
     ]
    }
   ],
   "source": [
    "print(\"vectors \\t\", x0, x4, \"\\n\"\n",
    "      \"euclidean \\t\", euclidean_distance(x0, x4), \"\\n\"\n",
    "      \"cosine \\t\\t\", fn_cosine_similarity(x0, x4))\n",
    "\n",
    "# Normalized:\n",
    "\n",
    "x4_n = l1_normalize(x4)\n",
    "\n",
    "print(\"vectors \\t\", x0_n, x4_n, \"\\n\"\n",
    "      \"euclidean \\t\", euclidean_distance(x0_n, x4_n), \"\\n\"\n",
    "      \"cosine \\t\\t\",  fn_cosine_similarity(x0_n, x4_n))"
   ]
  },
  {
   "cell_type": "markdown",
   "metadata": {},
   "source": [
    "Notice that because the cosine similarity is a bit lower between x0 and x4 than it was for x0 and x1, the euclidean distance is now also a bit larger.\n",
    "\n",
    "\n",
    "let’s construct a vector that is almost evenly distant in our euclidean space, but where the cosine similarity is much lower"
   ]
  },
  {
   "cell_type": "code",
   "execution_count": 25,
   "metadata": {},
   "outputs": [
    {
     "name": "stdout",
     "output_type": "stream",
     "text": [
      "vectors \t [6.6 6.2] [0.1 6. ] \n",
      "euclidean \t 6.503076195155644 \n",
      "cosine \t\t 0.696726168727881\n"
     ]
    }
   ],
   "source": [
    "x00 = np.array([0.1, 6])\n",
    "\n",
    "print(\"vectors \\t\", x0, x00, \"\\n\"\n",
    "      \"euclidean \\t\", euclidean_distance(x0, x00), \"\\n\"\n",
    "      \"cosine \\t\\t\", fn_cosine_similarity(x0, x00))"
   ]
  },
  {
   "cell_type": "code",
   "execution_count": 26,
   "metadata": {},
   "outputs": [
    {
     "name": "stdout",
     "output_type": "stream",
     "text": [
      "vectors \t [0.515625 0.484375] [0.01639344 0.98360656] \n",
      "euclidean \t 0.7060200392072649 \n",
      "cosine \t\t 0.6967261687278811\n"
     ]
    }
   ],
   "source": [
    "x00_n = l1_normalize(x00)\n",
    "\n",
    "print(\"vectors \\t\", x0_n, x00_n, \"\\n\"\n",
    "      \"euclidean \\t\", euclidean_distance(x0_n, x00_n), \"\\n\"\n",
    "      \"cosine \\t\\t\", fn_cosine_similarity(x0_n, x00_n))"
   ]
  },
  {
   "cell_type": "markdown",
   "metadata": {},
   "source": [
    "#### when is cosine handy?\n",
    "\n",
    "Let’s consider 4 articles from Wikipedia. We use the Wikipedia API to extract them, after which we can access their text with the .content method.\n",
    "\n",
    "** pip install wikipedia **\n",
    "\n",
    "Wikipedia is a Python library that makes it easy to access and parse data from Wikipedia.\n",
    "\n",
    "Search Wikipedia, get article summaries, get data like links and images from a page, and more. "
   ]
  },
  {
   "cell_type": "code",
   "execution_count": 24,
   "metadata": {
    "tags": []
   },
   "outputs": [
    {
     "name": "stdout",
     "output_type": "stream",
     "text": [
      "Collecting wikipedia\n",
      "  Using cached wikipedia-1.4.0-py3-none-any.whl\n",
      "Requirement already satisfied: beautifulsoup4 in d:\\anaconda\\lib\\site-packages (from wikipedia) (4.12.2)\n",
      "Requirement already satisfied: requests<3.0.0,>=2.0.0 in d:\\anaconda\\lib\\site-packages (from wikipedia) (2.31.0)\n",
      "Requirement already satisfied: charset-normalizer<4,>=2 in d:\\anaconda\\lib\\site-packages (from requests<3.0.0,>=2.0.0->wikipedia) (2.0.4)\n",
      "Requirement already satisfied: idna<4,>=2.5 in d:\\anaconda\\lib\\site-packages (from requests<3.0.0,>=2.0.0->wikipedia) (3.4)\n",
      "Requirement already satisfied: urllib3<3,>=1.21.1 in d:\\anaconda\\lib\\site-packages (from requests<3.0.0,>=2.0.0->wikipedia) (1.26.16)\n",
      "Requirement already satisfied: certifi>=2017.4.17 in d:\\anaconda\\lib\\site-packages (from requests<3.0.0,>=2.0.0->wikipedia) (2023.7.22)\n",
      "Requirement already satisfied: soupsieve>1.2 in d:\\anaconda\\lib\\site-packages (from beautifulsoup4->wikipedia) (2.4)\n",
      "Installing collected packages: wikipedia\n",
      "Successfully installed wikipedia-1.4.0\n"
     ]
    }
   ],
   "source": [
    "!pip install wikipedia"
   ]
  },
  {
   "cell_type": "code",
   "execution_count": 25,
   "metadata": {
    "tags": []
   },
   "outputs": [],
   "source": [
    "import wikipedia"
   ]
  },
  {
   "cell_type": "code",
   "execution_count": 26,
   "metadata": {
    "tags": []
   },
   "outputs": [],
   "source": [
    "q1 = wikipedia.page('Deep Learning')\n",
    "q2 = wikipedia.page('Artifical Intelligence')\n",
    "q3 = wikipedia.page('olympic games')\n",
    "q4 = wikipedia.page('Baseball')"
   ]
  },
  {
   "cell_type": "code",
   "execution_count": 28,
   "metadata": {
    "tags": []
   },
   "outputs": [
    {
     "name": "stdout",
     "output_type": "stream",
     "text": [
      "DL \t 8121 \n",
      "AI \t 8816 \n",
      "olympic games \t 12297 \n",
      "Baseball \t 9526\n"
     ]
    }
   ],
   "source": [
    "print(\"DL \\t\",     len(q1.content.split()), \"\\n\"\n",
    "      \"AI \\t\",     len(q2.content.split()), \"\\n\"\n",
    "      \"olympic games \\t\", len(q3.content.split()), \"\\n\"\n",
    "      \"Baseball \\t\", len(q4.content.split()))"
   ]
  },
  {
   "cell_type": "markdown",
   "metadata": {},
   "source": [
    "- `AI` is a much larger article than `Deep Learning` (DL). \n",
    "\n",
    "- This would mean that if we do not normalize our vectors, `AI` will be `much further away` from DL just because it has `many` more words. \n",
    "\n",
    "- DL will probably be closer to an article with less words. (simlar number of words)"
   ]
  },
  {
   "cell_type": "code",
   "execution_count": null,
   "metadata": {},
   "outputs": [],
   "source": [
    "1st step : prepare the unique set of words from the above corpus/input\n",
    "    {a great game woah lovely sight corona disappeared}"
   ]
  },
  {
   "cell_type": "code",
   "execution_count": 29,
   "metadata": {
    "tags": []
   },
   "outputs": [],
   "source": [
    "cv = CountVectorizer()"
   ]
  },
  {
   "cell_type": "code",
   "execution_count": 31,
   "metadata": {
    "tags": []
   },
   "outputs": [
    {
     "data": {
      "text/plain": [
       "6364"
      ]
     },
     "execution_count": 31,
     "metadata": {},
     "output_type": "execute_result"
    }
   ],
   "source": [
    "cv = cv.fit(([q1.content, \n",
    "              q2.content, \n",
    "              q3.content, \n",
    "              q4.content]))\n",
    "\n",
    "len(cv.get_feature_names_out())"
   ]
  },
  {
   "cell_type": "code",
   "execution_count": 32,
   "metadata": {
    "tags": []
   },
   "outputs": [],
   "source": [
    "X = cv.transform([q1.content, \n",
    "                           q2.content, \n",
    "                           q3.content, \n",
    "                           q4.content]).toarray()"
   ]
  },
  {
   "cell_type": "code",
   "execution_count": 33,
   "metadata": {
    "tags": []
   },
   "outputs": [
    {
     "data": {
      "text/plain": [
       "array([[5, 0, 0, ..., 0, 0, 0],\n",
       "       [1, 1, 0, ..., 0, 0, 0],\n",
       "       [6, 0, 0, ..., 1, 1, 1],\n",
       "       [0, 0, 1, ..., 0, 0, 0]], dtype=int64)"
      ]
     },
     "execution_count": 33,
     "metadata": {},
     "output_type": "execute_result"
    }
   ],
   "source": [
    "X"
   ]
  },
  {
   "cell_type": "code",
   "execution_count": 34,
   "metadata": {
    "tags": []
   },
   "outputs": [
    {
     "name": "stdout",
     "output_type": "stream",
     "text": [
      "DL - AI \t 333.86673988284605 \n",
      "DL - olympic games \t 1058.8857351008182 \n",
      "DL - baseball \t 610.040162612266\n"
     ]
    }
   ],
   "source": [
    "print(\"DL - AI \\t\",     euclidean_distance(X[0], X[1]), \"\\n\"\n",
    "      \"DL - olympic games \\t\", euclidean_distance(X[0], X[2]), \"\\n\"\n",
    "      \"DL - baseball \\t\", euclidean_distance(X[0], X[3]))"
   ]
  },
  {
   "cell_type": "markdown",
   "metadata": {},
   "source": [
    "ML seems to be closest to soccer, which doesn’t make a lot of sense intuitively. \n",
    "\n",
    "So, what happens if we look at cosine similairty (thus normalising our vectors)?"
   ]
  },
  {
   "cell_type": "code",
   "execution_count": 35,
   "metadata": {
    "tags": []
   },
   "outputs": [
    {
     "name": "stdout",
     "output_type": "stream",
     "text": [
      "ML - AI \t 0.8967778848462021 \n",
      "ML - soccer \t 0.8034012595860089 \n",
      "ML - tennis \t 0.8063338920828119\n"
     ]
    }
   ],
   "source": [
    "print(\"ML - AI \\t\",     fn_cosine_similarity(X[0], X[1]), \"\\n\"\n",
    "      \"ML - soccer \\t\", fn_cosine_similarity(X[0], X[2]), \"\\n\"\n",
    "      \"ML - tennis \\t\", fn_cosine_similarity(X[0], X[3]))"
   ]
  },
  {
   "cell_type": "markdown",
   "metadata": {},
   "source": [
    "ML is closer to AI! Granted, it still seems pretty close to soccer an tennis judging from these scores, but please note that word frequency is not that great of a representation for texts with such rich content."
   ]
  },
  {
   "cell_type": "markdown",
   "metadata": {},
   "source": [
    "#### Categorize a Tweet"
   ]
  },
  {
   "cell_type": "code",
   "execution_count": 36,
   "metadata": {
    "tags": []
   },
   "outputs": [],
   "source": [
    "ml_tweet = \"New research release: overcoming many of Reinforcement Learning's limitations with Evolution Strategies.\""
   ]
  },
  {
   "cell_type": "code",
   "execution_count": 37,
   "metadata": {
    "tags": []
   },
   "outputs": [],
   "source": [
    "x = np.array(cv.transform([ml_tweet]).todense())[0]"
   ]
  },
  {
   "cell_type": "code",
   "execution_count": 38,
   "metadata": {
    "tags": []
   },
   "outputs": [
    {
     "name": "stdout",
     "output_type": "stream",
     "text": [
      "tweet - ML \t 685.7762025617395 \n",
      "tweet - AI \t 754.2347114791257 \n",
      "tweet - soccer \t 1527.938480436958 \n",
      "tweet - tennis \t 1008.6287721456295\n"
     ]
    }
   ],
   "source": [
    "print(\"tweet - ML \\t\",     euclidean_distance(x[0], X[0]), \"\\n\"\n",
    "      \"tweet - AI \\t\",     euclidean_distance(x[0], X[1]), \"\\n\"\n",
    "      \"tweet - soccer \\t\", euclidean_distance(x[0], X[2]), \"\\n\"\n",
    "      \"tweet - tennis \\t\", euclidean_distance(x[0], X[3]))"
   ]
  },
  {
   "cell_type": "markdown",
   "metadata": {},
   "source": [
    "Well, that worked out pretty well at first glance, it’s closest to ML. However, see how it’s also closer to soccer than AI? "
   ]
  },
  {
   "cell_type": "code",
   "execution_count": 39,
   "metadata": {
    "tags": []
   },
   "outputs": [
    {
     "name": "stdout",
     "output_type": "stream",
     "text": [
      "tweet - ML \t 0.2105992210188228 \n",
      "tweet - AI \t 0.1686978674878154 \n",
      "tweet - soccer \t 0.0992580580071807 \n",
      "tweet - tennis \t 0.09984326431095793\n"
     ]
    }
   ],
   "source": [
    "print(\"tweet - ML \\t\", fn_cosine_similarity(x, X[0]), \"\\n\"\n",
    "      \"tweet - AI \\t\", fn_cosine_similarity(x, X[1]), \"\\n\"\n",
    "      \"tweet - soccer \\t\", fn_cosine_similarity(x, X[2]), \"\\n\"\n",
    "      \"tweet - tennis \\t\", fn_cosine_similarity(x, X[3]))"
   ]
  },
  {
   "cell_type": "code",
   "execution_count": 49,
   "metadata": {},
   "outputs": [],
   "source": [
    "so_tweet = \"#LegendsDownUnder The Reds are out for the warm up at the @nibStadium. Not long now until kick-off in Perth.\""
   ]
  },
  {
   "cell_type": "code",
   "execution_count": 50,
   "metadata": {},
   "outputs": [],
   "source": [
    "x2 = np.array(cv.transform([so_tweet]).todense())[0]"
   ]
  },
  {
   "cell_type": "code",
   "execution_count": 51,
   "metadata": {},
   "outputs": [
    {
     "name": "stdout",
     "output_type": "stream",
     "text": [
      "tweet - ML \t 580.1758354154368 \n",
      "tweet - AI \t 1290.9391929909016 \n",
      "tweet - soccer \t 759.9289440467444 \n",
      "tweet - tennis \t 1190.8526357194664\n"
     ]
    }
   ],
   "source": [
    "print(\"tweet - ML \\t\", euclidean_distance(x2, X[0]), \"\\n\"\n",
    "      \"tweet - AI \\t\", euclidean_distance(x2, X[1]), \"\\n\"\n",
    "      \"tweet - soccer \\t\", euclidean_distance(x2, X[2]), \"\\n\"\n",
    "      \"tweet - tennis \\t\", euclidean_distance(x2, X[3]))"
   ]
  },
  {
   "cell_type": "code",
   "execution_count": 52,
   "metadata": {},
   "outputs": [
    {
     "name": "stdout",
     "output_type": "stream",
     "text": [
      "tweet - ML \t 0.4616759907319204 \n",
      "tweet - AI \t 0.4636278073061924 \n",
      "tweet - soccer \t 0.6160050621048546 \n",
      "tweet - tennis \t 0.5978154212469364\n"
     ]
    }
   ],
   "source": [
    "print(\"tweet - ML \\t\", fn_cosine_similarity(x2, X[0]), \"\\n\"\n",
    "      \"tweet - AI \\t\", fn_cosine_similarity(x2, X[1]), \"\\n\"\n",
    "      \"tweet - soccer \\t\", fn_cosine_similarity(x2, X[2]), \"\\n\"\n",
    "      \"tweet - tennis \\t\", fn_cosine_similarity(x2, X[3]))"
   ]
  },
  {
   "cell_type": "code",
   "execution_count": null,
   "metadata": {},
   "outputs": [],
   "source": []
  },
  {
   "cell_type": "markdown",
   "metadata": {},
   "source": [
    "## Making a pairwise distance matrix in pandas (euc and cosine)"
   ]
  },
  {
   "cell_type": "code",
   "execution_count": 24,
   "metadata": {},
   "outputs": [
    {
     "data": {
      "text/plain": [
       "Index(['Unnamed: 0', 'City', 'Year', 'Sport', 'Discipline', 'Athlete', 'NOC',\n",
       "       'Gender', 'Event', 'Event_gender', 'Medal', 'Country',\n",
       "       'Int Olympic Committee code'],\n",
       "      dtype='object')"
      ]
     },
     "execution_count": 24,
     "metadata": {},
     "output_type": "execute_result"
    }
   ],
   "source": [
    "import pandas as pd\n",
    "\n",
    "location = r'E:\\MYLEARN\\2-ANALYTICS-DataScience\\datasets\\olympic_medals.csv'\n",
    "data = pd.read_csv(location, sep=\",\")\n",
    "data.columns"
   ]
  },
  {
   "cell_type": "code",
   "execution_count": 21,
   "metadata": {},
   "outputs": [],
   "source": [
    "data.to_csv('olympic_medals')"
   ]
  },
  {
   "cell_type": "code",
   "execution_count": 25,
   "metadata": {},
   "outputs": [],
   "source": [
    "data.drop(['Unnamed: 0'], axis=1, inplace=True)"
   ]
  },
  {
   "cell_type": "code",
   "execution_count": 26,
   "metadata": {},
   "outputs": [
    {
     "data": {
      "text/html": [
       "<div>\n",
       "<style scoped>\n",
       "    .dataframe tbody tr th:only-of-type {\n",
       "        vertical-align: middle;\n",
       "    }\n",
       "\n",
       "    .dataframe tbody tr th {\n",
       "        vertical-align: top;\n",
       "    }\n",
       "\n",
       "    .dataframe thead th {\n",
       "        text-align: right;\n",
       "    }\n",
       "</style>\n",
       "<table border=\"1\" class=\"dataframe\">\n",
       "  <thead>\n",
       "    <tr style=\"text-align: right;\">\n",
       "      <th></th>\n",
       "      <th>City</th>\n",
       "      <th>Year</th>\n",
       "      <th>Sport</th>\n",
       "      <th>Discipline</th>\n",
       "      <th>Athlete</th>\n",
       "      <th>NOC</th>\n",
       "      <th>Gender</th>\n",
       "      <th>Event</th>\n",
       "      <th>Event_gender</th>\n",
       "      <th>Medal</th>\n",
       "      <th>Country</th>\n",
       "      <th>Int Olympic Committee code</th>\n",
       "    </tr>\n",
       "  </thead>\n",
       "  <tbody>\n",
       "    <tr>\n",
       "      <th>0</th>\n",
       "      <td>Athens</td>\n",
       "      <td>1896</td>\n",
       "      <td>Aquatics</td>\n",
       "      <td>Swimming</td>\n",
       "      <td>HAJOS, Alfred</td>\n",
       "      <td>HUN</td>\n",
       "      <td>Men</td>\n",
       "      <td>100m freestyle</td>\n",
       "      <td>M</td>\n",
       "      <td>Gold</td>\n",
       "      <td>Hungary</td>\n",
       "      <td>HUN</td>\n",
       "    </tr>\n",
       "    <tr>\n",
       "      <th>1</th>\n",
       "      <td>Athens</td>\n",
       "      <td>1896</td>\n",
       "      <td>Aquatics</td>\n",
       "      <td>Swimming</td>\n",
       "      <td>HERSCHMANN, Otto</td>\n",
       "      <td>AUT</td>\n",
       "      <td>Men</td>\n",
       "      <td>100m freestyle</td>\n",
       "      <td>M</td>\n",
       "      <td>Silver</td>\n",
       "      <td>Austria</td>\n",
       "      <td>AUT</td>\n",
       "    </tr>\n",
       "    <tr>\n",
       "      <th>2</th>\n",
       "      <td>Athens</td>\n",
       "      <td>1896</td>\n",
       "      <td>Aquatics</td>\n",
       "      <td>Swimming</td>\n",
       "      <td>DRIVAS, Dimitrios</td>\n",
       "      <td>GRE</td>\n",
       "      <td>Men</td>\n",
       "      <td>100m freestyle for sailors</td>\n",
       "      <td>M</td>\n",
       "      <td>Bronze</td>\n",
       "      <td>Greece</td>\n",
       "      <td>GRE</td>\n",
       "    </tr>\n",
       "    <tr>\n",
       "      <th>3</th>\n",
       "      <td>Athens</td>\n",
       "      <td>1896</td>\n",
       "      <td>Aquatics</td>\n",
       "      <td>Swimming</td>\n",
       "      <td>MALOKINIS, Ioannis</td>\n",
       "      <td>GRE</td>\n",
       "      <td>Men</td>\n",
       "      <td>100m freestyle for sailors</td>\n",
       "      <td>M</td>\n",
       "      <td>Gold</td>\n",
       "      <td>Greece</td>\n",
       "      <td>GRE</td>\n",
       "    </tr>\n",
       "    <tr>\n",
       "      <th>4</th>\n",
       "      <td>Athens</td>\n",
       "      <td>1896</td>\n",
       "      <td>Aquatics</td>\n",
       "      <td>Swimming</td>\n",
       "      <td>CHASAPIS, Spiridon</td>\n",
       "      <td>GRE</td>\n",
       "      <td>Men</td>\n",
       "      <td>100m freestyle for sailors</td>\n",
       "      <td>M</td>\n",
       "      <td>Silver</td>\n",
       "      <td>Greece</td>\n",
       "      <td>GRE</td>\n",
       "    </tr>\n",
       "  </tbody>\n",
       "</table>\n",
       "</div>"
      ],
      "text/plain": [
       "     City  Year     Sport Discipline             Athlete  NOC Gender  \\\n",
       "0  Athens  1896  Aquatics   Swimming       HAJOS, Alfred  HUN    Men   \n",
       "1  Athens  1896  Aquatics   Swimming    HERSCHMANN, Otto  AUT    Men   \n",
       "2  Athens  1896  Aquatics   Swimming   DRIVAS, Dimitrios  GRE    Men   \n",
       "3  Athens  1896  Aquatics   Swimming  MALOKINIS, Ioannis  GRE    Men   \n",
       "4  Athens  1896  Aquatics   Swimming  CHASAPIS, Spiridon  GRE    Men   \n",
       "\n",
       "                        Event Event_gender   Medal  Country  \\\n",
       "0              100m freestyle            M    Gold  Hungary   \n",
       "1              100m freestyle            M  Silver  Austria   \n",
       "2  100m freestyle for sailors            M  Bronze   Greece   \n",
       "3  100m freestyle for sailors            M    Gold   Greece   \n",
       "4  100m freestyle for sailors            M  Silver   Greece   \n",
       "\n",
       "  Int Olympic Committee code  \n",
       "0                        HUN  \n",
       "1                        AUT  \n",
       "2                        GRE  \n",
       "3                        GRE  \n",
       "4                        GRE  "
      ]
     },
     "execution_count": 26,
     "metadata": {},
     "output_type": "execute_result"
    }
   ],
   "source": [
    "data.head()"
   ]
  },
  {
   "cell_type": "code",
   "execution_count": 30,
   "metadata": {},
   "outputs": [
    {
     "data": {
      "text/html": [
       "<div>\n",
       "<style scoped>\n",
       "    .dataframe tbody tr th:only-of-type {\n",
       "        vertical-align: middle;\n",
       "    }\n",
       "\n",
       "    .dataframe tbody tr th {\n",
       "        vertical-align: top;\n",
       "    }\n",
       "\n",
       "    .dataframe thead th {\n",
       "        text-align: right;\n",
       "    }\n",
       "</style>\n",
       "<table border=\"1\" class=\"dataframe\">\n",
       "  <thead>\n",
       "    <tr style=\"text-align: right;\">\n",
       "      <th>Sport</th>\n",
       "      <th>Aquatics</th>\n",
       "      <th>Archery</th>\n",
       "      <th>Athletics</th>\n",
       "      <th>Badminton</th>\n",
       "      <th>Baseball</th>\n",
       "      <th>Basketball</th>\n",
       "      <th>Basque Pelota</th>\n",
       "      <th>Boxing</th>\n",
       "      <th>Canoe / Kayak</th>\n",
       "      <th>Cricket</th>\n",
       "      <th>...</th>\n",
       "      <th>Softball</th>\n",
       "      <th>Table Tennis</th>\n",
       "      <th>Taekwondo</th>\n",
       "      <th>Tennis</th>\n",
       "      <th>Triathlon</th>\n",
       "      <th>Tug of War</th>\n",
       "      <th>Volleyball</th>\n",
       "      <th>Water Motorsports</th>\n",
       "      <th>Weightlifting</th>\n",
       "      <th>Wrestling</th>\n",
       "    </tr>\n",
       "    <tr>\n",
       "      <th>Country</th>\n",
       "      <th></th>\n",
       "      <th></th>\n",
       "      <th></th>\n",
       "      <th></th>\n",
       "      <th></th>\n",
       "      <th></th>\n",
       "      <th></th>\n",
       "      <th></th>\n",
       "      <th></th>\n",
       "      <th></th>\n",
       "      <th></th>\n",
       "      <th></th>\n",
       "      <th></th>\n",
       "      <th></th>\n",
       "      <th></th>\n",
       "      <th></th>\n",
       "      <th></th>\n",
       "      <th></th>\n",
       "      <th></th>\n",
       "      <th></th>\n",
       "      <th></th>\n",
       "    </tr>\n",
       "  </thead>\n",
       "  <tbody>\n",
       "    <tr>\n",
       "      <th>Afghanistan</th>\n",
       "      <td>0.0</td>\n",
       "      <td>0.0</td>\n",
       "      <td>0.0</td>\n",
       "      <td>0.0</td>\n",
       "      <td>0.0</td>\n",
       "      <td>0.0</td>\n",
       "      <td>0.0</td>\n",
       "      <td>0.0</td>\n",
       "      <td>0.0</td>\n",
       "      <td>0.0</td>\n",
       "      <td>...</td>\n",
       "      <td>0.0</td>\n",
       "      <td>0.0</td>\n",
       "      <td>1.0</td>\n",
       "      <td>0.0</td>\n",
       "      <td>0.0</td>\n",
       "      <td>0.0</td>\n",
       "      <td>0.0</td>\n",
       "      <td>0.0</td>\n",
       "      <td>0.0</td>\n",
       "      <td>0.0</td>\n",
       "    </tr>\n",
       "    <tr>\n",
       "      <th>Algeria</th>\n",
       "      <td>0.0</td>\n",
       "      <td>0.0</td>\n",
       "      <td>6.0</td>\n",
       "      <td>0.0</td>\n",
       "      <td>0.0</td>\n",
       "      <td>0.0</td>\n",
       "      <td>0.0</td>\n",
       "      <td>6.0</td>\n",
       "      <td>0.0</td>\n",
       "      <td>0.0</td>\n",
       "      <td>...</td>\n",
       "      <td>0.0</td>\n",
       "      <td>0.0</td>\n",
       "      <td>0.0</td>\n",
       "      <td>0.0</td>\n",
       "      <td>0.0</td>\n",
       "      <td>0.0</td>\n",
       "      <td>0.0</td>\n",
       "      <td>0.0</td>\n",
       "      <td>0.0</td>\n",
       "      <td>0.0</td>\n",
       "    </tr>\n",
       "    <tr>\n",
       "      <th>Argentina</th>\n",
       "      <td>3.0</td>\n",
       "      <td>0.0</td>\n",
       "      <td>5.0</td>\n",
       "      <td>0.0</td>\n",
       "      <td>0.0</td>\n",
       "      <td>24.0</td>\n",
       "      <td>0.0</td>\n",
       "      <td>24.0</td>\n",
       "      <td>0.0</td>\n",
       "      <td>0.0</td>\n",
       "      <td>...</td>\n",
       "      <td>0.0</td>\n",
       "      <td>0.0</td>\n",
       "      <td>0.0</td>\n",
       "      <td>5.0</td>\n",
       "      <td>0.0</td>\n",
       "      <td>0.0</td>\n",
       "      <td>12.0</td>\n",
       "      <td>0.0</td>\n",
       "      <td>2.0</td>\n",
       "      <td>0.0</td>\n",
       "    </tr>\n",
       "    <tr>\n",
       "      <th>Armenia</th>\n",
       "      <td>0.0</td>\n",
       "      <td>0.0</td>\n",
       "      <td>0.0</td>\n",
       "      <td>0.0</td>\n",
       "      <td>0.0</td>\n",
       "      <td>0.0</td>\n",
       "      <td>0.0</td>\n",
       "      <td>1.0</td>\n",
       "      <td>0.0</td>\n",
       "      <td>0.0</td>\n",
       "      <td>...</td>\n",
       "      <td>0.0</td>\n",
       "      <td>0.0</td>\n",
       "      <td>0.0</td>\n",
       "      <td>0.0</td>\n",
       "      <td>0.0</td>\n",
       "      <td>0.0</td>\n",
       "      <td>0.0</td>\n",
       "      <td>0.0</td>\n",
       "      <td>4.0</td>\n",
       "      <td>4.0</td>\n",
       "    </tr>\n",
       "    <tr>\n",
       "      <th>Australasia</th>\n",
       "      <td>11.0</td>\n",
       "      <td>0.0</td>\n",
       "      <td>1.0</td>\n",
       "      <td>0.0</td>\n",
       "      <td>0.0</td>\n",
       "      <td>0.0</td>\n",
       "      <td>0.0</td>\n",
       "      <td>1.0</td>\n",
       "      <td>0.0</td>\n",
       "      <td>0.0</td>\n",
       "      <td>...</td>\n",
       "      <td>0.0</td>\n",
       "      <td>0.0</td>\n",
       "      <td>0.0</td>\n",
       "      <td>1.0</td>\n",
       "      <td>0.0</td>\n",
       "      <td>0.0</td>\n",
       "      <td>0.0</td>\n",
       "      <td>0.0</td>\n",
       "      <td>0.0</td>\n",
       "      <td>0.0</td>\n",
       "    </tr>\n",
       "    <tr>\n",
       "      <th>Australia</th>\n",
       "      <td>354.0</td>\n",
       "      <td>2.0</td>\n",
       "      <td>81.0</td>\n",
       "      <td>0.0</td>\n",
       "      <td>24.0</td>\n",
       "      <td>48.0</td>\n",
       "      <td>0.0</td>\n",
       "      <td>4.0</td>\n",
       "      <td>33.0</td>\n",
       "      <td>0.0</td>\n",
       "      <td>...</td>\n",
       "      <td>60.0</td>\n",
       "      <td>0.0</td>\n",
       "      <td>2.0</td>\n",
       "      <td>9.0</td>\n",
       "      <td>4.0</td>\n",
       "      <td>0.0</td>\n",
       "      <td>4.0</td>\n",
       "      <td>0.0</td>\n",
       "      <td>4.0</td>\n",
       "      <td>3.0</td>\n",
       "    </tr>\n",
       "    <tr>\n",
       "      <th>Austria</th>\n",
       "      <td>15.0</td>\n",
       "      <td>0.0</td>\n",
       "      <td>7.0</td>\n",
       "      <td>0.0</td>\n",
       "      <td>0.0</td>\n",
       "      <td>0.0</td>\n",
       "      <td>0.0</td>\n",
       "      <td>0.0</td>\n",
       "      <td>21.0</td>\n",
       "      <td>0.0</td>\n",
       "      <td>...</td>\n",
       "      <td>0.0</td>\n",
       "      <td>0.0</td>\n",
       "      <td>0.0</td>\n",
       "      <td>2.0</td>\n",
       "      <td>1.0</td>\n",
       "      <td>0.0</td>\n",
       "      <td>0.0</td>\n",
       "      <td>0.0</td>\n",
       "      <td>9.0</td>\n",
       "      <td>2.0</td>\n",
       "    </tr>\n",
       "    <tr>\n",
       "      <th>Azerbaijan</th>\n",
       "      <td>0.0</td>\n",
       "      <td>0.0</td>\n",
       "      <td>0.0</td>\n",
       "      <td>0.0</td>\n",
       "      <td>0.0</td>\n",
       "      <td>0.0</td>\n",
       "      <td>0.0</td>\n",
       "      <td>4.0</td>\n",
       "      <td>0.0</td>\n",
       "      <td>0.0</td>\n",
       "      <td>...</td>\n",
       "      <td>0.0</td>\n",
       "      <td>0.0</td>\n",
       "      <td>0.0</td>\n",
       "      <td>0.0</td>\n",
       "      <td>0.0</td>\n",
       "      <td>0.0</td>\n",
       "      <td>0.0</td>\n",
       "      <td>0.0</td>\n",
       "      <td>0.0</td>\n",
       "      <td>7.0</td>\n",
       "    </tr>\n",
       "    <tr>\n",
       "      <th>Bahamas</th>\n",
       "      <td>0.0</td>\n",
       "      <td>0.0</td>\n",
       "      <td>19.0</td>\n",
       "      <td>0.0</td>\n",
       "      <td>0.0</td>\n",
       "      <td>0.0</td>\n",
       "      <td>0.0</td>\n",
       "      <td>0.0</td>\n",
       "      <td>0.0</td>\n",
       "      <td>0.0</td>\n",
       "      <td>...</td>\n",
       "      <td>0.0</td>\n",
       "      <td>0.0</td>\n",
       "      <td>0.0</td>\n",
       "      <td>0.0</td>\n",
       "      <td>0.0</td>\n",
       "      <td>0.0</td>\n",
       "      <td>0.0</td>\n",
       "      <td>0.0</td>\n",
       "      <td>0.0</td>\n",
       "      <td>0.0</td>\n",
       "    </tr>\n",
       "    <tr>\n",
       "      <th>Barbados</th>\n",
       "      <td>0.0</td>\n",
       "      <td>0.0</td>\n",
       "      <td>1.0</td>\n",
       "      <td>0.0</td>\n",
       "      <td>0.0</td>\n",
       "      <td>0.0</td>\n",
       "      <td>0.0</td>\n",
       "      <td>0.0</td>\n",
       "      <td>0.0</td>\n",
       "      <td>0.0</td>\n",
       "      <td>...</td>\n",
       "      <td>0.0</td>\n",
       "      <td>0.0</td>\n",
       "      <td>0.0</td>\n",
       "      <td>0.0</td>\n",
       "      <td>0.0</td>\n",
       "      <td>0.0</td>\n",
       "      <td>0.0</td>\n",
       "      <td>0.0</td>\n",
       "      <td>0.0</td>\n",
       "      <td>0.0</td>\n",
       "    </tr>\n",
       "  </tbody>\n",
       "</table>\n",
       "<p>10 rows × 42 columns</p>\n",
       "</div>"
      ],
      "text/plain": [
       "Sport        Aquatics  Archery  Athletics  Badminton  Baseball  Basketball  \\\n",
       "Country                                                                      \n",
       "Afghanistan       0.0      0.0        0.0        0.0       0.0         0.0   \n",
       "Algeria           0.0      0.0        6.0        0.0       0.0         0.0   \n",
       "Argentina         3.0      0.0        5.0        0.0       0.0        24.0   \n",
       "Armenia           0.0      0.0        0.0        0.0       0.0         0.0   \n",
       "Australasia      11.0      0.0        1.0        0.0       0.0         0.0   \n",
       "Australia       354.0      2.0       81.0        0.0      24.0        48.0   \n",
       "Austria          15.0      0.0        7.0        0.0       0.0         0.0   \n",
       "Azerbaijan        0.0      0.0        0.0        0.0       0.0         0.0   \n",
       "Bahamas           0.0      0.0       19.0        0.0       0.0         0.0   \n",
       "Barbados          0.0      0.0        1.0        0.0       0.0         0.0   \n",
       "\n",
       "Sport        Basque Pelota  Boxing  Canoe / Kayak  Cricket  ...  Softball  \\\n",
       "Country                                                     ...             \n",
       "Afghanistan            0.0     0.0            0.0      0.0  ...       0.0   \n",
       "Algeria                0.0     6.0            0.0      0.0  ...       0.0   \n",
       "Argentina              0.0    24.0            0.0      0.0  ...       0.0   \n",
       "Armenia                0.0     1.0            0.0      0.0  ...       0.0   \n",
       "Australasia            0.0     1.0            0.0      0.0  ...       0.0   \n",
       "Australia              0.0     4.0           33.0      0.0  ...      60.0   \n",
       "Austria                0.0     0.0           21.0      0.0  ...       0.0   \n",
       "Azerbaijan             0.0     4.0            0.0      0.0  ...       0.0   \n",
       "Bahamas                0.0     0.0            0.0      0.0  ...       0.0   \n",
       "Barbados               0.0     0.0            0.0      0.0  ...       0.0   \n",
       "\n",
       "Sport        Table Tennis  Taekwondo  Tennis  Triathlon  Tug of War  \\\n",
       "Country                                                               \n",
       "Afghanistan           0.0        1.0     0.0        0.0         0.0   \n",
       "Algeria               0.0        0.0     0.0        0.0         0.0   \n",
       "Argentina             0.0        0.0     5.0        0.0         0.0   \n",
       "Armenia               0.0        0.0     0.0        0.0         0.0   \n",
       "Australasia           0.0        0.0     1.0        0.0         0.0   \n",
       "Australia             0.0        2.0     9.0        4.0         0.0   \n",
       "Austria               0.0        0.0     2.0        1.0         0.0   \n",
       "Azerbaijan            0.0        0.0     0.0        0.0         0.0   \n",
       "Bahamas               0.0        0.0     0.0        0.0         0.0   \n",
       "Barbados              0.0        0.0     0.0        0.0         0.0   \n",
       "\n",
       "Sport        Volleyball  Water Motorsports  Weightlifting  Wrestling  \n",
       "Country                                                               \n",
       "Afghanistan         0.0                0.0            0.0        0.0  \n",
       "Algeria             0.0                0.0            0.0        0.0  \n",
       "Argentina          12.0                0.0            2.0        0.0  \n",
       "Armenia             0.0                0.0            4.0        4.0  \n",
       "Australasia         0.0                0.0            0.0        0.0  \n",
       "Australia           4.0                0.0            4.0        3.0  \n",
       "Austria             0.0                0.0            9.0        2.0  \n",
       "Azerbaijan          0.0                0.0            0.0        7.0  \n",
       "Bahamas             0.0                0.0            0.0        0.0  \n",
       "Barbados            0.0                0.0            0.0        0.0  \n",
       "\n",
       "[10 rows x 42 columns]"
      ]
     },
     "execution_count": 30,
     "metadata": {},
     "output_type": "execute_result"
    }
   ],
   "source": [
    "summary = data.groupby(['Country', 'Sport']).size().unstack().fillna(0)\n",
    "summary.head(10)"
   ]
  },
  {
   "cell_type": "code",
   "execution_count": 31,
   "metadata": {},
   "outputs": [
    {
     "data": {
      "text/html": [
       "<div>\n",
       "<style scoped>\n",
       "    .dataframe tbody tr th:only-of-type {\n",
       "        vertical-align: middle;\n",
       "    }\n",
       "\n",
       "    .dataframe tbody tr th {\n",
       "        vertical-align: top;\n",
       "    }\n",
       "\n",
       "    .dataframe thead th {\n",
       "        text-align: right;\n",
       "    }\n",
       "</style>\n",
       "<table border=\"1\" class=\"dataframe\">\n",
       "  <thead>\n",
       "    <tr style=\"text-align: right;\">\n",
       "      <th>Sport</th>\n",
       "      <th>Aquatics</th>\n",
       "      <th>Archery</th>\n",
       "      <th>Athletics</th>\n",
       "      <th>Badminton</th>\n",
       "      <th>Baseball</th>\n",
       "      <th>Basketball</th>\n",
       "      <th>Basque Pelota</th>\n",
       "      <th>Boxing</th>\n",
       "      <th>Canoe / Kayak</th>\n",
       "      <th>Cricket</th>\n",
       "      <th>...</th>\n",
       "      <th>Softball</th>\n",
       "      <th>Table Tennis</th>\n",
       "      <th>Taekwondo</th>\n",
       "      <th>Tennis</th>\n",
       "      <th>Triathlon</th>\n",
       "      <th>Tug of War</th>\n",
       "      <th>Volleyball</th>\n",
       "      <th>Water Motorsports</th>\n",
       "      <th>Weightlifting</th>\n",
       "      <th>Wrestling</th>\n",
       "    </tr>\n",
       "    <tr>\n",
       "      <th>Country</th>\n",
       "      <th></th>\n",
       "      <th></th>\n",
       "      <th></th>\n",
       "      <th></th>\n",
       "      <th></th>\n",
       "      <th></th>\n",
       "      <th></th>\n",
       "      <th></th>\n",
       "      <th></th>\n",
       "      <th></th>\n",
       "      <th></th>\n",
       "      <th></th>\n",
       "      <th></th>\n",
       "      <th></th>\n",
       "      <th></th>\n",
       "      <th></th>\n",
       "      <th></th>\n",
       "      <th></th>\n",
       "      <th></th>\n",
       "      <th></th>\n",
       "      <th></th>\n",
       "    </tr>\n",
       "  </thead>\n",
       "  <tbody>\n",
       "    <tr>\n",
       "      <th>Germany</th>\n",
       "      <td>175.0</td>\n",
       "      <td>6.0</td>\n",
       "      <td>99.0</td>\n",
       "      <td>0.0</td>\n",
       "      <td>0.0</td>\n",
       "      <td>0.0</td>\n",
       "      <td>0.0</td>\n",
       "      <td>22.0</td>\n",
       "      <td>111.0</td>\n",
       "      <td>0.0</td>\n",
       "      <td>...</td>\n",
       "      <td>0.0</td>\n",
       "      <td>6.0</td>\n",
       "      <td>1.0</td>\n",
       "      <td>13.0</td>\n",
       "      <td>2.0</td>\n",
       "      <td>0.0</td>\n",
       "      <td>2.0</td>\n",
       "      <td>0.0</td>\n",
       "      <td>20.0</td>\n",
       "      <td>24.0</td>\n",
       "    </tr>\n",
       "    <tr>\n",
       "      <th>Italy</th>\n",
       "      <td>113.0</td>\n",
       "      <td>12.0</td>\n",
       "      <td>71.0</td>\n",
       "      <td>0.0</td>\n",
       "      <td>0.0</td>\n",
       "      <td>23.0</td>\n",
       "      <td>0.0</td>\n",
       "      <td>44.0</td>\n",
       "      <td>22.0</td>\n",
       "      <td>0.0</td>\n",
       "      <td>...</td>\n",
       "      <td>0.0</td>\n",
       "      <td>0.0</td>\n",
       "      <td>1.0</td>\n",
       "      <td>1.0</td>\n",
       "      <td>0.0</td>\n",
       "      <td>0.0</td>\n",
       "      <td>47.0</td>\n",
       "      <td>0.0</td>\n",
       "      <td>14.0</td>\n",
       "      <td>20.0</td>\n",
       "    </tr>\n",
       "  </tbody>\n",
       "</table>\n",
       "<p>2 rows × 42 columns</p>\n",
       "</div>"
      ],
      "text/plain": [
       "Sport    Aquatics  Archery  Athletics  Badminton  Baseball  Basketball  \\\n",
       "Country                                                                  \n",
       "Germany     175.0      6.0       99.0        0.0       0.0         0.0   \n",
       "Italy       113.0     12.0       71.0        0.0       0.0        23.0   \n",
       "\n",
       "Sport    Basque Pelota  Boxing  Canoe / Kayak  Cricket  ...  Softball  \\\n",
       "Country                                                 ...             \n",
       "Germany            0.0    22.0          111.0      0.0  ...       0.0   \n",
       "Italy              0.0    44.0           22.0      0.0  ...       0.0   \n",
       "\n",
       "Sport    Table Tennis  Taekwondo  Tennis  Triathlon  Tug of War  Volleyball  \\\n",
       "Country                                                                       \n",
       "Germany           6.0        1.0    13.0        2.0         0.0         2.0   \n",
       "Italy             0.0        1.0     1.0        0.0         0.0        47.0   \n",
       "\n",
       "Sport    Water Motorsports  Weightlifting  Wrestling  \n",
       "Country                                               \n",
       "Germany                0.0           20.0       24.0  \n",
       "Italy                  0.0           14.0       20.0  \n",
       "\n",
       "[2 rows x 42 columns]"
      ]
     },
     "execution_count": 31,
     "metadata": {},
     "output_type": "execute_result"
    }
   ],
   "source": [
    "summary.loc[['Germany', 'Italy']]"
   ]
  },
  {
   "cell_type": "markdown",
   "metadata": {},
   "source": [
    "Each country has 42 columns giving the total number of medals won in each sport. Our job is to come up with a single number that summarizes how different those two lists of numbers are. "
   ]
  },
  {
   "cell_type": "code",
   "execution_count": 32,
   "metadata": {},
   "outputs": [],
   "source": [
    "from scipy.spatial.distance import pdist"
   ]
  },
  {
   "cell_type": "code",
   "execution_count": 33,
   "metadata": {},
   "outputs": [
    {
     "data": {
      "text/plain": [
       "array([342.3024978])"
      ]
     },
     "execution_count": 33,
     "metadata": {},
     "output_type": "execute_result"
    }
   ],
   "source": [
    "pdist(summary.loc[['Germany', 'Italy']])"
   ]
  },
  {
   "cell_type": "code",
   "execution_count": 34,
   "metadata": {},
   "outputs": [
    {
     "data": {
      "text/plain": [
       "array([342.3024978])"
      ]
     },
     "execution_count": 34,
     "metadata": {},
     "output_type": "execute_result"
    }
   ],
   "source": [
    "pdist(summary.loc[['Germany', 'Italy']], metric='euclidean')"
   ]
  },
  {
   "cell_type": "code",
   "execution_count": 35,
   "metadata": {},
   "outputs": [
    {
     "data": {
      "text/plain": [
       "array([342.3024978 , 317.98584874, 144.82403116])"
      ]
     },
     "execution_count": 35,
     "metadata": {},
     "output_type": "execute_result"
    }
   ],
   "source": [
    "pdist(summary.loc[['Germany', 'Italy', 'France']], metric='euclidean')"
   ]
  },
  {
   "cell_type": "markdown",
   "metadata": {},
   "source": [
    "we have three measurements:\n",
    "\n",
    "- Germany and Italy\n",
    "- Germnay and France\n",
    "- Italy and France\n",
    "\n",
    "But it's not easy to figure out which belongs to which.\n",
    "\n",
    "scipy also has a helper function that will take this list of numbers and turn it back into a square matrix:"
   ]
  },
  {
   "cell_type": "code",
   "execution_count": 36,
   "metadata": {},
   "outputs": [],
   "source": [
    "from scipy.spatial.distance import squareform"
   ]
  },
  {
   "cell_type": "code",
   "execution_count": 38,
   "metadata": {},
   "outputs": [
    {
     "data": {
      "text/plain": [
       "array([[  0.        , 342.3024978 , 317.98584874],\n",
       "       [342.3024978 ,   0.        , 144.82403116],\n",
       "       [317.98584874, 144.82403116,   0.        ]])"
      ]
     },
     "execution_count": 38,
     "metadata": {},
     "output_type": "execute_result"
    }
   ],
   "source": [
    "squareform(pdist(summary.loc[['Germany', 'Italy', 'France']], metric='euclidean'))"
   ]
  },
  {
   "cell_type": "code",
   "execution_count": 40,
   "metadata": {},
   "outputs": [
    {
     "data": {
      "text/html": [
       "<div>\n",
       "<style scoped>\n",
       "    .dataframe tbody tr th:only-of-type {\n",
       "        vertical-align: middle;\n",
       "    }\n",
       "\n",
       "    .dataframe tbody tr th {\n",
       "        vertical-align: top;\n",
       "    }\n",
       "\n",
       "    .dataframe thead th {\n",
       "        text-align: right;\n",
       "    }\n",
       "</style>\n",
       "<table border=\"1\" class=\"dataframe\">\n",
       "  <thead>\n",
       "    <tr style=\"text-align: right;\">\n",
       "      <th></th>\n",
       "      <th>Germany</th>\n",
       "      <th>Italy</th>\n",
       "      <th>France</th>\n",
       "    </tr>\n",
       "  </thead>\n",
       "  <tbody>\n",
       "    <tr>\n",
       "      <th>Germany</th>\n",
       "      <td>0.000000</td>\n",
       "      <td>342.302498</td>\n",
       "      <td>317.985849</td>\n",
       "    </tr>\n",
       "    <tr>\n",
       "      <th>Italy</th>\n",
       "      <td>342.302498</td>\n",
       "      <td>0.000000</td>\n",
       "      <td>144.824031</td>\n",
       "    </tr>\n",
       "    <tr>\n",
       "      <th>France</th>\n",
       "      <td>317.985849</td>\n",
       "      <td>144.824031</td>\n",
       "      <td>0.000000</td>\n",
       "    </tr>\n",
       "  </tbody>\n",
       "</table>\n",
       "</div>"
      ],
      "text/plain": [
       "            Germany       Italy      France\n",
       "Germany    0.000000  342.302498  317.985849\n",
       "Italy    342.302498    0.000000  144.824031\n",
       "France   317.985849  144.824031    0.000000"
      ]
     },
     "execution_count": 40,
     "metadata": {},
     "output_type": "execute_result"
    }
   ],
   "source": [
    "pd.DataFrame(\n",
    "    squareform(pdist(summary.loc[['Germany', 'Italy', 'France']])),\n",
    "    columns = ['Germany', 'Italy', 'France'],\n",
    "    index   = ['Germany', 'Italy', 'France']\n",
    ")"
   ]
  },
  {
   "cell_type": "markdown",
   "metadata": {},
   "source": [
    "the numbers on the diagonal are all zero, because each country is identical to itself, and the numbers above and below are mirror images, "
   ]
  },
  {
   "cell_type": "code",
   "execution_count": 42,
   "metadata": {},
   "outputs": [
    {
     "data": {
      "text/html": [
       "<div>\n",
       "<style scoped>\n",
       "    .dataframe tbody tr th:only-of-type {\n",
       "        vertical-align: middle;\n",
       "    }\n",
       "\n",
       "    .dataframe tbody tr th {\n",
       "        vertical-align: top;\n",
       "    }\n",
       "\n",
       "    .dataframe thead th {\n",
       "        text-align: right;\n",
       "    }\n",
       "</style>\n",
       "<table border=\"1\" class=\"dataframe\">\n",
       "  <thead>\n",
       "    <tr style=\"text-align: right;\">\n",
       "      <th>Country</th>\n",
       "      <th>Afghanistan</th>\n",
       "      <th>Algeria</th>\n",
       "      <th>Argentina</th>\n",
       "      <th>Armenia</th>\n",
       "      <th>Australasia</th>\n",
       "      <th>Australia</th>\n",
       "      <th>Austria</th>\n",
       "      <th>Azerbaijan</th>\n",
       "      <th>Bahamas</th>\n",
       "      <th>Barbados</th>\n",
       "      <th>...</th>\n",
       "      <th>United Team of Germany</th>\n",
       "      <th>Uruguay</th>\n",
       "      <th>Uzbekistan</th>\n",
       "      <th>Venezuela</th>\n",
       "      <th>Vietnam</th>\n",
       "      <th>Virgin Islands*</th>\n",
       "      <th>West Germany</th>\n",
       "      <th>Yugoslavia</th>\n",
       "      <th>Zambia</th>\n",
       "      <th>Zimbabwe</th>\n",
       "    </tr>\n",
       "    <tr>\n",
       "      <th>Country</th>\n",
       "      <th></th>\n",
       "      <th></th>\n",
       "      <th></th>\n",
       "      <th></th>\n",
       "      <th></th>\n",
       "      <th></th>\n",
       "      <th></th>\n",
       "      <th></th>\n",
       "      <th></th>\n",
       "      <th></th>\n",
       "      <th></th>\n",
       "      <th></th>\n",
       "      <th></th>\n",
       "      <th></th>\n",
       "      <th></th>\n",
       "      <th></th>\n",
       "      <th></th>\n",
       "      <th></th>\n",
       "      <th></th>\n",
       "      <th></th>\n",
       "      <th></th>\n",
       "    </tr>\n",
       "  </thead>\n",
       "  <tbody>\n",
       "    <tr>\n",
       "      <th>Afghanistan</th>\n",
       "      <td>0.000000</td>\n",
       "      <td>8.774964</td>\n",
       "      <td>96.643675</td>\n",
       "      <td>5.830952</td>\n",
       "      <td>18.708287</td>\n",
       "      <td>437.360263</td>\n",
       "      <td>44.079474</td>\n",
       "      <td>8.888194</td>\n",
       "      <td>19.442222</td>\n",
       "      <td>1.414214</td>\n",
       "      <td>...</td>\n",
       "      <td>83.767535</td>\n",
       "      <td>50.507425</td>\n",
       "      <td>9.273618</td>\n",
       "      <td>5.477226</td>\n",
       "      <td>1.000000</td>\n",
       "      <td>1.414214</td>\n",
       "      <td>153.052279</td>\n",
       "      <td>171.947666</td>\n",
       "      <td>1.732051</td>\n",
       "      <td>17.492856</td>\n",
       "    </tr>\n",
       "    <tr>\n",
       "      <th>Algeria</th>\n",
       "      <td>8.774964</td>\n",
       "      <td>0.000000</td>\n",
       "      <td>95.199790</td>\n",
       "      <td>9.848858</td>\n",
       "      <td>20.024984</td>\n",
       "      <td>436.273996</td>\n",
       "      <td>43.749286</td>\n",
       "      <td>9.899495</td>\n",
       "      <td>15.000000</td>\n",
       "      <td>8.062258</td>\n",
       "      <td>...</td>\n",
       "      <td>80.672176</td>\n",
       "      <td>51.127292</td>\n",
       "      <td>8.774964</td>\n",
       "      <td>6.082763</td>\n",
       "      <td>8.831761</td>\n",
       "      <td>8.774964</td>\n",
       "      <td>150.306354</td>\n",
       "      <td>171.688672</td>\n",
       "      <td>7.348469</td>\n",
       "      <td>19.519221</td>\n",
       "    </tr>\n",
       "    <tr>\n",
       "      <th>Argentina</th>\n",
       "      <td>96.643675</td>\n",
       "      <td>95.199790</td>\n",
       "      <td>0.000000</td>\n",
       "      <td>96.477977</td>\n",
       "      <td>97.744565</td>\n",
       "      <td>418.573769</td>\n",
       "      <td>92.439169</td>\n",
       "      <td>95.994792</td>\n",
       "      <td>96.860725</td>\n",
       "      <td>96.591925</td>\n",
       "      <td>...</td>\n",
       "      <td>103.638796</td>\n",
       "      <td>65.398777</td>\n",
       "      <td>95.551033</td>\n",
       "      <td>95.446320</td>\n",
       "      <td>96.628153</td>\n",
       "      <td>96.457244</td>\n",
       "      <td>142.537714</td>\n",
       "      <td>148.128323</td>\n",
       "      <td>96.348326</td>\n",
       "      <td>89.810912</td>\n",
       "    </tr>\n",
       "    <tr>\n",
       "      <th>Armenia</th>\n",
       "      <td>5.830952</td>\n",
       "      <td>9.848858</td>\n",
       "      <td>96.477977</td>\n",
       "      <td>0.000000</td>\n",
       "      <td>19.493589</td>\n",
       "      <td>437.328252</td>\n",
       "      <td>43.439613</td>\n",
       "      <td>6.855655</td>\n",
       "      <td>20.248457</td>\n",
       "      <td>5.830952</td>\n",
       "      <td>...</td>\n",
       "      <td>83.456576</td>\n",
       "      <td>50.803543</td>\n",
       "      <td>7.615773</td>\n",
       "      <td>6.928203</td>\n",
       "      <td>5.196152</td>\n",
       "      <td>5.830952</td>\n",
       "      <td>152.699050</td>\n",
       "      <td>171.604196</td>\n",
       "      <td>5.744563</td>\n",
       "      <td>18.384776</td>\n",
       "    </tr>\n",
       "    <tr>\n",
       "      <th>Australasia</th>\n",
       "      <td>18.708287</td>\n",
       "      <td>20.024984</td>\n",
       "      <td>97.744565</td>\n",
       "      <td>19.493589</td>\n",
       "      <td>0.000000</td>\n",
       "      <td>428.555714</td>\n",
       "      <td>44.079474</td>\n",
       "      <td>20.469489</td>\n",
       "      <td>26.229754</td>\n",
       "      <td>18.654758</td>\n",
       "      <td>...</td>\n",
       "      <td>81.160335</td>\n",
       "      <td>53.823787</td>\n",
       "      <td>20.542639</td>\n",
       "      <td>18.654758</td>\n",
       "      <td>18.734994</td>\n",
       "      <td>18.708287</td>\n",
       "      <td>149.187801</td>\n",
       "      <td>166.991018</td>\n",
       "      <td>18.627936</td>\n",
       "      <td>22.360680</td>\n",
       "    </tr>\n",
       "  </tbody>\n",
       "</table>\n",
       "<p>5 rows × 137 columns</p>\n",
       "</div>"
      ],
      "text/plain": [
       "Country      Afghanistan    Algeria  Argentina    Armenia  Australasia  \\\n",
       "Country                                                                  \n",
       "Afghanistan     0.000000   8.774964  96.643675   5.830952    18.708287   \n",
       "Algeria         8.774964   0.000000  95.199790   9.848858    20.024984   \n",
       "Argentina      96.643675  95.199790   0.000000  96.477977    97.744565   \n",
       "Armenia         5.830952   9.848858  96.477977   0.000000    19.493589   \n",
       "Australasia    18.708287  20.024984  97.744565  19.493589     0.000000   \n",
       "\n",
       "Country       Australia    Austria  Azerbaijan    Bahamas   Barbados  ...  \\\n",
       "Country                                                               ...   \n",
       "Afghanistan  437.360263  44.079474    8.888194  19.442222   1.414214  ...   \n",
       "Algeria      436.273996  43.749286    9.899495  15.000000   8.062258  ...   \n",
       "Argentina    418.573769  92.439169   95.994792  96.860725  96.591925  ...   \n",
       "Armenia      437.328252  43.439613    6.855655  20.248457   5.830952  ...   \n",
       "Australasia  428.555714  44.079474   20.469489  26.229754  18.654758  ...   \n",
       "\n",
       "Country      United Team of Germany    Uruguay  Uzbekistan  Venezuela  \\\n",
       "Country                                                                 \n",
       "Afghanistan               83.767535  50.507425    9.273618   5.477226   \n",
       "Algeria                   80.672176  51.127292    8.774964   6.082763   \n",
       "Argentina                103.638796  65.398777   95.551033  95.446320   \n",
       "Armenia                   83.456576  50.803543    7.615773   6.928203   \n",
       "Australasia               81.160335  53.823787   20.542639  18.654758   \n",
       "\n",
       "Country        Vietnam  Virgin Islands*  West Germany  Yugoslavia     Zambia  \\\n",
       "Country                                                                        \n",
       "Afghanistan   1.000000         1.414214    153.052279  171.947666   1.732051   \n",
       "Algeria       8.831761         8.774964    150.306354  171.688672   7.348469   \n",
       "Argentina    96.628153        96.457244    142.537714  148.128323  96.348326   \n",
       "Armenia       5.196152         5.830952    152.699050  171.604196   5.744563   \n",
       "Australasia  18.734994        18.708287    149.187801  166.991018  18.627936   \n",
       "\n",
       "Country       Zimbabwe  \n",
       "Country                 \n",
       "Afghanistan  17.492856  \n",
       "Algeria      19.519221  \n",
       "Argentina    89.810912  \n",
       "Armenia      18.384776  \n",
       "Australasia  22.360680  \n",
       "\n",
       "[5 rows x 137 columns]"
      ]
     },
     "execution_count": 42,
     "metadata": {},
     "output_type": "execute_result"
    }
   ],
   "source": [
    "pairwise = pd.DataFrame(\n",
    "    squareform(pdist(summary)),\n",
    "    columns = summary.index,\n",
    "    index = summary.index\n",
    ")\n",
    "\n",
    "pairwise.head()"
   ]
  },
  {
   "cell_type": "code",
   "execution_count": 56,
   "metadata": {},
   "outputs": [],
   "source": [
    "# following lib for matplot - core python plotting lib\n",
    "import matplotlib\n",
    "import matplotlib.pyplot as plt\n",
    "%matplotlib inline \n",
    "\n",
    "# seaborn plotting lib\n",
    "import seaborn as sns\n",
    "sns.set(style=\"white\", color_codes=True)\n",
    "sns.set(font_scale=1)"
   ]
  },
  {
   "cell_type": "code",
   "execution_count": 57,
   "metadata": {},
   "outputs": [],
   "source": [
    "# make summary table for just top countries\n",
    "top_countries = (\n",
    "    data\n",
    "    .groupby('Country')\n",
    "    .filter(lambda x : len(x) > 500)\n",
    "    .groupby(['Country', 'Sport'])\n",
    "    .size()\n",
    "    .unstack()\n",
    "    .fillna(0)\n",
    "    )"
   ]
  },
  {
   "cell_type": "code",
   "execution_count": 58,
   "metadata": {},
   "outputs": [],
   "source": [
    "# make pairwise distance matrix\n",
    "pairwise_top = pd.DataFrame(\n",
    "    squareform(pdist(top_countries)),\n",
    "    columns = top_countries.index,\n",
    "    index = top_countries.index\n",
    ")"
   ]
  },
  {
   "cell_type": "code",
   "execution_count": 64,
   "metadata": {},
   "outputs": [
    {
     "data": {
      "image/png": "[encoded data removed]",
      "text/plain": [
       "<Figure size 1296x432 with 2 Axes>"
      ]
     },
     "metadata": {},
     "output_type": "display_data"
    }
   ],
   "source": [
    "# plot it with seaborn\n",
    "plt.figure(figsize=(18, 6))\n",
    "sns.heatmap(\n",
    "    pairwise_top,\n",
    "    cmap='OrRd',\n",
    "    linewidth=1\n",
    ");"
   ]
  },
  {
   "cell_type": "markdown",
   "metadata": {},
   "source": [
    "we can see a problem with the distance metric we're using. \n",
    "\n",
    "The US has won so many more medals than other countries that it distorts the measurement. \n",
    "\n",
    "And if we think about it, what we're really interested in is not the exact number of medals in each category, but the relative number. \n",
    "\n",
    "In other words, we want two contries to be considered similar if they both have about twice as many medals in boxing as athletics, for example, regardless of the exact numbers.\n",
    "\n",
    "#### use cosine distance"
   ]
  },
  {
   "cell_type": "code",
   "execution_count": 66,
   "metadata": {},
   "outputs": [],
   "source": [
    "# make pairwise distance matrix\n",
    "pairwise_top = pd.DataFrame(\n",
    "    squareform(pdist(top_countries, metric='cosine')),\n",
    "    columns = top_countries.index,\n",
    "    index   = top_countries.index\n",
    ")"
   ]
  },
  {
   "cell_type": "code",
   "execution_count": 70,
   "metadata": {},
   "outputs": [
    {
     "data": {
      "image/png": "[encoded data removed]",
      "text/plain": [
       "<Figure size 1296x720 with 2 Axes>"
      ]
     },
     "metadata": {},
     "output_type": "display_data"
    }
   ],
   "source": [
    "# plot it with seaborn\n",
    "plt.figure(figsize=(18, 10))\n",
    "sns.heatmap(\n",
    "    pairwise_top,\n",
    "    cmap='OrRd',\n",
    "    linewidth=1,\n",
    "    annot=True\n",
    ");"
   ]
  },
  {
   "cell_type": "markdown",
   "metadata": {},
   "source": [
    "## Adjusted Cosine"
   ]
  },
  {
   "cell_type": "code",
   "execution_count": 71,
   "metadata": {},
   "outputs": [],
   "source": [
    "import numpy as np\n",
    "import pandas as pd\n",
    "from scipy.spatial.distance import pdist, squareform"
   ]
  },
  {
   "cell_type": "code",
   "execution_count": 5,
   "metadata": {},
   "outputs": [
    {
     "data": {
      "text/plain": [
       "array([[2, 3, 4, 1, 0],\n",
       "       [0, 0, 0, 0, 5],\n",
       "       [5, 4, 3, 0, 0],\n",
       "       [1, 1, 1, 1, 1]])"
      ]
     },
     "execution_count": 5,
     "metadata": {},
     "output_type": "execute_result"
    }
   ],
   "source": [
    "# numpy array that has user_id as row and item_id as column. \n",
    "# the entries inside the matrix are ratings the people u has given to item i, based on row u and column i.\n",
    "M = np.asarray([[2, 3, 4, 1, 0], \n",
    "                [0, 0, 0, 0, 5], \n",
    "                [5, 4, 3, 0, 0], \n",
    "                [1, 1, 1, 1, 1]])\n",
    "M"
   ]
  },
  {
   "cell_type": "code",
   "execution_count": 78,
   "metadata": {},
   "outputs": [
    {
     "data": {
      "text/html": [
       "<div>\n",
       "<style scoped>\n",
       "    .dataframe tbody tr th:only-of-type {\n",
       "        vertical-align: middle;\n",
       "    }\n",
       "\n",
       "    .dataframe tbody tr th {\n",
       "        vertical-align: top;\n",
       "    }\n",
       "\n",
       "    .dataframe thead th {\n",
       "        text-align: right;\n",
       "    }\n",
       "</style>\n",
       "<table border=\"1\" class=\"dataframe\">\n",
       "  <thead>\n",
       "    <tr style=\"text-align: right;\">\n",
       "      <th></th>\n",
       "      <th>movie1</th>\n",
       "      <th>movie2</th>\n",
       "      <th>movie3</th>\n",
       "      <th>movie4</th>\n",
       "      <th>movie5</th>\n",
       "    </tr>\n",
       "  </thead>\n",
       "  <tbody>\n",
       "    <tr>\n",
       "      <th>user1</th>\n",
       "      <td>2</td>\n",
       "      <td>3</td>\n",
       "      <td>4</td>\n",
       "      <td>1</td>\n",
       "      <td>0</td>\n",
       "    </tr>\n",
       "    <tr>\n",
       "      <th>user2</th>\n",
       "      <td>0</td>\n",
       "      <td>0</td>\n",
       "      <td>0</td>\n",
       "      <td>0</td>\n",
       "      <td>5</td>\n",
       "    </tr>\n",
       "    <tr>\n",
       "      <th>user3</th>\n",
       "      <td>5</td>\n",
       "      <td>4</td>\n",
       "      <td>3</td>\n",
       "      <td>0</td>\n",
       "      <td>0</td>\n",
       "    </tr>\n",
       "    <tr>\n",
       "      <th>user4</th>\n",
       "      <td>1</td>\n",
       "      <td>1</td>\n",
       "      <td>1</td>\n",
       "      <td>1</td>\n",
       "      <td>1</td>\n",
       "    </tr>\n",
       "  </tbody>\n",
       "</table>\n",
       "</div>"
      ],
      "text/plain": [
       "       movie1  movie2  movie3  movie4  movie5\n",
       "user1       2       3       4       1       0\n",
       "user2       0       0       0       0       5\n",
       "user3       5       4       3       0       0\n",
       "user4       1       1       1       1       1"
      ]
     },
     "execution_count": 78,
     "metadata": {},
     "output_type": "execute_result"
    }
   ],
   "source": [
    "movie_matrix = pd.DataFrame(data=M, columns=['movie1', 'movie2', 'movie3', 'movie4', 'movie5'], index= ['user1', 'user2', 'user3', 'user4'])\n",
    "movie_matrix"
   ]
  },
  {
   "cell_type": "code",
   "execution_count": 81,
   "metadata": {},
   "outputs": [
    {
     "data": {
      "text/html": [
       "<div>\n",
       "<style scoped>\n",
       "    .dataframe tbody tr th:only-of-type {\n",
       "        vertical-align: middle;\n",
       "    }\n",
       "\n",
       "    .dataframe tbody tr th {\n",
       "        vertical-align: top;\n",
       "    }\n",
       "\n",
       "    .dataframe thead th {\n",
       "        text-align: right;\n",
       "    }\n",
       "</style>\n",
       "<table border=\"1\" class=\"dataframe\">\n",
       "  <thead>\n",
       "    <tr style=\"text-align: right;\">\n",
       "      <th></th>\n",
       "      <th>user1</th>\n",
       "      <th>user2</th>\n",
       "      <th>user3</th>\n",
       "      <th>user4</th>\n",
       "    </tr>\n",
       "  </thead>\n",
       "  <tbody>\n",
       "    <tr>\n",
       "      <th>movie1</th>\n",
       "      <td>2</td>\n",
       "      <td>0</td>\n",
       "      <td>5</td>\n",
       "      <td>1</td>\n",
       "    </tr>\n",
       "    <tr>\n",
       "      <th>movie2</th>\n",
       "      <td>3</td>\n",
       "      <td>0</td>\n",
       "      <td>4</td>\n",
       "      <td>1</td>\n",
       "    </tr>\n",
       "    <tr>\n",
       "      <th>movie3</th>\n",
       "      <td>4</td>\n",
       "      <td>0</td>\n",
       "      <td>3</td>\n",
       "      <td>1</td>\n",
       "    </tr>\n",
       "    <tr>\n",
       "      <th>movie4</th>\n",
       "      <td>1</td>\n",
       "      <td>0</td>\n",
       "      <td>0</td>\n",
       "      <td>1</td>\n",
       "    </tr>\n",
       "    <tr>\n",
       "      <th>movie5</th>\n",
       "      <td>0</td>\n",
       "      <td>5</td>\n",
       "      <td>0</td>\n",
       "      <td>1</td>\n",
       "    </tr>\n",
       "  </tbody>\n",
       "</table>\n",
       "</div>"
      ],
      "text/plain": [
       "        user1  user2  user3  user4\n",
       "movie1      2      0      5      1\n",
       "movie2      3      0      4      1\n",
       "movie3      4      0      3      1\n",
       "movie4      1      0      0      1\n",
       "movie5      0      5      0      1"
      ]
     },
     "execution_count": 81,
     "metadata": {},
     "output_type": "execute_result"
    }
   ],
   "source": [
    "movie_matrix_T = movie_matrix.T\n",
    "movie_matrix_T"
   ]
  },
  {
   "cell_type": "code",
   "execution_count": 83,
   "metadata": {},
   "outputs": [
    {
     "data": {
      "text/html": [
       "<div>\n",
       "<style scoped>\n",
       "    .dataframe tbody tr th:only-of-type {\n",
       "        vertical-align: middle;\n",
       "    }\n",
       "\n",
       "    .dataframe tbody tr th {\n",
       "        vertical-align: top;\n",
       "    }\n",
       "\n",
       "    .dataframe thead th {\n",
       "        text-align: right;\n",
       "    }\n",
       "</style>\n",
       "<table border=\"1\" class=\"dataframe\">\n",
       "  <thead>\n",
       "    <tr style=\"text-align: right;\">\n",
       "      <th></th>\n",
       "      <th>movie1</th>\n",
       "      <th>movie2</th>\n",
       "      <th>movie3</th>\n",
       "      <th>movie4</th>\n",
       "      <th>movie5</th>\n",
       "    </tr>\n",
       "  </thead>\n",
       "  <tbody>\n",
       "    <tr>\n",
       "      <th>movie1</th>\n",
       "      <td>0.000000</td>\n",
       "      <td>0.033245</td>\n",
       "      <td>0.140662</td>\n",
       "      <td>0.612702</td>\n",
       "      <td>0.964194</td>\n",
       "    </tr>\n",
       "    <tr>\n",
       "      <th>movie2</th>\n",
       "      <td>0.033245</td>\n",
       "      <td>0.000000</td>\n",
       "      <td>0.038462</td>\n",
       "      <td>0.445300</td>\n",
       "      <td>0.961538</td>\n",
       "    </tr>\n",
       "    <tr>\n",
       "      <th>movie3</th>\n",
       "      <td>0.140662</td>\n",
       "      <td>0.038462</td>\n",
       "      <td>0.000000</td>\n",
       "      <td>0.306625</td>\n",
       "      <td>0.961538</td>\n",
       "    </tr>\n",
       "    <tr>\n",
       "      <th>movie4</th>\n",
       "      <td>0.612702</td>\n",
       "      <td>0.445300</td>\n",
       "      <td>0.306625</td>\n",
       "      <td>0.000000</td>\n",
       "      <td>0.861325</td>\n",
       "    </tr>\n",
       "    <tr>\n",
       "      <th>movie5</th>\n",
       "      <td>0.964194</td>\n",
       "      <td>0.961538</td>\n",
       "      <td>0.961538</td>\n",
       "      <td>0.861325</td>\n",
       "      <td>0.000000</td>\n",
       "    </tr>\n",
       "  </tbody>\n",
       "</table>\n",
       "</div>"
      ],
      "text/plain": [
       "          movie1    movie2    movie3    movie4    movie5\n",
       "movie1  0.000000  0.033245  0.140662  0.612702  0.964194\n",
       "movie2  0.033245  0.000000  0.038462  0.445300  0.961538\n",
       "movie3  0.140662  0.038462  0.000000  0.306625  0.961538\n",
       "movie4  0.612702  0.445300  0.306625  0.000000  0.861325\n",
       "movie5  0.964194  0.961538  0.961538  0.861325  0.000000"
      ]
     },
     "execution_count": 83,
     "metadata": {},
     "output_type": "execute_result"
    }
   ],
   "source": [
    "pairwise = pd.DataFrame(\n",
    "    squareform(pdist(movie_matrix_T, metric='cosine')),\n",
    "    columns = movie_matrix_T.index,\n",
    "    index   = movie_matrix_T.index\n",
    ")\n",
    "pairwise"
   ]
  },
  {
   "cell_type": "code",
   "execution_count": 89,
   "metadata": {},
   "outputs": [
    {
     "data": {
      "text/plain": [
       "array([[2, 3, 4, 1, 0],\n",
       "       [0, 0, 0, 0, 5],\n",
       "       [5, 4, 3, 0, 0],\n",
       "       [1, 1, 1, 1, 1]])"
      ]
     },
     "execution_count": 89,
     "metadata": {},
     "output_type": "execute_result"
    }
   ],
   "source": [
    "M"
   ]
  },
  {
   "cell_type": "code",
   "execution_count": 91,
   "metadata": {},
   "outputs": [
    {
     "data": {
      "text/plain": [
       "array([[2. ],\n",
       "       [1. ],\n",
       "       [2.4],\n",
       "       [1. ]])"
      ]
     },
     "execution_count": 91,
     "metadata": {},
     "output_type": "execute_result"
    }
   ],
   "source": [
    "M_u = M.mean(axis=1).reshape(-1, 1)\n",
    "M_u"
   ]
  },
  {
   "cell_type": "code",
   "execution_count": 93,
   "metadata": {},
   "outputs": [
    {
     "data": {
      "text/plain": [
       "array([[ 0. ,  1. ,  2. , -1. , -2. ],\n",
       "       [-1. , -1. , -1. , -1. ,  4. ],\n",
       "       [ 2.6,  1.6,  0.6, -2.4, -2.4],\n",
       "       [ 0. ,  0. ,  0. ,  0. ,  0. ]])"
      ]
     },
     "execution_count": 93,
     "metadata": {},
     "output_type": "execute_result"
    }
   ],
   "source": [
    "item_mean_subtracted = M - M_u\n",
    "item_mean_subtracted"
   ]
  },
  {
   "cell_type": "code",
   "execution_count": 94,
   "metadata": {},
   "outputs": [
    {
     "data": {
      "text/html": [
       "<div>\n",
       "<style scoped>\n",
       "    .dataframe tbody tr th:only-of-type {\n",
       "        vertical-align: middle;\n",
       "    }\n",
       "\n",
       "    .dataframe tbody tr th {\n",
       "        vertical-align: top;\n",
       "    }\n",
       "\n",
       "    .dataframe thead th {\n",
       "        text-align: right;\n",
       "    }\n",
       "</style>\n",
       "<table border=\"1\" class=\"dataframe\">\n",
       "  <thead>\n",
       "    <tr style=\"text-align: right;\">\n",
       "      <th></th>\n",
       "      <th>movie1</th>\n",
       "      <th>movie2</th>\n",
       "      <th>movie3</th>\n",
       "      <th>movie4</th>\n",
       "      <th>movie5</th>\n",
       "    </tr>\n",
       "  </thead>\n",
       "  <tbody>\n",
       "    <tr>\n",
       "      <th>user1</th>\n",
       "      <td>0.0</td>\n",
       "      <td>1.0</td>\n",
       "      <td>2.0</td>\n",
       "      <td>-1.0</td>\n",
       "      <td>-2.0</td>\n",
       "    </tr>\n",
       "    <tr>\n",
       "      <th>user2</th>\n",
       "      <td>-1.0</td>\n",
       "      <td>-1.0</td>\n",
       "      <td>-1.0</td>\n",
       "      <td>-1.0</td>\n",
       "      <td>4.0</td>\n",
       "    </tr>\n",
       "    <tr>\n",
       "      <th>user3</th>\n",
       "      <td>2.6</td>\n",
       "      <td>1.6</td>\n",
       "      <td>0.6</td>\n",
       "      <td>-2.4</td>\n",
       "      <td>-2.4</td>\n",
       "    </tr>\n",
       "    <tr>\n",
       "      <th>user4</th>\n",
       "      <td>0.0</td>\n",
       "      <td>0.0</td>\n",
       "      <td>0.0</td>\n",
       "      <td>0.0</td>\n",
       "      <td>0.0</td>\n",
       "    </tr>\n",
       "  </tbody>\n",
       "</table>\n",
       "</div>"
      ],
      "text/plain": [
       "       movie1  movie2  movie3  movie4  movie5\n",
       "user1     0.0     1.0     2.0    -1.0    -2.0\n",
       "user2    -1.0    -1.0    -1.0    -1.0     4.0\n",
       "user3     2.6     1.6     0.6    -2.4    -2.4\n",
       "user4     0.0     0.0     0.0     0.0     0.0"
      ]
     },
     "execution_count": 94,
     "metadata": {},
     "output_type": "execute_result"
    }
   ],
   "source": [
    "movie_matrix = pd.DataFrame(data=item_mean_subtracted, columns=['movie1', 'movie2', 'movie3', 'movie4', 'movie5'], index= ['user1', 'user2', 'user3', 'user4'])\n",
    "movie_matrix"
   ]
  },
  {
   "cell_type": "code",
   "execution_count": 95,
   "metadata": {},
   "outputs": [
    {
     "data": {
      "text/html": [
       "<div>\n",
       "<style scoped>\n",
       "    .dataframe tbody tr th:only-of-type {\n",
       "        vertical-align: middle;\n",
       "    }\n",
       "\n",
       "    .dataframe tbody tr th {\n",
       "        vertical-align: top;\n",
       "    }\n",
       "\n",
       "    .dataframe thead th {\n",
       "        text-align: right;\n",
       "    }\n",
       "</style>\n",
       "<table border=\"1\" class=\"dataframe\">\n",
       "  <thead>\n",
       "    <tr style=\"text-align: right;\">\n",
       "      <th></th>\n",
       "      <th>user1</th>\n",
       "      <th>user2</th>\n",
       "      <th>user3</th>\n",
       "      <th>user4</th>\n",
       "    </tr>\n",
       "  </thead>\n",
       "  <tbody>\n",
       "    <tr>\n",
       "      <th>movie1</th>\n",
       "      <td>0.0</td>\n",
       "      <td>-1.0</td>\n",
       "      <td>2.6</td>\n",
       "      <td>0.0</td>\n",
       "    </tr>\n",
       "    <tr>\n",
       "      <th>movie2</th>\n",
       "      <td>1.0</td>\n",
       "      <td>-1.0</td>\n",
       "      <td>1.6</td>\n",
       "      <td>0.0</td>\n",
       "    </tr>\n",
       "    <tr>\n",
       "      <th>movie3</th>\n",
       "      <td>2.0</td>\n",
       "      <td>-1.0</td>\n",
       "      <td>0.6</td>\n",
       "      <td>0.0</td>\n",
       "    </tr>\n",
       "    <tr>\n",
       "      <th>movie4</th>\n",
       "      <td>-1.0</td>\n",
       "      <td>-1.0</td>\n",
       "      <td>-2.4</td>\n",
       "      <td>0.0</td>\n",
       "    </tr>\n",
       "    <tr>\n",
       "      <th>movie5</th>\n",
       "      <td>-2.0</td>\n",
       "      <td>4.0</td>\n",
       "      <td>-2.4</td>\n",
       "      <td>0.0</td>\n",
       "    </tr>\n",
       "  </tbody>\n",
       "</table>\n",
       "</div>"
      ],
      "text/plain": [
       "        user1  user2  user3  user4\n",
       "movie1    0.0   -1.0    2.6    0.0\n",
       "movie2    1.0   -1.0    1.6    0.0\n",
       "movie3    2.0   -1.0    0.6    0.0\n",
       "movie4   -1.0   -1.0   -2.4    0.0\n",
       "movie5   -2.0    4.0   -2.4    0.0"
      ]
     },
     "execution_count": 95,
     "metadata": {},
     "output_type": "execute_result"
    }
   ],
   "source": [
    "movie_matrix_T = movie_matrix.T\n",
    "movie_matrix_T"
   ]
  },
  {
   "cell_type": "code",
   "execution_count": 97,
   "metadata": {},
   "outputs": [
    {
     "data": {
      "text/html": [
       "<div>\n",
       "<style scoped>\n",
       "    .dataframe tbody tr th:only-of-type {\n",
       "        vertical-align: middle;\n",
       "    }\n",
       "\n",
       "    .dataframe tbody tr th {\n",
       "        vertical-align: top;\n",
       "    }\n",
       "\n",
       "    .dataframe thead th {\n",
       "        text-align: right;\n",
       "    }\n",
       "</style>\n",
       "<table border=\"1\" class=\"dataframe\">\n",
       "  <thead>\n",
       "    <tr style=\"text-align: right;\">\n",
       "      <th></th>\n",
       "      <th>movie1</th>\n",
       "      <th>movie2</th>\n",
       "      <th>movie3</th>\n",
       "      <th>movie4</th>\n",
       "      <th>movie5</th>\n",
       "    </tr>\n",
       "  </thead>\n",
       "  <tbody>\n",
       "    <tr>\n",
       "      <th>movie1</th>\n",
       "      <td>1.000000</td>\n",
       "      <td>0.867434</td>\n",
       "      <td>0.396942</td>\n",
       "      <td>-0.675258</td>\n",
       "      <td>-0.724263</td>\n",
       "    </tr>\n",
       "    <tr>\n",
       "      <th>movie2</th>\n",
       "      <td>0.867434</td>\n",
       "      <td>1.000000</td>\n",
       "      <td>0.800996</td>\n",
       "      <td>-0.645532</td>\n",
       "      <td>-0.907904</td>\n",
       "    </tr>\n",
       "    <tr>\n",
       "      <th>movie3</th>\n",
       "      <td>0.396942</td>\n",
       "      <td>0.800996</td>\n",
       "      <td>1.000000</td>\n",
       "      <td>-0.378335</td>\n",
       "      <td>-0.803372</td>\n",
       "    </tr>\n",
       "    <tr>\n",
       "      <th>movie4</th>\n",
       "      <td>-0.675258</td>\n",
       "      <td>-0.645532</td>\n",
       "      <td>-0.378335</td>\n",
       "      <td>1.000000</td>\n",
       "      <td>0.265940</td>\n",
       "    </tr>\n",
       "    <tr>\n",
       "      <th>movie5</th>\n",
       "      <td>-0.724263</td>\n",
       "      <td>-0.907904</td>\n",
       "      <td>-0.803372</td>\n",
       "      <td>0.265940</td>\n",
       "      <td>1.000000</td>\n",
       "    </tr>\n",
       "  </tbody>\n",
       "</table>\n",
       "</div>"
      ],
      "text/plain": [
       "          movie1    movie2    movie3    movie4    movie5\n",
       "movie1  1.000000  0.867434  0.396942 -0.675258 -0.724263\n",
       "movie2  0.867434  1.000000  0.800996 -0.645532 -0.907904\n",
       "movie3  0.396942  0.800996  1.000000 -0.378335 -0.803372\n",
       "movie4 -0.675258 -0.645532 -0.378335  1.000000  0.265940\n",
       "movie5 -0.724263 -0.907904 -0.803372  0.265940  1.000000"
      ]
     },
     "execution_count": 97,
     "metadata": {},
     "output_type": "execute_result"
    }
   ],
   "source": [
    "pairwise_sim = pd.DataFrame(\n",
    "                    1- squareform(pdist(movie_matrix_T, metric='cosine')),\n",
    "                    columns = movie_matrix_T.index,\n",
    "                    index   = movie_matrix_T.index\n",
    ")\n",
    "pairwise_sim"
   ]
  },
  {
   "cell_type": "code",
   "execution_count": null,
   "metadata": {},
   "outputs": [],
   "source": []
  },
  {
   "cell_type": "code",
   "execution_count": null,
   "metadata": {},
   "outputs": [],
   "source": []
  },
  {
   "cell_type": "markdown",
   "metadata": {},
   "source": [
    "# Hamming distance\n",
    "\n",
    "Compute the Hamming distance between two 1-D arrays.\n",
    "\n",
    "The Hamming distance between 1-D arrays u and v, is simply the proportion of disagreeing components in u and v.\n",
    "\n",
    "In information theory, the Hamming distance between two strings of equal length is the number of positions at which the corresponding symbols are different. In other words, it measures the minimum number of substitutions required to change one string into the other, or the minimum number of errors that could have transformed one string into the other."
   ]
  },
  {
   "cell_type": "code",
   "execution_count": 3,
   "metadata": {
    "collapsed": true,
    "jupyter": {
     "outputs_hidden": true
    }
   },
   "outputs": [],
   "source": [
    "data_dict = {'num_doors':   pd.Series(data= [2, 4, 2, 2]),\n",
    "             'num_cyl':     pd.Series(data= [2, 3, 4, 8]),\n",
    "             'cruise_ctrl': pd.Series(data= [0, 0, 1, 1]),\n",
    "             'price_cat':   pd.Series(data= [1, 2, 2, 4])\n",
    "            }"
   ]
  },
  {
   "cell_type": "code",
   "execution_count": 4,
   "metadata": {},
   "outputs": [
    {
     "data": {
      "text/html": [
       "<div>\n",
       "<style>\n",
       "    .dataframe thead tr:only-child th {\n",
       "        text-align: right;\n",
       "    }\n",
       "\n",
       "    .dataframe thead th {\n",
       "        text-align: left;\n",
       "    }\n",
       "\n",
       "    .dataframe tbody tr th {\n",
       "        vertical-align: top;\n",
       "    }\n",
       "</style>\n",
       "<table border=\"1\" class=\"dataframe\">\n",
       "  <thead>\n",
       "    <tr style=\"text-align: right;\">\n",
       "      <th></th>\n",
       "      <th>cruise_ctrl</th>\n",
       "      <th>num_cyl</th>\n",
       "      <th>num_doors</th>\n",
       "      <th>price_cat</th>\n",
       "    </tr>\n",
       "  </thead>\n",
       "  <tbody>\n",
       "    <tr>\n",
       "      <th>0</th>\n",
       "      <td>0</td>\n",
       "      <td>2</td>\n",
       "      <td>2</td>\n",
       "      <td>1</td>\n",
       "    </tr>\n",
       "    <tr>\n",
       "      <th>1</th>\n",
       "      <td>0</td>\n",
       "      <td>3</td>\n",
       "      <td>4</td>\n",
       "      <td>2</td>\n",
       "    </tr>\n",
       "    <tr>\n",
       "      <th>2</th>\n",
       "      <td>1</td>\n",
       "      <td>4</td>\n",
       "      <td>2</td>\n",
       "      <td>2</td>\n",
       "    </tr>\n",
       "    <tr>\n",
       "      <th>3</th>\n",
       "      <td>1</td>\n",
       "      <td>8</td>\n",
       "      <td>2</td>\n",
       "      <td>4</td>\n",
       "    </tr>\n",
       "  </tbody>\n",
       "</table>\n",
       "</div>"
      ],
      "text/plain": [
       "   cruise_ctrl  num_cyl  num_doors  price_cat\n",
       "0            0        2          2          1\n",
       "1            0        3          4          2\n",
       "2            1        4          2          2\n",
       "3            1        8          2          4"
      ]
     },
     "execution_count": 4,
     "metadata": {},
     "output_type": "execute_result"
    }
   ],
   "source": [
    "df = pd.DataFrame(data_dict)\n",
    "df"
   ]
  },
  {
   "cell_type": "code",
   "execution_count": 10,
   "metadata": {
    "collapsed": true,
    "jupyter": {
     "outputs_hidden": true
    }
   },
   "outputs": [],
   "source": [
    "a = df.iloc[1].values\n",
    "b = df.iloc[2].values"
   ]
  },
  {
   "cell_type": "code",
   "execution_count": 11,
   "metadata": {},
   "outputs": [
    {
     "data": {
      "text/plain": [
       "array([0, 3, 4, 2], dtype=int64)"
      ]
     },
     "execution_count": 11,
     "metadata": {},
     "output_type": "execute_result"
    }
   ],
   "source": [
    "a"
   ]
  },
  {
   "cell_type": "code",
   "execution_count": 13,
   "metadata": {},
   "outputs": [
    {
     "data": {
      "text/plain": [
       "0.75"
      ]
     },
     "execution_count": 13,
     "metadata": {},
     "output_type": "execute_result"
    }
   ],
   "source": [
    "distance.hamming(a, b)"
   ]
  },
  {
   "cell_type": "markdown",
   "metadata": {},
   "source": [
    "# scipy.spatial.distance.braycurtis - Dissimilarity\n",
    "\n",
    "For a simple example, consider two aquariums;\n",
    "\n",
    "Tank one: 6 goldfish, 7 guppies and 4 rainbow fish,\n",
    "Tank two: 10 goldfish           and 6 rainbow fish.\n",
    "\n",
    "\n",
    "To calculate Bray-Curtis,\n",
    "- let’s first calculate Cij (the sum of only the lesser counts for each species found in both sites). \n",
    "- Goldfish are found on both sites; the lesser count is 6. \n",
    "- Guppies are only on one site, so they can’t be added in here. \n",
    "- Rainbow fish, though, are on both, and the lesser count is 4.\n",
    "\n",
    "So Cij = 6 + 4 = 10.\n",
    "\n",
    "Si (total number of specimens counted on site i) = 6 + 7 + 4 = 17, and\n",
    "Sj (total number of specimens counted on site j) = 10 + 6 = 16.\n",
    "\n",
    "So our BCij = 1 – (2 * 10) / (17 + 16), or 0.39.\n",
    "\n",
    "** interpretation **\n",
    "\n",
    "The Bray-Curtis dissimilarity is always a number between 0 and 1. \n",
    "- If 0, the two sites share all the same species; \n",
    "- if 1, they don’t share any species.\n",
    "\n",
    "** Assumptions **\n",
    "\n",
    "To calculate the Bray-Curtis dissimilarity between two sites you must assume that both sites are the same size, either in area or volume (as is relevant to species counts). \n",
    "\n",
    "This is because the equation doesn’t include any notion of space; it works only with the counts themselves.\n",
    "\n",
    "If the two sites are not the same size, you will need to adjust your counts before doing the Bray-Curtis calculation.\n",
    "\n",
    "\n",
    "[1, 0, 0]\n",
    "[0, 1, 0]\n",
    "\n"
   ]
  },
  {
   "cell_type": "markdown",
   "metadata": {},
   "source": [
    " $ s = 1 - \\frac{|p - q|}{n - 1}$"
   ]
  },
  {
   "cell_type": "markdown",
   "metadata": {},
   "source": [
    "# Locality Sensitive Hashing \n",
    "\n",
    "pip install LocalitySensitiveHashing\n",
    "\n",
    "A Python implementation of Locality Sensitive Hashing for finding nearest neighbors and clusters in multidimensional numerical data\n",
    "\n",
    "- Locality Sensitive Hashing (LSH) is a computationally efficient approach for finding nearest neighbors in large datasets. \n",
    "\n",
    "- The main idea in LSH is to avoid having to compare every pair of data samples in a large dataset in order to find the nearest similar neighbors for the different data samples. \n",
    "\n",
    "- With LSH, one can expect a data sample and its closest similar neighbors to be hashed into the same bucket with a high probability. \n",
    "\n",
    "- By treating the data samples placed in the same bucket as candidates for similarity checking, we significantly reduce the computational burden associated with similarity detection in large datasets.\n",
    "\n",
    "- While LSH algorithms have traditionally been used for finding nearest neighbors, this module goes a step further and explores using LSH for clustering the data. \n",
    "\n",
    "- Strictly speaking, this violates the basic mandate of LSH, which is to return just the nearest neighbors. (A data sample X being Y’s nearest neighbor and Y being Z’s nearest neighbor, in the sense neighbors are commonly defined with the Cosine metric in LSH, does not imply that X and Z will always be sufficiently close to be considered each other’s nearest neighbors.) "
   ]
  },
  {
   "cell_type": "markdown",
   "metadata": {},
   "source": [
    "- Random hyper-planes $h_1, h_2,...h_k$\n",
    "\n",
    "- space sliced into $2^k regions (ploytopes) $\n",
    "\n",
    "- compare x only to training points in the same region\n",
    "\n",
    "- Complexity : O(kd + dn/$2^k$) = O(d.log(n)) vs O(dn)\n",
    "\n",
    "- missed neighbors\n",
    "    - repeat with different $h_1, h_2,...h_k$\n"
   ]
  },
  {
   "cell_type": "code",
   "execution_count": null,
   "metadata": {
    "collapsed": true,
    "jupyter": {
     "outputs_hidden": true
    }
   },
   "outputs": [],
   "source": []
  }
 ],
 "metadata": {
  "kernelspec": {
   "display_name": "Python 3 (ipykernel)",
   "language": "python",
   "name": "python3"
  },
  "language_info": {
   "codemirror_mode": {
    "name": "ipython",
    "version": 3
   },
   "file_extension": ".py",
   "mimetype": "text/x-python",
   "name": "python",
   "nbconvert_exporter": "python",
   "pygments_lexer": "ipython3",
   "version": "3.12.4"
  },
  "latex_envs": {
   "LaTeX_envs_menu_present": true,
   "autoclose": false,
   "autocomplete": true,
   "bibliofile": "biblio.bib",
   "cite_by": "apalike",
   "current_citInitial": 1,
   "eqLabelWithNumbers": true,
   "eqNumInitial": 1,
   "hotkeys": {
    "equation": "Ctrl-E",
    "itemize": "Ctrl-I"
   },
   "labels_anchors": false,
   "latex_user_defs": false,
   "report_style_numbering": false,
   "user_envs_cfg": false
  },
  "toc": {
   "base_numbering": 1,
   "nav_menu": {},
   "number_sections": true,
   "sideBar": true,
   "skip_h1_title": false,
   "title_cell": "Table of Contents",
   "title_sidebar": "Contents",
   "toc_cell": false,
   "toc_position": {},
   "toc_section_display": true,
   "toc_window_display": false
  }
 },
 "nbformat": 4,
 "nbformat_minor": 4
}
