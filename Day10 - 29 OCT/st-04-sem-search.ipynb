{
 "cells": [
  {
   "cell_type": "markdown",
   "id": "def6470b-8bb1-4933-8c1a-0f8b34f5a0f0",
   "metadata": {},
   "source": [
    "--------\n",
    "### create a semantic search engine \n",
    "- using Sentence Transformers, \n",
    "- focusing on searching for similar documents in a set of demo articles\n",
    "--------------------"
   ]
  },
  {
   "cell_type": "code",
   "execution_count": 1,
   "id": "7791098f-f742-42a5-9c45-dd601444e5f4",
   "metadata": {
    "tags": []
   },
   "outputs": [],
   "source": [
    "from sentence_transformers import SentenceTransformer, util\n",
    "import pandas as pd"
   ]
  },
  {
   "cell_type": "code",
   "execution_count": 5,
   "id": "19faa291-98e0-4b8d-a2a9-4b9b8d1c0382",
   "metadata": {
    "tags": []
   },
   "outputs": [],
   "source": [
    "import os\n",
    "os.environ[\"SENTENCE_TRANSFORMERS_HOME\"] = r'D:\\AI-DATASETS\\07-Hugging-Face-Data\\sentence-transformers'"
   ]
  },
  {
   "cell_type": "markdown",
   "id": "91c09490-a4d3-4998-a925-71a9de006f02",
   "metadata": {},
   "source": [
    "#### model\n",
    "- The bert-base-nli-mean-tokens model refers to a specific variant of BERT (Bidirectional Encoder Representations from Transformers) that has been fine-tuned for a specific natural language understanding (NLU) task: sentence-level embeddings. \n",
    "- nli: NLI stands for \"Natural Language Inference.\" This is a specific NLP task in which the model is trained to determine the logical relationship between two given sentences. The model learns to classify whether the relationship is \"entailment,\" \"contradiction,\" or \"neutral.\""
   ]
  },
  {
   "cell_type": "code",
   "execution_count": 6,
   "id": "e1250992-067e-4cb7-b08d-6abb2dc4b49f",
   "metadata": {
    "tags": []
   },
   "outputs": [
    {
     "data": {
      "application/vnd.jupyter.widget-view+json": {
       "model_id": "465bae118b5541599fc3ffa832b6d169",
       "version_major": 2,
       "version_minor": 0
      },
      "text/plain": [
       "Downloading (…)821d1/.gitattributes:   0%|          | 0.00/391 [00:00<?, ?B/s]"
      ]
     },
     "metadata": {},
     "output_type": "display_data"
    },
    {
     "data": {
      "application/vnd.jupyter.widget-view+json": {
       "model_id": "7af056ec77b648a598cd4b454bf83d39",
       "version_major": 2,
       "version_minor": 0
      },
      "text/plain": [
       "Downloading (…)_Pooling/config.json:   0%|          | 0.00/190 [00:00<?, ?B/s]"
      ]
     },
     "metadata": {},
     "output_type": "display_data"
    },
    {
     "data": {
      "application/vnd.jupyter.widget-view+json": {
       "model_id": "628d3c33769e4cbe97aa7673d0785f25",
       "version_major": 2,
       "version_minor": 0
      },
      "text/plain": [
       "Downloading (…)8d01e821d1/README.md:   0%|          | 0.00/3.95k [00:00<?, ?B/s]"
      ]
     },
     "metadata": {},
     "output_type": "display_data"
    },
    {
     "data": {
      "application/vnd.jupyter.widget-view+json": {
       "model_id": "69c066b35f7c4d11b7df0d62a5327a60",
       "version_major": 2,
       "version_minor": 0
      },
      "text/plain": [
       "Downloading (…)d1/added_tokens.json:   0%|          | 0.00/2.00 [00:00<?, ?B/s]"
      ]
     },
     "metadata": {},
     "output_type": "display_data"
    },
    {
     "data": {
      "application/vnd.jupyter.widget-view+json": {
       "model_id": "962c415167134e7ea72a5cade96269e1",
       "version_major": 2,
       "version_minor": 0
      },
      "text/plain": [
       "Downloading (…)01e821d1/config.json:   0%|          | 0.00/625 [00:00<?, ?B/s]"
      ]
     },
     "metadata": {},
     "output_type": "display_data"
    },
    {
     "data": {
      "application/vnd.jupyter.widget-view+json": {
       "model_id": "a4ce6b9971eb4bb2ae3ed2b2b731baff",
       "version_major": 2,
       "version_minor": 0
      },
      "text/plain": [
       "Downloading (…)ce_transformers.json:   0%|          | 0.00/122 [00:00<?, ?B/s]"
      ]
     },
     "metadata": {},
     "output_type": "display_data"
    },
    {
     "data": {
      "application/vnd.jupyter.widget-view+json": {
       "model_id": "1831784d727f49f7a8fe63607f69f532",
       "version_major": 2,
       "version_minor": 0
      },
      "text/plain": [
       "Downloading pytorch_model.bin:   0%|          | 0.00/438M [00:00<?, ?B/s]"
      ]
     },
     "metadata": {},
     "output_type": "display_data"
    },
    {
     "data": {
      "application/vnd.jupyter.widget-view+json": {
       "model_id": "865f91fb8d8b4b72bc3989a75463ec20",
       "version_major": 2,
       "version_minor": 0
      },
      "text/plain": [
       "Downloading (…)nce_bert_config.json:   0%|          | 0.00/53.0 [00:00<?, ?B/s]"
      ]
     },
     "metadata": {},
     "output_type": "display_data"
    },
    {
     "data": {
      "application/vnd.jupyter.widget-view+json": {
       "model_id": "0f1cc452f2de426884fed6ef8cae6ec9",
       "version_major": 2,
       "version_minor": 0
      },
      "text/plain": [
       "Downloading (…)cial_tokens_map.json:   0%|          | 0.00/112 [00:00<?, ?B/s]"
      ]
     },
     "metadata": {},
     "output_type": "display_data"
    },
    {
     "data": {
      "application/vnd.jupyter.widget-view+json": {
       "model_id": "5cefb20b61304e39bb0ab2f97020d8a1",
       "version_major": 2,
       "version_minor": 0
      },
      "text/plain": [
       "Downloading (…)821d1/tokenizer.json:   0%|          | 0.00/466k [00:00<?, ?B/s]"
      ]
     },
     "metadata": {},
     "output_type": "display_data"
    },
    {
     "data": {
      "application/vnd.jupyter.widget-view+json": {
       "model_id": "0b5cef66c34b4f8c9692e806a047a804",
       "version_major": 2,
       "version_minor": 0
      },
      "text/plain": [
       "Downloading (…)okenizer_config.json:   0%|          | 0.00/399 [00:00<?, ?B/s]"
      ]
     },
     "metadata": {},
     "output_type": "display_data"
    },
    {
     "data": {
      "application/vnd.jupyter.widget-view+json": {
       "model_id": "b390f9a323b44472a8dd266b9cee678c",
       "version_major": 2,
       "version_minor": 0
      },
      "text/plain": [
       "Downloading (…)8d01e821d1/vocab.txt:   0%|          | 0.00/232k [00:00<?, ?B/s]"
      ]
     },
     "metadata": {},
     "output_type": "display_data"
    },
    {
     "data": {
      "application/vnd.jupyter.widget-view+json": {
       "model_id": "4448f11d52b14cbcb68ebb74f9f924bf",
       "version_major": 2,
       "version_minor": 0
      },
      "text/plain": [
       "Downloading (…)1e821d1/modules.json:   0%|          | 0.00/229 [00:00<?, ?B/s]"
      ]
     },
     "metadata": {},
     "output_type": "display_data"
    }
   ],
   "source": [
    "# Load a pre-trained Sentence Transformer model\n",
    "model = SentenceTransformer('bert-base-nli-mean-tokens')"
   ]
  },
  {
   "cell_type": "code",
   "execution_count": 2,
   "id": "4e55811a-5ebf-4888-b034-50b59868622c",
   "metadata": {
    "tags": []
   },
   "outputs": [],
   "source": [
    "# Sample articles and their titles\n",
    "demo_data = {\n",
    "    'Title': [\n",
    "        'How to Build a Semantic Search Engine',\n",
    "        'Introduction to Sentence Transformers',\n",
    "        'Natural Language Processing in Python',\n",
    "        'Content Recommendation Systems',\n",
    "        'Information Retrieval Techniques'\n",
    "    ],\n",
    "    'Text': [\n",
    "        'In this tutorial, we will show you how to build a semantic search engine using Sentence Transformers.',\n",
    "        'Sentence Transformers are powerful NLP models that can encode sentences into fixed-dimensional vectors.',\n",
    "        'Learn how to perform natural language processing tasks in Python with popular libraries like spaCy and NLTK.',\n",
    "        'Content recommendation systems help users discover relevant articles and products.',\n",
    "        'Information retrieval techniques are used to search for relevant documents in large text collections.'\n",
    "    ]\n",
    "}"
   ]
  },
  {
   "cell_type": "code",
   "execution_count": 3,
   "id": "88a4fa3e-3f0b-48d7-bcf8-72b3b170c09b",
   "metadata": {
    "tags": []
   },
   "outputs": [],
   "source": [
    "# Create a DataFrame from the demo data\n",
    "df = pd.DataFrame(demo_data)"
   ]
  },
  {
   "cell_type": "code",
   "execution_count": 26,
   "id": "6c3b2326-9473-48c0-a589-9f1892ba26e8",
   "metadata": {
    "tags": []
   },
   "outputs": [
    {
     "data": {
      "text/html": [
       "<div>\n",
       "<style scoped>\n",
       "    .dataframe tbody tr th:only-of-type {\n",
       "        vertical-align: middle;\n",
       "    }\n",
       "\n",
       "    .dataframe tbody tr th {\n",
       "        vertical-align: top;\n",
       "    }\n",
       "\n",
       "    .dataframe thead th {\n",
       "        text-align: right;\n",
       "    }\n",
       "</style>\n",
       "<table border=\"1\" class=\"dataframe\">\n",
       "  <thead>\n",
       "    <tr style=\"text-align: right;\">\n",
       "      <th></th>\n",
       "      <th>Title</th>\n",
       "      <th>Text</th>\n",
       "    </tr>\n",
       "  </thead>\n",
       "  <tbody>\n",
       "    <tr>\n",
       "      <th>0</th>\n",
       "      <td>How to Build a Semantic Search Engine</td>\n",
       "      <td>In this tutorial, we will show you how to buil...</td>\n",
       "    </tr>\n",
       "    <tr>\n",
       "      <th>1</th>\n",
       "      <td>Introduction to Sentence Transformers</td>\n",
       "      <td>Sentence Transformers are powerful NLP models ...</td>\n",
       "    </tr>\n",
       "    <tr>\n",
       "      <th>2</th>\n",
       "      <td>Natural Language Processing in Python</td>\n",
       "      <td>Learn how to perform natural language processi...</td>\n",
       "    </tr>\n",
       "    <tr>\n",
       "      <th>3</th>\n",
       "      <td>Content Recommendation Systems</td>\n",
       "      <td>Content recommendation systems help users disc...</td>\n",
       "    </tr>\n",
       "    <tr>\n",
       "      <th>4</th>\n",
       "      <td>Information Retrieval Techniques</td>\n",
       "      <td>Information retrieval techniques are used to s...</td>\n",
       "    </tr>\n",
       "  </tbody>\n",
       "</table>\n",
       "</div>"
      ],
      "text/plain": [
       "                                   Title  \\\n",
       "0  How to Build a Semantic Search Engine   \n",
       "1  Introduction to Sentence Transformers   \n",
       "2  Natural Language Processing in Python   \n",
       "3         Content Recommendation Systems   \n",
       "4       Information Retrieval Techniques   \n",
       "\n",
       "                                                Text  \n",
       "0  In this tutorial, we will show you how to buil...  \n",
       "1  Sentence Transformers are powerful NLP models ...  \n",
       "2  Learn how to perform natural language processi...  \n",
       "3  Content recommendation systems help users disc...  \n",
       "4  Information retrieval techniques are used to s...  "
      ]
     },
     "execution_count": 26,
     "metadata": {},
     "output_type": "execute_result"
    }
   ],
   "source": [
    "df"
   ]
  },
  {
   "cell_type": "code",
   "execution_count": 29,
   "id": "163008c7-07e4-46bb-8868-7a419d3127ac",
   "metadata": {
    "tags": []
   },
   "outputs": [],
   "source": [
    "# Encode the articles into embeddings\n",
    "embeddings = model.encode(df['Text'], convert_to_numpy=True)"
   ]
  },
  {
   "cell_type": "code",
   "execution_count": 30,
   "id": "f3a8b7bf-20f2-4e55-81e5-d2b610bfcf38",
   "metadata": {
    "tags": []
   },
   "outputs": [],
   "source": [
    "# User query\n",
    "user_query = 'How to create a content recommendation system?'"
   ]
  },
  {
   "cell_type": "code",
   "execution_count": 31,
   "id": "02589f8d-5fde-4ef4-b365-8df3f86a8441",
   "metadata": {
    "tags": []
   },
   "outputs": [],
   "source": [
    "# Encode the user query\n",
    "query_embedding = model.encode(user_query, convert_to_tensor=True)"
   ]
  },
  {
   "cell_type": "code",
   "execution_count": 35,
   "id": "d1d4ff67-04b9-489b-91da-12796294ad9a",
   "metadata": {
    "tags": []
   },
   "outputs": [
    {
     "data": {
      "text/plain": [
       "array([3, 0, 1, 4, 2], dtype=int64)"
      ]
     },
     "execution_count": 35,
     "metadata": {},
     "output_type": "execute_result"
    }
   ],
   "source": [
    "# Find the most similar articles to the user query\n",
    "cosine_scores = util.pytorch_cos_sim(query_embedding, embeddings)\n",
    "similar_indices = cosine_scores[0].argsort(descending=True).numpy()\n",
    "similar_indices"
   ]
  },
  {
   "cell_type": "code",
   "execution_count": 36,
   "id": "f20f936d-7aa2-4767-8c4e-33ef103dd47e",
   "metadata": {
    "tags": []
   },
   "outputs": [],
   "source": [
    "# Number of similar documents to retrieve\n",
    "top_k = 2"
   ]
  },
  {
   "cell_type": "code",
   "execution_count": 37,
   "id": "607a744a-2a04-41e6-9fcd-9462ecccdc2d",
   "metadata": {
    "tags": []
   },
   "outputs": [
    {
     "data": {
      "text/plain": [
       "0"
      ]
     },
     "execution_count": 37,
     "metadata": {},
     "output_type": "execute_result"
    }
   ],
   "source": [
    "index = similar_indices[1]\n",
    "index"
   ]
  },
  {
   "cell_type": "code",
   "execution_count": 38,
   "id": "710dd640-306d-44df-88f8-5920d54057b5",
   "metadata": {
    "tags": []
   },
   "outputs": [
    {
     "data": {
      "text/plain": [
       "tensor(0.6498)"
      ]
     },
     "execution_count": 38,
     "metadata": {},
     "output_type": "execute_result"
    }
   ],
   "source": [
    "cosine_scores[0][index]"
   ]
  },
  {
   "cell_type": "code",
   "execution_count": 39,
   "id": "4a348364-5594-4aae-8fc4-b4cf8f90ef77",
   "metadata": {
    "tags": []
   },
   "outputs": [
    {
     "data": {
      "text/plain": [
       "'In this tutorial, we will show you how to build a semantic search engine using Sentence Transformers.'"
      ]
     },
     "execution_count": 39,
     "metadata": {},
     "output_type": "execute_result"
    }
   ],
   "source": [
    "df.loc[index]['Text']"
   ]
  },
  {
   "cell_type": "code",
   "execution_count": 40,
   "id": "d3178dfb-135c-4f30-bd12-2f505eca06bf",
   "metadata": {
    "tags": []
   },
   "outputs": [
    {
     "name": "stdout",
     "output_type": "stream",
     "text": [
      "Top 2 most similar articles to the query: 'How to create a content recommendation system?'\n",
      "Title: Content Recommendation Systems, Similarity Score: 0.7648\n",
      "Text: Content recommendation systems help users discover relevant articles and products.\n",
      "\n",
      "Title: How to Build a Semantic Search Engine, Similarity Score: 0.6498\n",
      "Text: In this tutorial, we will show you how to build a semantic search engine using Sentence Transformers.\n",
      "\n"
     ]
    }
   ],
   "source": [
    "print(f\"Top {top_k} most similar articles to the query: '{user_query}'\")\n",
    "for i in range(top_k):\n",
    "    index = similar_indices[i]\n",
    "    print(f\"Title: {df['Title'][index]}, Similarity Score: {cosine_scores[0][index]:.4f}\")\n",
    "    print(f\"Text: {df['Text'][index]}\\n\")"
   ]
  },
  {
   "cell_type": "code",
   "execution_count": null,
   "id": "208bbdf9-c50b-4410-8175-3b138acd8da3",
   "metadata": {},
   "outputs": [],
   "source": []
  }
 ],
 "metadata": {
  "kernelspec": {
   "display_name": "Python 3 (ipykernel)",
   "language": "python",
   "name": "python3"
  },
  "language_info": {
   "codemirror_mode": {
    "name": "ipython",
    "version": 3
   },
   "file_extension": ".py",
   "mimetype": "text/x-python",
   "name": "python",
   "nbconvert_exporter": "python",
   "pygments_lexer": "ipython3",
   "version": "3.11.4"
  }
 },
 "nbformat": 4,
 "nbformat_minor": 5
}
