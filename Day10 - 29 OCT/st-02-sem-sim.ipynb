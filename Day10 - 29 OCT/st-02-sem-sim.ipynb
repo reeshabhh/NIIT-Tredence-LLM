{
 "cells": [
  {
   "cell_type": "code",
   "execution_count": 3,
   "id": "745917ee-ff34-41a3-b018-a058ee10c09b",
   "metadata": {
    "tags": []
   },
   "outputs": [],
   "source": [
    "#!pip install -U sentence-transformers"
   ]
  },
  {
   "cell_type": "code",
   "execution_count": 7,
   "id": "a61a8176-c765-4eda-b987-56f8d78ff128",
   "metadata": {
    "tags": []
   },
   "outputs": [],
   "source": [
    "from sentence_transformers import SentenceTransformer\n",
    "import numpy as np"
   ]
  },
  {
   "cell_type": "code",
   "execution_count": 8,
   "id": "73cbb275-1976-4dbc-8f71-c47657a08b86",
   "metadata": {
    "tags": []
   },
   "outputs": [],
   "source": [
    "import os\n",
    "os.environ[\"SENTENCE_TRANSFORMERS_HOME\"] = r'D:\\AI-DATASETS\\07-Hugging-Face-Data\\sentence-transformers'"
   ]
  },
  {
   "cell_type": "markdown",
   "id": "ca7c7b61-c93e-4310-a2df-316e37b00e71",
   "metadata": {
    "tags": []
   },
   "source": [
    "##### all-MiniLM-L6-v2\n",
    "\n",
    "- It maps sentences & paragraphs to a `384 dimensional` dense vector space and \n",
    "- can be used for tasks like `clustering` or `semantic search`."
   ]
  },
  {
   "cell_type": "code",
   "execution_count": 9,
   "id": "3be6a857-24b5-44ba-ae54-f9c274c20f69",
   "metadata": {
    "tags": []
   },
   "outputs": [],
   "source": [
    "model = SentenceTransformer('all-MiniLM-L6-v2')"
   ]
  },
  {
   "cell_type": "markdown",
   "id": "a2fb3a9e-5dd6-4729-8a0f-2053bdd4ecb0",
   "metadata": {},
   "source": [
    "#### create embeddings"
   ]
  },
  {
   "cell_type": "code",
   "execution_count": 10,
   "id": "7723d5f2-fcd1-4d86-ad89-903c50c3219b",
   "metadata": {
    "tags": []
   },
   "outputs": [
    {
     "data": {
      "text/plain": [
       "(3, 384)"
      ]
     },
     "execution_count": 10,
     "metadata": {},
     "output_type": "execute_result"
    }
   ],
   "source": [
    "# Create embeddings for sentences\n",
    "sentences = ['This is an example.', \n",
    "             'Sentence embeddings are useful!',\n",
    "             'Doddaballapur Road']\n",
    "\n",
    "embeddings = model.encode(sentences)\n",
    "\n",
    "embeddings.shape"
   ]
  },
  {
   "cell_type": "markdown",
   "id": "ec77a804-9ac5-4c9d-8b27-5b1e084b4c71",
   "metadata": {},
   "source": [
    "#### Comparing Sentence Similarities"
   ]
  },
  {
   "cell_type": "code",
   "execution_count": 11,
   "id": "a762816d-974e-40e8-8e0d-66eeab7ec9e5",
   "metadata": {
    "tags": []
   },
   "outputs": [
    {
     "name": "stdout",
     "output_type": "stream",
     "text": [
      "Cosine-Similarity: 0.6153064\n"
     ]
    }
   ],
   "source": [
    "#Sentences are encoded by calling model.encode()\n",
    "emb1 = model.encode(\"This is a red cat with a hat.\")\n",
    "emb2 = model.encode(\"Have you seen my red cat?\")\n",
    "\n",
    "# Normalize each embedding\n",
    "emb1_norm = emb1 / np.linalg.norm(emb1)\n",
    "emb2_norm = emb2 / np.linalg.norm(emb2)\n",
    "\n",
    "# Calculate cosine similarity by dot product\n",
    "cos_sim = np.dot(emb1_norm, emb2_norm)\n",
    "\n",
    "print(\"Cosine-Similarity:\", cos_sim)"
   ]
  },
  {
   "cell_type": "markdown",
   "id": "54f471d1-fd74-4899-934e-d741f20f8155",
   "metadata": {},
   "source": [
    "#### with more sentences"
   ]
  },
  {
   "cell_type": "code",
   "execution_count": 12,
   "id": "590d958c-b63d-4453-81fe-de97ac6e00cf",
   "metadata": {
    "tags": []
   },
   "outputs": [],
   "source": [
    "from sentence_transformers import SentenceTransformer, util"
   ]
  },
  {
   "cell_type": "code",
   "execution_count": 13,
   "id": "54732139-a3a0-41b8-b91b-0fb90177e356",
   "metadata": {
    "tags": []
   },
   "outputs": [],
   "source": [
    "sentences = ['A man is eating food.',\n",
    "          'A man is eating a piece of bread.',\n",
    "          'The girl is carrying a baby.',\n",
    "          'A man is riding a horse.',\n",
    "          'A woman is playing violin.',\n",
    "          'Two men pushed carts through the woods.',\n",
    "          'A man is riding a white horse on an enclosed ground.',\n",
    "          'A monkey is playing drums.',\n",
    "          'Someone in a gorilla costume is playing a set of drums.'\n",
    "          ]"
   ]
  },
  {
   "cell_type": "code",
   "execution_count": 14,
   "id": "dcdde971-77e2-4c8b-bcdb-c19ca8921401",
   "metadata": {
    "tags": []
   },
   "outputs": [],
   "source": [
    "#Encode all sentences\n",
    "embeddings = model.encode(sentences)\n",
    "\n",
    "#Compute cosine similarity between all pairs\n",
    "cos_sim = util.cos_sim(embeddings, embeddings)"
   ]
  },
  {
   "cell_type": "code",
   "execution_count": 15,
   "id": "21036a50-19e0-4db0-b48e-92b390a11e9e",
   "metadata": {
    "tags": []
   },
   "outputs": [
    {
     "name": "stdout",
     "output_type": "stream",
     "text": [
      "Top-5 most similar pairs:\n",
      "A man is eating food. \t A man is eating a piece of bread. \t 0.7553\n",
      "A man is riding a horse. \t A man is riding a white horse on an enclosed ground. \t 0.7369\n",
      "A monkey is playing drums. \t Someone in a gorilla costume is playing a set of drums. \t 0.6433\n",
      "A woman is playing violin. \t Someone in a gorilla costume is playing a set of drums. \t 0.2564\n",
      "A man is eating food. \t A man is riding a horse. \t 0.2474\n"
     ]
    }
   ],
   "source": [
    "#Add all pairs to a list with their cosine similarity score\n",
    "all_sentence_combinations = []\n",
    "for i in range(len(cos_sim)-1):\n",
    "    for j in range(i+1, len(cos_sim)):\n",
    "        all_sentence_combinations.append([cos_sim[i][j], i, j])\n",
    "\n",
    "#Sort list by the highest cosine similarity score\n",
    "all_sentence_combinations = sorted(all_sentence_combinations, key=lambda x: x[0], reverse=True)\n",
    "\n",
    "print(\"Top-5 most similar pairs:\")\n",
    "for score, i, j in all_sentence_combinations[0:5]:\n",
    "    print(\"{} \\t {} \\t {:.4f}\".format(sentences[i], sentences[j], cos_sim[i][j]))"
   ]
  },
  {
   "cell_type": "markdown",
   "id": "8b9ed6ef-7d0c-4ac2-9eff-207e5c89359c",
   "metadata": {},
   "source": [
    "#### Semantic Textual Similarity"
   ]
  },
  {
   "cell_type": "code",
   "execution_count": 16,
   "id": "5a8b9ce8-d3c6-49e4-8ad5-f507e0fdf049",
   "metadata": {
    "tags": []
   },
   "outputs": [],
   "source": [
    "# Two lists of sentences\n",
    "sentences1 = ['The cat sits outside',\n",
    "             'A man is playing guitar',\n",
    "             'The new movie is awesome']\n",
    "\n",
    "sentences2 = ['The dog plays in the garden',\n",
    "              'A woman watches TV',\n",
    "              'The new movie is so great']"
   ]
  },
  {
   "cell_type": "code",
   "execution_count": 17,
   "id": "e05af13e-14e3-45ba-abf9-3f727d75288e",
   "metadata": {
    "tags": []
   },
   "outputs": [],
   "source": [
    "#Compute embedding for both lists\n",
    "embeddings1 = model.encode(sentences1, convert_to_tensor=True)\n",
    "embeddings2 = model.encode(sentences2, convert_to_tensor=True)"
   ]
  },
  {
   "cell_type": "code",
   "execution_count": 18,
   "id": "39fe880e-de35-4952-a8f6-56fa1ec7c70a",
   "metadata": {
    "tags": []
   },
   "outputs": [],
   "source": [
    "#Compute cosine-similarities\n",
    "cosine_scores = util.cos_sim(embeddings1, embeddings2)"
   ]
  },
  {
   "cell_type": "code",
   "execution_count": 19,
   "id": "c5b5a97e-7fd7-4f1b-952c-a2a2796fb678",
   "metadata": {
    "tags": []
   },
   "outputs": [
    {
     "name": "stdout",
     "output_type": "stream",
     "text": [
      "The cat sits outside \t\t The dog plays in the garden \t\t Score: 0.2838\n",
      "A man is playing guitar \t\t A woman watches TV \t\t Score: -0.0327\n",
      "The new movie is awesome \t\t The new movie is so great \t\t Score: 0.8939\n"
     ]
    }
   ],
   "source": [
    "#Output the pairs with their score\n",
    "for i in range(len(sentences1)):\n",
    "    print(\"{} \\t\\t {} \\t\\t Score: {:.4f}\".format(sentences1[i], sentences2[i], cosine_scores[i][i]))"
   ]
  },
  {
   "cell_type": "code",
   "execution_count": null,
   "id": "c3dd2cf6-8b91-41be-8ac3-89c405df43ed",
   "metadata": {},
   "outputs": [],
   "source": []
  },
  {
   "cell_type": "code",
   "execution_count": null,
   "id": "b8dde31b-2a0a-4c42-8e1a-c41311b201ec",
   "metadata": {},
   "outputs": [],
   "source": []
  }
 ],
 "metadata": {
  "kernelspec": {
   "display_name": "Python 3 (ipykernel)",
   "language": "python",
   "name": "python3"
  },
  "language_info": {
   "codemirror_mode": {
    "name": "ipython",
    "version": 3
   },
   "file_extension": ".py",
   "mimetype": "text/x-python",
   "name": "python",
   "nbconvert_exporter": "python",
   "pygments_lexer": "ipython3",
   "version": "3.12.4"
  }
 },
 "nbformat": 4,
 "nbformat_minor": 5
}
