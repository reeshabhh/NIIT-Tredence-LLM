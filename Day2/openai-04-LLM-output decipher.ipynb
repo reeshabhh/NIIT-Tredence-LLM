{
 "cells": [
  {
   "cell_type": "markdown",
   "id": "afb2c1a7-1b07-4121-bc9f-4dd22e19dd74",
   "metadata": {},
   "source": [
    "-------------------------\n",
    "#### Prompt Engg \n",
    "\n",
    "- basic example using `chat completions`\n",
    "- code contains exmaples from 0.28 and later 1.35/1.45 versions of API\n",
    "--------------------"
   ]
  },
  {
   "cell_type": "code",
   "execution_count": 42,
   "id": "9472ac92-ddeb-4f35-973d-f1679fdb6216",
   "metadata": {},
   "outputs": [],
   "source": [
    "import os\n",
    "import openai"
   ]
  },
  {
   "cell_type": "code",
   "execution_count": 43,
   "id": "613ddbe5-896c-4ef6-9df6-218d8c49b6e7",
   "metadata": {},
   "outputs": [
    {
     "data": {
      "text/plain": [
       "'1.45.1'"
      ]
     },
     "execution_count": 43,
     "metadata": {},
     "output_type": "execute_result"
    }
   ],
   "source": [
    "openai.__version__"
   ]
  },
  {
   "cell_type": "markdown",
   "id": "2235e69d-0c18-4a74-af6c-d200286f8e6f",
   "metadata": {},
   "source": [
    "#### models in openAI\n",
    "------------------------------------\n",
    "\n",
    "OpenAI provides a variety of models, each suited for different use cases, ranging from text generation, code generation, to specific tasks like question answering, summarization, and more.\n",
    "\n",
    "| Model Type               | Description                                                                                       | Model ID               | Variants/Use Cases                                           |\n",
    "|--------------------------|---------------------------------------------------------------------------------------------------|------------------------|-------------------------------------------------------------|\n",
    "| **GPT-4 Models**         | The most advanced language model, designed for a wide range of tasks, including text completion and complex reasoning. | `gpt-4`                | Variants: `gpt-4`, `gpt-4-32k` (larger context window)     |\n",
    "| **GPT-3.5 Models**       | A slightly earlier version of the GPT-4 model, used for efficient and high-quality completions across various tasks. | `gpt-3.5-turbo`        |                                                             |\n",
    "| **Codex Models**         | Specialized for code generation tasks, including programming in multiple languages.              | `code-davinci-002`, `code-cushman-001` | Use cases: Autocomplete for code, bug fixes, code explanations. |\n",
    "| **Text-Davinci Models**  | One of the most capable models for text generation, document completion, and more.              | `text-davinci-003`     | Use cases: Writing, summarization, text generation.         |\n",
    "\n",
    "\n"
   ]
  },
  {
   "cell_type": "markdown",
   "id": "48ee2693-9245-44bd-920c-79cb562dd03e",
   "metadata": {},
   "source": [
    "#### Endpoints\n",
    "-----------------------------\n",
    "\n",
    "- OpenAI provides several API endpoints that enable developers to interact with their models for various tasks such as `text generation`, `conversation`, `code completion`, `embedding generation`, and more.\n",
    "\n",
    "- Each endpoint serves a different purpose and can be accessed via HTTP requests."
   ]
  },
  {
   "cell_type": "markdown",
   "id": "521305b9-0b61-4dfc-bff6-42bfe3099789",
   "metadata": {},
   "source": [
    "#### 1. Text Completion (Legacy) Endpoint (`/v1/completions`)\n",
    "\n",
    "While still technically supported, the Completions endpoint is considered legacy. It directly generates text from a prompt without the conversation history format used in the Chat endpoint.\n",
    "\n",
    "**API Endpoint**:  \n",
    "POST https://api.openai.com/v1/completions\n",
    "\n",
    "**Usage**:  \n",
    "Legacy usage for tasks like document completion, content generation, and summarization.\n",
    "\n",
    "**Key Parameters**:\n",
    "- `model`: Specifies the model (e.g., `text-davinci-003`).\n",
    "- `prompt`: The input text to be completed.\n",
    "- `max_tokens`: The number of tokens to generate.\n",
    "- `temperature`: Controls randomness in the output (higher value = more creative, lower = more deterministic).\n"
   ]
  },
  {
   "cell_type": "code",
   "execution_count": 44,
   "id": "4b4640b6-2e95-40ef-ae6f-9ea9b026096f",
   "metadata": {},
   "outputs": [],
   "source": [
    "import openai"
   ]
  },
  {
   "cell_type": "code",
   "execution_count": 45,
   "id": "474ca697-4d14-4900-9f8f-dd9609946bf7",
   "metadata": {},
   "outputs": [],
   "source": [
    "# for older 0.28 API\n",
    "# Make a request to the Completions Endpoint\n",
    "# response = openai.Completion.create(\n",
    "#   model       = \"gpt-3.5-turbo\",                                # Specify the model you want to use\n",
    "#   prompt      = \"Once upon a time, there was a wise owl that\",  # Input prompt\n",
    "#   max_tokens  = 50,                                             # The maximum number of tokens to generate\n",
    "#   temperature = 0.7,                                            # Controls randomness (0.7 = moderate creativity)\n",
    "#   n           = 1,                                              # The number of completions to generate\n",
    "#   stop        = None                                            # Optional stop sequence\n",
    "# )"
   ]
  },
  {
   "cell_type": "code",
   "execution_count": 46,
   "id": "936e6ff7-2758-4e80-a23b-625058b228f5",
   "metadata": {},
   "outputs": [],
   "source": [
    "# Print the generated completion\n",
    "# print(response['choices'][0]['message']['content'])"
   ]
  },
  {
   "cell_type": "code",
   "execution_count": 47,
   "id": "12db6024-e0c4-4198-baed-3c9de7b5e1e0",
   "metadata": {},
   "outputs": [],
   "source": [
    "# def get_completion(prompt, model=\"gpt-3.5-turbo\"):\n",
    "#     messages = [{\"role\": \"user\", \"content\": prompt}]\n",
    "#     response = openai.ChatCompletion.create(                            # older 0.28 \n",
    "#         model      = model,\n",
    "#         messages   = messages,\n",
    "#         temperature= 0, # this is the degree of randomness of the model's output\n",
    "#     )\n",
    "#     return response.choices[0].message[\"content\"]"
   ]
  },
  {
   "cell_type": "markdown",
   "id": "c7b6381a-4b9c-468f-a05c-4cdcf341b58f",
   "metadata": {},
   "source": [
    "\n",
    "**Usage**: It’s the recommended endpoint for most tasks, including text completion, Q&A, summarization, etc., by providing a chat history as input.\n",
    "\n",
    "**Key Parameters**:\n",
    "\n",
    "- **model**: Specifies the model to be used (e.g., gpt-4 or gpt-3.5-turbo).\n",
    "- **messages**: A list of messages, where each message contains:\n",
    "  - **role**: Either \"system\", \"user\", or \"assistant\".\n",
    "  - **content**: The text for the message.\n",
    "- **max_tokens**: Controls how many tokens to generate.\n",
    "- **temperature**: Controls randomness in the output (higher value = more random)."
   ]
  },
  {
   "cell_type": "code",
   "execution_count": 48,
   "id": "240af0f0-38e1-494f-96d9-06df7e845d74",
   "metadata": {},
   "outputs": [],
   "source": [
    "from openai import OpenAI"
   ]
  },
  {
   "cell_type": "code",
   "execution_count": 49,
   "id": "e6d0ecee-43ca-451c-948f-5f5f754a4883",
   "metadata": {},
   "outputs": [],
   "source": [
    "client = OpenAI(\n",
    "    # defaults to os.environ.get(\"OPENAI_API_KEY\")\n",
    "    # api_key = openai_api_key\n",
    ")"
   ]
  },
  {
   "cell_type": "code",
   "execution_count": 50,
   "id": "10908d09-2e84-40c9-aa48-8d8f43f81ef0",
   "metadata": {},
   "outputs": [],
   "source": [
    "# Make a request to the Chat Completion Endpoint\n",
    "response = client.chat.completions.create(\n",
    "    model=\"gpt-3.5-turbo\",  # Specify the model\n",
    "    messages=[\n",
    "        {\"role\": \"user\", \"content\": \"Can you summarize the key parameters for the Chat Completion Endpoint?\"}\n",
    "    ],\n",
    "    max_tokens=50,\n",
    "    temperature=0.7\n",
    ")"
   ]
  },
  {
   "cell_type": "markdown",
   "id": "9c7aeb00-fc23-4229-a2e8-e32a551a1633",
   "metadata": {},
   "source": [
    "In OpenAI's API for language models, messages are the fundamental building blocks of prompts. \n",
    "\n",
    "Each message typically consists of two main components: the `role` of the sender and the `content` of the message. \n",
    "\n",
    "| **Role**   | **Description**                                                                                                                                                 | **Example**                                                                                                                  |\n",
    "|------------|-----------------------------------------------------------------------------------------------------------------------------------------------------------------|------------------------------------------------------------------------------------------------------------------------------|\n",
    "| User       | Represents the end user or the application initiating the conversation. Sends input messages, asking questions or providing information for the model's response. | If a user asks, \"What is machine learning?\", the message is sent with the role of \"user\".                                  |\n",
    "| Assistant  | Represents the AI model's responses to the user’s queries. Generates replies based on the context and content of previous messages, aiming to be helpful and informative. | After the user asks about machine learning, the assistant might respond, \"Machine learning is a subset of artificial intelligence that focuses on building systems that learn from data.\" |\n",
    "| System     | Provides initial instructions or context to the assistant to guide its behavior throughout the interaction. Typically used to set the tone, rules, or constraints of the assistant’s responses. | A system message might state, \"You are a friendly and informative assistant.\"                                              |\n"
   ]
  },
  {
   "cell_type": "code",
   "execution_count": 51,
   "id": "cc75f140-b420-4102-8368-d04efe93c147",
   "metadata": {},
   "outputs": [
    {
     "data": {
      "text/plain": [
       "[{'role': 'system', 'content': 'You are a knowledgeable assistant.'},\n",
       " {'role': 'user', 'content': 'Can you tell me about neural networks?'},\n",
       " {'role': 'assistant',\n",
       "  'content': 'Neural networks are a series of algorithms that mimic                                     the operations of a human brain to recognize relationships in a set of data.'}]"
      ]
     },
     "execution_count": 51,
     "metadata": {},
     "output_type": "execute_result"
    }
   ],
   "source": [
    "[\n",
    "  {\"role\": \"system\",    \"content\": \"You are a knowledgeable assistant.\"},\n",
    "  {\"role\": \"user\",      \"content\": \"Can you tell me about neural networks?\"},\n",
    "  {\"role\": \"assistant\", \"content\": \"Neural networks are a series of algorithms that mimic \\\n",
    "                                    the operations of a human brain to recognize relationships in a set of data.\"}\n",
    "]\n"
   ]
  },
  {
   "cell_type": "code",
   "execution_count": 52,
   "id": "52683125-fdee-4db1-80a3-956eeed7732d",
   "metadata": {},
   "outputs": [],
   "source": [
    "completion = client.chat.completions.create (\n",
    "  model=\"gpt-3.5-turbo\",\n",
    "  messages=[\n",
    "    {\"role\": \"system\", \"content\": \"You are a poetic assistant, skilled in explaining complex programming concepts \\\n",
    "                                   with creative flair.\"},\n",
    "    {\"role\": \"user\",   \"content\": \"Compose a poem that explains the concept of recursion in programming, \\\n",
    "                                   in max 50 words\"}\n",
    "  ]\n",
    ")"
   ]
  },
  {
   "cell_type": "code",
   "execution_count": 53,
   "id": "0c1a4959-018a-4fb1-bd2d-3baf9648b9ac",
   "metadata": {},
   "outputs": [
    {
     "data": {
      "text/plain": [
       "ChatCompletion(id='chatcmpl-AGgaI2Yr7OOBWN4gm4Pc0Q2vX9RYv', choices=[Choice(finish_reason='stop', index=0, logprobs=None, message=ChatCompletionMessage(content=\"In the web of code, recursion thrives,\\nA function calls itself to survive.\\nLike a mirror reflecting endless views,\\nIt loops endlessly, a cycle it cues.\\nA dance of patterns, elegant and grand,\\nIn programming's realm, recursion takes its stand.\", refusal=None, role='assistant', function_call=None, tool_calls=None))], created=1728540306, model='gpt-3.5-turbo-0125', object='chat.completion', service_tier=None, system_fingerprint=None, usage=CompletionUsage(completion_tokens=52, prompt_tokens=46, total_tokens=98, completion_tokens_details=CompletionTokensDetails(reasoning_tokens=0), prompt_tokens_details={'cached_tokens': 0}))"
      ]
     },
     "execution_count": 53,
     "metadata": {},
     "output_type": "execute_result"
    }
   ],
   "source": [
    "completion"
   ]
  },
  {
   "cell_type": "code",
   "execution_count": 54,
   "id": "779c4da8-1f09-4b42-b7e9-f60ccc610169",
   "metadata": {},
   "outputs": [],
   "source": [
    "def show_result(response):\n",
    "    print(response.choices[0].message.content)\n",
    "    return response.choices[0].message.content"
   ]
  },
  {
   "cell_type": "code",
   "execution_count": 55,
   "id": "17555b95-8d52-4610-9a03-0ec7acabc54f",
   "metadata": {},
   "outputs": [
    {
     "name": "stdout",
     "output_type": "stream",
     "text": [
      "In the web of code, recursion thrives,\n",
      "A function calls itself to survive.\n",
      "Like a mirror reflecting endless views,\n",
      "It loops endlessly, a cycle it cues.\n",
      "A dance of patterns, elegant and grand,\n",
      "In programming's realm, recursion takes its stand.\n"
     ]
    }
   ],
   "source": [
    "res= show_result(completion)"
   ]
  },
  {
   "cell_type": "code",
   "execution_count": 56,
   "id": "be2cf397-ad23-48cf-b804-d8332d649ce6",
   "metadata": {},
   "outputs": [
    {
     "data": {
      "text/plain": [
       "{'id': 'chatcmpl-AGgaI2Yr7OOBWN4gm4Pc0Q2vX9RYv',\n",
       " 'choices': [Choice(finish_reason='stop', index=0, logprobs=None, message=ChatCompletionMessage(content=\"In the web of code, recursion thrives,\\nA function calls itself to survive.\\nLike a mirror reflecting endless views,\\nIt loops endlessly, a cycle it cues.\\nA dance of patterns, elegant and grand,\\nIn programming's realm, recursion takes its stand.\", refusal=None, role='assistant', function_call=None, tool_calls=None))],\n",
       " 'created': 1728540306,\n",
       " 'model': 'gpt-3.5-turbo-0125',\n",
       " 'object': 'chat.completion',\n",
       " 'service_tier': None,\n",
       " 'system_fingerprint': None,\n",
       " 'usage': CompletionUsage(completion_tokens=52, prompt_tokens=46, total_tokens=98, completion_tokens_details=CompletionTokensDetails(reasoning_tokens=0), prompt_tokens_details={'cached_tokens': 0})}"
      ]
     },
     "execution_count": 56,
     "metadata": {},
     "output_type": "execute_result"
    }
   ],
   "source": [
    "dict(completion)"
   ]
  },
  {
   "cell_type": "markdown",
   "id": "cf532dc5-fb6f-400d-86be-91f75d4b6984",
   "metadata": {},
   "source": [
    "#### Deciphering the completion response object"
   ]
  },
  {
   "cell_type": "code",
   "execution_count": 57,
   "id": "8c149d60-f0dc-4375-9e29-ba043a1ee21d",
   "metadata": {},
   "outputs": [],
   "source": [
    "import json\n",
    "from pprint import pprint"
   ]
  },
  {
   "cell_type": "code",
   "execution_count": 58,
   "id": "d87faff0-35ff-4c26-9799-50d1ce3b2513",
   "metadata": {},
   "outputs": [
    {
     "name": "stdout",
     "output_type": "stream",
     "text": [
      "{'choices': [{'finish_reason': 'length',\n",
      "              'index': 0,\n",
      "              'logprobs': None,\n",
      "              'message': {'content': 'The key parameters for the Chat '\n",
      "                                     'Completion Endpoint typically include:\\n'\n",
      "                                     '\\n'\n",
      "                                     '1. Conversation ID: A unique identifier '\n",
      "                                     'for the conversation that the user is '\n",
      "                                     'attempting to complete.\\n'\n",
      "                                     '\\n'\n",
      "                                     '2. User ID: The ID of the user who is '\n",
      "                                     'completing the chat.\\n'\n",
      "                                     '\\n'\n",
      "                                     '3. Completion Status',\n",
      "                          'refusal': None,\n",
      "                          'role': 'assistant'}}],\n",
      " 'created': 1728540305,\n",
      " 'id': 'chatcmpl-AGgaH97cy7YNWO4VtUOS1UH5bIt38',\n",
      " 'model': 'gpt-3.5-turbo-0125',\n",
      " 'object': 'chat.completion',\n",
      " 'system_fingerprint': None,\n",
      " 'usage': {'completion_tokens': 50,\n",
      "           'completion_tokens_details': {'reasoning_tokens': 0},\n",
      "           'prompt_tokens': 19,\n",
      "           'prompt_tokens_details': {'cached_tokens': 0},\n",
      "           'total_tokens': 69}}\n"
     ]
    }
   ],
   "source": [
    "# Pretty print the response using pprint\n",
    "pprint(response.to_dict())"
   ]
  },
  {
   "cell_type": "code",
   "execution_count": 59,
   "id": "9ae8b8f5-8144-429a-8f9a-8fdc62521c3d",
   "metadata": {},
   "outputs": [
    {
     "name": "stdout",
     "output_type": "stream",
     "text": [
      "{\n",
      "    \"id\": \"chatcmpl-AGgaH97cy7YNWO4VtUOS1UH5bIt38\",\n",
      "    \"choices\": [\n",
      "        {\n",
      "            \"finish_reason\": \"length\",\n",
      "            \"index\": 0,\n",
      "            \"logprobs\": null,\n",
      "            \"message\": {\n",
      "                \"content\": \"The key parameters for the Chat Completion Endpoint typically include:\\n\\n1. Conversation ID: A unique identifier for the conversation that the user is attempting to complete.\\n\\n2. User ID: The ID of the user who is completing the chat.\\n\\n3. Completion Status\",\n",
      "                \"refusal\": null,\n",
      "                \"role\": \"assistant\"\n",
      "            }\n",
      "        }\n",
      "    ],\n",
      "    \"created\": 1728540305,\n",
      "    \"model\": \"gpt-3.5-turbo-0125\",\n",
      "    \"object\": \"chat.completion\",\n",
      "    \"system_fingerprint\": null,\n",
      "    \"usage\": {\n",
      "        \"completion_tokens\": 50,\n",
      "        \"prompt_tokens\": 19,\n",
      "        \"total_tokens\": 69,\n",
      "        \"completion_tokens_details\": {\n",
      "            \"reasoning_tokens\": 0\n",
      "        },\n",
      "        \"prompt_tokens_details\": {\n",
      "            \"cached_tokens\": 0\n",
      "        }\n",
      "    }\n",
      "}\n"
     ]
    }
   ],
   "source": [
    "# Serialize to JSON and print\n",
    "json_output = json.dumps(response.to_dict(), indent=4)\n",
    "print(json_output)"
   ]
  },
  {
   "cell_type": "markdown",
   "id": "4dcf7ecb-accb-4b12-a408-9dcdfdb792cb",
   "metadata": {},
   "source": [
    "#### Attributes of ChatCompletion\n",
    "\n",
    "| Attribute          | Description                                                                                  |\n",
    "|--------------------|----------------------------------------------------------------------------------------------|\n",
    "| **id**             | A unique identifier for the completion request (e.g., `'chatcmpl-ABc5tNfn75ylhDfYoCrEBNlqk6xqO'`). |\n",
    "| **choices**        | A list of `Choice` objects representing the different responses generated by the model. In this case, there is one choice. |\n",
    "| **created**        | A timestamp indicating when the completion was created (e.g., `1727331405`).               |\n",
    "| **model**          | The model used to generate the completion (e.g., `'gpt-3.5-turbo-0125'`).                   |\n",
    "| **object**         | The type of object, which indicates it's a `chat.completion`.                               |\n",
    "| **usage**          | An object that details the token usage for the request and response, including:            |\n",
    "|                    | - **completion_tokens**: Number of tokens used in the completion (e.g., `45`).              |\n",
    "|                    | - **prompt_tokens**: Number of tokens used in the input prompt (e.g., `46`).               |\n",
    "|                    | - **total_tokens**: Total number of tokens used (e.g., `91`).                              |\n"
   ]
  },
  {
   "cell_type": "markdown",
   "id": "432eee6b-905b-4e23-9065-861d70cf9a5d",
   "metadata": {},
   "source": [
    "#### Exercise - 01 \n",
    "\n",
    "- (extract pieces of info from the completion response)"
   ]
  },
  {
   "cell_type": "code",
   "execution_count": 60,
   "id": "a2673dfd-9fc1-4dbf-a710-f83d59ba73a8",
   "metadata": {},
   "outputs": [],
   "source": [
    "response = client.chat.completions.create(\n",
    "    model=\"gpt-3.5-turbo\",\n",
    "    messages=[\n",
    "        {\"role\": \"system\", \"content\": \"You are a helpful assistant.\"},\n",
    "        {\"role\": \"user\",   \"content\": \"Who won the world series in 2020?\"},\n",
    "    ]\n",
    ")"
   ]
  },
  {
   "cell_type": "code",
   "execution_count": 61,
   "id": "55f7d815-be2e-47b6-9112-ce945a9c848f",
   "metadata": {},
   "outputs": [
    {
     "name": "stdout",
     "output_type": "stream",
     "text": [
      "The Los Angeles Dodgers won the 2020 World Series.\n"
     ]
    }
   ],
   "source": [
    "res = show_result(response)"
   ]
  },
  {
   "cell_type": "markdown",
   "id": "0e188923-100c-4594-aede-d3f76368f592",
   "metadata": {},
   "source": [
    "Qs : Extract the model name from the response object."
   ]
  },
  {
   "cell_type": "code",
   "execution_count": 62,
   "id": "5c2fb670-5ea4-46dc-82dc-a332ebda7c99",
   "metadata": {},
   "outputs": [
    {
     "name": "stdout",
     "output_type": "stream",
     "text": [
      "Model used: gpt-3.5-turbo-0125\n"
     ]
    }
   ],
   "source": [
    "# Expected solution\n",
    "model_name = response.to_dict()['model']\n",
    "print(\"Model used:\", model_name)"
   ]
  },
  {
   "cell_type": "markdown",
   "id": "aa788b65-6296-4a70-be9c-b9fba466acaa",
   "metadata": {},
   "source": [
    "Qs : Extract the content of the assistant’s reply from the response object."
   ]
  },
  {
   "cell_type": "code",
   "execution_count": 63,
   "id": "29ac97c0-8875-466b-9a6f-c6f045b0bd90",
   "metadata": {},
   "outputs": [
    {
     "name": "stdout",
     "output_type": "stream",
     "text": [
      "Assistant's reply: The Los Angeles Dodgers won the 2020 World Series.\n"
     ]
    }
   ],
   "source": [
    "# Expected solution\n",
    "assistant_reply = response.to_dict()['choices'][0]['message']['content']\n",
    "print(\"Assistant's reply:\", assistant_reply)"
   ]
  },
  {
   "cell_type": "code",
   "execution_count": 64,
   "id": "061c7cf4-7938-476c-815f-4cfd57381079",
   "metadata": {},
   "outputs": [],
   "source": [
    "response = client.chat.completions.create(\n",
    "    model=\"gpt-4o-mini\",\n",
    "    messages=[\n",
    "        {\"role\": \"system\", \"content\": \"You are a helpful assistant.\"},\n",
    "        {\"role\": \"user\",   \"content\": \"Who won the world series in 2020, 2021, 2022, 2023 ?\"},\n",
    "    ]\n",
    ")"
   ]
  },
  {
   "cell_type": "markdown",
   "id": "e6f0d274-d918-4903-bb7d-102bf14af1d8",
   "metadata": {},
   "source": [
    "Qs : Create a dictionary of World Series winners by year from the assistant’s reply."
   ]
  },
  {
   "cell_type": "code",
   "execution_count": 66,
   "id": "45179245-5a72-46f9-839a-d860c2e56b71",
   "metadata": {},
   "outputs": [
    {
     "name": "stdout",
     "output_type": "stream",
     "text": [
      "The winners of the World Series for the years you mentioned are as follows:\n",
      "\n",
      "- **2020**: Los Angeles Dodgers\n",
      "- **2021**: Atlanta Braves\n",
      "- **2022**: Houston Astros\n",
      "- **2023**: Texas Rangers\n",
      "\n",
      "If you need more information about any of these series, feel free to ask!\n"
     ]
    }
   ],
   "source": [
    "# Example solution\n",
    "winners_by_year = response.to_dict()['choices'][0]['message']['content']\n",
    "print(winners_by_year)"
   ]
  },
  {
   "cell_type": "code",
   "execution_count": 67,
   "id": "aeb31d4a-c9f9-4e7e-b193-2d26180c3b27",
   "metadata": {},
   "outputs": [],
   "source": [
    "response = client.chat.completions.create(\n",
    "    model=\"gpt-4o-mini\",\n",
    "    messages=[\n",
    "        {\"role\": \"system\", \"content\": \"You are a helpful assistant.\"},\n",
    "        {\"role\": \"user\",   \"content\": \"Who won the world series in 2020, 2021, 2022, 2023 ? \\\n",
    "                                       Provide the answer in a dictionary format as below \\\n",
    "                                       year : winner name \\\n",
    "                                       \"},\n",
    "    ]\n",
    ")"
   ]
  },
  {
   "cell_type": "code",
   "execution_count": 68,
   "id": "4c7858bb-bd94-4a84-9134-fb15b6e0f92e",
   "metadata": {},
   "outputs": [
    {
     "name": "stdout",
     "output_type": "stream",
     "text": [
      "Here is the information you requested in dictionary format:\n",
      "\n",
      "```python\n",
      "{\n",
      "    2020: \"Los Angeles Dodgers\",\n",
      "    2021: \"Atlanta Braves\",\n",
      "    2022: \"Houston Astros\",\n",
      "    2023: \"Texas Rangers\"\n",
      "}\n",
      "```\n"
     ]
    }
   ],
   "source": [
    "# Example solution\n",
    "winners_by_year = response.to_dict()['choices'][0]['message']['content']\n",
    "print(winners_by_year)"
   ]
  },
  {
   "cell_type": "code",
   "execution_count": 78,
   "id": "e5f87028-e8f1-405a-a492-26f6da055fca",
   "metadata": {},
   "outputs": [],
   "source": [
    "response = client.chat.completions.create(\n",
    "    model=\"gpt-4o-mini\",\n",
    "    messages=[\n",
    "        {\"role\": \"system\", \"content\": \"You are a helpful assistant.\"},\n",
    "        {\"role\": \"user\",   \"content\": '''Who won the world series in 2020, 2021, 2022, 2023 ? \\\n",
    "                                       Provide the answer in a dictionary format as below \\\n",
    "                                       {\n",
    "                                           year : winner name \n",
    "                                       }\n",
    "                                       without any extra text\n",
    "                                       \\\n",
    "                                       '''},\n",
    "    ]\n",
    ")"
   ]
  },
  {
   "cell_type": "markdown",
   "id": "38eecf92-1f19-43b6-aadb-c344028bf264",
   "metadata": {},
   "source": [
    "Qs : load the output in dataframe format"
   ]
  },
  {
   "cell_type": "markdown",
   "id": "1fa04d36-8754-444a-b50a-176e4dd2c7ee",
   "metadata": {},
   "source": [
    "| Year | Winner                |\n",
    "|------|-----------------------|\n",
    "| 2020 | Los Angeles Dodgers   |\n",
    "| 2021 | Atlanta Braves        |\n",
    "| 2022 | Houston Astros        |\n",
    "| 2023 | Texas Rangers         |"
   ]
  },
  {
   "cell_type": "code",
   "execution_count": 79,
   "id": "3c96c40b-bc3e-4a0c-97ea-b311b944b4f5",
   "metadata": {},
   "outputs": [
    {
     "data": {
      "text/plain": [
       "'{\\n    2020: \"Los Angeles Dodgers\",\\n    2021: \"Atlanta Braves\",\\n    2022: \"Houston Astros\",\\n    2023: \"Texas Rangers\"\\n}'"
      ]
     },
     "execution_count": 79,
     "metadata": {},
     "output_type": "execute_result"
    }
   ],
   "source": [
    "# Example solution\n",
    "winners_by_year = response.to_dict()['choices'][0]['message']['content']\n",
    "winners_by_year"
   ]
  },
  {
   "cell_type": "code",
   "execution_count": 80,
   "id": "b4aa27f8-88ab-4fd0-b015-79eac057a5ba",
   "metadata": {},
   "outputs": [],
   "source": [
    "import pandas as pd\n",
    "import ast"
   ]
  },
  {
   "cell_type": "code",
   "execution_count": 81,
   "id": "0503b801-6cb7-4bfd-a373-c0da937836f3",
   "metadata": {},
   "outputs": [],
   "source": [
    "# Convert the string representation of the dictionary to an actual dictionary\n",
    "world_series_dict = ast.literal_eval(winners_by_year)"
   ]
  },
  {
   "cell_type": "code",
   "execution_count": 82,
   "id": "5d8ab4fa-f1c9-4558-9e02-76a3fa12e2ed",
   "metadata": {},
   "outputs": [
    {
     "data": {
      "text/plain": [
       "['Los Angeles Dodgers', 'Atlanta Braves', 'Houston Astros', 'Texas Rangers']"
      ]
     },
     "execution_count": 82,
     "metadata": {},
     "output_type": "execute_result"
    }
   ],
   "source": [
    "# Extract winners\n",
    "winners = list(world_series_dict.values())\n",
    "winners"
   ]
  },
  {
   "cell_type": "markdown",
   "id": "748e3fc9-5911-46c3-9cd2-ebc7da47ff28",
   "metadata": {},
   "source": [
    "#### Finish Reason Summary\n",
    "\n",
    "| Finish Reason      | Description                                                                                                            | Example                             |\n",
    "|--------------------|------------------------------------------------------------------------------------------------------------------------|-------------------------------------|\n",
    "| \"stop\"             | The model completed its response naturally, reaching a logical stopping point like the end of a sentence or thought.  | \"finish_reason\": \"stop\"            |\n",
    "| \"length\"           | The response was cut off because the model reached the maximum number of tokens allowed in the API request.            | \"finish_reason\": \"length\"          |\n",
    "| \"content_filter\"   | The response was stopped because it triggered the safety filter, likely due to generating inappropriate or unsafe content. | \"finish_reason\": \"content_filter\"  |\n",
    "| null               | The completion ended for an unknown or unspecified reason, or there was no particular reason captured (rare, edge case scenario). | \"finish_reason\": null               |\n"
   ]
  },
  {
   "cell_type": "markdown",
   "id": "103fa8aa-5b6c-4e91-8b36-e3dab44724fd",
   "metadata": {},
   "source": [
    "## Useful applications of messaging structure\n",
    "------------------------------------"
   ]
  },
  {
   "cell_type": "code",
   "execution_count": 83,
   "id": "cd2bec6e-4e22-486c-a40f-6277dc7fff7c",
   "metadata": {},
   "outputs": [],
   "source": [
    "# Initialize the conversation with a system message\n",
    "conversation = [\n",
    "    {\"role\": \"system\", \"content\": \"You are a helpful assistant.\"}\n",
    "]"
   ]
  },
  {
   "cell_type": "code",
   "execution_count": 84,
   "id": "010d2c65-eac5-41cb-b383-a32eca2cabe8",
   "metadata": {},
   "outputs": [],
   "source": [
    "def send_message(conversation):\n",
    "    # Send the conversation to the OpenAI API and get a response\n",
    "    response = client.chat.completions.create(\n",
    "        model    = \"gpt-3.5-turbo\",\n",
    "        messages = conversation\n",
    "    )\n",
    "    return response.to_dict()['choices'][0]['message']['content']"
   ]
  },
  {
   "cell_type": "code",
   "execution_count": 85,
   "id": "0d45bfa2-766f-40a8-9373-db9d1b70316c",
   "metadata": {},
   "outputs": [],
   "source": [
    "# Add user messages incrementally\n",
    "user_inputs = [\n",
    "    \"What is the capital of France?\",\n",
    "    \"Can you tell me more about its culture?\",\n",
    "    \"What are some famous landmarks there?\",\n",
    "    \"How is the cuisine different from other countries?\",\n",
    "    \"What is the best time of year to visit?\"\n",
    "]"
   ]
  },
  {
   "cell_type": "code",
   "execution_count": 86,
   "id": "8b3b9fff-5bc8-4add-9f50-e3ea52a8f23d",
   "metadata": {},
   "outputs": [
    {
     "name": "stdout",
     "output_type": "stream",
     "text": [
      "User: What is the capital of France?\n",
      "Assistant: The capital of France is Paris.\n",
      "--------------------------------------------------\n",
      "User: Can you tell me more about its culture?\n",
      "Assistant: Certainly! French culture is known for its rich history, art, fashion, cuisine, and architecture. France is famous for its world-renowned museums such as the Louvre, its iconic landmarks like the Eiffel Tower, and its beautiful countryside dotted with charming villages and vineyards.\n",
      "\n",
      "French cuisine is celebrated globally for its gourmet dishes, pastries, cheeses, and wines. The French take great pride in their culinary traditions and dining experiences.\n",
      "\n",
      "In terms of art and literature, France has been a center of creativity for centuries, producing influential artists like Claude Monet and writers like Victor Hugo and Albert Camus. French cinema, fashion, and music are also significant cultural exports that have made a lasting impact on the global stage.\n",
      "\n",
      "Overall, French culture is characterized by a strong emphasis on artistry, elegance, and a deep appreciation for the finer things in life.\n",
      "--------------------------------------------------\n",
      "User: What are some famous landmarks there?\n",
      "Assistant: Some of the most famous landmarks in France include:\n",
      "\n",
      "1. Eiffel Tower (Tour Eiffel) - A symbol of Paris and one of the most recognizable landmarks in the world.\n",
      "2. Louvre Museum (Musée du Louvre) - One of the world's largest and most visited museums, housing iconic artworks like the Mona Lisa.\n",
      "3. Notre-Dame Cathedral (Cathédrale Notre-Dame de Paris) - A stunning example of French Gothic architecture, located on the Île de la Cité.\n",
      "4. Palace of Versailles (Château de Versailles) - A grand royal palace with magnificent gardens, located just outside of Paris.\n",
      "5. Mont Saint-Michel - A picturesque island commune topped by a medieval abbey, situated off the coast of Normandy.\n",
      "6. Arc de Triomphe - A monumental arch honoring those who fought and died for France, located at the top of the Champs-Élysées.\n",
      "7. The Palace of the Popes (Palais des Papes) - A historic palace in Avignon, once the residence of the Popes during the 14th century.\n",
      "8. Sainte-Chapelle - A stunning medieval chapel known for its intricate stained glass windows, located on the Île de la Cité in Paris.\n",
      "\n",
      "These are just a few of the many iconic landmarks that make France a popular destination for tourists from around the world.\n",
      "--------------------------------------------------\n",
      "User: How is the cuisine different from other countries?\n",
      "Assistant: French cuisine is often regarded as one of the finest and most diverse in the world, with a strong emphasis on high-quality ingredients, intricate preparation techniques, and rich flavors. Here are some key aspects that set French cuisine apart from others:\n",
      "\n",
      "1. Emphasis on fresh, seasonal ingredients: French cooking focuses on using the freshest and best-quality ingredients available, often sourced locally and in season.\n",
      "\n",
      "2. Culinary techniques: French chefs are known for their mastery of classic culinary techniques such as sautéing, braising, roasting, and baking. French cuisine is also famous for its sauces, with techniques like reduction, emulsification, and beurre blanc common in French cooking.\n",
      "\n",
      "3. Regional diversity: France is divided into different regions, each with its own unique culinary traditions and specialties. From the buttery dishes of Normandy to the Mediterranean influences of Provence, French cuisine offers a wide range of flavors and styles.\n",
      "\n",
      "4. Bread and pastries: France is renowned for its delicious bread, croissants, pastries, and desserts. French bakeries (boulangeries) are an integral part of daily life in France, offering an array of tempting treats.\n",
      "\n",
      "5. Wine and cheese: France is famous for its wine and cheese, with a long history of wine production and a wide variety of cheeses to choose from. The French take great pride in their culinary heritage and often pair wine and cheese to create harmonious flavor combinations.\n",
      "\n",
      "Overall, French cuisine is characterized by its attention to detail, respect for tradition, and passion for good food and wine. It is considered a cornerstone of culinary excellence and has had a significant influence on gastronomy worldwide.\n",
      "--------------------------------------------------\n",
      "User: What is the best time of year to visit?\n",
      "Assistant: The best time to visit France largely depends on your preferences and the experiences you are seeking. Here are some considerations for each season:\n",
      "\n",
      "1. Spring (April to June): This is a popular time to visit France, especially for enjoying the blooming flowers, pleasant weather, and outdoor activities. Spring festivals, such as the Cannes Film Festival and the French Open, also take place during this time.\n",
      "\n",
      "2. Summer (July to August): Summer is peak tourist season in France, with warm weather perfect for exploring outdoor attractions, beaches, and gardens. However, popular destinations can be crowded, and prices may be higher during this time.\n",
      "\n",
      "3. Fall (September to November): Fall is a great time to visit France, with mild weather, fewer crowds, and the beautiful changing colors of the foliage. Wine enthusiasts can also enjoy the grape harvest season in regions like Bordeaux and Burgundy.\n",
      "\n",
      "4. Winter (December to February): Winter in France offers a different kind of charm, with festive Christmas markets, cozy cafes, and the opportunity to visit ski resorts in the French Alps. Cities like Paris are less crowded in the winter months.\n",
      "\n",
      "Ultimately, the best time to visit France depends on your interests and what you hope to experience during your trip. Whether you prefer warm weather for outdoor activities, cultural events, or winter sports, France has something to offer year-round.\n",
      "--------------------------------------------------\n"
     ]
    }
   ],
   "source": [
    "# Iterate through user inputs\n",
    "for user_input in user_inputs:\n",
    "    conversation.append({\"role\": \"user\", \"content\": user_input})\n",
    "    \n",
    "    # Get assistant's response\n",
    "    assistant_response = send_message(conversation)\n",
    "    conversation.append({\"role\": \"assistant\", \"content\": assistant_response})\n",
    "    \n",
    "    # Print the latest response\n",
    "    print(\"User:\", user_input)\n",
    "    print(\"Assistant:\", assistant_response)\n",
    "    print(\"-\" * 50)  # Separator for clarity"
   ]
  },
  {
   "cell_type": "code",
   "execution_count": 87,
   "id": "6d1f29b3-d199-4751-a04f-b9cdba92d401",
   "metadata": {},
   "outputs": [
    {
     "data": {
      "text/plain": [
       "[{'role': 'system', 'content': 'You are a helpful assistant.'},\n",
       " {'role': 'user', 'content': 'What is the capital of France?'},\n",
       " {'role': 'assistant', 'content': 'The capital of France is Paris.'},\n",
       " {'role': 'user', 'content': 'Can you tell me more about its culture?'},\n",
       " {'role': 'assistant',\n",
       "  'content': 'Certainly! French culture is known for its rich history, art, fashion, cuisine, and architecture. France is famous for its world-renowned museums such as the Louvre, its iconic landmarks like the Eiffel Tower, and its beautiful countryside dotted with charming villages and vineyards.\\n\\nFrench cuisine is celebrated globally for its gourmet dishes, pastries, cheeses, and wines. The French take great pride in their culinary traditions and dining experiences.\\n\\nIn terms of art and literature, France has been a center of creativity for centuries, producing influential artists like Claude Monet and writers like Victor Hugo and Albert Camus. French cinema, fashion, and music are also significant cultural exports that have made a lasting impact on the global stage.\\n\\nOverall, French culture is characterized by a strong emphasis on artistry, elegance, and a deep appreciation for the finer things in life.'},\n",
       " {'role': 'user', 'content': 'What are some famous landmarks there?'},\n",
       " {'role': 'assistant',\n",
       "  'content': \"Some of the most famous landmarks in France include:\\n\\n1. Eiffel Tower (Tour Eiffel) - A symbol of Paris and one of the most recognizable landmarks in the world.\\n2. Louvre Museum (Musée du Louvre) - One of the world's largest and most visited museums, housing iconic artworks like the Mona Lisa.\\n3. Notre-Dame Cathedral (Cathédrale Notre-Dame de Paris) - A stunning example of French Gothic architecture, located on the Île de la Cité.\\n4. Palace of Versailles (Château de Versailles) - A grand royal palace with magnificent gardens, located just outside of Paris.\\n5. Mont Saint-Michel - A picturesque island commune topped by a medieval abbey, situated off the coast of Normandy.\\n6. Arc de Triomphe - A monumental arch honoring those who fought and died for France, located at the top of the Champs-Élysées.\\n7. The Palace of the Popes (Palais des Papes) - A historic palace in Avignon, once the residence of the Popes during the 14th century.\\n8. Sainte-Chapelle - A stunning medieval chapel known for its intricate stained glass windows, located on the Île de la Cité in Paris.\\n\\nThese are just a few of the many iconic landmarks that make France a popular destination for tourists from around the world.\"},\n",
       " {'role': 'user',\n",
       "  'content': 'How is the cuisine different from other countries?'},\n",
       " {'role': 'assistant',\n",
       "  'content': 'French cuisine is often regarded as one of the finest and most diverse in the world, with a strong emphasis on high-quality ingredients, intricate preparation techniques, and rich flavors. Here are some key aspects that set French cuisine apart from others:\\n\\n1. Emphasis on fresh, seasonal ingredients: French cooking focuses on using the freshest and best-quality ingredients available, often sourced locally and in season.\\n\\n2. Culinary techniques: French chefs are known for their mastery of classic culinary techniques such as sautéing, braising, roasting, and baking. French cuisine is also famous for its sauces, with techniques like reduction, emulsification, and beurre blanc common in French cooking.\\n\\n3. Regional diversity: France is divided into different regions, each with its own unique culinary traditions and specialties. From the buttery dishes of Normandy to the Mediterranean influences of Provence, French cuisine offers a wide range of flavors and styles.\\n\\n4. Bread and pastries: France is renowned for its delicious bread, croissants, pastries, and desserts. French bakeries (boulangeries) are an integral part of daily life in France, offering an array of tempting treats.\\n\\n5. Wine and cheese: France is famous for its wine and cheese, with a long history of wine production and a wide variety of cheeses to choose from. The French take great pride in their culinary heritage and often pair wine and cheese to create harmonious flavor combinations.\\n\\nOverall, French cuisine is characterized by its attention to detail, respect for tradition, and passion for good food and wine. It is considered a cornerstone of culinary excellence and has had a significant influence on gastronomy worldwide.'},\n",
       " {'role': 'user', 'content': 'What is the best time of year to visit?'},\n",
       " {'role': 'assistant',\n",
       "  'content': 'The best time to visit France largely depends on your preferences and the experiences you are seeking. Here are some considerations for each season:\\n\\n1. Spring (April to June): This is a popular time to visit France, especially for enjoying the blooming flowers, pleasant weather, and outdoor activities. Spring festivals, such as the Cannes Film Festival and the French Open, also take place during this time.\\n\\n2. Summer (July to August): Summer is peak tourist season in France, with warm weather perfect for exploring outdoor attractions, beaches, and gardens. However, popular destinations can be crowded, and prices may be higher during this time.\\n\\n3. Fall (September to November): Fall is a great time to visit France, with mild weather, fewer crowds, and the beautiful changing colors of the foliage. Wine enthusiasts can also enjoy the grape harvest season in regions like Bordeaux and Burgundy.\\n\\n4. Winter (December to February): Winter in France offers a different kind of charm, with festive Christmas markets, cozy cafes, and the opportunity to visit ski resorts in the French Alps. Cities like Paris are less crowded in the winter months.\\n\\nUltimately, the best time to visit France depends on your interests and what you hope to experience during your trip. Whether you prefer warm weather for outdoor activities, cultural events, or winter sports, France has something to offer year-round.'}]"
      ]
     },
     "execution_count": 87,
     "metadata": {},
     "output_type": "execute_result"
    }
   ],
   "source": [
    "conversation"
   ]
  },
  {
   "cell_type": "code",
   "execution_count": 88,
   "id": "62c722dd-b49b-4671-9725-72e9800c581f",
   "metadata": {},
   "outputs": [],
   "source": [
    "completion = client.chat.completions.create (\n",
    "  model=\"gpt-3.5-turbo\",\n",
    "  messages=[\n",
    "    {\"role\": \"system\", \"content\": \"You are a poetic assistant, skilled in explaining complex programming concepts with creative flair.\"},\n",
    "    {\"role\": \"user\",   \"content\": \"Compose a poem that explains the \\\n",
    "                                   concept of recursion in programming, \\\n",
    "                                   in max 50 words\"}\n",
    "  ]\n",
    ")"
   ]
  },
  {
   "cell_type": "code",
   "execution_count": 90,
   "id": "e9d1a89b-6188-4371-b3fd-77dabbf0b57c",
   "metadata": {},
   "outputs": [
    {
     "name": "stdout",
     "output_type": "stream",
     "text": [
      "The text \"I love horror movies!\" has a positive sentiment, as the word \"love\" indicates a strong positive emotion towards horror movies.\n"
     ]
    }
   ],
   "source": [
    "text = \"I love horror movies!\"\n",
    "\n",
    "response = client.chat.completions.create(\n",
    "                  model=\"gpt-3.5-turbo\",\n",
    "                  messages=[\n",
    "                    {\"role\": \"system\", \"content\": \"You are a NLP expert\"},\n",
    "                    {\"role\": \"user\",   \"content\": f\"Perform sentiment analysis of given text : {text}\"\n",
    "                    \n",
    "                    }\n",
    "                  ]\n",
    ")\n",
    "\n",
    "sentiment = response.choices[0].message.content.replace(\"\\n\", \" \")\n",
    "print(sentiment)"
   ]
  },
  {
   "cell_type": "code",
   "execution_count": 91,
   "id": "2388c021-ab80-4766-8198-3842fcc62f78",
   "metadata": {},
   "outputs": [
    {
     "name": "stdout",
     "output_type": "stream",
     "text": [
      "Albert Einstein was born in Ulm, in the Kingdom of Württemberg in the German Empire on March 14, 1879.\n"
     ]
    }
   ],
   "source": [
    "context  = \"Albert Einstein was a German-born theoretical physicist who developed the \\\n",
    "theory of relativity.\"\n",
    "\n",
    "question = \"Where was Albert Einstein born?\"\n",
    "\n",
    "response = client.chat.completions.create(\n",
    "                  model=\"gpt-3.5-turbo\",\n",
    "                  messages=[\n",
    "                    {\"role\": \"system\", \"content\": \"You are a NLP expert\"},\n",
    "                    {\"role\": \"user\",   \"content\": f\"Question answering:\\nContext: {context}\\nQuestion: {question}\"\n",
    "                    \n",
    "                    }\n",
    "                  ],\n",
    "                 temperature= 0.001\n",
    ")\n",
    "\n",
    "answer = response.choices[0].message.content.replace(\"\\n\", \" \")\n",
    "print(answer)"
   ]
  },
  {
   "cell_type": "code",
   "execution_count": 92,
   "id": "b33bdafd-d46e-43f5-8e97-15f0d5a5130c",
   "metadata": {},
   "outputs": [
    {
     "name": "stdout",
     "output_type": "stream",
     "text": [
      "Answer: Yes  Explanation: The patient underwent radiation therapy concurrently with chemotherapy for the paraspinal mass, followed by systemic therapy with carboplatin and pemetrexed. This indicates recent past treatment involving radiation therapy.  Confidence Score/label: 9/10\n"
     ]
    }
   ],
   "source": [
    "context = '''positive for TTF 1, and napsin A, \n",
    "suggestive of lung adenocarcinoma. Molecular testing was performed, that did not reveal actionable\n",
    "therapeutically targetable mutations. She underwent chemotherapy and radiation therapy, \n",
    "to this paraspinal mass, administered concurrently with carboplatin and paclitaxel. \n",
    "She was then treated with 4 cycles of systemic therapy with carboplatin, and pemetrexed, and then.'''\n",
    "\n",
    "question = '''\n",
    "\n",
    "Did the patient undergo radiation therapy or any similar therapies in recent past or in the past? \n",
    "\n",
    "Your answer should be either 'Yes' or 'NO' or \"Not sure' ONLY, With a label prefix \"Answer\",\n",
    "Followed by reasoning in 50 words with a label prefix \"Explanation\",\n",
    "followed by confidence score & scale, with a label prefix \"Confidence Score/ label : \"\n",
    "\n",
    "'''\n",
    "\n",
    "response = client.chat.completions.create(\n",
    "                  model=\"gpt-3.5-turbo\",\n",
    "                  messages=[\n",
    "                    {\"role\": \"system\", \"content\": \"You are a NLP expert\"},\n",
    "                    {\"role\": \"user\",   \"content\": f\"Question answering:\\nContext: {context}\\nQuestion: {question}\",\n",
    "                    \n",
    "                    }\n",
    "                  ],\n",
    "                 temperature= 0.001\n",
    ")\n",
    "\n",
    "answer = response.choices[0].message.content.replace(\"\\n\", \" \")\n",
    "print(answer)"
   ]
  },
  {
   "cell_type": "code",
   "execution_count": null,
   "id": "fdf6da23-75dc-430f-992b-ffd63ab18311",
   "metadata": {},
   "outputs": [],
   "source": []
  }
 ],
 "metadata": {
  "kernelspec": {
   "display_name": "Python 3 (ipykernel)",
   "language": "python",
   "name": "python3"
  },
  "language_info": {
   "codemirror_mode": {
    "name": "ipython",
    "version": 3
   },
   "file_extension": ".py",
   "mimetype": "text/x-python",
   "name": "python",
   "nbconvert_exporter": "python",
   "pygments_lexer": "ipython3",
   "version": "3.12.4"
  }
 },
 "nbformat": 4,
 "nbformat_minor": 5
}
