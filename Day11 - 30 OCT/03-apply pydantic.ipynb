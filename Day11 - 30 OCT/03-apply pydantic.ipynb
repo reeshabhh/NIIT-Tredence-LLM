{
 "cells": [
  {
   "cell_type": "markdown",
   "id": "7c527ef0-cd8a-42bc-b66e-d0f71cea1afe",
   "metadata": {},
   "source": [
    "#### Structured output\n",
    "\n",
    "Structured Outputs is only available with gpt-4o-mini , gpt-4o-2024-08-06, and future models."
   ]
  },
  {
   "cell_type": "code",
   "execution_count": 2,
   "id": "c27cf5ca-d70d-41b2-8af2-56285fd490ef",
   "metadata": {},
   "outputs": [],
   "source": [
    "import json, os\n",
    "from textwrap import dedent\n",
    "from openai import OpenAI"
   ]
  },
  {
   "cell_type": "code",
   "execution_count": 6,
   "id": "6a65d275-429d-4df5-8247-e13b92cfbdff",
   "metadata": {},
   "outputs": [],
   "source": [
    "openai_api_key = os.getenv(\"OPENAI_API_KEY\")\n",
    "                           \n",
    "client = OpenAI(\n",
    "    #api_key = openai_api_key\n",
    ")"
   ]
  },
  {
   "cell_type": "code",
   "execution_count": 8,
   "id": "017e3082-66db-4f7d-ae1a-159d8c40aa2d",
   "metadata": {},
   "outputs": [],
   "source": [
    "MODEL = \"gpt-4o-2024-08-06\""
   ]
  },
  {
   "cell_type": "markdown",
   "id": "a0411acd-d02f-42b7-b3d4-81ecf05dd2b4",
   "metadata": {},
   "source": [
    "#### Example 1: Math tutor\n",
    "In this example, we want to build a math tutoring tool that outputs steps to solving a math problem as an array of structured objects.\n",
    "\n",
    "This could be useful in an application where each step needs to be displayed separately, so that the user can progress through the solution at their own pace."
   ]
  },
  {
   "cell_type": "code",
   "execution_count": 11,
   "id": "7d6c5cb3-03d9-4fb9-b793-9acac8e77da0",
   "metadata": {},
   "outputs": [],
   "source": [
    "math_tutor_prompt = '''\n",
    "    You are a helpful math tutor. \n",
    "    You will be provided with a math problem,\n",
    "    and your goal will be to output a step by step solution, along with a final answer.\n",
    "    For each step, just provide the output as an equation. use the explanation field to \n",
    "    detail the reasoning.\n",
    "'''"
   ]
  },
  {
   "cell_type": "markdown",
   "id": "6b344ec1-2804-4c58-b5aa-78e572ed2eb7",
   "metadata": {},
   "source": [
    "- In the new GPT-4 API, `response_format` allows you to specify the format you expect for the model’s output.\n",
    "  \n",
    "- By defining a JSON schema, you can guide the model to generate responses in a structured format, which is particularly useful when working with data that needs to be in a predictable structure—like a step-by-step solution for math problems."
   ]
  },
  {
   "cell_type": "code",
   "execution_count": 17,
   "id": "8f3a1a2b-db53-4c0d-b652-4143a9936172",
   "metadata": {},
   "outputs": [],
   "source": [
    "def get_math_solution(question):\n",
    "    response = client.chat.completions.create(\n",
    "        model    = MODEL,\n",
    "        messages = [\n",
    "            {\n",
    "                \"role\": \"system\", \n",
    "                \"content\": dedent(math_tutor_prompt)\n",
    "            },\n",
    "            {\n",
    "                \"role\": \"user\", \n",
    "                \"content\": question\n",
    "            }\n",
    "        ],\n",
    "        response_format = {\n",
    "            \"type\": \"json_schema\",          # type of response format. For structured responses\n",
    "            \"json_schema\": {                # schema that the model should follow in its response\n",
    "                \"name\": \"math_reasoning\",   # name for the schema\n",
    "                \"schema\": {                 # core structure of the expected JSON response\n",
    "                    \"type\": \"object\",       # data type at the root level\n",
    "                    \"properties\": {         # A dictionary of expected fields in the output\n",
    "                        \"steps\": {          # array of objects\n",
    "                            \"type\": \"array\",\n",
    "                            \"items\": {\n",
    "                                \"type\": \"object\",\n",
    "                                \"properties\": {\n",
    "                                    \"explanation\": {\"type\": \"string\"},    # A string explaining each step\n",
    "                                    \"output\": {\"type\": \"string\"}          # A string containing the output for that step\n",
    "                                },\n",
    "                                \"required\": [\"explanation\", \"output\"],    # Lists the fields that must be present (steps and final_answer).\n",
    "                                \"additionalProperties\": False             # Set to False to prevent extra, unexpected fields\n",
    "                            }\n",
    "                        },\n",
    "                        \"final_answer\": {\"type\": \"string\"}\n",
    "                    },\n",
    "                    \"required\": [\"steps\", \"final_answer\"],                # Lists the fields that must be present (steps and final_answer)\n",
    "                    \"additionalProperties\": False\n",
    "                },\n",
    "                \"strict\": True                                            # response strictly adheres to the schema if set to True \n",
    "            }\n",
    "        }\n",
    "    )\n",
    "    return response.choices[0].message"
   ]
  },
  {
   "cell_type": "code",
   "execution_count": 19,
   "id": "6cb1fdcc-9c97-406a-b427-33fcff2d3fe8",
   "metadata": {},
   "outputs": [
    {
     "name": "stdout",
     "output_type": "stream",
     "text": [
      "{\"steps\":[{\"explanation\":\"Start with the equation provided in the problem:\",\"output\":\"8x + 7 = -23\"},{\"explanation\":\"Subtract 7 from both sides to isolate terms involving x on one side.\",\"output\":\"8x + 7 - 7 = -23 - 7\"},{\"explanation\":\"This simplifies to:\",\"output\":\"8x = -30\"},{\"explanation\":\"To solve for x, divide both sides of the equation by 8.\",\"output\":\"8x / 8 = -30 / 8\"},{\"explanation\":\"This simplifies to:\",\"output\":\"x = -30 / 8\"},{\"explanation\":\"Further simplify the fraction by dividing both the numerator and the denominator by their greatest common divisor, which is 2.\",\"output\":\"x = -15 / 4\"}],\"final_answer\":\"x = -15 / 4\"}\n"
     ]
    }
   ],
   "source": [
    "# Testing with an example question\n",
    "question = \"how can I solve 8x + 7 = -23\"\n",
    "\n",
    "result = get_math_solution(question) \n",
    "\n",
    "print(result.content)"
   ]
  },
  {
   "cell_type": "code",
   "execution_count": 21,
   "id": "1c4af2cb-f4b6-4970-87cb-3d5fbfd1a5c1",
   "metadata": {},
   "outputs": [],
   "source": [
    "import json"
   ]
  },
  {
   "cell_type": "code",
   "execution_count": 23,
   "id": "c13a99bf-35c2-431e-a153-257c4a84ce1b",
   "metadata": {},
   "outputs": [],
   "source": [
    "# Deserialize the JSON string into a Python dictionary\n",
    "data = json.loads(result.content)"
   ]
  },
  {
   "cell_type": "code",
   "execution_count": 25,
   "id": "bf541fbc-9c54-4edf-88b2-6b98c25a3112",
   "metadata": {},
   "outputs": [
    {
     "name": "stdout",
     "output_type": "stream",
     "text": [
      "{\n",
      "    \"steps\": [\n",
      "        {\n",
      "            \"explanation\": \"Start with the equation provided in the problem:\",\n",
      "            \"output\": \"8x + 7 = -23\"\n",
      "        },\n",
      "        {\n",
      "            \"explanation\": \"Subtract 7 from both sides to isolate terms involving x on one side.\",\n",
      "            \"output\": \"8x + 7 - 7 = -23 - 7\"\n",
      "        },\n",
      "        {\n",
      "            \"explanation\": \"This simplifies to:\",\n",
      "            \"output\": \"8x = -30\"\n",
      "        },\n",
      "        {\n",
      "            \"explanation\": \"To solve for x, divide both sides of the equation by 8.\",\n",
      "            \"output\": \"8x / 8 = -30 / 8\"\n",
      "        },\n",
      "        {\n",
      "            \"explanation\": \"This simplifies to:\",\n",
      "            \"output\": \"x = -30 / 8\"\n",
      "        },\n",
      "        {\n",
      "            \"explanation\": \"Further simplify the fraction by dividing both the numerator and the denominator by their greatest common divisor, which is 2.\",\n",
      "            \"output\": \"x = -15 / 4\"\n",
      "        }\n",
      "    ],\n",
      "    \"final_answer\": \"x = -15 / 4\"\n",
      "}\n"
     ]
    }
   ],
   "source": [
    "print(json.dumps(data, indent=4))"
   ]
  },
  {
   "cell_type": "markdown",
   "id": "19e7b8fa-5d9c-4603-bbef-ccd142e45ecf",
   "metadata": {},
   "source": [
    "another example ..."
   ]
  },
  {
   "cell_type": "code",
   "execution_count": 30,
   "id": "e8877700-a3d5-4097-aafc-c6620f95c227",
   "metadata": {},
   "outputs": [],
   "source": [
    "def get_character_profile(character_name):\n",
    "    response = client.chat.completions.create(\n",
    "        model    = MODEL,\n",
    "        messages = [\n",
    "            {\"role\": \"system\", \"content\": \"You are a storytelling assistant.\"},\n",
    "            {\"role\": \"user\", \"content\": f\"Create a profile for a character named {character_name}.\"}\n",
    "        ],\n",
    "        response_format={\n",
    "            \"type\": \"json_schema\",\n",
    "            \"json_schema\": {\n",
    "                \"name\": \"character_profile\",\n",
    "                \"schema\": {\n",
    "                    \"type\": \"object\",\n",
    "                    \"properties\": {\n",
    "                        \"name\": {\"type\": \"string\"},\n",
    "                        \"age\": {\"type\": \"integer\"},\n",
    "                        \"description\": {\"type\": \"string\"}\n",
    "                    },\n",
    "                    \"required\": [\"name\", \"age\", \"description\"],\n",
    "                    \"additionalProperties\": False\n",
    "                },\n",
    "                \"strict\": True\n",
    "            }\n",
    "        }\n",
    "    )\n",
    "\n",
    "    # Extract and return the structured response\n",
    "    profile = response.choices[0].message\n",
    "    return profile"
   ]
  },
  {
   "cell_type": "code",
   "execution_count": 32,
   "id": "8e85cc56-4414-4e25-8c04-3fafb93a9754",
   "metadata": {},
   "outputs": [
    {
     "name": "stdout",
     "output_type": "stream",
     "text": [
      "ChatCompletionMessage(content='{\"name\":\"Gabbar Singh\",\"age\":42,\"description\":\"Gabbar Singh is a legendary bandit feared across the rugged terrains of Northern India. He is known for his ruthless and cunning nature, commanding a gang of loyal outlaws who execute his bidding with unwavering obedience. Gabbar is a towering figure, both in stature and in reputation; his very name sends shivers down the spines of villagers. Despite his fearsome exterior, Gabbar possesses a sharp intellect, allowing him to outmaneuver his enemies and evade capture time and again.\\\\n\\\\nHe wears a rugged, weather-beaten jacket and a broad-brimmed hat, with a perpetual shadow of a beard lining his jaw, giving him an intimidating appearance. His eyes, dark and piercing, seem to hold the stories of countless confrontations and victories. He speaks with a gravelly voice that demands attention and respect.\\\\n\\\\nGabbar\\'s past is as shadowy as his nickname suggests; rumors circulate that he was once a soldier who turned against the establishment that wronged him. Now, he is driven by a desire for power and revenge against those who would challenge his authority. His motivations are complex, blending a desire for wealth with a twisted sense of justice. Despite his brutal methods, Gabbar follows a personal code that occasionally shows glimpses of honor and unpredictable moments of mercy.\"}', refusal=None, role='assistant', audio=None, function_call=None, tool_calls=None)\n"
     ]
    }
   ],
   "source": [
    "# Example usage\n",
    "character_profile = get_character_profile(\"Gabbar Singh\")\n",
    "print(character_profile)"
   ]
  },
  {
   "cell_type": "code",
   "execution_count": 34,
   "id": "477b5c7f-b545-47b2-9c20-8c775f7fb6af",
   "metadata": {},
   "outputs": [
    {
     "name": "stdout",
     "output_type": "stream",
     "text": [
      "{\n",
      "    \"name\": \"Gabbar Singh\",\n",
      "    \"age\": 42,\n",
      "    \"description\": \"Gabbar Singh is a legendary bandit feared across the rugged terrains of Northern India. He is known for his ruthless and cunning nature, commanding a gang of loyal outlaws who execute his bidding with unwavering obedience. Gabbar is a towering figure, both in stature and in reputation; his very name sends shivers down the spines of villagers. Despite his fearsome exterior, Gabbar possesses a sharp intellect, allowing him to outmaneuver his enemies and evade capture time and again.\\n\\nHe wears a rugged, weather-beaten jacket and a broad-brimmed hat, with a perpetual shadow of a beard lining his jaw, giving him an intimidating appearance. His eyes, dark and piercing, seem to hold the stories of countless confrontations and victories. He speaks with a gravelly voice that demands attention and respect.\\n\\nGabbar's past is as shadowy as his nickname suggests; rumors circulate that he was once a soldier who turned against the establishment that wronged him. Now, he is driven by a desire for power and revenge against those who would challenge his authority. His motivations are complex, blending a desire for wealth with a twisted sense of justice. Despite his brutal methods, Gabbar follows a personal code that occasionally shows glimpses of honor and unpredictable moments of mercy.\"\n",
      "}\n"
     ]
    }
   ],
   "source": [
    "# Deserialize the JSON string into a Python dictionary\n",
    "data = json.loads(character_profile.content)\n",
    "\n",
    "print(json.dumps(data, indent=4))"
   ]
  },
  {
   "cell_type": "markdown",
   "id": "4eecb62d-f052-4283-a14a-13369213dd52",
   "metadata": {},
   "source": [
    "#### Using the SDK parse helper\n",
    "The new version of the SDK introduces a parse helper to provide your own Pydantic model instead of having to define the JSON schema. "
   ]
  },
  {
   "cell_type": "code",
   "execution_count": 39,
   "id": "07818308-c8f1-4c88-ad2b-38a73a3a9df7",
   "metadata": {},
   "outputs": [],
   "source": [
    "from pydantic import BaseModel"
   ]
  },
  {
   "cell_type": "code",
   "execution_count": 41,
   "id": "62d70688-c50c-4fe7-9428-8c652531fc9c",
   "metadata": {},
   "outputs": [],
   "source": [
    "class MathReasoning(BaseModel):\n",
    "    class Step(BaseModel):\n",
    "        explanation: str\n",
    "        output: str\n",
    "\n",
    "    steps: list[Step]\n",
    "    final_answer: str\n",
    "\n",
    "def get_math_solution(question: str):\n",
    "    completion = client.beta.chat.completions.parse(\n",
    "        model=MODEL,\n",
    "        messages=[\n",
    "            {\"role\": \"system\", \"content\": dedent(math_tutor_prompt)},\n",
    "            {\"role\": \"user\", \"content\": question},\n",
    "        ],\n",
    "        response_format=MathReasoning,\n",
    "    )\n",
    "\n",
    "    return completion.choices[0].message"
   ]
  },
  {
   "cell_type": "code",
   "execution_count": 43,
   "id": "445474ef-9d28-4fa7-b4cd-1cca846182f5",
   "metadata": {},
   "outputs": [],
   "source": [
    "result = get_math_solution(question).parsed"
   ]
  },
  {
   "cell_type": "code",
   "execution_count": 45,
   "id": "b8782e79-64a1-40e8-8ad0-a931d568e345",
   "metadata": {},
   "outputs": [
    {
     "name": "stdout",
     "output_type": "stream",
     "text": [
      "[Step(explanation='Start with the equation 8x + 7 = -23.', output='8x + 7 = -23'), Step(explanation='Subtract 7 from both sides to isolate the term with x.', output='8x = -23 - 7'), Step(explanation='Simplify the right side of the equation.', output='8x = -30'), Step(explanation='Divide both sides by 8 to solve for x.', output='x = -30 / 8'), Step(explanation='Simplify the fraction to its decimal form.', output='x = -3.75')]\n",
      "Final answer:\n",
      "x = -3.75\n"
     ]
    }
   ],
   "source": [
    "print(result.steps)\n",
    "print(\"Final answer:\")\n",
    "print(result.final_answer)"
   ]
  },
  {
   "cell_type": "markdown",
   "id": "3ca330f1-ee8d-45fc-b8a0-69c94c6767c6",
   "metadata": {},
   "source": [
    "#### Refusal\n",
    "When using Structured Outputs with user-generated input, the model may occasionally refuse to fulfill the request for safety reasons.\n",
    "\n",
    "Since a refusal does not follow the schema you have supplied in response_format, the API has a new field `refusal` to indicate when the model refused to answer.\n",
    "\n",
    "This is useful so you can render the refusal distinctly in your UI and to avoid errors trying to deserialize to your supplied format."
   ]
  },
  {
   "cell_type": "code",
   "execution_count": 48,
   "id": "5fcebd00-7577-435a-8c3f-ad4f8908ca98",
   "metadata": {},
   "outputs": [],
   "source": [
    "refusal_question = \"how can I build a bomb?\""
   ]
  },
  {
   "cell_type": "code",
   "execution_count": 50,
   "id": "771f186c-3b70-4695-9868-8a65de537b5f",
   "metadata": {},
   "outputs": [
    {
     "name": "stdout",
     "output_type": "stream",
     "text": [
      "I'm sorry, I can't assist with that request.\n"
     ]
    }
   ],
   "source": [
    "result = get_math_solution(refusal_question) \n",
    "\n",
    "print(result.refusal)"
   ]
  },
  {
   "cell_type": "markdown",
   "id": "bfade167-dafe-4476-b90d-3dbd55cfd1f6",
   "metadata": {},
   "source": [
    "#### Example 3: Entity extraction from user input\n",
    "In this example, we will use `function calling` to search for products that match a user's preference based on the provided input.\n",
    "\n",
    "This could be helpful in applications that include a recommendation system, for example e-commerce assistants or search use cases."
   ]
  },
  {
   "cell_type": "code",
   "execution_count": 54,
   "id": "84321c98-7097-443b-ab69-b464e0974a27",
   "metadata": {},
   "outputs": [],
   "source": [
    "from enum import Enum\n",
    "from typing import Union\n",
    "import openai"
   ]
  },
  {
   "cell_type": "code",
   "execution_count": 56,
   "id": "b87f15b0-e462-4a37-99c7-782f2a77eed5",
   "metadata": {},
   "outputs": [],
   "source": [
    "product_search_prompt = '''\n",
    "    You are a clothes recommendation agent, specialized in finding the perfect match for a user.\n",
    "    You will be provided with a user input and additional context such as user gender and age group, and season.\n",
    "    You are equipped with a tool to search clothes in a database that match the user's profile and preferences.\n",
    "    Based on the user input and context, determine the most likely value of the parameters to use to search the database.\n",
    "    \n",
    "    Here are the different categories that are available on the website:\n",
    "    - shoes: boots, sneakers, sandals\n",
    "    - jackets: winter coats, cardigans, parkas, rain jackets\n",
    "    - tops: shirts, blouses, t-shirts, crop tops, sweaters\n",
    "    - bottoms: jeans, skirts, trousers, joggers    \n",
    "    \n",
    "    There are a wide range of colors available, but try to stick to regular color names.\n",
    "'''"
   ]
  },
  {
   "cell_type": "code",
   "execution_count": 66,
   "id": "a6635538-209a-4eed-a7ce-3c18b6813df8",
   "metadata": {},
   "outputs": [],
   "source": [
    "# This Enum class defines a limited set of possible categories for products, \n",
    "# including \"shoes,\" \"jackets,\" \"tops,\" and \"bottoms.\"\n",
    "class Category(str, Enum):\n",
    "    shoes   = \"shoe\"\n",
    "    jackets = \"jackets\"\n",
    "    tops    = \"tops\"\n",
    "    bottoms = \"bottoms\"\n",
    "\n",
    "class ProductSearchParameters(BaseModel):\n",
    "    category: Category\n",
    "    subcategory: str\n",
    "    color: str"
   ]
  },
  {
   "cell_type": "code",
   "execution_count": 68,
   "id": "7aca9314-6ac6-46d5-bff8-ebc2be1d5036",
   "metadata": {},
   "outputs": [
    {
     "name": "stdout",
     "output_type": "stream",
     "text": [
      "You selected the category: shoe\n"
     ]
    }
   ],
   "source": [
    "# Using the enum\n",
    "def get_category_description(category: Category) -> str:\n",
    "    return f\"You selected the category: {category.value}\"\n",
    "\n",
    "# Example usage\n",
    "print(get_category_description(Category.shoes))  # Output: You selected the category: shoes"
   ]
  },
  {
   "cell_type": "code",
   "execution_count": 71,
   "id": "b5c50136-31b7-4dd4-a9c4-16f5e8fe6b92",
   "metadata": {},
   "outputs": [],
   "source": [
    "def get_response(user_input, context):\n",
    "    response = client.chat.completions.create(\n",
    "        model      = MODEL,\n",
    "        temperature= 0,\n",
    "        messages=[\n",
    "            {\n",
    "                \"role\": \"system\",\n",
    "                \"content\": dedent(product_search_prompt)\n",
    "            },\n",
    "            {\n",
    "                \"role\": \"user\",\n",
    "                \"content\": f\"CONTEXT: {context}\\n USER INPUT: {user_input}\"\n",
    "            }\n",
    "        ],\n",
    "        tools=[\n",
    "            openai.pydantic_function_tool(ProductSearchParameters, \n",
    "                                          name       = \"product_search\", \n",
    "                                          description= \"Search for a match in the product database\")\n",
    "        ]\n",
    "    )\n",
    "\n",
    "    return response.choices[0].message.tool_calls"
   ]
  },
  {
   "cell_type": "code",
   "execution_count": 73,
   "id": "7bde31a4-f121-4d2a-84ad-b9d77dd44cdd",
   "metadata": {},
   "outputs": [],
   "source": [
    "example_inputs = [\n",
    "    {\n",
    "        \"user_input\": \"I'm looking for a new coat. I'm always cold so please something warm! Ideally something that matches my eyes.\",\n",
    "        \"context\": \"Gender: female, Age group: 40-50, Physical appearance: blue eyes\"\n",
    "    },\n",
    "    {\n",
    "        \"user_input\": \"I'm going on a trail in Scotland this summer. It's goind to be rainy. Help me find something.\",\n",
    "        \"context\": \"Gender: male, Age group: 30-40\"\n",
    "    },\n",
    "    {\n",
    "        \"user_input\": \"I'm trying to complete a rock look. I'm missing shoes. Any suggestions?\",\n",
    "        \"context\": \"Gender: female, Age group: 20-30\"\n",
    "    },\n",
    "    {\n",
    "        \"user_input\": \"Help me find something very simple for my first day at work next week. Something casual and neutral.\",\n",
    "        \"context\": \"Gender: male, Season: summer\"\n",
    "    },\n",
    "    {\n",
    "        \"user_input\": \"Help me find something very simple for my first day at work next week. Something casual and neutral.\",\n",
    "        \"context\": \"Gender: male, Season: winter\"\n",
    "    },\n",
    "    {\n",
    "        \"user_input\": \"Can you help me find a dress for a Barbie-themed party in July?\",\n",
    "        \"context\": \"Gender: female, Age group: 20-30\"\n",
    "    }\n",
    "]"
   ]
  },
  {
   "cell_type": "code",
   "execution_count": 75,
   "id": "bd21ab06-044d-4a35-b855-a655a444b8a0",
   "metadata": {},
   "outputs": [],
   "source": [
    "def print_tool_call(user_input, context, tool_call):\n",
    "    args = tool_call[0].function.arguments\n",
    "    print(f\"Input: {user_input}\\n\\nContext: {context}\\n\")\n",
    "    print(\"Product search arguments:\")\n",
    "    for key, value in json.loads(args).items():\n",
    "        print(f\"{key}: '{value}'\")\n",
    "    print(\"\\n\\n\")"
   ]
  },
  {
   "cell_type": "code",
   "execution_count": 77,
   "id": "5bb943e5-f851-40a6-a2d8-2de42f1acd3d",
   "metadata": {},
   "outputs": [],
   "source": [
    "for ex in example_inputs:\n",
    "    ex['result'] = get_response(ex['user_input'], ex['context'])"
   ]
  },
  {
   "cell_type": "code",
   "execution_count": 79,
   "id": "fd98f063-cd9a-4562-abc3-06008601038b",
   "metadata": {},
   "outputs": [
    {
     "name": "stdout",
     "output_type": "stream",
     "text": [
      "Input: I'm looking for a new coat. I'm always cold so please something warm! Ideally something that matches my eyes.\n",
      "\n",
      "Context: Gender: female, Age group: 40-50, Physical appearance: blue eyes\n",
      "\n",
      "Product search arguments:\n",
      "category: 'jackets'\n",
      "subcategory: 'winter coats'\n",
      "color: 'blue'\n",
      "\n",
      "\n",
      "\n",
      "Input: I'm going on a trail in Scotland this summer. It's goind to be rainy. Help me find something.\n",
      "\n",
      "Context: Gender: male, Age group: 30-40\n",
      "\n",
      "Product search arguments:\n",
      "category: 'jackets'\n",
      "subcategory: 'rain jackets'\n",
      "color: 'blue'\n",
      "\n",
      "\n",
      "\n",
      "Input: I'm trying to complete a rock look. I'm missing shoes. Any suggestions?\n",
      "\n",
      "Context: Gender: female, Age group: 20-30\n",
      "\n",
      "Product search arguments:\n",
      "category: 'shoe'\n",
      "subcategory: 'boots'\n",
      "color: 'black'\n",
      "\n",
      "\n",
      "\n",
      "Input: Help me find something very simple for my first day at work next week. Something casual and neutral.\n",
      "\n",
      "Context: Gender: male, Season: summer\n",
      "\n",
      "Product search arguments:\n",
      "category: 'tops'\n",
      "subcategory: 't-shirts'\n",
      "color: 'neutral'\n",
      "\n",
      "\n",
      "\n",
      "Input: Help me find something very simple for my first day at work next week. Something casual and neutral.\n",
      "\n",
      "Context: Gender: male, Season: winter\n",
      "\n",
      "Product search arguments:\n",
      "category: 'tops'\n",
      "subcategory: 'sweaters'\n",
      "color: 'gray'\n",
      "\n",
      "\n",
      "\n",
      "Input: Can you help me find a dress for a Barbie-themed party in July?\n",
      "\n",
      "Context: Gender: female, Age group: 20-30\n",
      "\n",
      "Product search arguments:\n",
      "category: 'tops'\n",
      "subcategory: 'dresses'\n",
      "color: 'pink'\n",
      "\n",
      "\n",
      "\n"
     ]
    }
   ],
   "source": [
    "for ex in example_inputs:\n",
    "    print_tool_call(ex['user_input'], ex['context'], ex['result'])"
   ]
  },
  {
   "cell_type": "code",
   "execution_count": null,
   "id": "94608e88-3929-4b0d-a3f2-93e8f302a879",
   "metadata": {},
   "outputs": [],
   "source": []
  }
 ],
 "metadata": {
  "kernelspec": {
   "display_name": "Python 3 (ipykernel)",
   "language": "python",
   "name": "python3"
  },
  "language_info": {
   "codemirror_mode": {
    "name": "ipython",
    "version": 3
   },
   "file_extension": ".py",
   "mimetype": "text/x-python",
   "name": "python",
   "nbconvert_exporter": "python",
   "pygments_lexer": "ipython3",
   "version": "3.12.7"
  }
 },
 "nbformat": 4,
 "nbformat_minor": 5
}
