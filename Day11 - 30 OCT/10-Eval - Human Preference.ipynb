{
 "cells": [
  {
   "cell_type": "markdown",
   "id": "7f47ec99-7dde-4033-9e69-df1f1482e258",
   "metadata": {},
   "source": [
    "#### Human Preference Evaluation\n",
    "\n",
    "To capture subjective human preference, we first set up the evaluation project using our specialized and highly-vetted Alignerr workforce, with consensus set to three human labelers per data row, allowing us to tap into a network of expert raters to evaluate image outputs across several key criteria:\n",
    "\n",
    "#### Alignment with Prompt\n",
    "Raters assessed how well each generated image matched the given text prompt on a scale of high, medium, or low. For example, for the prompt \"A red apple on a wooden table\":\n",
    "\n",
    "- **High**: Image shows a clear, realistic red apple on a wooden table\n",
    "- **Medium**: Image shows an apple, but it's green or the table isn't clearly wooden\n",
    "- **Low**: Image shows an unrelated scene\n",
    "\n",
    "#### Photorealism\n",
    "This criterion evaluates how closely the image resembled a real photograph:\n",
    "\n",
    "- **High**: Realistic lighting, textures, and proportions\n",
    "- **Medium**: Somewhat realistic but with slight issues in shadows or textures\n",
    "- **Low**: Cartoonish or artificial appearance\n",
    "\n",
    "#### Detail\n",
    "Raters then determined the level of detail and overall clarity:\n",
    "\n",
    "- **High**: Fine details visible (e.g., individual leaves, fabric textures)\n",
    "- **Medium**: Major elements clear, but finer details somewhat lacking\n",
    "- **Low**: Overall blurry or lacking significant detail\n",
    "\n",
    "#### Artifacts\n",
    "Finally, raters identified any visible artifacts, distortions, or errors, such as:\n",
    "\n",
    "- Unnatural distortions in objects or backgrounds\n",
    "- Misplaced or floating elements\n",
    "- Inconsistent lighting or shadows\n",
    "- Unnatural repeating patterns\n",
    "- Blurred or pixelated areas\n"
   ]
  },
  {
   "cell_type": "code",
   "execution_count": null,
   "id": "bbfe1692-45e9-4b9c-892d-c073888c8177",
   "metadata": {},
   "outputs": [],
   "source": []
  }
 ],
 "metadata": {
  "kernelspec": {
   "display_name": "Python 3 (ipykernel)",
   "language": "python",
   "name": "python3"
  },
  "language_info": {
   "codemirror_mode": {
    "name": "ipython",
    "version": 3
   },
   "file_extension": ".py",
   "mimetype": "text/x-python",
   "name": "python",
   "nbconvert_exporter": "python",
   "pygments_lexer": "ipython3",
   "version": "3.12.3"
  }
 },
 "nbformat": 4,
 "nbformat_minor": 5
}
