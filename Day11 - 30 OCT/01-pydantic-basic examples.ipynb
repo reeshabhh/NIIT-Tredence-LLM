{
 "cells": [
  {
   "cell_type": "code",
   "execution_count": 1,
   "id": "d5f57aa5-d320-42e5-a276-a11cdf2ebff5",
   "metadata": {},
   "outputs": [],
   "source": [
    "# pip install pydantic"
   ]
  },
  {
   "cell_type": "code",
   "execution_count": 3,
   "id": "e8d08154-02fe-4036-8090-97151cfab268",
   "metadata": {},
   "outputs": [],
   "source": [
    "# pip install pydantic[email]"
   ]
  },
  {
   "cell_type": "code",
   "execution_count": 74,
   "id": "1ecd04f8-58dc-4827-b233-46641a7043a7",
   "metadata": {},
   "outputs": [],
   "source": [
    "from datetime import date\n",
    "from uuid import UUID, uuid4\n",
    "from enum import Enum\n",
    "\n",
    "from pydantic import BaseModel, EmailStr"
   ]
  },
  {
   "cell_type": "code",
   "execution_count": 76,
   "id": "afa5814b-72f3-48c4-8c43-7c18a194d05b",
   "metadata": {},
   "outputs": [],
   "source": [
    "class Department(Enum):\n",
    "    HR          = \"HR\"\n",
    "    SALES       = \"SALES\"\n",
    "    IT          = \"IT\"\n",
    "    ENGINEERING = \"ENGINEERING\""
   ]
  },
  {
   "cell_type": "code",
   "execution_count": 78,
   "id": "b3c2a18b-4004-4192-af2d-91d22fc17ca1",
   "metadata": {},
   "outputs": [],
   "source": [
    "class Employee(BaseModel):\n",
    "    employee_id: UUID = uuid4()\n",
    "    name: str\n",
    "    email: EmailStr\n",
    "    date_of_birth: date\n",
    "    salary: float\n",
    "    department: Department\n",
    "    elected_benefits: bool"
   ]
  },
  {
   "cell_type": "code",
   "execution_count": 80,
   "id": "b0ad2190-fd43-4bca-bfa1-9b609ad0d595",
   "metadata": {},
   "outputs": [],
   "source": [
    "e1 = Employee(\n",
    "...     name         = \"bhupen\",\n",
    "...     email        = \"gridflowai@gmail.com\",\n",
    "...     date_of_birth= \"1998-04-02\",\n",
    "...     salary       = 123_000.00,\n",
    "...     department   = \"IT\",\n",
    "...     elected_benefits=True,\n",
    "... )"
   ]
  },
  {
   "cell_type": "code",
   "execution_count": 82,
   "id": "b1d43698-8ab9-4492-b939-95403a88461e",
   "metadata": {},
   "outputs": [
    {
     "data": {
      "text/plain": [
       "Employee(employee_id=UUID('3886e0fb-ab6c-4501-8de9-c5152336d9f5'), name='bhupen', email='gridflowai@gmail.com', date_of_birth=datetime.date(1998, 4, 2), salary=123000.0, department=<Department.IT: 'IT'>, elected_benefits=True)"
      ]
     },
     "execution_count": 82,
     "metadata": {},
     "output_type": "execute_result"
    }
   ],
   "source": [
    "e1"
   ]
  },
  {
   "cell_type": "code",
   "execution_count": 84,
   "id": "ff4fe632-5f81-4fd8-b986-d8d815c4e0a5",
   "metadata": {},
   "outputs": [
    {
     "ename": "ValidationError",
     "evalue": "7 validation errors for Employee\nemployee_id\n  Input should be a valid UUID, invalid length: expected length 32 for simple format, found 3 [type=uuid_parsing, input_value='123', input_type=str]\n    For further information visit https://errors.pydantic.dev/2.8/v/uuid_parsing\nname\n  Input should be a valid string [type=string_type, input_value=False, input_type=bool]\n    For further information visit https://errors.pydantic.dev/2.8/v/string_type\nemail\n  value is not a valid email address: An email address must have an @-sign. [type=value_error, input_value='cdetumaexamplecom', input_type=str]\ndate_of_birth\n  Input should be a valid date or datetime, invalid date separator, expected `-` [type=date_from_datetime_parsing, input_value='1939804-02', input_type=str]\n    For further information visit https://errors.pydantic.dev/2.8/v/date_from_datetime_parsing\nsalary\n  Input should be a valid number, unable to parse string as a number [type=float_parsing, input_value='high paying', input_type=str]\n    For further information visit https://errors.pydantic.dev/2.8/v/float_parsing\ndepartment\n  Input should be 'HR', 'SALES', 'IT' or 'ENGINEERING' [type=enum, input_value='PRODUCT', input_type=str]\n    For further information visit https://errors.pydantic.dev/2.8/v/enum\nelected_benefits\n  Input should be a valid boolean, unable to interpret input [type=bool_parsing, input_value=300, input_type=int]\n    For further information visit https://errors.pydantic.dev/2.8/v/bool_parsing",
     "output_type": "error",
     "traceback": [
      "\u001b[1;31m---------------------------------------------------------------------------\u001b[0m",
      "\u001b[1;31mValidationError\u001b[0m                           Traceback (most recent call last)",
      "Cell \u001b[1;32mIn[84], line 1\u001b[0m\n\u001b[1;32m----> 1\u001b[0m Employee(\n\u001b[0;32m      2\u001b[0m     employee_id     \u001b[38;5;241m=\u001b[39m \u001b[38;5;124m\"\u001b[39m\u001b[38;5;124m123\u001b[39m\u001b[38;5;124m\"\u001b[39m,\n\u001b[0;32m      3\u001b[0m     name            \u001b[38;5;241m=\u001b[39m \u001b[38;5;28;01mFalse\u001b[39;00m,\n\u001b[0;32m      4\u001b[0m     email           \u001b[38;5;241m=\u001b[39m \u001b[38;5;124m\"\u001b[39m\u001b[38;5;124mcdetumaexamplecom\u001b[39m\u001b[38;5;124m\"\u001b[39m,\n\u001b[0;32m      5\u001b[0m     date_of_birth   \u001b[38;5;241m=\u001b[39m \u001b[38;5;124m\"\u001b[39m\u001b[38;5;124m1939804-02\u001b[39m\u001b[38;5;124m\"\u001b[39m,\n\u001b[0;32m      6\u001b[0m     salary          \u001b[38;5;241m=\u001b[39m \u001b[38;5;124m\"\u001b[39m\u001b[38;5;124mhigh paying\u001b[39m\u001b[38;5;124m\"\u001b[39m,\n\u001b[0;32m      7\u001b[0m     department      \u001b[38;5;241m=\u001b[39m \u001b[38;5;124m\"\u001b[39m\u001b[38;5;124mPRODUCT\u001b[39m\u001b[38;5;124m\"\u001b[39m,\n\u001b[0;32m      8\u001b[0m     elected_benefits\u001b[38;5;241m=\u001b[39m \u001b[38;5;241m300\u001b[39m,\n\u001b[0;32m      9\u001b[0m )\n",
      "File \u001b[1;32mD:\\anaconda3\\Lib\\site-packages\\pydantic\\main.py:193\u001b[0m, in \u001b[0;36mBaseModel.__init__\u001b[1;34m(self, **data)\u001b[0m\n\u001b[0;32m    191\u001b[0m \u001b[38;5;66;03m# `__tracebackhide__` tells pytest and some other tools to omit this function from tracebacks\u001b[39;00m\n\u001b[0;32m    192\u001b[0m __tracebackhide__ \u001b[38;5;241m=\u001b[39m \u001b[38;5;28;01mTrue\u001b[39;00m\n\u001b[1;32m--> 193\u001b[0m \u001b[38;5;28mself\u001b[39m\u001b[38;5;241m.\u001b[39m__pydantic_validator__\u001b[38;5;241m.\u001b[39mvalidate_python(data, self_instance\u001b[38;5;241m=\u001b[39m\u001b[38;5;28mself\u001b[39m)\n",
      "\u001b[1;31mValidationError\u001b[0m: 7 validation errors for Employee\nemployee_id\n  Input should be a valid UUID, invalid length: expected length 32 for simple format, found 3 [type=uuid_parsing, input_value='123', input_type=str]\n    For further information visit https://errors.pydantic.dev/2.8/v/uuid_parsing\nname\n  Input should be a valid string [type=string_type, input_value=False, input_type=bool]\n    For further information visit https://errors.pydantic.dev/2.8/v/string_type\nemail\n  value is not a valid email address: An email address must have an @-sign. [type=value_error, input_value='cdetumaexamplecom', input_type=str]\ndate_of_birth\n  Input should be a valid date or datetime, invalid date separator, expected `-` [type=date_from_datetime_parsing, input_value='1939804-02', input_type=str]\n    For further information visit https://errors.pydantic.dev/2.8/v/date_from_datetime_parsing\nsalary\n  Input should be a valid number, unable to parse string as a number [type=float_parsing, input_value='high paying', input_type=str]\n    For further information visit https://errors.pydantic.dev/2.8/v/float_parsing\ndepartment\n  Input should be 'HR', 'SALES', 'IT' or 'ENGINEERING' [type=enum, input_value='PRODUCT', input_type=str]\n    For further information visit https://errors.pydantic.dev/2.8/v/enum\nelected_benefits\n  Input should be a valid boolean, unable to interpret input [type=bool_parsing, input_value=300, input_type=int]\n    For further information visit https://errors.pydantic.dev/2.8/v/bool_parsing"
     ]
    }
   ],
   "source": [
    "Employee(\n",
    "...     employee_id     = \"123\",\n",
    "...     name            = False,\n",
    "...     email           = \"cdetumaexamplecom\",\n",
    "...     date_of_birth   = \"1939804-02\",\n",
    "...     salary          = \"high paying\",\n",
    "...     department      = \"PRODUCT\",\n",
    "...     elected_benefits= 300,\n",
    "... )"
   ]
  },
  {
   "cell_type": "markdown",
   "id": "1aebcb1f-d3b0-4cf7-a539-adeb75210847",
   "metadata": {},
   "source": [
    "#### Example 1: using field types"
   ]
  },
  {
   "cell_type": "code",
   "execution_count": 87,
   "id": "9e7f2818-fb17-4e98-98a1-e9f5b6c822ca",
   "metadata": {},
   "outputs": [],
   "source": [
    "from pydantic import BaseModel\n",
    "\n",
    "class User(BaseModel):\n",
    "    id: int\n",
    "    name: str\n",
    "    age: int\n",
    "\n",
    "try:\n",
    "    user = User(id=1, name='John Doe', age=25)\n",
    "except ValidationError as e:\n",
    "    print(e)"
   ]
  },
  {
   "cell_type": "code",
   "execution_count": 89,
   "id": "96460d94-c38e-4bb7-8cb7-17a37ac69f44",
   "metadata": {},
   "outputs": [
    {
     "name": "stdout",
     "output_type": "stream",
     "text": [
      "2 validation errors for User\n",
      "id\n",
      "  Input should be a valid integer, unable to parse string as an integer [type=int_parsing, input_value='one', input_type=str]\n",
      "    For further information visit https://errors.pydantic.dev/2.8/v/int_parsing\n",
      "age\n",
      "  Input should be a valid integer, unable to parse string as an integer [type=int_parsing, input_value='twenty-five', input_type=str]\n",
      "    For further information visit https://errors.pydantic.dev/2.8/v/int_parsing\n"
     ]
    }
   ],
   "source": [
    "try:\n",
    "    user = User(id='one', name='John Doe', age='twenty-five')  # Raises a validation error\n",
    "except ValidationError as e:\n",
    "    print(e)"
   ]
  },
  {
   "cell_type": "markdown",
   "id": "300c025b-6108-4134-b37d-92a944bee411",
   "metadata": {},
   "source": [
    "#### Example 2: Using Field Constraints\n",
    "- Pydantic's Field class allows you to add constraints to fields. Here are some examples:"
   ]
  },
  {
   "cell_type": "code",
   "execution_count": 92,
   "id": "2561c8ca-cdb4-441a-9177-ef6fce52537f",
   "metadata": {},
   "outputs": [],
   "source": [
    "from pydantic import BaseModel, Field"
   ]
  },
  {
   "cell_type": "code",
   "execution_count": 94,
   "id": "fc733596-06d2-4223-93d9-741d86c76fbe",
   "metadata": {},
   "outputs": [],
   "source": [
    "class User(BaseModel):\n",
    "    id: int   = Field(gt=0)                         # id must be greater than 0\n",
    "    name: str = Field(min_length=2, max_length=50)  # name must be between 2 and 50 characters\n",
    "    age:  int = Field(ge=18, le=100)                # age must be between 18 and 100\n",
    "\n",
    "user = User(id=1, name='John', age=30)"
   ]
  },
  {
   "cell_type": "markdown",
   "id": "c6e3eec9-c4cc-4aae-ae5a-dfc4824842ee",
   "metadata": {},
   "source": [
    "#### using model validators"
   ]
  },
  {
   "cell_type": "code",
   "execution_count": 97,
   "id": "43754ed6-fa89-4ca4-8016-b55b6e465248",
   "metadata": {},
   "outputs": [],
   "source": [
    "from pydantic import BaseModel, Field, ValidationError, model_validator"
   ]
  },
  {
   "cell_type": "code",
   "execution_count": 99,
   "id": "10e4ebd8-80b0-4a53-ad5d-278bd5e4a6f5",
   "metadata": {},
   "outputs": [],
   "source": [
    "class ListingModel(BaseModel):\n",
    "    gender: str\n",
    "    height_type: str\n",
    "    height_cms: float   = Field(default=None)\n",
    "    height_hands: float = Field(default=None)\n",
    "\n",
    "    @model_validator(mode='wrap')\n",
    "    def check_height_type(cls, values, handler):\n",
    "        if values.get('height_type') == \"cms\" and values.get('height_cms') is None:\n",
    "            raise ValueError(\"height_cms must be provided when height_type is 'cms'\")\n",
    "        \n",
    "        # Validate the model\n",
    "        return handler(values)"
   ]
  },
  {
   "cell_type": "code",
   "execution_count": 101,
   "id": "9a3cdc95-61b9-4f21-ac53-36ee821939e8",
   "metadata": {},
   "outputs": [
    {
     "name": "stdout",
     "output_type": "stream",
     "text": [
      "1 validation error for ListingModel\n",
      "  Value error, height_cms must be provided when height_type is 'cms' [type=value_error, input_value={'gender': 'female', 'height_type': 'cms'}, input_type=dict]\n",
      "    For further information visit https://errors.pydantic.dev/2.8/v/value_error\n"
     ]
    }
   ],
   "source": [
    "# Example usage\n",
    "try:\n",
    "    model = ListingModel(gender='female', height_type='cms')\n",
    "except ValidationError as e:\n",
    "    print(e)"
   ]
  },
  {
   "cell_type": "markdown",
   "id": "eac9afe6-eaa0-4dad-99f0-8a9cd7a7b74d",
   "metadata": {},
   "source": [
    "#### Example 2: Cross-field Validation\n",
    "- Ensure that if one field is provided, another field must also be provided."
   ]
  },
  {
   "cell_type": "code",
   "execution_count": 104,
   "id": "e246990c-1798-4e5b-bf7e-91cb1f2628e7",
   "metadata": {},
   "outputs": [],
   "source": [
    "class EventModel(BaseModel):\n",
    "    event_type: str\n",
    "    start_date: str = None\n",
    "    end_date: str   = None\n",
    "\n",
    "    @model_validator(mode='wrap')\n",
    "    def check_dates(cls, values, handler):\n",
    "        if values.get('event_type') == 'timed_event':\n",
    "            if not values.get('start_date') or not values.get('end_date'):\n",
    "                raise ValueError('start_date and end_date must be provided for timed events')\n",
    "        return handler(values)"
   ]
  },
  {
   "cell_type": "code",
   "execution_count": 106,
   "id": "588069d9-75a5-4666-b48a-ce138f9f5d42",
   "metadata": {},
   "outputs": [
    {
     "name": "stdout",
     "output_type": "stream",
     "text": [
      "1 validation error for EventModel\n",
      "  Value error, start_date and end_date must be provided for timed events [type=value_error, input_value={'event_type': 'timed_eve...art_date': '2024-09-17'}, input_type=dict]\n",
      "    For further information visit https://errors.pydantic.dev/2.8/v/value_error\n"
     ]
    }
   ],
   "source": [
    "# Example usage\n",
    "try:\n",
    "    event = EventModel(event_type='timed_event', start_date='2024-09-17')\n",
    "except ValidationError as e:\n",
    "    print(e)"
   ]
  },
  {
   "cell_type": "markdown",
   "id": "3991d453-dc0f-428a-88ec-77688c9a574e",
   "metadata": {},
   "source": [
    "## Pydantic in LLMs"
   ]
  },
  {
   "cell_type": "code",
   "execution_count": 109,
   "id": "59ffab96-70f2-48fc-9363-94908236e434",
   "metadata": {},
   "outputs": [
    {
     "data": {
      "text/plain": [
       "InputData(prompt='Translate the following text to French:', max_tokens=100, temperature=0.7)"
      ]
     },
     "execution_count": 109,
     "metadata": {},
     "output_type": "execute_result"
    }
   ],
   "source": [
    "from pydantic import BaseModel, Field\n",
    "\n",
    "class InputData(BaseModel):\n",
    "    prompt: str        = Field(min_length=1, max_length=500)\n",
    "    max_tokens: int    = Field(default=50,   ge=1, le=500)\n",
    "    temperature: float = Field(default=0.7,  ge=0, le=1)\n",
    "\n",
    "# Example usage\n",
    "try:\n",
    "    input_data = InputData(prompt=\"Translate the following text to French:\", max_tokens=100)\n",
    "except ValidationError as e:\n",
    "    print(e)\n",
    "\n",
    "input_data"
   ]
  },
  {
   "cell_type": "markdown",
   "id": "fe057886-32f4-4211-b977-dc37569a1da0",
   "metadata": {},
   "source": [
    "#### Response Validation and Formatting\n",
    "- LLMs can produce diverse outputs, and sometimes you need to ensure the structure of these outputs.\n",
    "- Pydantic models can help in validating and formatting the response data, especially when the output needs to follow a specific schema."
   ]
  },
  {
   "cell_type": "code",
   "execution_count": 55,
   "id": "724aba31-4596-4abb-be46-e25236bd7d6d",
   "metadata": {},
   "outputs": [
    {
     "data": {
      "text/plain": [
       "LLMResponse(text='Ceci est un exemple de réponse.', tokens_used=42)"
      ]
     },
     "execution_count": 55,
     "metadata": {},
     "output_type": "execute_result"
    }
   ],
   "source": [
    "class LLMResponse(BaseModel):\n",
    "    text: str\n",
    "    tokens_used: int\n",
    "\n",
    "# Example usage\n",
    "raw_response = {\"text\": \"Ceci est un exemple de réponse.\", \n",
    "                \"tokens_used\": 42}\n",
    "\n",
    "try:\n",
    "    response = LLMResponse(**raw_response)\n",
    "\n",
    "except ValidationError as e:\n",
    "    print(e)\n",
    "\n",
    "response"
   ]
  },
  {
   "cell_type": "markdown",
   "id": "1bec7655-18af-4e4f-b06f-bf31fdb4dd25",
   "metadata": {},
   "source": [
    "#### configure and validate LLM parameters for OpenAI's GPT models using Pydantic"
   ]
  },
  {
   "cell_type": "code",
   "execution_count": 111,
   "id": "cd382a8d-fefd-4569-b006-4d83a13d9d10",
   "metadata": {},
   "outputs": [],
   "source": [
    "import openai"
   ]
  },
  {
   "cell_type": "code",
   "execution_count": 113,
   "id": "69b52397-ea99-4b11-a9a5-6aba23eba53a",
   "metadata": {},
   "outputs": [],
   "source": [
    "class LLMConfig(BaseModel):\n",
    "    model: str         = Field(default=\"text-davinci-003\")\n",
    "    max_tokens: int    = Field(default=100, ge=1, le=4096)\n",
    "    temperature: float = Field(default=0.7, ge=0, le=1)\n",
    "    top_p: float       = Field(default=1.0, ge=0, le=1)\n",
    "    n: int             = Field(default=1, ge=1)  # Number of completions to generate\n",
    "    stop: list[str]    = None                    # List of stop sequences"
   ]
  },
  {
   "cell_type": "code",
   "execution_count": 115,
   "id": "22385833-8561-4566-83e8-31cb88385128",
   "metadata": {},
   "outputs": [],
   "source": [
    "# Example configuration\n",
    "config = LLMConfig(\n",
    "    model       =\"gpt-4o-mini\",\n",
    "    max_tokens  =150,\n",
    "    temperature =0.6,\n",
    "    top_p       =0.9,\n",
    "    n           =1,\n",
    "    stop        =[\"\\n\"]\n",
    ")"
   ]
  },
  {
   "cell_type": "code",
   "execution_count": 117,
   "id": "aac9c815-2d4e-4582-aa32-2c998fbabc70",
   "metadata": {},
   "outputs": [],
   "source": [
    "client = openai.OpenAI(\n",
    "    # defaults to os.environ.get(\"OPENAI_API_KEY\")\n",
    "    # api_key=openai_api_key\n",
    ")"
   ]
  },
  {
   "cell_type": "code",
   "execution_count": 119,
   "id": "24229ac9-90a0-468d-b7e6-e8fb0fb666a4",
   "metadata": {},
   "outputs": [],
   "source": [
    "def generate_text(message_prompt: str, config: LLMConfig):\n",
    "    # Make the API call using the validated configuration\n",
    "    response = client.chat.completions.create(\n",
    "            messages=[\n",
    "                {\n",
    "                    \"role\": \"user\", \n",
    "                    \"content\": \"You are an expert in AI models like machine or language translations.\"\n",
    "                },\n",
    "                {\n",
    "                    'role': 'user',\n",
    "                    'content': f'''{message_prompt}'''\n",
    "                },\n",
    "            ],\n",
    "        model      = config.model,\n",
    "        max_tokens = config.max_tokens,\n",
    "        temperature= config.temperature,\n",
    "        top_p      = config.top_p,\n",
    "        n          = config.n,\n",
    "        stop       = config.stop\n",
    "    )\n",
    "    return response.choices[0].message.content\n"
   ]
  },
  {
   "cell_type": "code",
   "execution_count": 72,
   "id": "b55bcd4a-df90-4fe8-a95a-491d5f300bbf",
   "metadata": {},
   "outputs": [
    {
     "name": "stdout",
     "output_type": "stream",
     "text": [
      "The translation of \"Hello, how are you?\" in French is: \"Bonjour, comment ça va ?\"\n"
     ]
    }
   ],
   "source": [
    "# Example usage\n",
    "prompt = \"Translate the following text to French: 'Hello, how are you?'\"\n",
    "result = generate_text(prompt, config)\n",
    "print(result)"
   ]
  },
  {
   "cell_type": "code",
   "execution_count": null,
   "id": "9dd6a13f-81e4-4bbb-aeeb-9db2e30debc3",
   "metadata": {},
   "outputs": [],
   "source": []
  }
 ],
 "metadata": {
  "kernelspec": {
   "display_name": "Python 3 (ipykernel)",
   "language": "python",
   "name": "python3"
  },
  "language_info": {
   "codemirror_mode": {
    "name": "ipython",
    "version": 3
   },
   "file_extension": ".py",
   "mimetype": "text/x-python",
   "name": "python",
   "nbconvert_exporter": "python",
   "pygments_lexer": "ipython3",
   "version": "3.12.7"
  }
 },
 "nbformat": 4,
 "nbformat_minor": 5
}
