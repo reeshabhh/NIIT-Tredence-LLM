{
 "cells": [
  {
   "cell_type": "markdown",
   "id": "199d5db0-e317-4882-ad39-eccd88e56a5a",
   "metadata": {},
   "source": [
    "----------------------------\n",
    "#### Settings : Stop sequences\n",
    "------------------------------"
   ]
  },
  {
   "cell_type": "markdown",
   "id": "c76c3462-967b-44c3-8f40-3f9b559d7401",
   "metadata": {},
   "source": [
    "#### Definition of Stop Sequences\n",
    "\n",
    "- A stop sequence is a specific string or set of strings provided to an OpenAI GPT model that tells the model to halt its text generation as soon as it encounters that string.\n",
    "  \n",
    "- These are useful in guiding the model to stop at logical endpoints (e.g., a particular punctuation, phrase, or prompt structure), ensuring the output ends in a controlled and meaningful way."
   ]
  },
  {
   "cell_type": "code",
   "execution_count": 1,
   "id": "866aaad1-1c52-43a7-814e-7c36f67264f9",
   "metadata": {},
   "outputs": [],
   "source": [
    "import openai\n",
    "import os"
   ]
  },
  {
   "cell_type": "code",
   "execution_count": 2,
   "id": "15b727d8-2dc8-47e7-af74-928dfb24da4e",
   "metadata": {},
   "outputs": [],
   "source": [
    "from openai import OpenAI"
   ]
  },
  {
   "cell_type": "code",
   "execution_count": 3,
   "id": "4d5fd721-56e1-4569-bd03-25a82c9bf636",
   "metadata": {},
   "outputs": [],
   "source": [
    "client = OpenAI(\n",
    "    # defaults to os.environ.get(\"OPENAI_API_KEY\")\n",
    "    # api_key = openai_api_key\n",
    ")"
   ]
  },
  {
   "cell_type": "code",
   "execution_count": 4,
   "id": "02cdea5b-04cf-423d-bbc1-54405ca923e7",
   "metadata": {},
   "outputs": [],
   "source": [
    "# Function to generate text \n",
    "def generate_story(prompt, stop_sequences = []):\n",
    "    response = client.chat.completions.create(\n",
    "        model      = \"gpt-3.5-turbo\",  # You can use other engines like gpt-3.5-turbo\n",
    "        messages   = [\n",
    "            {\"role\": \"assistant\", \"content\": 'You are a helpful assistant'},\n",
    "            {\"role\": \"user\", \"content\": f'{prompt}'}\n",
    "        ],\n",
    "        stop =  stop_sequences \n",
    "    )\n",
    "    return response.choices[0].message.content"
   ]
  },
  {
   "cell_type": "code",
   "execution_count": 5,
   "id": "2648165a-6974-49fc-ae68-4be4634b452b",
   "metadata": {},
   "outputs": [
    {
     "data": {
      "text/plain": [
       "'What is the capital of France?'"
      ]
     },
     "execution_count": 5,
     "metadata": {},
     "output_type": "execute_result"
    }
   ],
   "source": [
    "# Prompt\n",
    "prompt = f'''What is the capital of France?'''\n",
    "prompt"
   ]
  },
  {
   "cell_type": "code",
   "execution_count": 6,
   "id": "573c790b-07eb-4396-b95c-570867c34afe",
   "metadata": {},
   "outputs": [
    {
     "name": "stdout",
     "output_type": "stream",
     "text": [
      "Stop sequences = []\n"
     ]
    },
    {
     "data": {
      "text/plain": [
       "'The capital of France is Paris.'"
      ]
     },
     "execution_count": 6,
     "metadata": {},
     "output_type": "execute_result"
    }
   ],
   "source": [
    "# stop_sequences = ['kolkata']\n",
    "# stop_sequences = [\"\\n\", \"User:\"]   # The model will stop generating output when it encounters a newline (\\n) or sees the sequence \"User:\".\n",
    "# stop_sequences = [\"\\n\", \".\"]\n",
    "stop_sequences = []                  # Empty stop seqeuence list\n",
    "\n",
    "print(f\"Stop sequences = {stop_sequences}\")\n",
    "\n",
    "text = generate_story(prompt, stop_sequences=stop_sequences)\n",
    "\n",
    "text"
   ]
  },
  {
   "cell_type": "code",
   "execution_count": 7,
   "id": "78f5008f-3b08-4dfd-9f64-2cbb9560b06a",
   "metadata": {},
   "outputs": [
    {
     "name": "stdout",
     "output_type": "stream",
     "text": [
      "Stop sequences = ['11:']\n",
      "1: Sholay\n",
      "2: Deewaar\n",
      "3: Zanjeer\n",
      "4: Amar Akbar Anthony\n",
      "5: Don\n",
      "6: Satte Pe Satta\n",
      "7: Kabhi Kabhie\n",
      "8: Sarkar\n",
      "9: Paa\n",
      "10: Black\n"
     ]
    }
   ],
   "source": [
    "# Prompt\n",
    "prompt = f'''List movies of Amitabh Bachchan?\n",
    "\n",
    "    Example:\n",
    "    1: Mahaan\n",
    "    2: Gambler\n",
    "\n",
    "'''\n",
    "\n",
    "stop_sequences = ['11:']\n",
    "\n",
    "print(f\"Stop sequences = {stop_sequences}\")\n",
    "\n",
    "text = generate_story(prompt, stop_sequences=stop_sequences)\n",
    "\n",
    "print(text)"
   ]
  },
  {
   "cell_type": "code",
   "execution_count": null,
   "id": "b206b237-ab28-4a6c-b0b4-76146f7d6ac5",
   "metadata": {},
   "outputs": [],
   "source": []
  }
 ],
 "metadata": {
  "kernelspec": {
   "display_name": "Python 3 (ipykernel)",
   "language": "python",
   "name": "python3"
  },
  "language_info": {
   "codemirror_mode": {
    "name": "ipython",
    "version": 3
   },
   "file_extension": ".py",
   "mimetype": "text/x-python",
   "name": "python",
   "nbconvert_exporter": "python",
   "pygments_lexer": "ipython3",
   "version": "3.12.4"
  }
 },
 "nbformat": 4,
 "nbformat_minor": 5
}
