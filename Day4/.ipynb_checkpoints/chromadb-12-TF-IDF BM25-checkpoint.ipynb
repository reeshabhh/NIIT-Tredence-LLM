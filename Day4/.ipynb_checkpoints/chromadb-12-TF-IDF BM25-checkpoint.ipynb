{
 "cells": [
  {
   "cell_type": "code",
   "execution_count": 1,
   "id": "77f3ef8c-6ddb-41e1-876d-c565217780e3",
   "metadata": {},
   "outputs": [],
   "source": [
    "#pip install chromadb"
   ]
  },
  {
   "cell_type": "code",
   "execution_count": 2,
   "id": "551101bc-18f8-4c62-b6c7-9c846c0856b0",
   "metadata": {},
   "outputs": [],
   "source": [
    "import pandas as pd"
   ]
  },
  {
   "cell_type": "code",
   "execution_count": 3,
   "id": "ce586a4e-0b41-4efb-a19e-025f47ceb521",
   "metadata": {},
   "outputs": [],
   "source": [
    "# Load the IMDb dataset\n",
    "file_path = r'D:\\AI-DATASETS\\02-MISC-large\\IMDB Dataset.csv'\n",
    "df = pd.read_csv(file_path)"
   ]
  },
  {
   "cell_type": "code",
   "execution_count": 4,
   "id": "cce6e427-2501-44bf-bd1b-4028336c8978",
   "metadata": {},
   "outputs": [
    {
     "data": {
      "text/plain": [
       "(50000, 2)"
      ]
     },
     "execution_count": 4,
     "metadata": {},
     "output_type": "execute_result"
    }
   ],
   "source": [
    "df.shape"
   ]
  },
  {
   "cell_type": "code",
   "execution_count": 5,
   "id": "aebcd131-8d1a-4b2d-badd-2808dc3ececf",
   "metadata": {},
   "outputs": [
    {
     "data": {
      "text/html": [
       "<div>\n",
       "<style scoped>\n",
       "    .dataframe tbody tr th:only-of-type {\n",
       "        vertical-align: middle;\n",
       "    }\n",
       "\n",
       "    .dataframe tbody tr th {\n",
       "        vertical-align: top;\n",
       "    }\n",
       "\n",
       "    .dataframe thead th {\n",
       "        text-align: right;\n",
       "    }\n",
       "</style>\n",
       "<table border=\"1\" class=\"dataframe\">\n",
       "  <thead>\n",
       "    <tr style=\"text-align: right;\">\n",
       "      <th></th>\n",
       "      <th>review</th>\n",
       "      <th>sentiment</th>\n",
       "    </tr>\n",
       "  </thead>\n",
       "  <tbody>\n",
       "    <tr>\n",
       "      <th>29877</th>\n",
       "      <td>Police Story is a stunning series of set piece...</td>\n",
       "      <td>positive</td>\n",
       "    </tr>\n",
       "    <tr>\n",
       "      <th>20424</th>\n",
       "      <td>Over the years I've seen a bunch of these stra...</td>\n",
       "      <td>negative</td>\n",
       "    </tr>\n",
       "    <tr>\n",
       "      <th>1425</th>\n",
       "      <td>I can name only a few movies that I have seen ...</td>\n",
       "      <td>negative</td>\n",
       "    </tr>\n",
       "    <tr>\n",
       "      <th>21346</th>\n",
       "      <td>Ed Wood is eclipsed and becomes Orson Welles. ...</td>\n",
       "      <td>negative</td>\n",
       "    </tr>\n",
       "    <tr>\n",
       "      <th>39319</th>\n",
       "      <td>\"on our own\" is a touching story of four kids ...</td>\n",
       "      <td>positive</td>\n",
       "    </tr>\n",
       "    <tr>\n",
       "      <th>28636</th>\n",
       "      <td>The first time I've seen this DVD, I was not o...</td>\n",
       "      <td>positive</td>\n",
       "    </tr>\n",
       "    <tr>\n",
       "      <th>35232</th>\n",
       "      <td>29 Sept 1990 marked a small but important mile...</td>\n",
       "      <td>positive</td>\n",
       "    </tr>\n",
       "    <tr>\n",
       "      <th>41244</th>\n",
       "      <td>To say that Thunderbirds is a horrid, forced, ...</td>\n",
       "      <td>negative</td>\n",
       "    </tr>\n",
       "    <tr>\n",
       "      <th>42302</th>\n",
       "      <td>&lt;br /&gt;&lt;br /&gt;I recently viewed this atrocity in...</td>\n",
       "      <td>negative</td>\n",
       "    </tr>\n",
       "    <tr>\n",
       "      <th>19425</th>\n",
       "      <td>The movie has one nude scene: A man sitting on...</td>\n",
       "      <td>negative</td>\n",
       "    </tr>\n",
       "  </tbody>\n",
       "</table>\n",
       "</div>"
      ],
      "text/plain": [
       "                                                  review sentiment\n",
       "29877  Police Story is a stunning series of set piece...  positive\n",
       "20424  Over the years I've seen a bunch of these stra...  negative\n",
       "1425   I can name only a few movies that I have seen ...  negative\n",
       "21346  Ed Wood is eclipsed and becomes Orson Welles. ...  negative\n",
       "39319  \"on our own\" is a touching story of four kids ...  positive\n",
       "28636  The first time I've seen this DVD, I was not o...  positive\n",
       "35232  29 Sept 1990 marked a small but important mile...  positive\n",
       "41244  To say that Thunderbirds is a horrid, forced, ...  negative\n",
       "42302  <br /><br />I recently viewed this atrocity in...  negative\n",
       "19425  The movie has one nude scene: A man sitting on...  negative"
      ]
     },
     "execution_count": 5,
     "metadata": {},
     "output_type": "execute_result"
    }
   ],
   "source": [
    "df.sample(10)"
   ]
  },
  {
   "cell_type": "code",
   "execution_count": 6,
   "id": "185184c3-f540-46b2-983a-7b62d14830e9",
   "metadata": {},
   "outputs": [],
   "source": [
    "# Take only the first 1000 reviews\n",
    "reviews = df['review'].sample(1000).tolist()"
   ]
  },
  {
   "cell_type": "markdown",
   "id": "17a11f04-e4d2-486c-bb97-48add6cf0c9f",
   "metadata": {},
   "source": [
    "#### Generate TF-IDF Vectors\n",
    "- Use scikit-learn's TfidfVectorizer to generate TF-IDF vectors for the movie reviews."
   ]
  },
  {
   "cell_type": "code",
   "execution_count": 7,
   "id": "fe9d82b3-81ad-4d4f-9788-54cfe112cdde",
   "metadata": {},
   "outputs": [],
   "source": [
    "from sklearn.feature_extraction.text import TfidfVectorizer"
   ]
  },
  {
   "cell_type": "code",
   "execution_count": 8,
   "id": "50a5cbb4-4d9c-4c66-a766-286db07e1d4e",
   "metadata": {},
   "outputs": [],
   "source": [
    "# Initialize the TF-IDF vectorizer\n",
    "vectorizer = TfidfVectorizer(max_features=1000)  # Limiting to 1000 features for efficiency"
   ]
  },
  {
   "cell_type": "code",
   "execution_count": 9,
   "id": "2021eaab-7192-4897-97ab-21a497e2f755",
   "metadata": {},
   "outputs": [],
   "source": [
    "# Generate TF-IDF vectors for the reviews\n",
    "tfidf_matrix = vectorizer.fit_transform(reviews)"
   ]
  },
  {
   "cell_type": "code",
   "execution_count": 10,
   "id": "ac170db0-1ac8-4146-9f9f-1554f3879d3d",
   "metadata": {},
   "outputs": [
    {
     "data": {
      "text/plain": [
       "(1000, 1000)"
      ]
     },
     "execution_count": 10,
     "metadata": {},
     "output_type": "execute_result"
    }
   ],
   "source": [
    "tfidf_matrix.shape"
   ]
  },
  {
   "cell_type": "markdown",
   "id": "61d7cf9c-acf9-49d7-a5f9-9823627282f7",
   "metadata": {},
   "source": [
    "#### use chromaDB (vector database)\n",
    "- store the embeddings"
   ]
  },
  {
   "cell_type": "code",
   "execution_count": 12,
   "id": "f300d8de-c89f-4647-80bb-0b315f7400e2",
   "metadata": {},
   "outputs": [],
   "source": [
    "import chromadb"
   ]
  },
  {
   "cell_type": "code",
   "execution_count": 13,
   "id": "bab98c26-b2f9-4176-a6fb-1cd0214d160b",
   "metadata": {},
   "outputs": [],
   "source": [
    "# Initialize ChromaDB client\n",
    "client = chromadb.Client()"
   ]
  },
  {
   "cell_type": "code",
   "execution_count": 16,
   "id": "43d1034b-ea47-47f9-9096-ebf4958fb8dd",
   "metadata": {},
   "outputs": [
    {
     "name": "stdout",
     "output_type": "stream",
     "text": [
      "['imdb_reviews']\n"
     ]
    }
   ],
   "source": [
    "# List all collections\n",
    "collections = client.list_collections()\n",
    "print([collection.name for collection in collections])"
   ]
  },
  {
   "cell_type": "code",
   "execution_count": 15,
   "id": "5c5f648c-a8a6-414c-a723-92fae2782e35",
   "metadata": {},
   "outputs": [],
   "source": [
    "# Create a collection to store TF-IDF vectors\n",
    "collection_name = client.get_or_create_collection(\"imdb_reviews\")"
   ]
  },
  {
   "cell_type": "code",
   "execution_count": 17,
   "id": "aec723a5-2846-433a-91f6-fcb2b9831add",
   "metadata": {},
   "outputs": [
    {
     "data": {
      "text/plain": [
       "0"
      ]
     },
     "execution_count": 17,
     "metadata": {},
     "output_type": "execute_result"
    }
   ],
   "source": [
    "collection_name.count()"
   ]
  },
  {
   "cell_type": "code",
   "execution_count": 18,
   "id": "81f961ce-2512-4d18-a5ec-1bb7658803b0",
   "metadata": {},
   "outputs": [],
   "source": [
    "# Convert TF-IDF matrix to dense array and insert into ChromaDB\n",
    "tfidf_dense = tfidf_matrix.toarray()"
   ]
  },
  {
   "cell_type": "code",
   "execution_count": 19,
   "id": "c246f44e-7e9c-46b5-962d-1efa71d906ad",
   "metadata": {},
   "outputs": [
    {
     "data": {
      "text/plain": [
       "(1000, 1000)"
      ]
     },
     "execution_count": 19,
     "metadata": {},
     "output_type": "execute_result"
    }
   ],
   "source": [
    "tfidf_dense.shape"
   ]
  },
  {
   "cell_type": "code",
   "execution_count": 21,
   "id": "26f51ee5-db83-493f-a023-63b39cefb76b",
   "metadata": {},
   "outputs": [],
   "source": [
    "# Add each review vector into ChromaDB\n",
    "for idx, vector in enumerate(tfidf_dense):\n",
    "    collection_name.add(\n",
    "        ids       =[str(idx)],                  # Unique ID for each review\n",
    "        embeddings=[vector],                    # The TF-IDF vector\n",
    "        metadatas =[{\"review\": reviews[idx]}],  # Store the actual review\n",
    "    )"
   ]
  },
  {
   "cell_type": "markdown",
   "id": "47b18658-a2fe-489b-9a58-32af576957db",
   "metadata": {},
   "source": [
    "- ids: Unique identifier for each review.\n",
    "- embeddings: The TF-IDF vectors.\n",
    "- metadatas: Metadata like the actual review text, which will be retrieved."
   ]
  },
  {
   "cell_type": "markdown",
   "id": "31119f34-b41b-420b-933a-3129dc6c271c",
   "metadata": {},
   "source": [
    "#### Querying ChromaDB with TF-IDF\n",
    "- query ChromaDB to retrieve similar reviews using a TF-IDF-based retriever."
   ]
  },
  {
   "cell_type": "code",
   "execution_count": 23,
   "id": "ff466c8d-0a9d-4aef-b3e4-0e248d14a5b6",
   "metadata": {},
   "outputs": [],
   "source": [
    "def query_chromadb(query_text, top_k=5):\n",
    "    # Convert the query to a TF-IDF vector\n",
    "    query_vector = vectorizer.transform([query_text]).toarray()[0]\n",
    "    \n",
    "    # Perform similarity search in ChromaDB\n",
    "    results = collection_name.query(\n",
    "        query_embeddings=[query_vector],  # The query vector\n",
    "        n_results       =top_k  # Number of results to return\n",
    "    )\n",
    "    \n",
    "    return results"
   ]
  },
  {
   "cell_type": "code",
   "execution_count": 24,
   "id": "329ee73a-0be0-4a12-b399-18674d43baa2",
   "metadata": {},
   "outputs": [],
   "source": [
    "# Example query\n",
    "query_text = \"I love movies about space adventures\"\n",
    "result = query_chromadb(query_text)"
   ]
  },
  {
   "cell_type": "code",
   "execution_count": 25,
   "id": "a950992c-3b20-4cb5-9cfe-d02153fb882e",
   "metadata": {},
   "outputs": [
    {
     "data": {
      "text/plain": [
       "dict"
      ]
     },
     "execution_count": 25,
     "metadata": {},
     "output_type": "execute_result"
    }
   ],
   "source": [
    "type(result)"
   ]
  },
  {
   "cell_type": "code",
   "execution_count": 26,
   "id": "2f221cd9-729d-4218-8463-7483003cd821",
   "metadata": {},
   "outputs": [
    {
     "data": {
      "text/plain": [
       "dict_keys(['ids', 'distances', 'metadatas', 'embeddings', 'documents', 'uris', 'data', 'included'])"
      ]
     },
     "execution_count": 26,
     "metadata": {},
     "output_type": "execute_result"
    }
   ],
   "source": [
    "result.keys()"
   ]
  },
  {
   "cell_type": "code",
   "execution_count": 27,
   "id": "96158c41-a4d5-4f49-8d71-a0bce7db1a36",
   "metadata": {},
   "outputs": [
    {
     "data": {
      "text/plain": [
       "[[1.619748592376709,\n",
       "  1.6538150310516357,\n",
       "  1.743884563446045,\n",
       "  1.7535734176635742,\n",
       "  1.7700294256210327]]"
      ]
     },
     "execution_count": 27,
     "metadata": {},
     "output_type": "execute_result"
    }
   ],
   "source": [
    "result['distances']"
   ]
  },
  {
   "cell_type": "code",
   "execution_count": 28,
   "id": "5b350691-4b07-48fa-8b62-3eb226956191",
   "metadata": {},
   "outputs": [
    {
     "name": "stdout",
     "output_type": "stream",
     "text": [
      "I saw this film at the Chicago Reeling film festival. To pick up on the previous reviewer's remarks, the claustrophobic feel and off colors of the film is I sense quite intentional and conveys the sense of limited space, drab architecture, overall drabness that constitutes the urban environment of most people in Eastern and Central Europe. A bit shabby housing project style is how I'd describe it, and this is how many people live on the outskirts of larger cities. I can't say that I'm familiar with Bucharest, Romania where the action unfolded, but I have visited and lived in Eastern Europe for six months. <br /><br />When I visited Russia as a student for a semester, my entire group had to drag their luggage seven stories up the staircase of a shabby student dorm building, just as the heroine does when moving in with a woman, because the elevators weren't working. But, I do concur with the reviewer, that the claustrophobia and muted colors, it's overdone, for there are, to be sure, beautiful historic buildings, parks, squares you can find in Bucharest or in any historic city center of Eastern Europe, and Bucharest's didn't get much of any footage in this film. For me watching this film conveys well the claustrophobia that I would feel during my half-year stay there, feeling trapped and limited. (It makes you see why someone would want to immigrate and find a better life, just as people if hope to escape from a United States urban ghetto.) <br /><br />Also, given the climate of homophobia, say, circa, US in the 1980s, the two young women who fall in love with one another are forced to keep their love a very private matter; hence, the focus on their interaction in the apartment.<br /><br />It's remarkable and commendable in my view that this queer themed film was even made in Romania, and I find the complaint of the previous reviewer about the poor film quality quite uninformed and patronizing. It's unlikely that the director and producer drummed up much government support and funding for their film, and they did the best they could with their likely limited resources. The actors were fairly good and believable; the dialog was overall well done, and I could identity with these women.<br /><br />The film offers an added twist to that of forbidden love between two young women, Kiki, an energetic, fun-loving free spirit with a dark, troubling secret (her admiration and love for an abusive, incestuous brother, Sandu) falls in love with Alexandra, a bright, bookish, idealistic young woman who moves to Bucharest to begin her college studies. Opposites attract, and their personalities seem to complement one another, though there is some tension between the ambitious, studious, intellectual Alexandra and Kiki, who seems to be attending college to please her parents. Keeping their love hidden from their parents seems manageable, though we don't get any sense of the tension it requires, nor do we ever see or meet any other students--hard to believe--and the tension keeping their love secret would have entailed. The chief threat to their love is Kiki's brother and her difficulty in trying to severe her relation to him. But Kiki's love for Alexandra seems to give her the strength she needs to finally severe this bond, or does it? That's what the suspense of the film focuses on as the narrative develops, and I won't say how it concludes.<br /><br />Ironically, Kiki's love \"sickness\" isn't love for another woman, but her illicit, incestuous love for her brother. Thus, loving a woman offers the potential cure to the sickness of loving a sibling. <br /><br />Though this feel of this film is stifling and claustrophobic, overly confined to interactions between Kiki and Alexandra, it was still engaging and moving to watch, so I'll give it a 7.\n",
      "---\n",
      "I saw this with few expectations and absolutely loved it! Bend it like Beckham is a fairly typical coming-of-age movie about a fairly atypical girl. This is Parminder Nagra (\"ER\")'s breakout role, playing Jess, a teenager in England who is caught between her traditional Indian family and her love of football (that's soccer to us North Americans). And even though she's actually much older than her character, she plays the role pitch-perfect.<br /><br />This is a movie about friendship - specifically Jess's friendship with Jules (Keira Knightley), her teammate who is also going through family issues, especially with her mom, who wears purple nail polish and little bows on her shoes, and who wants Jules to be more feminine, wear lacy underwear and flirt with boys and is terrified that playing sports means her daughter is a lesbian. Jules and Jess both love playing the game and have issues trying to convince their families to let them go after their dreams. They also, unfortunately, both love the same man - Joe, their coach (played by Jonathan Rhys-Meyers). The love triangle causes some strain in their friendship.<br /><br />In some spots, Bend It Like Beckham falls into clichés. In others, scenes drag on far too long, and this movie probably could have benefited from overall tighter editing.<br /><br />But this was a refreshingly fun film about growing up, culture clash, and the love of football. It's about female empowerment, chasing your dreams, and supporting your friends. Funny, charming and fun, Bend It Like Beckham is the little film that could... and did.<br /><br />Excellent. 8/10.\n",
      "---\n",
      "as i said in the other comment this is one of the best teen movies of all time,and one of my personal favorites. to me this movie is the second best teen movie of all time. second only to the breakfast club. the last american virgin is also maybe the most honest teen movie of all time. it's underrated,and pretty much an unknown movie to a lot of people. it comes on TBS maybe once a year,but sometimes longer. the first half of this movie is a sex comedy with a few honest scenes. then the second half is pure honest,and most of the time serious. with only a few comic scenes. in my opinion this is the best soundtrack of all time. i've never heard this many great songs in one movie before. there are 4 love songs in this movie that i think are some of the best love songs in history. the movie is about a pizza boy named gary who is a virgin. hes in high school who has a couple of best friends. his two friends are sex-sarved teens. the first half of the movie is pretty much sexual misadventures. that are very funny. gary is major in love with the new girl in school. he later finds out that his best friend is going out with her. he also cheats on the side. you can feel the love gary has for this girl very much. you can feel it even more in the second half. gary's friend turns out to be a creep. but his other friend is pretty cool. the movie shows how mean people can be. you can relate to a lot of this movie. the plot sounds like your typcial teen sex comedy. but it's so much more than that. it's a very honest movie. it's also very 80ish which i love. if you love the 80's or grew-up in the 80's,rent this movie. but there may be some people that don't like the 80's,but still may like this movie. i first saw this movie back in 1987 i think. it's very entertaining,and very funny. it combines very touching moments with very funny moments. it's an underrated gem! i have the movie. i love it! i give the last american virgin ***1/2 out of ****\n",
      "---\n",
      "To my surprise I quite enjoyed 'Spacecamp', i remember seeing it about 13 years ago, and recently I hired it again. I was quite impressed. Obviously the special effects in todays space films such as Armageddon and Deep Impact are far superior to those in SpaceCamp. However, this film had a story- a very stereotypical eighties story where you could almost recite the next line of dialogue before hearing it. But thats what I liked about it- they don't make films like this anymore, so it was a refreshing change. It was interesting to see Kelly Preston, Leaf Phoenix and Lea Thomson in early roles, with Tom Skerrit and Kate Capshaw to add substance to the light & fluffy plot. Absolutely loved the robot named Jinx, it was very cute, but it unfortunately had more emotion than some of the main characters. The film was almost inspirational in its own way, and it was interesting to note that it was filmed at the NASA Spacecamp in Alabama (i think).\n",
      "---\n",
      "Why do all movies on Lifetime have such anemic titles? \"An Unexpected Love\" - ooh, how provocative!! \"This Much I know\" would have been better. The film is nothing special. Real people don't really talk like these characters do and the situations are really hackneyed. The straight woman who \"turns\" lesbian seemed more butch than the lesbian character. If you wanna watch two hot women kiss in a very discreet fashion, you might enjoy this. Although it seems like it was written by someone who doesn't really get out in the world to observe people. Why am I wasting my time writing about it?\n",
      "---\n"
     ]
    }
   ],
   "source": [
    "for idx, review in enumerate(result['metadatas'][0]):\n",
    "    print(review['review'])\n",
    "    print('---')"
   ]
  },
  {
   "cell_type": "code",
   "execution_count": null,
   "id": "d489f8f1-9f9d-41b7-96e4-3ec5aa361b80",
   "metadata": {},
   "outputs": [],
   "source": []
  }
 ],
 "metadata": {
  "kernelspec": {
   "display_name": "Python 3 (ipykernel)",
   "language": "python",
   "name": "python3"
  },
  "language_info": {
   "codemirror_mode": {
    "name": "ipython",
    "version": 3
   },
   "file_extension": ".py",
   "mimetype": "text/x-python",
   "name": "python",
   "nbconvert_exporter": "python",
   "pygments_lexer": "ipython3",
   "version": "3.12.4"
  }
 },
 "nbformat": 4,
 "nbformat_minor": 5
}
