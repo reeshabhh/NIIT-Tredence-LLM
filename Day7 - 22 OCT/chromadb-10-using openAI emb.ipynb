{
 "cells": [
  {
   "cell_type": "markdown",
   "id": "841c8d42-785b-4837-9d16-cb91e0ecd450",
   "metadata": {},
   "source": [
    "-------------------------\n",
    "#### Use of OpenAI embedding function\n",
    "\n",
    "- against a pre-created dataset (with GPT vectors of dim 1536)\n",
    "\n",
    "-----------------------------"
   ]
  },
  {
   "cell_type": "code",
   "execution_count": 1,
   "id": "a11fc272-e5a2-46d9-8fbd-73db91d2923a",
   "metadata": {},
   "outputs": [],
   "source": [
    "#pip install wget"
   ]
  },
  {
   "cell_type": "code",
   "execution_count": 2,
   "id": "0dd3e824-544d-4e88-8fea-64eba11a5ec9",
   "metadata": {},
   "outputs": [],
   "source": [
    "import openai\n",
    "import pandas as pd\n",
    "import os\n",
    "import wget\n",
    "\n",
    "from ast import literal_eval"
   ]
  },
  {
   "cell_type": "code",
   "execution_count": 3,
   "id": "d2152911-71aa-41fb-86e7-15738118a922",
   "metadata": {},
   "outputs": [],
   "source": [
    "# Chroma's client library for Python\n",
    "import chromadb"
   ]
  },
  {
   "cell_type": "code",
   "execution_count": 4,
   "id": "68d2d8e1-2ae6-42ba-a3cf-90e6dd9f360e",
   "metadata": {},
   "outputs": [],
   "source": [
    "EMBEDDING_MODEL = \"text-embedding-3-small\""
   ]
  },
  {
   "cell_type": "code",
   "execution_count": 5,
   "id": "8bd13459-cce7-446a-9a6f-8b940f01b3af",
   "metadata": {},
   "outputs": [],
   "source": [
    "# Ignore unclosed SSL socket warnings - optional in case you get these errors\n",
    "import warnings\n",
    "\n",
    "warnings.filterwarnings(action=\"ignore\", message=\"unclosed\", category=ResourceWarning)\n",
    "warnings.filterwarnings(\"ignore\", category=DeprecationWarning) "
   ]
  },
  {
   "cell_type": "markdown",
   "id": "9d8efeb2-c913-45cc-b618-409e0b6eba24",
   "metadata": {},
   "source": [
    "#### load time"
   ]
  },
  {
   "cell_type": "code",
   "execution_count": 6,
   "id": "d2952976-56aa-43dd-bed5-7f46db70de10",
   "metadata": {},
   "outputs": [
    {
     "name": "stdout",
     "output_type": "stream",
     "text": [
      "100% [......................................................................] 698933052 / 698933052"
     ]
    },
    {
     "data": {
      "text/plain": [
       "'D:\\\\AI-DATASETS\\\\02-MISC-large\\\\GenAI-LLMs\\\\chromadb/vector_database_wikipedia_articles_embedded (1).zip'"
      ]
     },
     "execution_count": 6,
     "metadata": {},
     "output_type": "execute_result"
    }
   ],
   "source": [
    "embeddings_url = 'https://cdn.openai.com/API/examples/data/vector_database_wikipedia_articles_embedded.zip'\n",
    "\n",
    "# # The file is ~700 MB so this will take some time ... 3 mins\n",
    "wget.download(embeddings_url, \n",
    "              out=r'D:\\AI-DATASETS\\02-MISC-large\\GenAI-LLMs\\chromadb')"
   ]
  },
  {
   "cell_type": "code",
   "execution_count": 8,
   "id": "91c8865c-6942-4ef4-8339-6942e482ea2c",
   "metadata": {},
   "outputs": [],
   "source": [
    "import zipfile"
   ]
  },
  {
   "cell_type": "code",
   "execution_count": 9,
   "id": "be33fe2b-2801-4b24-a733-631ad61ef329",
   "metadata": {},
   "outputs": [],
   "source": [
    "zip_location = r'D:\\AI-DATASETS\\02-MISC-large\\GenAI-LLMs\\chromadb\\vector_database_wikipedia_articles_embedded.zip'"
   ]
  },
  {
   "cell_type": "code",
   "execution_count": 10,
   "id": "7acd2da0-bf17-4dc6-ada6-06b4dec1a8ed",
   "metadata": {},
   "outputs": [],
   "source": [
    "unzip_location = r'D:\\AI-DATASETS\\02-MISC-large\\GenAI-LLMs\\chromadb\\data'"
   ]
  },
  {
   "cell_type": "code",
   "execution_count": 11,
   "id": "1013c276-7a02-49fd-b79f-1e9575b89b9a",
   "metadata": {},
   "outputs": [],
   "source": [
    "with zipfile.ZipFile(zip_location,\"r\") as zip_ref:\n",
    "    zip_ref.extractall(unzip_location)"
   ]
  },
  {
   "cell_type": "code",
   "execution_count": 12,
   "id": "16bb2ac4-683e-4f83-b06b-67dc015c2e31",
   "metadata": {},
   "outputs": [],
   "source": [
    "csv_location = r'D:\\AI-DATASETS\\02-MISC-large\\GenAI-LLMs\\chromadb\\data\\vector_database_wikipedia_articles_embedded.csv'"
   ]
  },
  {
   "cell_type": "code",
   "execution_count": 13,
   "id": "3227b826-c6f8-4dac-a895-36318ab69db6",
   "metadata": {},
   "outputs": [],
   "source": [
    "article_df = pd.read_csv(csv_location)"
   ]
  },
  {
   "cell_type": "code",
   "execution_count": 14,
   "id": "96d15810-7e64-40c3-bfce-d9795cdd557d",
   "metadata": {},
   "outputs": [
    {
     "data": {
      "text/plain": [
       "(25000, 7)"
      ]
     },
     "execution_count": 14,
     "metadata": {},
     "output_type": "execute_result"
    }
   ],
   "source": [
    "article_df.shape"
   ]
  },
  {
   "cell_type": "code",
   "execution_count": 15,
   "id": "f0969d8f-0916-4996-a416-a02ab6b9fd7c",
   "metadata": {},
   "outputs": [
    {
     "data": {
      "text/html": [
       "<div>\n",
       "<style scoped>\n",
       "    .dataframe tbody tr th:only-of-type {\n",
       "        vertical-align: middle;\n",
       "    }\n",
       "\n",
       "    .dataframe tbody tr th {\n",
       "        vertical-align: top;\n",
       "    }\n",
       "\n",
       "    .dataframe thead th {\n",
       "        text-align: right;\n",
       "    }\n",
       "</style>\n",
       "<table border=\"1\" class=\"dataframe\">\n",
       "  <thead>\n",
       "    <tr style=\"text-align: right;\">\n",
       "      <th></th>\n",
       "      <th>id</th>\n",
       "      <th>url</th>\n",
       "      <th>title</th>\n",
       "      <th>text</th>\n",
       "      <th>title_vector</th>\n",
       "      <th>content_vector</th>\n",
       "      <th>vector_id</th>\n",
       "    </tr>\n",
       "  </thead>\n",
       "  <tbody>\n",
       "    <tr>\n",
       "      <th>0</th>\n",
       "      <td>1</td>\n",
       "      <td>https://simple.wikipedia.org/wiki/April</td>\n",
       "      <td>April</td>\n",
       "      <td>April is the fourth month of the year in the J...</td>\n",
       "      <td>[0.001009464613161981, -0.020700545981526375, ...</td>\n",
       "      <td>[-0.011253940872848034, -0.013491976074874401,...</td>\n",
       "      <td>0</td>\n",
       "    </tr>\n",
       "    <tr>\n",
       "      <th>1</th>\n",
       "      <td>2</td>\n",
       "      <td>https://simple.wikipedia.org/wiki/August</td>\n",
       "      <td>August</td>\n",
       "      <td>August (Aug.) is the eighth month of the year ...</td>\n",
       "      <td>[0.0009286514250561595, 0.000820168002974242, ...</td>\n",
       "      <td>[0.0003609954728744924, 0.007262262050062418, ...</td>\n",
       "      <td>1</td>\n",
       "    </tr>\n",
       "    <tr>\n",
       "      <th>2</th>\n",
       "      <td>6</td>\n",
       "      <td>https://simple.wikipedia.org/wiki/Art</td>\n",
       "      <td>Art</td>\n",
       "      <td>Art is a creative activity that expresses imag...</td>\n",
       "      <td>[0.003393713850528002, 0.0061537534929811954, ...</td>\n",
       "      <td>[-0.004959689453244209, 0.015772193670272827, ...</td>\n",
       "      <td>2</td>\n",
       "    </tr>\n",
       "    <tr>\n",
       "      <th>3</th>\n",
       "      <td>8</td>\n",
       "      <td>https://simple.wikipedia.org/wiki/A</td>\n",
       "      <td>A</td>\n",
       "      <td>A or a is the first letter of the English alph...</td>\n",
       "      <td>[0.0153952119871974, -0.013759135268628597, 0....</td>\n",
       "      <td>[0.024894846603274345, -0.022186409682035446, ...</td>\n",
       "      <td>3</td>\n",
       "    </tr>\n",
       "    <tr>\n",
       "      <th>4</th>\n",
       "      <td>9</td>\n",
       "      <td>https://simple.wikipedia.org/wiki/Air</td>\n",
       "      <td>Air</td>\n",
       "      <td>Air refers to the Earth's atmosphere. Air is a...</td>\n",
       "      <td>[0.02224554680287838, -0.02044147066771984, -0...</td>\n",
       "      <td>[0.021524671465158463, 0.018522677943110466, -...</td>\n",
       "      <td>4</td>\n",
       "    </tr>\n",
       "  </tbody>\n",
       "</table>\n",
       "</div>"
      ],
      "text/plain": [
       "   id                                       url   title  \\\n",
       "0   1   https://simple.wikipedia.org/wiki/April   April   \n",
       "1   2  https://simple.wikipedia.org/wiki/August  August   \n",
       "2   6     https://simple.wikipedia.org/wiki/Art     Art   \n",
       "3   8       https://simple.wikipedia.org/wiki/A       A   \n",
       "4   9     https://simple.wikipedia.org/wiki/Air     Air   \n",
       "\n",
       "                                                text  \\\n",
       "0  April is the fourth month of the year in the J...   \n",
       "1  August (Aug.) is the eighth month of the year ...   \n",
       "2  Art is a creative activity that expresses imag...   \n",
       "3  A or a is the first letter of the English alph...   \n",
       "4  Air refers to the Earth's atmosphere. Air is a...   \n",
       "\n",
       "                                        title_vector  \\\n",
       "0  [0.001009464613161981, -0.020700545981526375, ...   \n",
       "1  [0.0009286514250561595, 0.000820168002974242, ...   \n",
       "2  [0.003393713850528002, 0.0061537534929811954, ...   \n",
       "3  [0.0153952119871974, -0.013759135268628597, 0....   \n",
       "4  [0.02224554680287838, -0.02044147066771984, -0...   \n",
       "\n",
       "                                      content_vector  vector_id  \n",
       "0  [-0.011253940872848034, -0.013491976074874401,...          0  \n",
       "1  [0.0003609954728744924, 0.007262262050062418, ...          1  \n",
       "2  [-0.004959689453244209, 0.015772193670272827, ...          2  \n",
       "3  [0.024894846603274345, -0.022186409682035446, ...          3  \n",
       "4  [0.021524671465158463, 0.018522677943110466, -...          4  "
      ]
     },
     "execution_count": 15,
     "metadata": {},
     "output_type": "execute_result"
    }
   ],
   "source": [
    "article_df.head()"
   ]
  },
  {
   "cell_type": "code",
   "execution_count": 16,
   "id": "b39fc5a5-dfb5-475a-9d2e-75115bc7b26d",
   "metadata": {},
   "outputs": [],
   "source": [
    "# Set the maximum column width to 100 characters\n",
    "pd.set_option('display.max_colwidth', 100)"
   ]
  },
  {
   "cell_type": "code",
   "execution_count": 17,
   "id": "1e14db5f-59ed-4836-9388-08be8441d0cb",
   "metadata": {},
   "outputs": [
    {
     "data": {
      "text/html": [
       "<div>\n",
       "<style scoped>\n",
       "    .dataframe tbody tr th:only-of-type {\n",
       "        vertical-align: middle;\n",
       "    }\n",
       "\n",
       "    .dataframe tbody tr th {\n",
       "        vertical-align: top;\n",
       "    }\n",
       "\n",
       "    .dataframe thead th {\n",
       "        text-align: right;\n",
       "    }\n",
       "</style>\n",
       "<table border=\"1\" class=\"dataframe\">\n",
       "  <thead>\n",
       "    <tr style=\"text-align: right;\">\n",
       "      <th></th>\n",
       "      <th>title</th>\n",
       "      <th>text</th>\n",
       "    </tr>\n",
       "  </thead>\n",
       "  <tbody>\n",
       "    <tr>\n",
       "      <th>10552</th>\n",
       "      <td>Heroin</td>\n",
       "      <td>Heroin is a drug. It is also known as Diacetylmorphine or Diamorphine. Heroin was originally a t...</td>\n",
       "    </tr>\n",
       "    <tr>\n",
       "      <th>19139</th>\n",
       "      <td>Lewis</td>\n",
       "      <td>Lewis is the northern part of Lewis and Harris, the largest island in the Western Isles (or Oute...</td>\n",
       "    </tr>\n",
       "    <tr>\n",
       "      <th>18407</th>\n",
       "      <td>Mark Wahlberg</td>\n",
       "      <td>Mark Robert Michael Wahlberg (born June 5, 1971) is an American actor and television and movie p...</td>\n",
       "    </tr>\n",
       "    <tr>\n",
       "      <th>13452</th>\n",
       "      <td>Passion bearer</td>\n",
       "      <td>In Russian Orthodox Christianity, a passion bearer is someone who faces their death in a Christi...</td>\n",
       "    </tr>\n",
       "    <tr>\n",
       "      <th>5977</th>\n",
       "      <td>Mauritania</td>\n",
       "      <td>Mauritania is a country in northwest Africa. The capital city, which is also the biggest city in...</td>\n",
       "    </tr>\n",
       "    <tr>\n",
       "      <th>16219</th>\n",
       "      <td>Tipi</td>\n",
       "      <td>A tipi (also called tepee or teepee) is a kind of tent. It is cone-shaped. They were made by Nat...</td>\n",
       "    </tr>\n",
       "    <tr>\n",
       "      <th>8090</th>\n",
       "      <td>Demeter</td>\n",
       "      <td>Demeter (Attic Greek: Δημήτηρ, Dēmḗtēr; Doric: Δαμάτηρ, Dāmā́tēr) is the goddess of the harvest ...</td>\n",
       "    </tr>\n",
       "    <tr>\n",
       "      <th>20702</th>\n",
       "      <td>42 (number)</td>\n",
       "      <td>Forty-two is a number. It comes between forty-one and forty-three, and is an even number. It is ...</td>\n",
       "    </tr>\n",
       "    <tr>\n",
       "      <th>18231</th>\n",
       "      <td>Izumo Province</td>\n",
       "      <td>was an old province of Japan in the area of Shimane Prefecture on the island of Honshū. It was s...</td>\n",
       "    </tr>\n",
       "    <tr>\n",
       "      <th>19180</th>\n",
       "      <td>List of members of the Red Army Faction</td>\n",
       "      <td>This is a list of Members of the Red Army Faction. After Andreas Baader escaped from jail in 197...</td>\n",
       "    </tr>\n",
       "  </tbody>\n",
       "</table>\n",
       "</div>"
      ],
      "text/plain": [
       "                                         title  \\\n",
       "10552                                   Heroin   \n",
       "19139                                    Lewis   \n",
       "18407                            Mark Wahlberg   \n",
       "13452                           Passion bearer   \n",
       "5977                                Mauritania   \n",
       "16219                                     Tipi   \n",
       "8090                                   Demeter   \n",
       "20702                              42 (number)   \n",
       "18231                           Izumo Province   \n",
       "19180  List of members of the Red Army Faction   \n",
       "\n",
       "                                                                                                      text  \n",
       "10552  Heroin is a drug. It is also known as Diacetylmorphine or Diamorphine. Heroin was originally a t...  \n",
       "19139  Lewis is the northern part of Lewis and Harris, the largest island in the Western Isles (or Oute...  \n",
       "18407  Mark Robert Michael Wahlberg (born June 5, 1971) is an American actor and television and movie p...  \n",
       "13452  In Russian Orthodox Christianity, a passion bearer is someone who faces their death in a Christi...  \n",
       "5977   Mauritania is a country in northwest Africa. The capital city, which is also the biggest city in...  \n",
       "16219  A tipi (also called tepee or teepee) is a kind of tent. It is cone-shaped. They were made by Nat...  \n",
       "8090   Demeter (Attic Greek: Δημήτηρ, Dēmḗtēr; Doric: Δαμάτηρ, Dāmā́tēr) is the goddess of the harvest ...  \n",
       "20702  Forty-two is a number. It comes between forty-one and forty-three, and is an even number. It is ...  \n",
       "18231  was an old province of Japan in the area of Shimane Prefecture on the island of Honshū. It was s...  \n",
       "19180  This is a list of Members of the Red Army Faction. After Andreas Baader escaped from jail in 197...  "
      ]
     },
     "execution_count": 17,
     "metadata": {},
     "output_type": "execute_result"
    }
   ],
   "source": [
    "article_df[['title',\t'text']].sample(10)"
   ]
  },
  {
   "cell_type": "code",
   "execution_count": 18,
   "id": "a77db82e-8820-478c-81ae-3dc7a1a49ea9",
   "metadata": {},
   "outputs": [],
   "source": [
    "article_df_1500 = article_df.sample(1500)"
   ]
  },
  {
   "cell_type": "code",
   "execution_count": 19,
   "id": "c21f63a7-fc20-4458-a4b9-8b8c94737db2",
   "metadata": {},
   "outputs": [
    {
     "name": "stdout",
     "output_type": "stream",
     "text": [
      "CPU times: total: 15.9 s\n",
      "Wall time: 32.7 s\n"
     ]
    }
   ],
   "source": [
    "%%time\n",
    "# Read vectors from strings back into a list\n",
    "article_df_1500['title_vector']   = article_df_1500.title_vector.apply(literal_eval)\n",
    "article_df_1500['content_vector'] = article_df_1500.content_vector.apply(literal_eval)"
   ]
  },
  {
   "cell_type": "markdown",
   "id": "53eb6bf8-e535-4077-bdfe-c67b2dd5838b",
   "metadata": {},
   "source": [
    "- Convert string representations of vectors back into Python list objects\n",
    "- This is necessary because vectors saved as strings (e.g., in a CSV or database) need to be \n",
    "- converted back to lists to be used in calculations or machine learning models.\n",
    "\n",
    "Explanation:\n",
    "- literal_eval safely evaluates a string containing a Python expression (like a list) and converts it into a corresponding Python object.\n",
    "- When vectors are stored in a DataFrame as strings (e.g., \"[0.25, 0.89, 0.56]\"), \n",
    "- we need to convert them back into actual lists (e.g., [0.25, 0.89, 0.56]) for further use.\n"
   ]
  },
  {
   "cell_type": "code",
   "execution_count": 20,
   "id": "d78e5479-3452-463d-9e8b-ab0f39458f18",
   "metadata": {},
   "outputs": [
    {
     "data": {
      "text/plain": [
       "(1536, 1536)"
      ]
     },
     "execution_count": 20,
     "metadata": {},
     "output_type": "execute_result"
    }
   ],
   "source": [
    "len(article_df_1500.iloc[0]['title_vector']), len(article_df_1500.iloc[0]['content_vector'])"
   ]
  },
  {
   "cell_type": "code",
   "execution_count": 21,
   "id": "ebb66cc9-5057-455a-aff0-f6511319a5f5",
   "metadata": {},
   "outputs": [],
   "source": [
    "# Set vector_id to be a string\n",
    "article_df_1500['vector_id'] = article_df_1500['vector_id'].apply(str)"
   ]
  },
  {
   "cell_type": "markdown",
   "id": "7a88d353-7f34-466a-b024-9bd2d977e6c8",
   "metadata": {},
   "source": [
    "#### Using Chroma DB\n",
    "\n",
    "- `Instantiate the Chroma Client`\n",
    "\n",
    "    - We'll start by creating a client instance to interact with the Chroma database.\n",
    "    \n",
    "- `Create Collections for Each Class of Embedding`\n",
    "\n",
    "    - Collections in Chroma allow you to group embeddings based on specific criteria or use cases. Each collection can store embeddings that correspond to a particular class or type, such as text embeddings, image embeddings, etc.\n",
    "    \n",
    "- `Query Each Collection`\n",
    "\n",
    "    - Finally, we'll perform queries on each collection to find the most similar embeddings. This could be used for tasks such as document retrieval, semantic search, or recommendation systems."
   ]
  },
  {
   "cell_type": "markdown",
   "id": "2e11f043-e375-433a-a879-a5fe99185a84",
   "metadata": {},
   "source": [
    "#### Instantiate the Chroma client\n",
    "\n",
    "Create the Chroma client. By default, Chroma is ephemeral and runs in memory. However, you can easily set up a persistent configuration which writes to disk."
   ]
  },
  {
   "cell_type": "code",
   "execution_count": 22,
   "id": "5fb7d955-23d8-4c26-8a7e-04ac22cf65cd",
   "metadata": {},
   "outputs": [],
   "source": [
    "chroma_client = chromadb.EphemeralClient() \n",
    "\n",
    "# Equivalent to chromadb.Client(), ephemeral.\n",
    "# Uncomment for persistent client\n",
    "# chroma_client = chromadb.PersistentClient()"
   ]
  },
  {
   "cell_type": "code",
   "execution_count": 23,
   "id": "89713191-419b-459e-9a06-b40cf2a48be0",
   "metadata": {},
   "outputs": [],
   "source": [
    "from chromadb.utils.embedding_functions import OpenAIEmbeddingFunction"
   ]
  },
  {
   "cell_type": "code",
   "execution_count": 24,
   "id": "c41c8711-2098-43e6-be40-156ed3a7be78",
   "metadata": {},
   "outputs": [],
   "source": [
    "# Load OpenAI API key from environment variables\n",
    "openai_api_key = os.getenv('OPENAI_API_KEY')"
   ]
  },
  {
   "cell_type": "code",
   "execution_count": 25,
   "id": "6b9f200b-cdbd-49a2-bbac-d6753dfd325f",
   "metadata": {},
   "outputs": [],
   "source": [
    "embedding_function = OpenAIEmbeddingFunction(\n",
    "    api_key   = openai_api_key, \n",
    "    model_name= EMBEDDING_MODEL)"
   ]
  },
  {
   "cell_type": "code",
   "execution_count": 26,
   "id": "331932cd-44ff-4126-b30f-202df1eec458",
   "metadata": {},
   "outputs": [],
   "source": [
    "wikipedia_content_collection = chroma_client.create_collection(name='wikipedia_content', \n",
    "                                                               embedding_function=embedding_function)\n",
    "\n",
    "wikipedia_title_collection   = chroma_client.create_collection(name='wikipedia_titles', \n",
    "                                                               embedding_function=embedding_function)"
   ]
  },
  {
   "cell_type": "code",
   "execution_count": 27,
   "id": "c0738850-0faa-4baf-ba10-d9e53e79efbf",
   "metadata": {},
   "outputs": [],
   "source": [
    "# Add the content vectors\n",
    "wikipedia_content_collection.add(\n",
    "    ids       = article_df_1500.vector_id.tolist(),\n",
    "    embeddings= article_df_1500.content_vector.tolist(),\n",
    ")\n",
    "\n",
    "# Add the title vectors\n",
    "wikipedia_title_collection.add(\n",
    "    ids       = article_df_1500.vector_id.tolist(),\n",
    "    embeddings= article_df_1500.title_vector.tolist(),\n",
    ")"
   ]
  },
  {
   "cell_type": "code",
   "execution_count": 28,
   "id": "41aab947-7f6c-411a-bbf9-68e3c2f25062",
   "metadata": {},
   "outputs": [],
   "source": [
    "def query_collection(collection, query, max_results, dataframe):\n",
    "    \n",
    "    results = collection.query(query_texts= query, \n",
    "                               n_results  = max_results, \n",
    "                               include    = ['distances']) \n",
    "    \n",
    "    df = pd.DataFrame({\n",
    "                'id':results['ids'][0], \n",
    "                'score':results['distances'][0],\n",
    "                'title': dataframe[dataframe.vector_id.isin(results['ids'][0])]['title'],\n",
    "                'content': dataframe[dataframe.vector_id.isin(results['ids'][0])]['text'],\n",
    "                })\n",
    "    \n",
    "    return df"
   ]
  },
  {
   "cell_type": "code",
   "execution_count": 29,
   "id": "896c85f1-8a0d-45ee-b390-dda33731f76d",
   "metadata": {},
   "outputs": [
    {
     "data": {
      "text/html": [
       "<div>\n",
       "<style scoped>\n",
       "    .dataframe tbody tr th:only-of-type {\n",
       "        vertical-align: middle;\n",
       "    }\n",
       "\n",
       "    .dataframe tbody tr th {\n",
       "        vertical-align: top;\n",
       "    }\n",
       "\n",
       "    .dataframe thead th {\n",
       "        text-align: right;\n",
       "    }\n",
       "</style>\n",
       "<table border=\"1\" class=\"dataframe\">\n",
       "  <thead>\n",
       "    <tr style=\"text-align: right;\">\n",
       "      <th></th>\n",
       "      <th>id</th>\n",
       "      <th>score</th>\n",
       "      <th>title</th>\n",
       "      <th>content</th>\n",
       "    </tr>\n",
       "  </thead>\n",
       "  <tbody>\n",
       "    <tr>\n",
       "      <th>12425</th>\n",
       "      <td>12599</td>\n",
       "      <td>1.943676</td>\n",
       "      <td>Joseph Barbera</td>\n",
       "      <td>Joseph Roland \"Joe\" Barbera (March 24, 1911 – December 18, 2006) was an Italian American animato...</td>\n",
       "    </tr>\n",
       "    <tr>\n",
       "      <th>12599</th>\n",
       "      <td>19368</td>\n",
       "      <td>1.947997</td>\n",
       "      <td>The Good, the Bad and the Ugly</td>\n",
       "      <td>The Good, the Bad and the Ugly (1966) is a Spaghetti Western movie directed by Sergio Leone and ...</td>\n",
       "    </tr>\n",
       "    <tr>\n",
       "      <th>24314</th>\n",
       "      <td>24878</td>\n",
       "      <td>1.964057</td>\n",
       "      <td>Pop rock</td>\n",
       "      <td>Pop rock is a subgenre of pop music and rock music that uses catchy pop style, with light lyrics...</td>\n",
       "    </tr>\n",
       "    <tr>\n",
       "      <th>23128</th>\n",
       "      <td>24314</td>\n",
       "      <td>1.966040</td>\n",
       "      <td>Eurofighter Typhoon</td>\n",
       "      <td>The Eurofighter Typhoon is a jet fighter aircraft made by EADS, BAE Systems and Alenia Aeronauti...</td>\n",
       "    </tr>\n",
       "    <tr>\n",
       "      <th>24878</th>\n",
       "      <td>5205</td>\n",
       "      <td>1.974909</td>\n",
       "      <td>Folk rock</td>\n",
       "      <td>Folk rock music is a mixture of folk music with modern rock music. Folk rock began in the mid 19...</td>\n",
       "    </tr>\n",
       "  </tbody>\n",
       "</table>\n",
       "</div>"
      ],
      "text/plain": [
       "          id     score                           title  \\\n",
       "12425  12599  1.943676                  Joseph Barbera   \n",
       "12599  19368  1.947997  The Good, the Bad and the Ugly   \n",
       "24314  24878  1.964057                        Pop rock   \n",
       "23128  24314  1.966040             Eurofighter Typhoon   \n",
       "24878   5205  1.974909                       Folk rock   \n",
       "\n",
       "                                                                                                   content  \n",
       "12425  Joseph Roland \"Joe\" Barbera (March 24, 1911 – December 18, 2006) was an Italian American animato...  \n",
       "12599  The Good, the Bad and the Ugly (1966) is a Spaghetti Western movie directed by Sergio Leone and ...  \n",
       "24314  Pop rock is a subgenre of pop music and rock music that uses catchy pop style, with light lyrics...  \n",
       "23128  The Eurofighter Typhoon is a jet fighter aircraft made by EADS, BAE Systems and Alenia Aeronauti...  \n",
       "24878  Folk rock music is a mixture of folk music with modern rock music. Folk rock began in the mid 19...  "
      ]
     },
     "execution_count": 29,
     "metadata": {},
     "output_type": "execute_result"
    }
   ],
   "source": [
    "title_query_result = query_collection(\n",
    "    collection = wikipedia_title_collection,\n",
    "    query      = \"modern art in Europe\",\n",
    "    max_results= 10,\n",
    "    dataframe  = article_df_1500\n",
    ")\n",
    "\n",
    "title_query_result.head()"
   ]
  },
  {
   "cell_type": "code",
   "execution_count": null,
   "id": "601d823c-a0c5-4147-82d9-df3bd1c8dbb3",
   "metadata": {},
   "outputs": [],
   "source": []
  }
 ],
 "metadata": {
  "kernelspec": {
   "display_name": "Python 3 (ipykernel)",
   "language": "python",
   "name": "python3"
  },
  "language_info": {
   "codemirror_mode": {
    "name": "ipython",
    "version": 3
   },
   "file_extension": ".py",
   "mimetype": "text/x-python",
   "name": "python",
   "nbconvert_exporter": "python",
   "pygments_lexer": "ipython3",
   "version": "3.12.4"
  }
 },
 "nbformat": 4,
 "nbformat_minor": 5
}
