{
 "cells": [
  {
   "cell_type": "markdown",
   "id": "317241b7-a7b7-4ae7-9c11-692757062706",
   "metadata": {},
   "source": [
    "--------------------------\n",
    "#### Semantic text search using embeddings\n",
    "------------------------------\n",
    "- Semantic Search Efficiency:\n",
    "    - Utilizing embeddings allows for efficient semantic search through all reviews.\n",
    "    - The process involves embedding the search query and then identifying the most similar reviews.\n",
    "    - This method enables quick retrieval of relevant reviews based on semantic similarity.\n",
    "    \n",
    "- Low Cost:\n",
    "    - The cost-effectiveness of the search process is emphasized.\n",
    "    - Embedding-based search minimizes computational expenses while maintaining search accuracy.\n",
    "    - This approach offers an economical solution for exploring reviews in a semantically meaningful way."
   ]
  },
  {
   "cell_type": "code",
   "execution_count": 12,
   "id": "f1795be4-3ecf-42b2-82de-176ea1d9ca92",
   "metadata": {
    "tags": []
   },
   "outputs": [],
   "source": [
    "import pandas as pd\n",
    "import numpy as np\n",
    "\n",
    "from ast import literal_eval"
   ]
  },
  {
   "cell_type": "markdown",
   "id": "98f3d3e4-56a6-469c-963c-9ec81aa22352",
   "metadata": {},
   "source": [
    "#### load the saved embeddings (food reviews)"
   ]
  },
  {
   "cell_type": "code",
   "execution_count": 13,
   "id": "3e7ea21c-c678-4dc5-8a57-aeb9e273f28e",
   "metadata": {
    "tags": []
   },
   "outputs": [],
   "source": [
    "datafile_path = r\"D:\\AI-DATASETS\\02-MISC-large\\GenAI-LLMs\\amazon_food_reviews_with_embeddings_2k.csv\""
   ]
  },
  {
   "cell_type": "code",
   "execution_count": 14,
   "id": "445cec07-e95e-4d41-9144-df86cdaf9811",
   "metadata": {
    "tags": []
   },
   "outputs": [],
   "source": [
    "df = pd.read_csv(datafile_path)"
   ]
  },
  {
   "cell_type": "code",
   "execution_count": 15,
   "id": "cd5b36c5-85c5-462c-a847-8de55a730e07",
   "metadata": {
    "tags": []
   },
   "outputs": [
    {
     "data": {
      "text/html": [
       "<div>\n",
       "<style scoped>\n",
       "    .dataframe tbody tr th:only-of-type {\n",
       "        vertical-align: middle;\n",
       "    }\n",
       "\n",
       "    .dataframe tbody tr th {\n",
       "        vertical-align: top;\n",
       "    }\n",
       "\n",
       "    .dataframe thead th {\n",
       "        text-align: right;\n",
       "    }\n",
       "</style>\n",
       "<table border=\"1\" class=\"dataframe\">\n",
       "  <thead>\n",
       "    <tr style=\"text-align: right;\">\n",
       "      <th></th>\n",
       "      <th>Unnamed: 0</th>\n",
       "      <th>ProductId</th>\n",
       "      <th>UserId</th>\n",
       "      <th>Score</th>\n",
       "      <th>Summary</th>\n",
       "      <th>Text</th>\n",
       "      <th>combined</th>\n",
       "      <th>n_tokens</th>\n",
       "      <th>ada_embedding</th>\n",
       "    </tr>\n",
       "  </thead>\n",
       "  <tbody>\n",
       "    <tr>\n",
       "      <th>1105</th>\n",
       "      <td>358045</td>\n",
       "      <td>B0032CJPOK</td>\n",
       "      <td>A1KG2FZQW58S2F</td>\n",
       "      <td>4</td>\n",
       "      <td>It's not Mother's milk, but it's great formula!</td>\n",
       "      <td>After going back to work full-time, I really s...</td>\n",
       "      <td>Title: It's not Mother's milk, but it's great ...</td>\n",
       "      <td>641</td>\n",
       "      <td>[0.006337316706776619, 0.01719411462545395, -0...</td>\n",
       "    </tr>\n",
       "    <tr>\n",
       "      <th>1186</th>\n",
       "      <td>374637</td>\n",
       "      <td>B0077HIJYS</td>\n",
       "      <td>A3HVA6BTVB1UYP</td>\n",
       "      <td>5</td>\n",
       "      <td>good for low carbers and diabetics</td>\n",
       "      <td>compared to the usual white bread bun you migh...</td>\n",
       "      <td>Title: good for low carbers and diabetics; Con...</td>\n",
       "      <td>192</td>\n",
       "      <td>[-0.006478943862020969, -0.011089159175753593,...</td>\n",
       "    </tr>\n",
       "    <tr>\n",
       "      <th>1741</th>\n",
       "      <td>246790</td>\n",
       "      <td>B001EO5YO8</td>\n",
       "      <td>A171CP9ZEUR8B9</td>\n",
       "      <td>4</td>\n",
       "      <td>The taste we were looking for</td>\n",
       "      <td>We originally used this product in one particu...</td>\n",
       "      <td>Title: The taste we were looking for; Content:...</td>\n",
       "      <td>59</td>\n",
       "      <td>[0.008865384384989738, -0.01965092122554779, -...</td>\n",
       "    </tr>\n",
       "  </tbody>\n",
       "</table>\n",
       "</div>"
      ],
      "text/plain": [
       "      Unnamed: 0   ProductId          UserId  Score  \\\n",
       "1105      358045  B0032CJPOK  A1KG2FZQW58S2F      4   \n",
       "1186      374637  B0077HIJYS  A3HVA6BTVB1UYP      5   \n",
       "1741      246790  B001EO5YO8  A171CP9ZEUR8B9      4   \n",
       "\n",
       "                                              Summary  \\\n",
       "1105  It's not Mother's milk, but it's great formula!   \n",
       "1186               good for low carbers and diabetics   \n",
       "1741                    The taste we were looking for   \n",
       "\n",
       "                                                   Text  \\\n",
       "1105  After going back to work full-time, I really s...   \n",
       "1186  compared to the usual white bread bun you migh...   \n",
       "1741  We originally used this product in one particu...   \n",
       "\n",
       "                                               combined  n_tokens  \\\n",
       "1105  Title: It's not Mother's milk, but it's great ...       641   \n",
       "1186  Title: good for low carbers and diabetics; Con...       192   \n",
       "1741  Title: The taste we were looking for; Content:...        59   \n",
       "\n",
       "                                          ada_embedding  \n",
       "1105  [0.006337316706776619, 0.01719411462545395, -0...  \n",
       "1186  [-0.006478943862020969, -0.011089159175753593,...  \n",
       "1741  [0.008865384384989738, -0.01965092122554779, -...  "
      ]
     },
     "execution_count": 15,
     "metadata": {},
     "output_type": "execute_result"
    }
   ],
   "source": [
    "df.sample(3)"
   ]
  },
  {
   "cell_type": "code",
   "execution_count": 16,
   "id": "e93a29be-9cf5-4ea9-b45d-b1ef3e051978",
   "metadata": {
    "tags": []
   },
   "outputs": [
    {
     "name": "stdout",
     "output_type": "stream",
     "text": [
      "Wall time: 13.5 s\n"
     ]
    }
   ],
   "source": [
    "%%time\n",
    "# convert string to array\n",
    "df[\"embedding\"] = df.ada_embedding.apply(literal_eval).apply(np.array)"
   ]
  },
  {
   "cell_type": "markdown",
   "id": "660940dd-93b1-4bbf-8d81-aab6a47b5ddb",
   "metadata": {},
   "source": [
    "#### Search query\n",
    "\n",
    "- compare the cosine similarity of the embeddings of the query and the documents, and show top_n best matches."
   ]
  },
  {
   "cell_type": "code",
   "execution_count": 17,
   "id": "a14b5dde-9868-4a49-812d-3a18a95d1089",
   "metadata": {
    "tags": []
   },
   "outputs": [],
   "source": [
    "from openai import OpenAI\n",
    "import json\n",
    "import os"
   ]
  },
  {
   "cell_type": "code",
   "execution_count": 18,
   "id": "c5a940f7-47b1-4322-8fa1-40760252845c",
   "metadata": {
    "tags": []
   },
   "outputs": [
    {
     "name": "stdout",
     "output_type": "stream",
     "text": [
      "OPENAI_API_KEY not set.\n"
     ]
    }
   ],
   "source": [
    "openai_api_key = os.environ.get('OPENAI_API_KEY')\n",
    "\n",
    "if openai_api_key is not None:\n",
    "    # Use the API key in your code\n",
    "    print(\"API Key:\", openai_api_key)\n",
    "else:\n",
    "    print(\"OPENAI_API_KEY not set.\")"
   ]
  },
  {
   "cell_type": "code",
   "execution_count": 19,
   "id": "a63206fc-6217-4f82-ade6-51644a3287ce",
   "metadata": {
    "tags": []
   },
   "outputs": [],
   "source": [
    "client = OpenAI(\n",
    "    #api_key = openai_api_key\n",
    ")"
   ]
  },
  {
   "cell_type": "code",
   "execution_count": 20,
   "id": "e4a461f7-8223-476b-a5b7-e080a76bbd2b",
   "metadata": {
    "id": "5c589abe-8a00-447e-ad4f-ce64be55a389",
    "tags": []
   },
   "outputs": [],
   "source": [
    "# models\n",
    "EMBEDDING_MODEL = \"text-embedding-ada-002\"\n",
    "GPT_MODEL       = \"gpt-3.5-turbo\""
   ]
  },
  {
   "cell_type": "code",
   "execution_count": 21,
   "id": "fb16a00a-fef7-42f8-9937-058e34da3802",
   "metadata": {
    "tags": []
   },
   "outputs": [],
   "source": [
    "import numpy as np\n",
    "from sklearn.metrics.pairwise import cosine_similarity\n",
    "\n",
    "def get_cosine_similarity(document_embeddings, query_embedding):\n",
    "    \"\"\"\n",
    "    Calculate cosine similarity between the query embedding and document embeddings.\n",
    "\n",
    "    Parameters:\n",
    "    - query_embedding: The embedding vector for the search query.\n",
    "    - document_embeddings: List of embeddings for the documents.\n",
    "\n",
    "    Returns:\n",
    "    - List of cosine similarities between the query and each document.\n",
    "    \"\"\"\n",
    "    similarities = cosine_similarity(query_embedding, document_embeddings)\n",
    "    return similarities.flatten()"
   ]
  },
  {
   "cell_type": "code",
   "execution_count": 22,
   "id": "caa7749c-f8cd-4bbc-9d87-30bde705f9ba",
   "metadata": {
    "tags": []
   },
   "outputs": [],
   "source": [
    "# For a specific query and documents\n",
    "query_embedding     = np.array([[0.1, 0.3, 0.5]])  \n",
    "\n",
    "document_embeddings = np.array([\n",
    "    [0.2, 0.4, 0.6],  \n",
    "    [0.15, 0.35, 0.55],\n",
    "   \n",
    "])"
   ]
  },
  {
   "cell_type": "code",
   "execution_count": 23,
   "id": "30e61340-7d69-47cd-9905-e96ebfa5d7e6",
   "metadata": {
    "tags": []
   },
   "outputs": [
    {
     "data": {
      "text/plain": [
       "array([[0.1],\n",
       "       [0.3],\n",
       "       [0.5]])"
      ]
     },
     "execution_count": 23,
     "metadata": {},
     "output_type": "execute_result"
    }
   ],
   "source": [
    "query_embedding.reshape(-1, 1)"
   ]
  },
  {
   "cell_type": "code",
   "execution_count": 24,
   "id": "69ef53d1-3ee9-4c45-9e11-8f1700b10ba4",
   "metadata": {
    "tags": []
   },
   "outputs": [
    {
     "data": {
      "text/plain": [
       "array([0.99385869, 0.99808276])"
      ]
     },
     "execution_count": 24,
     "metadata": {},
     "output_type": "execute_result"
    }
   ],
   "source": [
    "get_cosine_similarity(query_embedding, document_embeddings)"
   ]
  },
  {
   "cell_type": "code",
   "execution_count": 25,
   "id": "8d88d251-a77b-4e30-9b64-49394e9139e8",
   "metadata": {
    "tags": []
   },
   "outputs": [],
   "source": [
    "# search through the reviews for a specific product\n",
    "def get_sim_scores(df, query):\n",
    "    \n",
    "    response = client.embeddings.create(\n",
    "                    model          = EMBEDDING_MODEL, \n",
    "                    input          = query, \n",
    "                    encoding_format= \"float\"\n",
    "    )\n",
    "    \n",
    "    # obtain the embedding for the query\n",
    "    query_embedding = np.array(response.data[0].embedding)[np.newaxis, :]\n",
    "       \n",
    "    df[\"similarity\"] = df.embedding.apply(lambda x: get_cosine_similarity(x[np.newaxis, :], query_embedding))\n",
    "    \n",
    "    return df"
   ]
  },
  {
   "cell_type": "code",
   "execution_count": 26,
   "id": "c001ca2f-4506-488d-815d-1e38bb917850",
   "metadata": {
    "tags": []
   },
   "outputs": [],
   "source": [
    "df_with_sim_scores = get_sim_scores(df, \"delicious beans\")"
   ]
  },
  {
   "cell_type": "code",
   "execution_count": 28,
   "id": "ff98336e-42ad-4cb5-831d-371bebb45fc8",
   "metadata": {
    "tags": []
   },
   "outputs": [],
   "source": [
    "df_with_sim_scores_sorted = df_with_sim_scores.sort_values(\"similarity\", ascending=False)"
   ]
  },
  {
   "cell_type": "code",
   "execution_count": 29,
   "id": "4f97af97-1826-409d-8933-8df50f7fcd9b",
   "metadata": {
    "tags": []
   },
   "outputs": [
    {
     "data": {
      "text/plain": [
       "Index(['Unnamed: 0', 'ProductId', 'UserId', 'Score', 'Summary', 'Text',\n",
       "       'combined', 'n_tokens', 'ada_embedding', 'embedding', 'similarity'],\n",
       "      dtype='object')"
      ]
     },
     "execution_count": 29,
     "metadata": {},
     "output_type": "execute_result"
    }
   ],
   "source": [
    "df_with_sim_scores_sorted.columns"
   ]
  },
  {
   "cell_type": "code",
   "execution_count": 30,
   "id": "24af104e-7a96-4379-bb91-d4e4bae8be34",
   "metadata": {
    "tags": []
   },
   "outputs": [],
   "source": [
    "pd.set_option('max_colwidth', 300)"
   ]
  },
  {
   "cell_type": "code",
   "execution_count": 31,
   "id": "534e13ae-7fce-4cd5-b628-0e1e4b335f6c",
   "metadata": {
    "tags": []
   },
   "outputs": [
    {
     "data": {
      "text/html": [
       "<div>\n",
       "<style scoped>\n",
       "    .dataframe tbody tr th:only-of-type {\n",
       "        vertical-align: middle;\n",
       "    }\n",
       "\n",
       "    .dataframe tbody tr th {\n",
       "        vertical-align: top;\n",
       "    }\n",
       "\n",
       "    .dataframe thead th {\n",
       "        text-align: right;\n",
       "    }\n",
       "</style>\n",
       "<table border=\"1\" class=\"dataframe\">\n",
       "  <thead>\n",
       "    <tr style=\"text-align: right;\">\n",
       "      <th></th>\n",
       "      <th>combined</th>\n",
       "      <th>similarity</th>\n",
       "    </tr>\n",
       "  </thead>\n",
       "  <tbody>\n",
       "    <tr>\n",
       "      <th>968</th>\n",
       "      <td>Title: Amazing; Content: Nothing makes me feel at home more than a pot of blue runner red beans on the stove!! These red beans are the best. I'm so glad I can buy them here on amazon, my first two years of living away from Homs I had to bring them back with me or have someone send some! Now I ha...</td>\n",
       "      <td>[0.8566469739430351]</td>\n",
       "    </tr>\n",
       "    <tr>\n",
       "      <th>1985</th>\n",
       "      <td>Title: Good Buy; Content: I liked the beans. They were vacuum sealed, plump and moist. Would recommend them for any use. I personally split and stuck them in some vodka to make vanilla extract. Yum!</td>\n",
       "      <td>[0.8514052862675929]</td>\n",
       "    </tr>\n",
       "    <tr>\n",
       "      <th>1771</th>\n",
       "      <td>Title: Jamaican Blue beans; Content: Excellent coffee bean for roasting. Our family just purchased another 5 pounds for more roasting. Plenty of flavor and mild on acidity when roasted to a dark brown bean and before any oil appears on the bean itself (455F @ 17 minutes).</td>\n",
       "      <td>[0.8501681322246752]</td>\n",
       "    </tr>\n",
       "    <tr>\n",
       "      <th>1088</th>\n",
       "      <td>Title: Delicious!; Content: I enjoy this white beans seasoning, it gives a rich flavor to the beans I just love it, my mother in law didn't know about this Zatarain's brand and now she is traying different seasoning and she likes it very much.&lt;br /&gt;Thank you Amazon for having it because now I ca...</td>\n",
       "      <td>[0.8479964881101125]</td>\n",
       "    </tr>\n",
       "    <tr>\n",
       "      <th>1927</th>\n",
       "      <td>Title: Fantastic Instant Refried beans; Content: Fantastic Instant Refried Beans have been a staple for my family now for nearly 20 years.  All 7 of us love it and my grown kids are passing on the tradition.</td>\n",
       "      <td>[0.8468315944254932]</td>\n",
       "    </tr>\n",
       "  </tbody>\n",
       "</table>\n",
       "</div>"
      ],
      "text/plain": [
       "                                                                                                                                                                                                                                                                                                         combined  \\\n",
       "968   Title: Amazing; Content: Nothing makes me feel at home more than a pot of blue runner red beans on the stove!! These red beans are the best. I'm so glad I can buy them here on amazon, my first two years of living away from Homs I had to bring them back with me or have someone send some! Now I ha...   \n",
       "1985                                                                                                       Title: Good Buy; Content: I liked the beans. They were vacuum sealed, plump and moist. Would recommend them for any use. I personally split and stuck them in some vodka to make vanilla extract. Yum!   \n",
       "1771                             Title: Jamaican Blue beans; Content: Excellent coffee bean for roasting. Our family just purchased another 5 pounds for more roasting. Plenty of flavor and mild on acidity when roasted to a dark brown bean and before any oil appears on the bean itself (455F @ 17 minutes).   \n",
       "1088  Title: Delicious!; Content: I enjoy this white beans seasoning, it gives a rich flavor to the beans I just love it, my mother in law didn't know about this Zatarain's brand and now she is traying different seasoning and she likes it very much.<br />Thank you Amazon for having it because now I ca...   \n",
       "1927                                                                                              Title: Fantastic Instant Refried beans; Content: Fantastic Instant Refried Beans have been a staple for my family now for nearly 20 years.  All 7 of us love it and my grown kids are passing on the tradition.   \n",
       "\n",
       "                similarity  \n",
       "968   [0.8566469739430351]  \n",
       "1985  [0.8514052862675929]  \n",
       "1771  [0.8501681322246752]  \n",
       "1088  [0.8479964881101125]  \n",
       "1927  [0.8468315944254932]  "
      ]
     },
     "execution_count": 31,
     "metadata": {},
     "output_type": "execute_result"
    }
   ],
   "source": [
    "# Selecting specific columns (e.g., 'column1', 'column2') from the sorted DataFrame\n",
    "df_with_sim_scores_sorted[['combined', 'similarity']].head(5)"
   ]
  },
  {
   "cell_type": "code",
   "execution_count": 32,
   "id": "3eaeb269-cc7c-4080-bd1f-d18e65a91d37",
   "metadata": {
    "tags": []
   },
   "outputs": [],
   "source": [
    "# search through the reviews for a specific product\n",
    "def search_reviews(df, query, n=5):\n",
    "    \n",
    "    response = client.embeddings.create(\n",
    "                    model          = EMBEDDING_MODEL, \n",
    "                    input          = query, \n",
    "                    encoding_format= \"float\"\n",
    "    )\n",
    "    \n",
    "    # obtain the embedding for the query\n",
    "    query_embedding = np.array(response.data[0].embedding)[np.newaxis, :]\n",
    "       \n",
    "    df[\"similarity\"] = df.embedding.apply(lambda x: get_cosine_similarity(x[np.newaxis, :], query_embedding))\n",
    "    \n",
    "    df_with_sim_scores_sorted = df_with_sim_scores.sort_values(\"similarity\", ascending=False)\n",
    "    \n",
    "    # Selecting specific columns (e.g., 'column1', 'column2') from the sorted DataFrame\n",
    "    results_df = df_with_sim_scores_sorted[['combined', 'similarity']].head(n)\n",
    "    \n",
    "    return results_df"
   ]
  },
  {
   "cell_type": "code",
   "execution_count": 33,
   "id": "52d43d38-c37f-4682-98ee-9620387c7a05",
   "metadata": {
    "tags": []
   },
   "outputs": [
    {
     "data": {
      "text/html": [
       "<div>\n",
       "<style scoped>\n",
       "    .dataframe tbody tr th:only-of-type {\n",
       "        vertical-align: middle;\n",
       "    }\n",
       "\n",
       "    .dataframe tbody tr th {\n",
       "        vertical-align: top;\n",
       "    }\n",
       "\n",
       "    .dataframe thead th {\n",
       "        text-align: right;\n",
       "    }\n",
       "</style>\n",
       "<table border=\"1\" class=\"dataframe\">\n",
       "  <thead>\n",
       "    <tr style=\"text-align: right;\">\n",
       "      <th></th>\n",
       "      <th>combined</th>\n",
       "      <th>similarity</th>\n",
       "    </tr>\n",
       "  </thead>\n",
       "  <tbody>\n",
       "    <tr>\n",
       "      <th>968</th>\n",
       "      <td>Title: Amazing; Content: Nothing makes me feel at home more than a pot of blue runner red beans on the stove!! These red beans are the best. I'm so glad I can buy them here on amazon, my first two years of living away from Homs I had to bring them back with me or have someone send some! Now I ha...</td>\n",
       "      <td>[0.8566469739430351]</td>\n",
       "    </tr>\n",
       "    <tr>\n",
       "      <th>1985</th>\n",
       "      <td>Title: Good Buy; Content: I liked the beans. They were vacuum sealed, plump and moist. Would recommend them for any use. I personally split and stuck them in some vodka to make vanilla extract. Yum!</td>\n",
       "      <td>[0.8514052862675929]</td>\n",
       "    </tr>\n",
       "    <tr>\n",
       "      <th>1771</th>\n",
       "      <td>Title: Jamaican Blue beans; Content: Excellent coffee bean for roasting. Our family just purchased another 5 pounds for more roasting. Plenty of flavor and mild on acidity when roasted to a dark brown bean and before any oil appears on the bean itself (455F @ 17 minutes).</td>\n",
       "      <td>[0.8501681322246752]</td>\n",
       "    </tr>\n",
       "  </tbody>\n",
       "</table>\n",
       "</div>"
      ],
      "text/plain": [
       "                                                                                                                                                                                                                                                                                                         combined  \\\n",
       "968   Title: Amazing; Content: Nothing makes me feel at home more than a pot of blue runner red beans on the stove!! These red beans are the best. I'm so glad I can buy them here on amazon, my first two years of living away from Homs I had to bring them back with me or have someone send some! Now I ha...   \n",
       "1985                                                                                                       Title: Good Buy; Content: I liked the beans. They were vacuum sealed, plump and moist. Would recommend them for any use. I personally split and stuck them in some vodka to make vanilla extract. Yum!   \n",
       "1771                             Title: Jamaican Blue beans; Content: Excellent coffee bean for roasting. Our family just purchased another 5 pounds for more roasting. Plenty of flavor and mild on acidity when roasted to a dark brown bean and before any oil appears on the bean itself (455F @ 17 minutes).   \n",
       "\n",
       "                similarity  \n",
       "968   [0.8566469739430351]  \n",
       "1985  [0.8514052862675929]  \n",
       "1771  [0.8501681322246752]  "
      ]
     },
     "execution_count": 33,
     "metadata": {},
     "output_type": "execute_result"
    }
   ],
   "source": [
    "search_reviews(df, \"delicious beans\", n=3)"
   ]
  },
  {
   "cell_type": "code",
   "execution_count": 34,
   "id": "63a28604-2009-486e-aad8-167e7ec87b60",
   "metadata": {
    "tags": []
   },
   "outputs": [
    {
     "data": {
      "text/html": [
       "<div>\n",
       "<style scoped>\n",
       "    .dataframe tbody tr th:only-of-type {\n",
       "        vertical-align: middle;\n",
       "    }\n",
       "\n",
       "    .dataframe tbody tr th {\n",
       "        vertical-align: top;\n",
       "    }\n",
       "\n",
       "    .dataframe thead th {\n",
       "        text-align: right;\n",
       "    }\n",
       "</style>\n",
       "<table border=\"1\" class=\"dataframe\">\n",
       "  <thead>\n",
       "    <tr style=\"text-align: right;\">\n",
       "      <th></th>\n",
       "      <th>combined</th>\n",
       "      <th>similarity</th>\n",
       "    </tr>\n",
       "  </thead>\n",
       "  <tbody>\n",
       "    <tr>\n",
       "      <th>523</th>\n",
       "      <td>Title: not gnocchi; Content: The package says that this pasta is gnocchi, but it's actually just whole wheat pasta in the shape of shells.</td>\n",
       "      <td>[0.8684178280608065]</td>\n",
       "    </tr>\n",
       "    <tr>\n",
       "      <th>1038</th>\n",
       "      <td>Title: Tasty and Quick Pasta; Content: Barilla Whole Grain Fusilli with Vegetable Marinara is tasty and has an excellent chunky vegetable marinara.  I just wish there was more of it.  If you aren't starving or on a diet, the 9oz serving is enough for lunch although you might want to add a piece ...</td>\n",
       "      <td>[0.8629793254056708]</td>\n",
       "    </tr>\n",
       "    <tr>\n",
       "      <th>1853</th>\n",
       "      <td>Title: sooo good; Content: tastes so good. Worth the money. My boyfriend hates wheat pasta and LOVES this. cooks fast tastes great.I love this brand and started buying more of their pastas. Bulk is best.</td>\n",
       "      <td>[0.8565417212273676]</td>\n",
       "    </tr>\n",
       "  </tbody>\n",
       "</table>\n",
       "</div>"
      ],
      "text/plain": [
       "                                                                                                                                                                                                                                                                                                         combined  \\\n",
       "523                                                                                                                                                                    Title: not gnocchi; Content: The package says that this pasta is gnocchi, but it's actually just whole wheat pasta in the shape of shells.   \n",
       "1038  Title: Tasty and Quick Pasta; Content: Barilla Whole Grain Fusilli with Vegetable Marinara is tasty and has an excellent chunky vegetable marinara.  I just wish there was more of it.  If you aren't starving or on a diet, the 9oz serving is enough for lunch although you might want to add a piece ...   \n",
       "1853                                                                                                  Title: sooo good; Content: tastes so good. Worth the money. My boyfriend hates wheat pasta and LOVES this. cooks fast tastes great.I love this brand and started buying more of their pastas. Bulk is best.   \n",
       "\n",
       "                similarity  \n",
       "523   [0.8684178280608065]  \n",
       "1038  [0.8629793254056708]  \n",
       "1853  [0.8565417212273676]  "
      ]
     },
     "execution_count": 34,
     "metadata": {},
     "output_type": "execute_result"
    }
   ],
   "source": [
    "search_reviews(df, \"whole wheat pasta\", n=3)"
   ]
  },
  {
   "cell_type": "code",
   "execution_count": 35,
   "id": "ff47bab3-e8c1-455a-95c6-774ba8bf2bae",
   "metadata": {
    "tags": []
   },
   "outputs": [
    {
     "data": {
      "text/html": [
       "<div>\n",
       "<style scoped>\n",
       "    .dataframe tbody tr th:only-of-type {\n",
       "        vertical-align: middle;\n",
       "    }\n",
       "\n",
       "    .dataframe tbody tr th {\n",
       "        vertical-align: top;\n",
       "    }\n",
       "\n",
       "    .dataframe thead th {\n",
       "        text-align: right;\n",
       "    }\n",
       "</style>\n",
       "<table border=\"1\" class=\"dataframe\">\n",
       "  <thead>\n",
       "    <tr style=\"text-align: right;\">\n",
       "      <th></th>\n",
       "      <th>combined</th>\n",
       "      <th>similarity</th>\n",
       "    </tr>\n",
       "  </thead>\n",
       "  <tbody>\n",
       "    <tr>\n",
       "      <th>1766</th>\n",
       "      <td>Title: great product, poor delivery; Content: The coffee is excellent and I am a repeat buyer.  Problem this time was with the UPS delivery.  They left the box in front of my garage door in the middle of the driveway. Because of this odd delivery location, my wife ran over the box when she backe...</td>\n",
       "      <td>[0.8221468637407492]</td>\n",
       "    </tr>\n",
       "  </tbody>\n",
       "</table>\n",
       "</div>"
      ],
      "text/plain": [
       "                                                                                                                                                                                                                                                                                                         combined  \\\n",
       "1766  Title: great product, poor delivery; Content: The coffee is excellent and I am a repeat buyer.  Problem this time was with the UPS delivery.  They left the box in front of my garage door in the middle of the driveway. Because of this odd delivery location, my wife ran over the box when she backe...   \n",
       "\n",
       "                similarity  \n",
       "1766  [0.8221468637407492]  "
      ]
     },
     "execution_count": 35,
     "metadata": {},
     "output_type": "execute_result"
    }
   ],
   "source": [
    "search_reviews(df, \"bad delivery\", n=1)"
   ]
  },
  {
   "cell_type": "code",
   "execution_count": 36,
   "id": "178918d6-0bb1-46b7-81b4-2249b86c796b",
   "metadata": {
    "tags": []
   },
   "outputs": [
    {
     "data": {
      "text/html": [
       "<div>\n",
       "<style scoped>\n",
       "    .dataframe tbody tr th:only-of-type {\n",
       "        vertical-align: middle;\n",
       "    }\n",
       "\n",
       "    .dataframe tbody tr th {\n",
       "        vertical-align: top;\n",
       "    }\n",
       "\n",
       "    .dataframe thead th {\n",
       "        text-align: right;\n",
       "    }\n",
       "</style>\n",
       "<table border=\"1\" class=\"dataframe\">\n",
       "  <thead>\n",
       "    <tr style=\"text-align: right;\">\n",
       "      <th></th>\n",
       "      <th>combined</th>\n",
       "      <th>similarity</th>\n",
       "    </tr>\n",
       "  </thead>\n",
       "  <tbody>\n",
       "    <tr>\n",
       "      <th>1554</th>\n",
       "      <td>Title: Extremely dissapointed; Content: Hi,&lt;br /&gt;I am very disappointed with the past shipment I received of the ONE coconut water. 3 of the boxes were leaking and the coconut water was spoiled.&lt;br /&gt;&lt;br /&gt;Thanks.&lt;br /&gt;&lt;br /&gt;Laks</td>\n",
       "      <td>[0.7801374658641043]</td>\n",
       "    </tr>\n",
       "  </tbody>\n",
       "</table>\n",
       "</div>"
      ],
      "text/plain": [
       "                                                                                                                                                                                                                                   combined  \\\n",
       "1554  Title: Extremely dissapointed; Content: Hi,<br />I am very disappointed with the past shipment I received of the ONE coconut water. 3 of the boxes were leaking and the coconut water was spoiled.<br /><br />Thanks.<br /><br />Laks   \n",
       "\n",
       "                similarity  \n",
       "1554  [0.7801374658641043]  "
      ]
     },
     "execution_count": 36,
     "metadata": {},
     "output_type": "execute_result"
    }
   ],
   "source": [
    "search_reviews(df, \"spoilt\", n=1)"
   ]
  },
  {
   "cell_type": "code",
   "execution_count": 37,
   "id": "6b46d639-1d04-498f-9803-294be4728736",
   "metadata": {
    "tags": []
   },
   "outputs": [
    {
     "data": {
      "text/html": [
       "<div>\n",
       "<style scoped>\n",
       "    .dataframe tbody tr th:only-of-type {\n",
       "        vertical-align: middle;\n",
       "    }\n",
       "\n",
       "    .dataframe tbody tr th {\n",
       "        vertical-align: top;\n",
       "    }\n",
       "\n",
       "    .dataframe thead th {\n",
       "        text-align: right;\n",
       "    }\n",
       "</style>\n",
       "<table border=\"1\" class=\"dataframe\">\n",
       "  <thead>\n",
       "    <tr style=\"text-align: right;\">\n",
       "      <th></th>\n",
       "      <th>combined</th>\n",
       "      <th>similarity</th>\n",
       "    </tr>\n",
       "  </thead>\n",
       "  <tbody>\n",
       "    <tr>\n",
       "      <th>1818</th>\n",
       "      <td>Title: Good food; Content: The only dry food my queen cat will eat. Helps prevent hair balls. Good packaging. Arrives promptly. Recommended by a friend who sells pet food.</td>\n",
       "      <td>[0.8407334901075522]</td>\n",
       "    </tr>\n",
       "    <tr>\n",
       "      <th>951</th>\n",
       "      <td>Title: Appetizing, but rich; Content: My older dog was happy to go right to this bowl of food, but it upset his stomach. The cats like it, though, so it's not a bust. Must be yummy...</td>\n",
       "      <td>[0.8330178002691789]</td>\n",
       "    </tr>\n",
       "  </tbody>\n",
       "</table>\n",
       "</div>"
      ],
      "text/plain": [
       "                                                                                                                                                                                     combined  \\\n",
       "1818              Title: Good food; Content: The only dry food my queen cat will eat. Helps prevent hair balls. Good packaging. Arrives promptly. Recommended by a friend who sells pet food.   \n",
       "951   Title: Appetizing, but rich; Content: My older dog was happy to go right to this bowl of food, but it upset his stomach. The cats like it, though, so it's not a bust. Must be yummy...   \n",
       "\n",
       "                similarity  \n",
       "1818  [0.8407334901075522]  \n",
       "951   [0.8330178002691789]  "
      ]
     },
     "execution_count": 37,
     "metadata": {},
     "output_type": "execute_result"
    }
   ],
   "source": [
    "search_reviews(df, \"pet food\", n=2)"
   ]
  },
  {
   "cell_type": "markdown",
   "id": "c6c861b3-a04e-46e8-a22e-8c77343da1ba",
   "metadata": {},
   "source": [
    "| **Method**                          | **Description**                                                                                           | **Advantages**                                | **Use Cases**                                                    |\n",
    "|-------------------------------------|-----------------------------------------------------------------------------------------------------------|------------------------------------------------|------------------------------------------------------------------|\n",
    "| **Cosine Similarity**                | Measures the cosine of the angle between two vectors.                                                     | Simple, effective, and widely used.            | General-purpose similarity search in embeddings.                 |\n",
    "| **Dot Product (Inner Product)**      | Measures the direct product of two vectors.                                                               | Computationally efficient.                     | Tasks where embeddings are normalized.                           |\n",
    "| **Euclidean Distance**               | Measures the straight-line distance between two vectors in space.                                         | Considers magnitude, simple to compute.        | Use cases where magnitude and scale matter.                      |\n",
    "| **BM25 (Okapi BM25)**                | A ranking function based on term frequency and document length normalization.                             | Effective in traditional text retrieval.       | Initial retrieval in hybrid search systems.                      |\n",
    "| **Approximate Nearest Neighbor (ANN)** | Techniques like LSH and HNSW for finding approximate nearest neighbors in large datasets.                 | Scales well to large datasets, fast retrieval. | Large-scale retrieval with trade-offs in accuracy.               |\n",
    "| **Dual Encoder Models**             | Uses separate encoders for queries and documents and calculates similarity via learned functions.         | Effective for embedding-based retrieval.       | Initial retrieval or ranking tasks where embedding similarity is key. |\n",
    "| **Cross-Encoder Models**             | Uses both query and document together to output a relevance score directly.                               | High accuracy in relevance scoring.            | Re-ranking top results for improved relevance.                   |\n",
    "| **Attention Mechanisms**             | Dynamically weighs parts of the query and document embeddings to refine similarity scores.               | Handles complex retrieval tasks effectively.   | Multi-step reasoning and complex retrieval processes.            |\n"
   ]
  },
  {
   "cell_type": "markdown",
   "id": "5fbdcaa3-b1c2-4d9f-a5cb-92ae0eb9eb68",
   "metadata": {},
   "source": [
    "#### Implement BM25"
   ]
  },
  {
   "cell_type": "code",
   "execution_count": null,
   "id": "c2e7e589-fbe7-4fe9-a71b-4792ba686340",
   "metadata": {},
   "outputs": [],
   "source": [
    "#pip install rank-bm25"
   ]
  },
  {
   "cell_type": "code",
   "execution_count": 38,
   "id": "aa552b02-cbf6-4928-a8d5-8a813d1932dd",
   "metadata": {},
   "outputs": [],
   "source": [
    "from rank_bm25 import BM25Okapi\n",
    "import numpy as np"
   ]
  },
  {
   "cell_type": "code",
   "execution_count": 39,
   "id": "96acca39-e37f-4c84-aa9f-de80903dbee2",
   "metadata": {},
   "outputs": [],
   "source": [
    "# Function to preprocess and tokenize text\n",
    "def tokenize(text):\n",
    "    # Tokenization logic here, e.g., using simple whitespace split\n",
    "    return text.lower().split()"
   ]
  },
  {
   "cell_type": "code",
   "execution_count": 40,
   "id": "1aace727-9181-42fa-b755-e626db1c428a",
   "metadata": {},
   "outputs": [],
   "source": [
    "# Prepare the corpus and query\n",
    "def search_reviews_bm25(df, query, n=5):\n",
    "    # Tokenize the corpus\n",
    "    tokenized_corpus = [tokenize(doc) for doc in df['combined']]\n",
    "    \n",
    "    # Initialize BM25\n",
    "    bm25 = BM25Okapi(tokenized_corpus)\n",
    "    \n",
    "    # Tokenize the query\n",
    "    tokenized_query = tokenize(query)\n",
    "    \n",
    "    # Get BM25 scores\n",
    "    scores = bm25.get_scores(tokenized_query)\n",
    "    \n",
    "    # Add scores to DataFrame\n",
    "    df['bm25_score'] = scores\n",
    "    \n",
    "    # Sort by BM25 score and select top-n\n",
    "    df_sorted = df.sort_values('bm25_score', ascending=False)\n",
    "    \n",
    "    # Selecting specific columns (e.g., 'combined', 'bm25_score') from the sorted DataFrame\n",
    "    results_df = df_sorted[['combined', 'bm25_score']].head(n)\n",
    "    \n",
    "    return results_df"
   ]
  },
  {
   "cell_type": "code",
   "execution_count": 41,
   "id": "207ede40-6a60-4dcc-9bfe-8edfdc3acf3a",
   "metadata": {},
   "outputs": [
    {
     "data": {
      "text/html": [
       "<div>\n",
       "<style scoped>\n",
       "    .dataframe tbody tr th:only-of-type {\n",
       "        vertical-align: middle;\n",
       "    }\n",
       "\n",
       "    .dataframe tbody tr th {\n",
       "        vertical-align: top;\n",
       "    }\n",
       "\n",
       "    .dataframe thead th {\n",
       "        text-align: right;\n",
       "    }\n",
       "</style>\n",
       "<table border=\"1\" class=\"dataframe\">\n",
       "  <thead>\n",
       "    <tr style=\"text-align: right;\">\n",
       "      <th></th>\n",
       "      <th>combined</th>\n",
       "      <th>bm25_score</th>\n",
       "    </tr>\n",
       "  </thead>\n",
       "  <tbody>\n",
       "    <tr>\n",
       "      <th>1596</th>\n",
       "      <td>Title: Best beans your money can buy; Content: These are, hands down, the best jelly beans on the market.  There isn't a gross one in the bunch and each of them has an intense, delicious flavor.  Though I hesitate to pick a favorite, I have to say that I love green apple, a rare flavor in drugst...</td>\n",
       "      <td>7.570373</td>\n",
       "    </tr>\n",
       "    <tr>\n",
       "      <th>1743</th>\n",
       "      <td>Title: Panama green beans; Content: These beans have produced some enjoyable cups of coffee with a medium roast (dark brown beans with no oil on their surfaces) at 455F for 17 minutes. We have experimented, using the same roasted beans with different water sources. We have learned that the beans...</td>\n",
       "      <td>7.454137</td>\n",
       "    </tr>\n",
       "    <tr>\n",
       "      <th>968</th>\n",
       "      <td>Title: Amazing; Content: Nothing makes me feel at home more than a pot of blue runner red beans on the stove!! These red beans are the best. I'm so glad I can buy them here on amazon, my first two years of living away from Homs I had to bring them back with me or have someone send some! Now I ha...</td>\n",
       "      <td>6.233504</td>\n",
       "    </tr>\n",
       "    <tr>\n",
       "      <th>1088</th>\n",
       "      <td>Title: Delicious!; Content: I enjoy this white beans seasoning, it gives a rich flavor to the beans I just love it, my mother in law didn't know about this Zatarain's brand and now she is traying different seasoning and she likes it very much.&lt;br /&gt;Thank you Amazon for having it because now I ca...</td>\n",
       "      <td>6.071359</td>\n",
       "    </tr>\n",
       "    <tr>\n",
       "      <th>489</th>\n",
       "      <td>Title: coffee beans; Content: Coffee beans did not seem fresh.  No oil on them what so ever.  I have tasted much better and fresher.  Will not order again.</td>\n",
       "      <td>5.927993</td>\n",
       "    </tr>\n",
       "  </tbody>\n",
       "</table>\n",
       "</div>"
      ],
      "text/plain": [
       "                                                                                                                                                                                                                                                                                                         combined  \\\n",
       "1596  Title: Best beans your money can buy; Content: These are, hands down, the best jelly beans on the market.  There isn't a gross one in the bunch and each of them has an intense, delicious flavor.  Though I hesitate to pick a favorite, I have to say that I love green apple, a rare flavor in drugst...   \n",
       "1743  Title: Panama green beans; Content: These beans have produced some enjoyable cups of coffee with a medium roast (dark brown beans with no oil on their surfaces) at 455F for 17 minutes. We have experimented, using the same roasted beans with different water sources. We have learned that the beans...   \n",
       "968   Title: Amazing; Content: Nothing makes me feel at home more than a pot of blue runner red beans on the stove!! These red beans are the best. I'm so glad I can buy them here on amazon, my first two years of living away from Homs I had to bring them back with me or have someone send some! Now I ha...   \n",
       "1088  Title: Delicious!; Content: I enjoy this white beans seasoning, it gives a rich flavor to the beans I just love it, my mother in law didn't know about this Zatarain's brand and now she is traying different seasoning and she likes it very much.<br />Thank you Amazon for having it because now I ca...   \n",
       "489                                                                                                                                                   Title: coffee beans; Content: Coffee beans did not seem fresh.  No oil on them what so ever.  I have tasted much better and fresher.  Will not order again.   \n",
       "\n",
       "      bm25_score  \n",
       "1596    7.570373  \n",
       "1743    7.454137  \n",
       "968     6.233504  \n",
       "1088    6.071359  \n",
       "489     5.927993  "
      ]
     },
     "execution_count": 41,
     "metadata": {},
     "output_type": "execute_result"
    }
   ],
   "source": [
    "# Example usage\n",
    "query = \"delicious beans\"\n",
    "\n",
    "top_results = search_reviews_bm25(df, query)\n",
    "top_results"
   ]
  },
  {
   "cell_type": "markdown",
   "id": "92d71f0b-7107-48b9-8b39-540e2ef2f4af",
   "metadata": {},
   "source": [
    "#### Key Points:\n",
    "- **Tokenization:** The `tokenize` function should preprocess the text by converting it to lowercase and splitting it into tokens. You might use more sophisticated tokenization depending on your requirements.\n",
    "- **BM25 Initialization:** `BM25Okapi` is initialized with the tokenized corpus.\n",
    "- **Scoring:** BM25 scores are computed for the query and added to the DataFrame.\n",
    "- **Sorting:** The DataFrame is sorted based on BM25 scores to retrieve the top-n results.\n",
    "\n",
    "#### Explanation:\n",
    "- **Tokenization:** Converts text to a list of tokens. This is crucial for BM25 to work effectively.\n",
    "- **BM25 Scores:** Calculated using the `get_scores` method, which returns a list of scores for each document in the corpus.\n",
    "- **Sorting and Selection:** The DataFrame is sorted based on the BM25 scores, and the top results are selected.\n"
   ]
  },
  {
   "cell_type": "markdown",
   "id": "20646c17-baeb-4e4e-97dc-780f77d7ae15",
   "metadata": {},
   "source": [
    "#### Implement Cross-Encoder Models"
   ]
  },
  {
   "cell_type": "code",
   "execution_count": null,
   "id": "893dba12-6ebf-43eb-96e0-6da3c3de0b0c",
   "metadata": {},
   "outputs": [],
   "source": [
    "#pip install sentence-transformers"
   ]
  },
  {
   "cell_type": "code",
   "execution_count": null,
   "id": "74442e06-ff8b-4494-b168-a89303fa296a",
   "metadata": {},
   "outputs": [],
   "source": [
    "from sentence_transformers import CrossEncoder"
   ]
  },
  {
   "cell_type": "code",
   "execution_count": null,
   "id": "dcb2fc68-29dd-4a5f-b078-d6ed7952ffd5",
   "metadata": {},
   "outputs": [],
   "source": [
    "# Load the pre-trained Cross-Encoder model\n",
    "model_name = 'cross-encoder/ms-marco-TinyBERT-L-6'\n",
    "model = CrossEncoder(model_name)"
   ]
  },
  {
   "cell_type": "code",
   "execution_count": null,
   "id": "7ac2c9a7-7a60-4b13-afeb-811e95a9bf06",
   "metadata": {},
   "outputs": [],
   "source": [
    "# Function to compute scores for query-document pairs\n",
    "def score_pairs(query, documents):\n",
    "    # Create input pairs\n",
    "    pairs = [(query, doc) for doc in documents]\n",
    "    \n",
    "    # Compute scores\n",
    "    scores = model.predict(pairs)\n",
    "    \n",
    "    return scores"
   ]
  },
  {
   "cell_type": "code",
   "execution_count": null,
   "id": "d284f9c3-2555-4c25-8a67-4590fab4575d",
   "metadata": {},
   "outputs": [],
   "source": [
    "# Function to search through the DataFrame using Cross-Encoder\n",
    "def search_reviews_cross_encoder(df, query, n=5):\n",
    "    # Extract documents\n",
    "    documents = df['combined'].tolist()\n",
    "    \n",
    "    # Compute scores for query-document pairs\n",
    "    scores = score_pairs(query, documents)\n",
    "    \n",
    "    # Add scores to DataFrame\n",
    "    df['cross_encoder_score'] = scores\n",
    "    \n",
    "    # Sort by Cross-Encoder score and select top-n\n",
    "    df_sorted = df.sort_values('cross_encoder_score', ascending=False)\n",
    "    \n",
    "    # Selecting specific columns (e.g., 'combined', 'cross_encoder_score') from the sorted DataFrame\n",
    "    results_df = df_sorted[['combined', 'cross_encoder_score']].head(n)\n",
    "    \n",
    "    return results_df"
   ]
  },
  {
   "cell_type": "code",
   "execution_count": null,
   "id": "8dfe4454-e2f0-4357-9e64-d9d12d866088",
   "metadata": {},
   "outputs": [],
   "source": [
    "%%time\n",
    "# Example usage\n",
    "# can take more than an hour\n",
    "query = \"delicious beans\"\n",
    "\n",
    "top_results = search_reviews_cross_encoder(df, query)\n",
    "top_results"
   ]
  },
  {
   "cell_type": "markdown",
   "id": "34abb49d-a65a-40da-81b7-1a34c6df8ade",
   "metadata": {},
   "source": [
    "#### Key Points:\n",
    "\n",
    "- **Loading the Model:** \n",
    "  - `CrossEncoder` from `sentence-transformers` is used to load a pre-trained Cross-Encoder model. \n",
    "  - The `model_name` can be adjusted to any other suitable pre-trained Cross-Encoder model.\n",
    "\n",
    "- **Scoring Function:** \n",
    "  - The `score_pairs` function generates query-document pairs and computes their relevance scores using the Cross-Encoder model.\n",
    "\n",
    "- **Integration:** \n",
    "  - The `search_reviews_cross_encoder` function integrates this scoring mechanism into your search pipeline, sorting documents based on relevance scores.\n",
    "\n",
    "#### Explanation:\n",
    "\n",
    "- **Model:** \n",
    "  - The `CrossEncoder` model is used to jointly process query-document pairs and calculate relevance scores.\n",
    "\n",
    "- **Pairing:** \n",
    "  - The `score_pairs` function pairs each document with the query and uses the model to compute a relevance score for each pair.\n",
    "\n",
    "- **Sorting and Selection:** \n",
    "  - Scores are added to the DataFrame, which is then sorted based on these scores to retrieve the top results.\n",
    "\n",
    "This approach provides a high-accuracy method for document retrieval by leveraging Cross-Encoder models to assess the relevance of documents with respect to a query.\n"
   ]
  },
  {
   "cell_type": "code",
   "execution_count": null,
   "id": "665d8a1c-8341-45d2-8d3b-63d55abefce1",
   "metadata": {},
   "outputs": [],
   "source": []
  },
  {
   "cell_type": "code",
   "execution_count": null,
   "id": "9deb33db-19bd-47d8-8fa5-4fe3053cc1f8",
   "metadata": {},
   "outputs": [],
   "source": []
  },
  {
   "cell_type": "code",
   "execution_count": null,
   "id": "64a5bd91-3a22-43a8-92bc-30a7a18d50bd",
   "metadata": {},
   "outputs": [],
   "source": []
  }
 ],
 "metadata": {
  "kernelspec": {
   "display_name": "Python 3 (ipykernel)",
   "language": "python",
   "name": "python3"
  },
  "language_info": {
   "codemirror_mode": {
    "name": "ipython",
    "version": 3
   },
   "file_extension": ".py",
   "mimetype": "text/x-python",
   "name": "python",
   "nbconvert_exporter": "python",
   "pygments_lexer": "ipython3",
   "version": "3.12.3"
  }
 },
 "nbformat": 4,
 "nbformat_minor": 5
}
