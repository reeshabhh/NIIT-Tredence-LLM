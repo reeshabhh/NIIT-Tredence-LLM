{
 "cells": [
  {
   "cell_type": "markdown",
   "id": "b1f03f2b-aee0-42fa-aa78-c879cac85631",
   "metadata": {},
   "source": [
    "-----------------------------\n",
    "#### Get GPT embeddings \n",
    "- for food reviews data\n",
    "\n",
    "https://www.kaggle.com/datasets/snap/amazon-fine-food-reviews\n",
    "---------------------------\n",
    "\n",
    "**Load the Dataset:**\n",
    "\n",
    "- The dataset used in this example is fine-food reviews from Amazon.\n",
    "- It contains a total of 568,454 food reviews that Amazon users left up to October 2012.\n",
    "- We will use a subset of this dataset, consisting of the 1,000 most recent reviews for illustration purposes.\n",
    "- The reviews are in English and tend to be positive or negative.\n",
    "- Each review has a ProductId, UserId, Score, review title (Summary), and review body (Text).\n",
    "\n",
    "**Combine Review Summary and Review Text:**\n",
    "\n",
    "- We will combine the review summary and review text into a single combined text.\n",
    "- The model will encode this combined text, and it will output a single vector embedding."
   ]
  },
  {
   "cell_type": "raw",
   "id": "a2e787ae-3c0a-47ef-8eb8-e992b4912207",
   "metadata": {},
   "source": [
    "MODEL\t~ PAGES PER DOLLAR\tPERFORMANCE ON MTEB EVAL\tMAX INPUT\n",
    "text-embedding-3-small\t62,500\t62.3%\t8191\n",
    "text-embedding-3-large\t9,615\t64.6%\t8191\n",
    "text-embedding-ada-002\t12,500\t61.0%\t8191"
   ]
  },
  {
   "cell_type": "code",
   "execution_count": 3,
   "id": "6019d5b8-1769-4074-ab97-005975e60096",
   "metadata": {
    "tags": []
   },
   "outputs": [],
   "source": [
    "import pandas as pd\n",
    "import numpy as np"
   ]
  },
  {
   "cell_type": "code",
   "execution_count": 5,
   "id": "7d8ee5b9-9c8b-468f-9fbd-2d5d4242fd82",
   "metadata": {
    "tags": []
   },
   "outputs": [],
   "source": [
    "location = r'D:\\AI-DATASETS\\02-MISC-large\\GenAI-LLMs\\amazon_food_reviews.csv'"
   ]
  },
  {
   "cell_type": "code",
   "execution_count": 7,
   "id": "187d74c7-1866-4020-a72a-675d79a98bdd",
   "metadata": {
    "tags": []
   },
   "outputs": [],
   "source": [
    "df = pd.read_csv(location)"
   ]
  },
  {
   "cell_type": "code",
   "execution_count": 8,
   "id": "08bfd6cc-9fd4-4c76-9daa-194fe6cd8732",
   "metadata": {
    "tags": []
   },
   "outputs": [
    {
     "data": {
      "text/plain": [
       "(568454, 10)"
      ]
     },
     "execution_count": 8,
     "metadata": {},
     "output_type": "execute_result"
    }
   ],
   "source": [
    "df.shape"
   ]
  },
  {
   "cell_type": "code",
   "execution_count": 9,
   "id": "88f9ed9a-43b8-49e7-a763-2dfb66035154",
   "metadata": {
    "tags": []
   },
   "outputs": [
    {
     "data": {
      "text/plain": [
       "Id                         int64\n",
       "ProductId                 object\n",
       "UserId                    object\n",
       "ProfileName               object\n",
       "HelpfulnessNumerator       int64\n",
       "HelpfulnessDenominator     int64\n",
       "Score                      int64\n",
       "Time                       int64\n",
       "Summary                   object\n",
       "Text                      object\n",
       "dtype: object"
      ]
     },
     "execution_count": 9,
     "metadata": {},
     "output_type": "execute_result"
    }
   ],
   "source": [
    "df.dtypes"
   ]
  },
  {
   "cell_type": "markdown",
   "id": "c4ea32a0-4c25-4e33-bf06-5c4707671a9a",
   "metadata": {},
   "source": [
    "- The dataset contains a total of 568,454 food reviews Amazon users left up to October 2012. \n",
    "- We will use a subset of 2,000 most recent reviews for illustration purposes. \n",
    "- The reviews are in English and tend to be positive or negative. \n",
    "- Each review has a ProductId, UserId, Score, review title (Summary) and review body (Text)."
   ]
  },
  {
   "cell_type": "code",
   "execution_count": 11,
   "id": "d18864d7-7515-42ca-b904-fd86308731f6",
   "metadata": {
    "tags": []
   },
   "outputs": [
    {
     "data": {
      "text/html": [
       "<div>\n",
       "<style scoped>\n",
       "    .dataframe tbody tr th:only-of-type {\n",
       "        vertical-align: middle;\n",
       "    }\n",
       "\n",
       "    .dataframe tbody tr th {\n",
       "        vertical-align: top;\n",
       "    }\n",
       "\n",
       "    .dataframe thead th {\n",
       "        text-align: right;\n",
       "    }\n",
       "</style>\n",
       "<table border=\"1\" class=\"dataframe\">\n",
       "  <thead>\n",
       "    <tr style=\"text-align: right;\">\n",
       "      <th></th>\n",
       "      <th>Id</th>\n",
       "      <th>ProductId</th>\n",
       "      <th>UserId</th>\n",
       "      <th>ProfileName</th>\n",
       "      <th>HelpfulnessNumerator</th>\n",
       "      <th>HelpfulnessDenominator</th>\n",
       "      <th>Score</th>\n",
       "      <th>Time</th>\n",
       "      <th>Summary</th>\n",
       "      <th>Text</th>\n",
       "    </tr>\n",
       "  </thead>\n",
       "  <tbody>\n",
       "    <tr>\n",
       "      <th>41946</th>\n",
       "      <td>41947</td>\n",
       "      <td>B006Q7YFLQ</td>\n",
       "      <td>A1BT6TL7UCIC5Y</td>\n",
       "      <td>Quoad Toad</td>\n",
       "      <td>0</td>\n",
       "      <td>0</td>\n",
       "      <td>5</td>\n",
       "      <td>1344038400</td>\n",
       "      <td>My dog loves them</td>\n",
       "      <td>My dog loves these treats.  She is not very di...</td>\n",
       "    </tr>\n",
       "    <tr>\n",
       "      <th>555067</th>\n",
       "      <td>555068</td>\n",
       "      <td>B0000DJ7SR</td>\n",
       "      <td>AWZ1C2FT0L3W9</td>\n",
       "      <td>Sandy</td>\n",
       "      <td>5</td>\n",
       "      <td>6</td>\n",
       "      <td>5</td>\n",
       "      <td>1156982400</td>\n",
       "      <td>Potatoes</td>\n",
       "      <td>excellent - will order again!!  It's nice to b...</td>\n",
       "    </tr>\n",
       "    <tr>\n",
       "      <th>208670</th>\n",
       "      <td>208671</td>\n",
       "      <td>B0007Q426U</td>\n",
       "      <td>A1Q1QZ9U5E1QCI</td>\n",
       "      <td>Margaret E. Harrington</td>\n",
       "      <td>0</td>\n",
       "      <td>0</td>\n",
       "      <td>5</td>\n",
       "      <td>1247443200</td>\n",
       "      <td>Lindberg Snider Porterhouse &amp; Roast Seasoning ...</td>\n",
       "      <td>I am NEVER without this product.  It ALWAYS ta...</td>\n",
       "    </tr>\n",
       "  </tbody>\n",
       "</table>\n",
       "</div>"
      ],
      "text/plain": [
       "            Id   ProductId          UserId             ProfileName  \\\n",
       "41946    41947  B006Q7YFLQ  A1BT6TL7UCIC5Y              Quoad Toad   \n",
       "555067  555068  B0000DJ7SR   AWZ1C2FT0L3W9                   Sandy   \n",
       "208670  208671  B0007Q426U  A1Q1QZ9U5E1QCI  Margaret E. Harrington   \n",
       "\n",
       "        HelpfulnessNumerator  HelpfulnessDenominator  Score        Time  \\\n",
       "41946                      0                       0      5  1344038400   \n",
       "555067                     5                       6      5  1156982400   \n",
       "208670                     0                       0      5  1247443200   \n",
       "\n",
       "                                                  Summary  \\\n",
       "41946                                   My dog loves them   \n",
       "555067                                           Potatoes   \n",
       "208670  Lindberg Snider Porterhouse & Roast Seasoning ...   \n",
       "\n",
       "                                                     Text  \n",
       "41946   My dog loves these treats.  She is not very di...  \n",
       "555067  excellent - will order again!!  It's nice to b...  \n",
       "208670  I am NEVER without this product.  It ALWAYS ta...  "
      ]
     },
     "execution_count": 11,
     "metadata": {},
     "output_type": "execute_result"
    }
   ],
   "source": [
    "df.sample(3)"
   ]
  },
  {
   "cell_type": "code",
   "execution_count": 12,
   "id": "3f5d70d4-174a-4c14-b468-09ac78396d32",
   "metadata": {},
   "outputs": [
    {
     "data": {
      "text/plain": [
       "count    568454.000000\n",
       "mean          4.183199\n",
       "std           1.310436\n",
       "min           1.000000\n",
       "25%           4.000000\n",
       "50%           5.000000\n",
       "75%           5.000000\n",
       "max           5.000000\n",
       "Name: Score, dtype: float64"
      ]
     },
     "execution_count": 12,
     "metadata": {},
     "output_type": "execute_result"
    }
   ],
   "source": [
    "df.Score.describe()"
   ]
  },
  {
   "cell_type": "code",
   "execution_count": 1,
   "id": "b275b90c-156f-48e8-8651-cb4c21085417",
   "metadata": {},
   "outputs": [
    {
     "ename": "NameError",
     "evalue": "name 'df' is not defined",
     "output_type": "error",
     "traceback": [
      "\u001b[1;31m---------------------------------------------------------------------------\u001b[0m",
      "\u001b[1;31mNameError\u001b[0m                                 Traceback (most recent call last)",
      "Cell \u001b[1;32mIn[1], line 1\u001b[0m\n\u001b[1;32m----> 1\u001b[0m df\u001b[38;5;241m.\u001b[39mScore\u001b[38;5;241m.\u001b[39mhist()\n",
      "\u001b[1;31mNameError\u001b[0m: name 'df' is not defined"
     ]
    }
   ],
   "source": [
    "df.Score.hist()"
   ]
  },
  {
   "cell_type": "markdown",
   "id": "9c9a59d8-6fe4-430a-a4ae-ab0504b5ac68",
   "metadata": {},
   "source": [
    "We will combine the review summary and review text into a single combined text. The model will encode this combined text and it will output a single vector embedding."
   ]
  },
  {
   "cell_type": "code",
   "execution_count": null,
   "id": "148578b5-be27-4ec5-b41d-d3181d1b6b13",
   "metadata": {
    "tags": []
   },
   "outputs": [],
   "source": [
    "df = df[[\"Time\", \"ProductId\", \"UserId\", \"Score\", \"Summary\", \"Text\"]]\n",
    "df = df.dropna()\n",
    "\n",
    "df[\"combined\"] = (\n",
    "    \"Title: \" + df.Summary.str.strip() + \"; Content: \" + df.Text.str.strip()\n",
    ")"
   ]
  },
  {
   "cell_type": "code",
   "execution_count": null,
   "id": "14a409bc-4ddb-47ce-885b-e5c3660e775f",
   "metadata": {
    "tags": []
   },
   "outputs": [],
   "source": [
    "df.shape"
   ]
  },
  {
   "cell_type": "code",
   "execution_count": null,
   "id": "9d618973-3bac-4885-a06a-f0dd93b85246",
   "metadata": {
    "tags": []
   },
   "outputs": [],
   "source": [
    "# subsample to 2k most recent reviews and remove samples that are too long\n",
    "top_n = 1000\n",
    "\n",
    "df    = df.sort_values(\"Time\").tail(top_n * 2)  # first cut to first 2k entries, assuming less than half will be filtered out\n",
    "df.drop(\"Time\", axis=1, inplace=True)"
   ]
  },
  {
   "cell_type": "code",
   "execution_count": null,
   "id": "59f300f3-e22b-437e-a15e-c376f49d8844",
   "metadata": {
    "tags": []
   },
   "outputs": [],
   "source": [
    "df.shape"
   ]
  },
  {
   "cell_type": "code",
   "execution_count": null,
   "id": "843509e8-4bac-4ac0-bafb-051b95d98a6f",
   "metadata": {
    "tags": []
   },
   "outputs": [],
   "source": [
    "df.sample(3)"
   ]
  },
  {
   "cell_type": "code",
   "execution_count": null,
   "id": "011a0327-a4f9-4085-a121-b0bdea8a5a8e",
   "metadata": {
    "tags": []
   },
   "outputs": [],
   "source": [
    "df[\"combined\"] = (\n",
    "    \"Title: \" + df.Summary.str.strip() + \"; Content: \" + df.Text.str.strip()\n",
    ")\n",
    "df.head(2)"
   ]
  },
  {
   "cell_type": "code",
   "execution_count": null,
   "id": "ff63a449-b959-4b04-b504-be59068a6040",
   "metadata": {
    "tags": []
   },
   "outputs": [],
   "source": [
    "review = df.combined.sample(3).values"
   ]
  },
  {
   "cell_type": "code",
   "execution_count": null,
   "id": "f2301d68-a65f-4f4e-b73e-d29976411ff8",
   "metadata": {
    "tags": []
   },
   "outputs": [],
   "source": [
    "review"
   ]
  },
  {
   "cell_type": "markdown",
   "id": "853aca8b-8bbe-407d-a188-62faa99b2c71",
   "metadata": {},
   "source": [
    "#### About tiktoken"
   ]
  },
  {
   "cell_type": "markdown",
   "id": "b8972147-c667-44a7-80d0-b56d29abdd62",
   "metadata": {},
   "source": [
    "- `tiktoken` is a fast open-source tokenizer by OpenAI. It is used to tokenize text into a sequence of integers that can be processed by OpenAI's GPT models. This is necessary because GPT models do not understand natural language, they only understand sequences of integers.\n",
    "\n",
    "- Here are some of the benefits of using tiktoken:\n",
    "\n",
    "    - It is `fast and efficient`. tiktoken is a highly optimized tokenizer that can tokenize text at a high rate. This is important for applications that require real-time processing of text.\n",
    "    - It is `accurate`. tiktoken produces accurate tokenizations that capture the meaning of the original text. This is important for applications that require high-quality results, such as machine translation and natural language generation.\n",
    "    - It is `easy to use`. tiktoken has a simple and easy-to-use API that makes it easy to integrate into existing applications."
   ]
  },
  {
   "cell_type": "code",
   "execution_count": null,
   "id": "101bfa32-a6d4-4915-9526-d5599a87e620",
   "metadata": {},
   "outputs": [],
   "source": [
    "#!pip install tiktoken"
   ]
  },
  {
   "cell_type": "code",
   "execution_count": null,
   "id": "e98bd6a9-73a4-4201-bfa1-960514185485",
   "metadata": {
    "tags": []
   },
   "outputs": [],
   "source": [
    "import tiktoken"
   ]
  },
  {
   "cell_type": "markdown",
   "id": "b84319b3-d6c8-4442-bda3-e6d465445a35",
   "metadata": {},
   "source": [
    "**Tokenize a text string:**"
   ]
  },
  {
   "cell_type": "markdown",
   "id": "82ea1eae-c16b-463c-87b9-34c9c64a36b6",
   "metadata": {},
   "source": [
    "- tiktoken.get_encoding \n",
    "    - function is used to load an encoding by name. \n",
    "    - The first time this function is called for a given encoding name, it will download the encoding from the internet. \n",
    "    - Later calls will use the cached version of the encoding.\n",
    "    - The `tiktoken.get_encoding` function takes one argument, which is the encoding name. \n",
    "    - The encoding name is a string that identifies the encoding. \n",
    "        - For example, the encoding name \"cl100k_base\" identifies the BPE encoding that was trained on the cl100k dataset.\n",
    "        \n",
    "- The `tiktoken.get_encoding` function returns an Encoding object. \n",
    "    - The Encoding object has the following methods:\n",
    "\n",
    "        - `encode`(text): Encodes a text string into a sequence of integers.\n",
    "        - `decode`(tokens): Decodes a sequence of integers into a text string.\n",
    "        - `vocab_size()`: Returns the size of the vocabulary.\n",
    "        - `eos()`: Returns the ID of the end-of-sentence token.\n",
    "        - `pad()`: Returns the ID of the pad token."
   ]
  },
  {
   "cell_type": "code",
   "execution_count": null,
   "id": "b80ae664-5361-4483-8c29-141a65ef7d34",
   "metadata": {
    "tags": []
   },
   "outputs": [],
   "source": [
    "# To get the tokeniser corresponding to a specific model in the OpenAI API:\n",
    "enc = tiktoken.encoding_for_model(\"gpt-4\")\n",
    "enc"
   ]
  },
  {
   "cell_type": "code",
   "execution_count": null,
   "id": "54bdd6b0-6f45-43be-971a-337170ee37de",
   "metadata": {
    "tags": []
   },
   "outputs": [],
   "source": [
    "enc = tiktoken.encoding_for_model(\"gpt-3.5-turbo\")\n",
    "enc"
   ]
  },
  {
   "cell_type": "code",
   "execution_count": null,
   "id": "ff8499df-8673-42c5-bcd2-0c3cafe6e450",
   "metadata": {
    "tags": []
   },
   "outputs": [],
   "source": [
    "# # this the encoding for text-embedding-ada-002\n",
    "encoding = tiktoken.get_encoding(\"cl100k_base\")\n",
    "\n",
    "tokens   = encoding.encode(\"This is a text string at doddaballapura road.\")\n",
    "print(tokens)"
   ]
  },
  {
   "cell_type": "markdown",
   "id": "4eb02c7a-774a-4d72-88a8-330a90d4db0e",
   "metadata": {},
   "source": [
    "**Decode a sequence of tokens**"
   ]
  },
  {
   "cell_type": "code",
   "execution_count": null,
   "id": "675ad203-cf6f-4d5d-9248-dc9c8ed0b774",
   "metadata": {
    "tags": []
   },
   "outputs": [],
   "source": [
    "text = encoding.decode(tokens)\n",
    "print(text)"
   ]
  },
  {
   "cell_type": "code",
   "execution_count": null,
   "id": "e51081d2-f0b2-47ee-b8c5-27e3457ed698",
   "metadata": {
    "tags": []
   },
   "outputs": [],
   "source": [
    "num_tokens = len(tokens)\n",
    "print(num_tokens)"
   ]
  },
  {
   "cell_type": "markdown",
   "id": "d4c54229-e020-4954-8bed-4e738529bf19",
   "metadata": {},
   "source": [
    "... back to code"
   ]
  },
  {
   "cell_type": "code",
   "execution_count": 49,
   "id": "ffa055de-30bf-4514-a423-ef00fe331289",
   "metadata": {
    "tags": []
   },
   "outputs": [],
   "source": [
    "import os\n",
    "import openai\n",
    "from openai import OpenAI"
   ]
  },
  {
   "cell_type": "code",
   "execution_count": 51,
   "id": "380fb745-b6cf-4bc9-8678-27b67bebabde",
   "metadata": {
    "tags": []
   },
   "outputs": [
    {
     "data": {
      "text/html": [
       "<div>\n",
       "<style scoped>\n",
       "    .dataframe tbody tr th:only-of-type {\n",
       "        vertical-align: middle;\n",
       "    }\n",
       "\n",
       "    .dataframe tbody tr th {\n",
       "        vertical-align: top;\n",
       "    }\n",
       "\n",
       "    .dataframe thead th {\n",
       "        text-align: right;\n",
       "    }\n",
       "</style>\n",
       "<table border=\"1\" class=\"dataframe\">\n",
       "  <thead>\n",
       "    <tr style=\"text-align: right;\">\n",
       "      <th></th>\n",
       "      <th>ProductId</th>\n",
       "      <th>UserId</th>\n",
       "      <th>Score</th>\n",
       "      <th>Summary</th>\n",
       "      <th>Text</th>\n",
       "      <th>combined</th>\n",
       "    </tr>\n",
       "  </thead>\n",
       "  <tbody>\n",
       "    <tr>\n",
       "      <th>467784</th>\n",
       "      <td>B000V1O28Y</td>\n",
       "      <td>A1CHFK7Z8ZJBQ7</td>\n",
       "      <td>4</td>\n",
       "      <td>Better than I thought they would be!</td>\n",
       "      <td>These were actually quite tasty despite the ex...</td>\n",
       "      <td>Title: Better than I thought they would be!; C...</td>\n",
       "    </tr>\n",
       "    <tr>\n",
       "      <th>102286</th>\n",
       "      <td>B001QEB3E6</td>\n",
       "      <td>AY2O7I9BNG2UI</td>\n",
       "      <td>4</td>\n",
       "      <td>Dog loves them, but I hate the smell</td>\n",
       "      <td>I have a 70 pound lab mix, and he goes nuts fo...</td>\n",
       "      <td>Title: Dog loves them, but I hate the smell; C...</td>\n",
       "    </tr>\n",
       "    <tr>\n",
       "      <th>228586</th>\n",
       "      <td>B00295IGHS</td>\n",
       "      <td>A37VSXI1MDHBWJ</td>\n",
       "      <td>2</td>\n",
       "      <td>Too runny for my taste</td>\n",
       "      <td>I bought this to use to give my dogs pills, so...</td>\n",
       "      <td>Title: Too runny for my taste; Content: I boug...</td>\n",
       "    </tr>\n",
       "    <tr>\n",
       "      <th>149371</th>\n",
       "      <td>B006BXUKAA</td>\n",
       "      <td>A2Y2RTN8AZ9C7F</td>\n",
       "      <td>2</td>\n",
       "      <td>Smells like the beans are flavored with alcohol</td>\n",
       "      <td>When I opened the back, the overwhelming alcoh...</td>\n",
       "      <td>Title: Smells like the beans are flavored with...</td>\n",
       "    </tr>\n",
       "    <tr>\n",
       "      <th>175998</th>\n",
       "      <td>B007TGO1U8</td>\n",
       "      <td>A2FHXIKEYLW2C0</td>\n",
       "      <td>1</td>\n",
       "      <td>Aftertaste</td>\n",
       "      <td>I am disappointed in this product. First, ther...</td>\n",
       "      <td>Title: Aftertaste; Content: I am disappointed ...</td>\n",
       "    </tr>\n",
       "    <tr>\n",
       "      <th>...</th>\n",
       "      <td>...</td>\n",
       "      <td>...</td>\n",
       "      <td>...</td>\n",
       "      <td>...</td>\n",
       "      <td>...</td>\n",
       "      <td>...</td>\n",
       "    </tr>\n",
       "    <tr>\n",
       "      <th>7177</th>\n",
       "      <td>B004OQLIHK</td>\n",
       "      <td>AKHQMSUORSA91</td>\n",
       "      <td>5</td>\n",
       "      <td>Delicious!</td>\n",
       "      <td>I have ordered these raisins multiple times.  ...</td>\n",
       "      <td>Title: Delicious!; Content: I have ordered the...</td>\n",
       "    </tr>\n",
       "    <tr>\n",
       "      <th>401971</th>\n",
       "      <td>B0006349W6</td>\n",
       "      <td>A21BT40VZCCYT4</td>\n",
       "      <td>5</td>\n",
       "      <td>Good Training Treat</td>\n",
       "      <td>My dog will come in from outside when I am tra...</td>\n",
       "      <td>Title: Good Training Treat; Content: My dog wi...</td>\n",
       "    </tr>\n",
       "    <tr>\n",
       "      <th>462087</th>\n",
       "      <td>B00611F084</td>\n",
       "      <td>A6D4ND3C3BCYV</td>\n",
       "      <td>5</td>\n",
       "      <td>Jamica Me Crazy Coffee</td>\n",
       "      <td>Wolfgang Puck's Jamaica Me Crazy is that wonde...</td>\n",
       "      <td>Title: Jamica Me Crazy Coffee; Content: Wolfga...</td>\n",
       "    </tr>\n",
       "    <tr>\n",
       "      <th>267548</th>\n",
       "      <td>B005QKH5HA</td>\n",
       "      <td>A3LR9HCV3D96I3</td>\n",
       "      <td>5</td>\n",
       "      <td>Party Peanuts</td>\n",
       "      <td>Great product for the price. Mix with the Asia...</td>\n",
       "      <td>Title: Party Peanuts; Content: Great product f...</td>\n",
       "    </tr>\n",
       "    <tr>\n",
       "      <th>542496</th>\n",
       "      <td>B001EQ5GEO</td>\n",
       "      <td>A3VYU0VO6DYV6I</td>\n",
       "      <td>5</td>\n",
       "      <td>I love Maui Coffee!</td>\n",
       "      <td>My first experience with Maui Coffee was bring...</td>\n",
       "      <td>Title: I love Maui Coffee!; Content: My first ...</td>\n",
       "    </tr>\n",
       "  </tbody>\n",
       "</table>\n",
       "<p>2000 rows × 6 columns</p>\n",
       "</div>"
      ],
      "text/plain": [
       "         ProductId          UserId  Score  \\\n",
       "467784  B000V1O28Y  A1CHFK7Z8ZJBQ7      4   \n",
       "102286  B001QEB3E6   AY2O7I9BNG2UI      4   \n",
       "228586  B00295IGHS  A37VSXI1MDHBWJ      2   \n",
       "149371  B006BXUKAA  A2Y2RTN8AZ9C7F      2   \n",
       "175998  B007TGO1U8  A2FHXIKEYLW2C0      1   \n",
       "...            ...             ...    ...   \n",
       "7177    B004OQLIHK   AKHQMSUORSA91      5   \n",
       "401971  B0006349W6  A21BT40VZCCYT4      5   \n",
       "462087  B00611F084   A6D4ND3C3BCYV      5   \n",
       "267548  B005QKH5HA  A3LR9HCV3D96I3      5   \n",
       "542496  B001EQ5GEO  A3VYU0VO6DYV6I      5   \n",
       "\n",
       "                                                Summary  \\\n",
       "467784             Better than I thought they would be!   \n",
       "102286             Dog loves them, but I hate the smell   \n",
       "228586                           Too runny for my taste   \n",
       "149371  Smells like the beans are flavored with alcohol   \n",
       "175998                                       Aftertaste   \n",
       "...                                                 ...   \n",
       "7177                                         Delicious!   \n",
       "401971                              Good Training Treat   \n",
       "462087                           Jamica Me Crazy Coffee   \n",
       "267548                                    Party Peanuts   \n",
       "542496                              I love Maui Coffee!   \n",
       "\n",
       "                                                     Text  \\\n",
       "467784  These were actually quite tasty despite the ex...   \n",
       "102286  I have a 70 pound lab mix, and he goes nuts fo...   \n",
       "228586  I bought this to use to give my dogs pills, so...   \n",
       "149371  When I opened the back, the overwhelming alcoh...   \n",
       "175998  I am disappointed in this product. First, ther...   \n",
       "...                                                   ...   \n",
       "7177    I have ordered these raisins multiple times.  ...   \n",
       "401971  My dog will come in from outside when I am tra...   \n",
       "462087  Wolfgang Puck's Jamaica Me Crazy is that wonde...   \n",
       "267548  Great product for the price. Mix with the Asia...   \n",
       "542496  My first experience with Maui Coffee was bring...   \n",
       "\n",
       "                                                 combined  \n",
       "467784  Title: Better than I thought they would be!; C...  \n",
       "102286  Title: Dog loves them, but I hate the smell; C...  \n",
       "228586  Title: Too runny for my taste; Content: I boug...  \n",
       "149371  Title: Smells like the beans are flavored with...  \n",
       "175998  Title: Aftertaste; Content: I am disappointed ...  \n",
       "...                                                   ...  \n",
       "7177    Title: Delicious!; Content: I have ordered the...  \n",
       "401971  Title: Good Training Treat; Content: My dog wi...  \n",
       "462087  Title: Jamica Me Crazy Coffee; Content: Wolfga...  \n",
       "267548  Title: Party Peanuts; Content: Great product f...  \n",
       "542496  Title: I love Maui Coffee!; Content: My first ...  \n",
       "\n",
       "[2000 rows x 6 columns]"
      ]
     },
     "execution_count": 51,
     "metadata": {},
     "output_type": "execute_result"
    }
   ],
   "source": [
    "df"
   ]
  },
  {
   "cell_type": "code",
   "execution_count": 53,
   "id": "ae20bcc5-ec6d-474e-8d0e-d82def301d09",
   "metadata": {
    "tags": []
   },
   "outputs": [],
   "source": [
    "# embedding model parameters\n",
    "embedding_model    = \"text-embedding-ada-002\" # smallest\n",
    "embedding_encoding = \"cl100k_base\"  # this the encoding for text-embedding-ada-002\n",
    "\n",
    "max_tokens         = 8000  # the maximum for text-embedding-ada-002 is 8191"
   ]
  },
  {
   "cell_type": "code",
   "execution_count": 55,
   "id": "812db323-2a32-4f0a-9668-99944ee24a74",
   "metadata": {
    "tags": []
   },
   "outputs": [],
   "source": [
    "encoding = tiktoken.get_encoding(embedding_encoding)"
   ]
  },
  {
   "cell_type": "code",
   "execution_count": 57,
   "id": "6b19a754-11f3-433e-bf0b-27a15e3be7b3",
   "metadata": {
    "tags": []
   },
   "outputs": [],
   "source": [
    "# omit reviews that are too long to embed\n",
    "df[\"n_tokens\"] = df.combined.apply(lambda x: len(encoding.encode(x)))"
   ]
  },
  {
   "cell_type": "code",
   "execution_count": 36,
   "id": "9bbf8639-bc46-4778-86ff-a1eb9175e460",
   "metadata": {
    "tags": []
   },
   "outputs": [
    {
     "data": {
      "text/html": [
       "<div>\n",
       "<style scoped>\n",
       "    .dataframe tbody tr th:only-of-type {\n",
       "        vertical-align: middle;\n",
       "    }\n",
       "\n",
       "    .dataframe tbody tr th {\n",
       "        vertical-align: top;\n",
       "    }\n",
       "\n",
       "    .dataframe thead th {\n",
       "        text-align: right;\n",
       "    }\n",
       "</style>\n",
       "<table border=\"1\" class=\"dataframe\">\n",
       "  <thead>\n",
       "    <tr style=\"text-align: right;\">\n",
       "      <th></th>\n",
       "      <th>ProductId</th>\n",
       "      <th>UserId</th>\n",
       "      <th>Score</th>\n",
       "      <th>Summary</th>\n",
       "      <th>Text</th>\n",
       "      <th>combined</th>\n",
       "      <th>n_tokens</th>\n",
       "    </tr>\n",
       "  </thead>\n",
       "  <tbody>\n",
       "    <tr>\n",
       "      <th>467784</th>\n",
       "      <td>B000V1O28Y</td>\n",
       "      <td>A1CHFK7Z8ZJBQ7</td>\n",
       "      <td>4</td>\n",
       "      <td>Better than I thought they would be!</td>\n",
       "      <td>These were actually quite tasty despite the ex...</td>\n",
       "      <td>Title: Better than I thought they would be!; C...</td>\n",
       "      <td>58</td>\n",
       "    </tr>\n",
       "    <tr>\n",
       "      <th>102286</th>\n",
       "      <td>B001QEB3E6</td>\n",
       "      <td>AY2O7I9BNG2UI</td>\n",
       "      <td>4</td>\n",
       "      <td>Dog loves them, but I hate the smell</td>\n",
       "      <td>I have a 70 pound lab mix, and he goes nuts fo...</td>\n",
       "      <td>Title: Dog loves them, but I hate the smell; C...</td>\n",
       "      <td>98</td>\n",
       "    </tr>\n",
       "    <tr>\n",
       "      <th>228586</th>\n",
       "      <td>B00295IGHS</td>\n",
       "      <td>A37VSXI1MDHBWJ</td>\n",
       "      <td>2</td>\n",
       "      <td>Too runny for my taste</td>\n",
       "      <td>I bought this to use to give my dogs pills, so...</td>\n",
       "      <td>Title: Too runny for my taste; Content: I boug...</td>\n",
       "      <td>100</td>\n",
       "    </tr>\n",
       "    <tr>\n",
       "      <th>149371</th>\n",
       "      <td>B006BXUKAA</td>\n",
       "      <td>A2Y2RTN8AZ9C7F</td>\n",
       "      <td>2</td>\n",
       "      <td>Smells like the beans are flavored with alcohol</td>\n",
       "      <td>When I opened the back, the overwhelming alcoh...</td>\n",
       "      <td>Title: Smells like the beans are flavored with...</td>\n",
       "      <td>88</td>\n",
       "    </tr>\n",
       "    <tr>\n",
       "      <th>175998</th>\n",
       "      <td>B007TGO1U8</td>\n",
       "      <td>A2FHXIKEYLW2C0</td>\n",
       "      <td>1</td>\n",
       "      <td>Aftertaste</td>\n",
       "      <td>I am disappointed in this product. First, ther...</td>\n",
       "      <td>Title: Aftertaste; Content: I am disappointed ...</td>\n",
       "      <td>79</td>\n",
       "    </tr>\n",
       "    <tr>\n",
       "      <th>...</th>\n",
       "      <td>...</td>\n",
       "      <td>...</td>\n",
       "      <td>...</td>\n",
       "      <td>...</td>\n",
       "      <td>...</td>\n",
       "      <td>...</td>\n",
       "      <td>...</td>\n",
       "    </tr>\n",
       "    <tr>\n",
       "      <th>7177</th>\n",
       "      <td>B004OQLIHK</td>\n",
       "      <td>AKHQMSUORSA91</td>\n",
       "      <td>5</td>\n",
       "      <td>Delicious!</td>\n",
       "      <td>I have ordered these raisins multiple times.  ...</td>\n",
       "      <td>Title: Delicious!; Content: I have ordered the...</td>\n",
       "      <td>43</td>\n",
       "    </tr>\n",
       "    <tr>\n",
       "      <th>401971</th>\n",
       "      <td>B0006349W6</td>\n",
       "      <td>A21BT40VZCCYT4</td>\n",
       "      <td>5</td>\n",
       "      <td>Good Training Treat</td>\n",
       "      <td>My dog will come in from outside when I am tra...</td>\n",
       "      <td>Title: Good Training Treat; Content: My dog wi...</td>\n",
       "      <td>48</td>\n",
       "    </tr>\n",
       "    <tr>\n",
       "      <th>462087</th>\n",
       "      <td>B00611F084</td>\n",
       "      <td>A6D4ND3C3BCYV</td>\n",
       "      <td>5</td>\n",
       "      <td>Jamica Me Crazy Coffee</td>\n",
       "      <td>Wolfgang Puck's Jamaica Me Crazy is that wonde...</td>\n",
       "      <td>Title: Jamica Me Crazy Coffee; Content: Wolfga...</td>\n",
       "      <td>40</td>\n",
       "    </tr>\n",
       "    <tr>\n",
       "      <th>267548</th>\n",
       "      <td>B005QKH5HA</td>\n",
       "      <td>A3LR9HCV3D96I3</td>\n",
       "      <td>5</td>\n",
       "      <td>Party Peanuts</td>\n",
       "      <td>Great product for the price. Mix with the Asia...</td>\n",
       "      <td>Title: Party Peanuts; Content: Great product f...</td>\n",
       "      <td>45</td>\n",
       "    </tr>\n",
       "    <tr>\n",
       "      <th>542496</th>\n",
       "      <td>B001EQ5GEO</td>\n",
       "      <td>A3VYU0VO6DYV6I</td>\n",
       "      <td>5</td>\n",
       "      <td>I love Maui Coffee!</td>\n",
       "      <td>My first experience with Maui Coffee was bring...</td>\n",
       "      <td>Title: I love Maui Coffee!; Content: My first ...</td>\n",
       "      <td>118</td>\n",
       "    </tr>\n",
       "  </tbody>\n",
       "</table>\n",
       "<p>2000 rows × 7 columns</p>\n",
       "</div>"
      ],
      "text/plain": [
       "         ProductId          UserId  Score  \\\n",
       "467784  B000V1O28Y  A1CHFK7Z8ZJBQ7      4   \n",
       "102286  B001QEB3E6   AY2O7I9BNG2UI      4   \n",
       "228586  B00295IGHS  A37VSXI1MDHBWJ      2   \n",
       "149371  B006BXUKAA  A2Y2RTN8AZ9C7F      2   \n",
       "175998  B007TGO1U8  A2FHXIKEYLW2C0      1   \n",
       "...            ...             ...    ...   \n",
       "7177    B004OQLIHK   AKHQMSUORSA91      5   \n",
       "401971  B0006349W6  A21BT40VZCCYT4      5   \n",
       "462087  B00611F084   A6D4ND3C3BCYV      5   \n",
       "267548  B005QKH5HA  A3LR9HCV3D96I3      5   \n",
       "542496  B001EQ5GEO  A3VYU0VO6DYV6I      5   \n",
       "\n",
       "                                                Summary  \\\n",
       "467784             Better than I thought they would be!   \n",
       "102286             Dog loves them, but I hate the smell   \n",
       "228586                           Too runny for my taste   \n",
       "149371  Smells like the beans are flavored with alcohol   \n",
       "175998                                       Aftertaste   \n",
       "...                                                 ...   \n",
       "7177                                         Delicious!   \n",
       "401971                              Good Training Treat   \n",
       "462087                           Jamica Me Crazy Coffee   \n",
       "267548                                    Party Peanuts   \n",
       "542496                              I love Maui Coffee!   \n",
       "\n",
       "                                                     Text  \\\n",
       "467784  These were actually quite tasty despite the ex...   \n",
       "102286  I have a 70 pound lab mix, and he goes nuts fo...   \n",
       "228586  I bought this to use to give my dogs pills, so...   \n",
       "149371  When I opened the back, the overwhelming alcoh...   \n",
       "175998  I am disappointed in this product. First, ther...   \n",
       "...                                                   ...   \n",
       "7177    I have ordered these raisins multiple times.  ...   \n",
       "401971  My dog will come in from outside when I am tra...   \n",
       "462087  Wolfgang Puck's Jamaica Me Crazy is that wonde...   \n",
       "267548  Great product for the price. Mix with the Asia...   \n",
       "542496  My first experience with Maui Coffee was bring...   \n",
       "\n",
       "                                                 combined  n_tokens  \n",
       "467784  Title: Better than I thought they would be!; C...        58  \n",
       "102286  Title: Dog loves them, but I hate the smell; C...        98  \n",
       "228586  Title: Too runny for my taste; Content: I boug...       100  \n",
       "149371  Title: Smells like the beans are flavored with...        88  \n",
       "175998  Title: Aftertaste; Content: I am disappointed ...        79  \n",
       "...                                                   ...       ...  \n",
       "7177    Title: Delicious!; Content: I have ordered the...        43  \n",
       "401971  Title: Good Training Treat; Content: My dog wi...        48  \n",
       "462087  Title: Jamica Me Crazy Coffee; Content: Wolfga...        40  \n",
       "267548  Title: Party Peanuts; Content: Great product f...        45  \n",
       "542496  Title: I love Maui Coffee!; Content: My first ...       118  \n",
       "\n",
       "[2000 rows x 7 columns]"
      ]
     },
     "execution_count": 36,
     "metadata": {},
     "output_type": "execute_result"
    }
   ],
   "source": [
    "df"
   ]
  },
  {
   "cell_type": "code",
   "execution_count": 1,
   "id": "8a3e02bb-b9e4-4520-ba9a-812d5396cc7b",
   "metadata": {},
   "outputs": [
    {
     "ename": "NameError",
     "evalue": "name 'df' is not defined",
     "output_type": "error",
     "traceback": [
      "\u001b[1;31m---------------------------------------------------------------------------\u001b[0m",
      "\u001b[1;31mNameError\u001b[0m                                 Traceback (most recent call last)",
      "Cell \u001b[1;32mIn[1], line 1\u001b[0m\n\u001b[1;32m----> 1\u001b[0m df\u001b[38;5;241m.\u001b[39mn_tokens\u001b[38;5;241m.\u001b[39mhist()\n",
      "\u001b[1;31mNameError\u001b[0m: name 'df' is not defined"
     ]
    }
   ],
   "source": [
    "df.n_tokens.hist()"
   ]
  },
  {
   "cell_type": "code",
   "execution_count": 41,
   "id": "ccb1fbe8-93d1-4978-bd94-7e951e80fdc4",
   "metadata": {
    "tags": []
   },
   "outputs": [
    {
     "data": {
      "text/html": [
       "<div>\n",
       "<style scoped>\n",
       "    .dataframe tbody tr th:only-of-type {\n",
       "        vertical-align: middle;\n",
       "    }\n",
       "\n",
       "    .dataframe tbody tr th {\n",
       "        vertical-align: top;\n",
       "    }\n",
       "\n",
       "    .dataframe thead th {\n",
       "        text-align: right;\n",
       "    }\n",
       "</style>\n",
       "<table border=\"1\" class=\"dataframe\">\n",
       "  <thead>\n",
       "    <tr style=\"text-align: right;\">\n",
       "      <th></th>\n",
       "      <th>ProductId</th>\n",
       "      <th>UserId</th>\n",
       "      <th>Score</th>\n",
       "      <th>Summary</th>\n",
       "      <th>Text</th>\n",
       "      <th>combined</th>\n",
       "      <th>n_tokens</th>\n",
       "    </tr>\n",
       "  </thead>\n",
       "  <tbody>\n",
       "    <tr>\n",
       "      <th>413611</th>\n",
       "      <td>B0026KPDG8</td>\n",
       "      <td>A3EJRBPUFFECQP</td>\n",
       "      <td>5</td>\n",
       "      <td>great portion contolled snack</td>\n",
       "      <td>These are great to have around as a snack... i...</td>\n",
       "      <td>Title: great portion contolled snack; Content:...</td>\n",
       "      <td>39</td>\n",
       "    </tr>\n",
       "    <tr>\n",
       "      <th>83822</th>\n",
       "      <td>B001EQ5GXK</td>\n",
       "      <td>AS9N6RG8ZDO0U</td>\n",
       "      <td>5</td>\n",
       "      <td>NorCal Grandma</td>\n",
       "      <td>This decaf pod has wonderful flavor.  It is mu...</td>\n",
       "      <td>Title: NorCal Grandma; Content: This decaf pod...</td>\n",
       "      <td>40</td>\n",
       "    </tr>\n",
       "    <tr>\n",
       "      <th>152786</th>\n",
       "      <td>B000FDMLVI</td>\n",
       "      <td>A1C4UOLGSFKELF</td>\n",
       "      <td>5</td>\n",
       "      <td>Great bread!!</td>\n",
       "      <td>Just made Hodgson Mill white bread this mornin...</td>\n",
       "      <td>Title: Great bread!!; Content: Just made Hodgs...</td>\n",
       "      <td>37</td>\n",
       "    </tr>\n",
       "    <tr>\n",
       "      <th>393873</th>\n",
       "      <td>B0059JXK2M</td>\n",
       "      <td>A14ZTUL1511SLP</td>\n",
       "      <td>5</td>\n",
       "      <td>Very Good</td>\n",
       "      <td>Can't believe these are sugar-free, they reall...</td>\n",
       "      <td>Title: Very Good; Content: Can't believe these...</td>\n",
       "      <td>40</td>\n",
       "    </tr>\n",
       "    <tr>\n",
       "      <th>529735</th>\n",
       "      <td>B0032CB15Q</td>\n",
       "      <td>A34YL36NCRLSQT</td>\n",
       "      <td>5</td>\n",
       "      <td>Great Morning Coffee</td>\n",
       "      <td>This is a great morning starter!!  If you love...</td>\n",
       "      <td>Title: Great Morning Coffee; Content: This is ...</td>\n",
       "      <td>38</td>\n",
       "    </tr>\n",
       "    <tr>\n",
       "      <th>...</th>\n",
       "      <td>...</td>\n",
       "      <td>...</td>\n",
       "      <td>...</td>\n",
       "      <td>...</td>\n",
       "      <td>...</td>\n",
       "      <td>...</td>\n",
       "      <td>...</td>\n",
       "    </tr>\n",
       "    <tr>\n",
       "      <th>443040</th>\n",
       "      <td>B001A43E6M</td>\n",
       "      <td>A32UNJZRBQENQW</td>\n",
       "      <td>5</td>\n",
       "      <td>Arizona Green Tea with Pomegranate &amp; Acai</td>\n",
       "      <td>I love the convenience of the mail order proce...</td>\n",
       "      <td>Title: Arizona Green Tea with Pomegranate &amp; Ac...</td>\n",
       "      <td>39</td>\n",
       "    </tr>\n",
       "    <tr>\n",
       "      <th>7177</th>\n",
       "      <td>B004OQLIHK</td>\n",
       "      <td>AKHQMSUORSA91</td>\n",
       "      <td>5</td>\n",
       "      <td>Delicious!</td>\n",
       "      <td>I have ordered these raisins multiple times.  ...</td>\n",
       "      <td>Title: Delicious!; Content: I have ordered the...</td>\n",
       "      <td>43</td>\n",
       "    </tr>\n",
       "    <tr>\n",
       "      <th>401971</th>\n",
       "      <td>B0006349W6</td>\n",
       "      <td>A21BT40VZCCYT4</td>\n",
       "      <td>5</td>\n",
       "      <td>Good Training Treat</td>\n",
       "      <td>My dog will come in from outside when I am tra...</td>\n",
       "      <td>Title: Good Training Treat; Content: My dog wi...</td>\n",
       "      <td>48</td>\n",
       "    </tr>\n",
       "    <tr>\n",
       "      <th>462087</th>\n",
       "      <td>B00611F084</td>\n",
       "      <td>A6D4ND3C3BCYV</td>\n",
       "      <td>5</td>\n",
       "      <td>Jamica Me Crazy Coffee</td>\n",
       "      <td>Wolfgang Puck's Jamaica Me Crazy is that wonde...</td>\n",
       "      <td>Title: Jamica Me Crazy Coffee; Content: Wolfga...</td>\n",
       "      <td>40</td>\n",
       "    </tr>\n",
       "    <tr>\n",
       "      <th>267548</th>\n",
       "      <td>B005QKH5HA</td>\n",
       "      <td>A3LR9HCV3D96I3</td>\n",
       "      <td>5</td>\n",
       "      <td>Party Peanuts</td>\n",
       "      <td>Great product for the price. Mix with the Asia...</td>\n",
       "      <td>Title: Party Peanuts; Content: Great product f...</td>\n",
       "      <td>45</td>\n",
       "    </tr>\n",
       "  </tbody>\n",
       "</table>\n",
       "<p>603 rows × 7 columns</p>\n",
       "</div>"
      ],
      "text/plain": [
       "         ProductId          UserId  Score  \\\n",
       "413611  B0026KPDG8  A3EJRBPUFFECQP      5   \n",
       "83822   B001EQ5GXK   AS9N6RG8ZDO0U      5   \n",
       "152786  B000FDMLVI  A1C4UOLGSFKELF      5   \n",
       "393873  B0059JXK2M  A14ZTUL1511SLP      5   \n",
       "529735  B0032CB15Q  A34YL36NCRLSQT      5   \n",
       "...            ...             ...    ...   \n",
       "443040  B001A43E6M  A32UNJZRBQENQW      5   \n",
       "7177    B004OQLIHK   AKHQMSUORSA91      5   \n",
       "401971  B0006349W6  A21BT40VZCCYT4      5   \n",
       "462087  B00611F084   A6D4ND3C3BCYV      5   \n",
       "267548  B005QKH5HA  A3LR9HCV3D96I3      5   \n",
       "\n",
       "                                          Summary  \\\n",
       "413611              great portion contolled snack   \n",
       "83822                              NorCal Grandma   \n",
       "152786                              Great bread!!   \n",
       "393873                                  Very Good   \n",
       "529735                       Great Morning Coffee   \n",
       "...                                           ...   \n",
       "443040  Arizona Green Tea with Pomegranate & Acai   \n",
       "7177                                   Delicious!   \n",
       "401971                        Good Training Treat   \n",
       "462087                     Jamica Me Crazy Coffee   \n",
       "267548                              Party Peanuts   \n",
       "\n",
       "                                                     Text  \\\n",
       "413611  These are great to have around as a snack... i...   \n",
       "83822   This decaf pod has wonderful flavor.  It is mu...   \n",
       "152786  Just made Hodgson Mill white bread this mornin...   \n",
       "393873  Can't believe these are sugar-free, they reall...   \n",
       "529735  This is a great morning starter!!  If you love...   \n",
       "...                                                   ...   \n",
       "443040  I love the convenience of the mail order proce...   \n",
       "7177    I have ordered these raisins multiple times.  ...   \n",
       "401971  My dog will come in from outside when I am tra...   \n",
       "462087  Wolfgang Puck's Jamaica Me Crazy is that wonde...   \n",
       "267548  Great product for the price. Mix with the Asia...   \n",
       "\n",
       "                                                 combined  n_tokens  \n",
       "413611  Title: great portion contolled snack; Content:...        39  \n",
       "83822   Title: NorCal Grandma; Content: This decaf pod...        40  \n",
       "152786  Title: Great bread!!; Content: Just made Hodgs...        37  \n",
       "393873  Title: Very Good; Content: Can't believe these...        40  \n",
       "529735  Title: Great Morning Coffee; Content: This is ...        38  \n",
       "...                                                   ...       ...  \n",
       "443040  Title: Arizona Green Tea with Pomegranate & Ac...        39  \n",
       "7177    Title: Delicious!; Content: I have ordered the...        43  \n",
       "401971  Title: Good Training Treat; Content: My dog wi...        48  \n",
       "462087  Title: Jamica Me Crazy Coffee; Content: Wolfga...        40  \n",
       "267548  Title: Party Peanuts; Content: Great product f...        45  \n",
       "\n",
       "[603 rows x 7 columns]"
      ]
     },
     "execution_count": 41,
     "metadata": {},
     "output_type": "execute_result"
    }
   ],
   "source": [
    "# number of samples with number of tokens more than max_tokens\n",
    "df[df.n_tokens <= 50]"
   ]
  },
  {
   "cell_type": "code",
   "execution_count": 91,
   "id": "73687357-dd99-405e-a074-1288151f5c91",
   "metadata": {
    "tags": []
   },
   "outputs": [
    {
     "data": {
      "text/plain": [
       "(2000, 7)"
      ]
     },
     "execution_count": 91,
     "metadata": {},
     "output_type": "execute_result"
    }
   ],
   "source": [
    "# number of samples with number of tokens less than max_tokens\n",
    "df[df.n_tokens <= max_tokens].shape"
   ]
  },
  {
   "cell_type": "markdown",
   "id": "977c39e9-ab2b-483b-bc53-ff0ec770f96a",
   "metadata": {},
   "source": [
    "#### Get embeddings and save them for future reuse\n",
    "- Ensure you have your API key set in your environment"
   ]
  },
  {
   "cell_type": "code",
   "execution_count": 3,
   "id": "e8831590-abc8-42f9-97ea-58c33c219e02",
   "metadata": {
    "tags": []
   },
   "outputs": [
    {
     "ename": "NameError",
     "evalue": "name 'openai' is not defined",
     "output_type": "error",
     "traceback": [
      "\u001b[1;31m---------------------------------------------------------------------------\u001b[0m",
      "\u001b[1;31mNameError\u001b[0m                                 Traceback (most recent call last)",
      "Cell \u001b[1;32mIn[3], line 3\u001b[0m\n\u001b[0;32m      1\u001b[0m \u001b[38;5;28;01mfrom\u001b[39;00m \u001b[38;5;21;01mopenai\u001b[39;00m \u001b[38;5;28;01mimport\u001b[39;00m OpenAI\n\u001b[1;32m----> 3\u001b[0m client \u001b[38;5;241m=\u001b[39m openai\u001b[38;5;241m.\u001b[39mOpenAI(\n\u001b[0;32m      4\u001b[0m    \n\u001b[0;32m      5\u001b[0m     \u001b[38;5;66;03m#api_key=openai_api_key\u001b[39;00m\n\u001b[0;32m      6\u001b[0m )\n",
      "\u001b[1;31mNameError\u001b[0m: name 'openai' is not defined"
     ]
    }
   ],
   "source": [
    "from openai import OpenAI\n",
    "\n",
    "client = openai.OpenAI(\n",
    "   \n",
    "    #api_key=openai_api_key\n",
    ")"
   ]
  },
  {
   "cell_type": "code",
   "execution_count": 43,
   "id": "40743218-4816-4421-aa83-d1ca0972b66a",
   "metadata": {
    "tags": []
   },
   "outputs": [],
   "source": [
    "def get_embedding(text, model=\"text-embedding-ada-002\"):\n",
    "    text = text.replace(\"\\n\", \" \")\n",
    "    return client.embeddings.create(input = [text], model=model).data[0].embedding"
   ]
  },
  {
   "cell_type": "code",
   "execution_count": 40,
   "id": "50e44708-d1ac-4c4f-97bd-ed08b98a52ae",
   "metadata": {
    "tags": []
   },
   "outputs": [
    {
     "name": "stdout",
     "output_type": "stream",
     "text": [
      "CPU times: total: 7.95 s\n",
      "Wall time: 15min 47s\n"
     ]
    }
   ],
   "source": [
    "%%time\n",
    "# This may take a few minutes (10 - 20 mins)\n",
    "df['ada_embedding'] = df.combined.apply(lambda x: get_embedding(x, model='text-embedding-ada-002'))"
   ]
  },
  {
   "cell_type": "markdown",
   "id": "4e708121-1c3d-4c41-9ed1-1c928a2d2e76",
   "metadata": {},
   "source": [
    "#### Options for faster obtaining of embeddings"
   ]
  },
  {
   "cell_type": "markdown",
   "id": "1178834a-11d1-42a6-9a7a-414993c9ab3c",
   "metadata": {},
   "source": [
    "**Option 1** - Batch Processing\n",
    "- This reduces the overhead associated with making individual API calls and can significantly reduce the total time required."
   ]
  },
  {
   "cell_type": "code",
   "execution_count": 44,
   "id": "c4ee5e0f-899c-4c6b-afe7-d08554206b11",
   "metadata": {},
   "outputs": [],
   "source": [
    "def get_embeddings_batch(texts, model='text-embedding-ada-002'):\n",
    "    # Using the client to create embeddings\n",
    "    response = client.embeddings.create(input=texts, model=model)\n",
    "    \n",
    "    # Extract embeddings from the response\n",
    "    return [embedding.embedding for embedding in response.data]"
   ]
  },
  {
   "cell_type": "code",
   "execution_count": 46,
   "id": "6ba8f009-e9da-4ee6-a231-42c3dc6e346e",
   "metadata": {},
   "outputs": [],
   "source": [
    "batch_size = 150  # Adjust based on API limits and memory, 50, 100, 150 ...\n",
    "embeddings = []"
   ]
  },
  {
   "cell_type": "code",
   "execution_count": 47,
   "id": "14c392d2-ac6a-42a5-a0b0-43a2c55f913d",
   "metadata": {},
   "outputs": [
    {
     "name": "stdout",
     "output_type": "stream",
     "text": [
      "Wall time: 12.9 s\n"
     ]
    }
   ],
   "source": [
    "%%time\n",
    "for i in range(0, len(df), batch_size):\n",
    "    \n",
    "    batch = df.combined[i:i+batch_size].tolist()\n",
    "    \n",
    "    embeddings.extend(get_embeddings_batch(batch))\n",
    "\n",
    "df['ada_embedding'] = embeddings"
   ]
  },
  {
   "cell_type": "markdown",
   "id": "c4e25d6f-f3fa-4004-abe9-9353cb54c41d",
   "metadata": {},
   "source": [
    "**Option 2** - Parallel Processing with Threading:\n",
    "- Using multiple threads can help make API calls concurrently, thus utilizing available resources more efficiently."
   ]
  },
  {
   "cell_type": "code",
   "execution_count": 48,
   "id": "25d1ad98-22ff-4c61-9097-b3b24d0e14bd",
   "metadata": {},
   "outputs": [],
   "source": [
    "from concurrent.futures import ThreadPoolExecutor"
   ]
  },
  {
   "cell_type": "code",
   "execution_count": 49,
   "id": "0f33b529-3bab-4c94-b06d-1865179b5aec",
   "metadata": {},
   "outputs": [],
   "source": [
    "def get_embeddings_batch(texts, model='text-embedding-ada-002'):\n",
    "    # Using the client to create embeddings\n",
    "    response = client.embeddings.create(input=texts, model=model)\n",
    "    \n",
    "    # Extract embeddings from the response\n",
    "    return [embedding.embedding for embedding in response.data]"
   ]
  },
  {
   "cell_type": "code",
   "execution_count": 50,
   "id": "9fe4f5e5-9f7a-47f3-9249-1207539e07eb",
   "metadata": {},
   "outputs": [],
   "source": [
    "def process_batch(batch):\n",
    "    return get_embeddings_batch(batch)"
   ]
  },
  {
   "cell_type": "code",
   "execution_count": 51,
   "id": "047cd726-37ca-426e-ab3d-779ee0f03f7f",
   "metadata": {},
   "outputs": [],
   "source": [
    "batch_size = 50  # Adjust based on API limits and memory\n",
    "embeddings = []"
   ]
  },
  {
   "cell_type": "code",
   "execution_count": 53,
   "id": "bc76e327-8c06-451d-971d-4f55a5e2b090",
   "metadata": {},
   "outputs": [],
   "source": [
    "# Number of threads to use. Adjust based on your system's capabilities\n",
    "max_workers = 10"
   ]
  },
  {
   "cell_type": "code",
   "execution_count": 54,
   "id": "b23f0246-12ea-47a4-9c0a-c9bc2319eefc",
   "metadata": {},
   "outputs": [
    {
     "name": "stdout",
     "output_type": "stream",
     "text": [
      "Wall time: 5.01 s\n"
     ]
    }
   ],
   "source": [
    "%%time\n",
    "with ThreadPoolExecutor(max_workers=max_workers) as executor:\n",
    "    \n",
    "    # Split the data into batches and process them in parallel\n",
    "    batches = [df.combined[i:i+batch_size].tolist() for i in range(0, len(df), batch_size)]\n",
    "    results = executor.map(process_batch, batches)\n",
    "    \n",
    "    # Flatten the list of lists into a single list of embeddings\n",
    "    embeddings = [embedding for batch_result in results for embedding in batch_result]"
   ]
  },
  {
   "cell_type": "code",
   "execution_count": 55,
   "id": "a1e38262-1b90-4f35-81d1-00549e09a20e",
   "metadata": {},
   "outputs": [],
   "source": [
    "# Add the embeddings to the DataFrame\n",
    "df['ada_embedding'] = embeddings"
   ]
  },
  {
   "cell_type": "code",
   "execution_count": 56,
   "id": "0ea86bf0-47a6-4d81-8745-504c01b40fe4",
   "metadata": {},
   "outputs": [
    {
     "data": {
      "text/html": [
       "<div>\n",
       "<style scoped>\n",
       "    .dataframe tbody tr th:only-of-type {\n",
       "        vertical-align: middle;\n",
       "    }\n",
       "\n",
       "    .dataframe tbody tr th {\n",
       "        vertical-align: top;\n",
       "    }\n",
       "\n",
       "    .dataframe thead th {\n",
       "        text-align: right;\n",
       "    }\n",
       "</style>\n",
       "<table border=\"1\" class=\"dataframe\">\n",
       "  <thead>\n",
       "    <tr style=\"text-align: right;\">\n",
       "      <th></th>\n",
       "      <th>ProductId</th>\n",
       "      <th>UserId</th>\n",
       "      <th>Score</th>\n",
       "      <th>Summary</th>\n",
       "      <th>Text</th>\n",
       "      <th>combined</th>\n",
       "      <th>n_tokens</th>\n",
       "      <th>ada_embedding</th>\n",
       "    </tr>\n",
       "  </thead>\n",
       "  <tbody>\n",
       "    <tr>\n",
       "      <th>535731</th>\n",
       "      <td>B003VXHGDM</td>\n",
       "      <td>A21VWSCGW7UUAR</td>\n",
       "      <td>4</td>\n",
       "      <td>Good, but not Wolfgang Puck good</td>\n",
       "      <td>Honestly, I have to admit that I expected a li...</td>\n",
       "      <td>Title: Good, but not Wolfgang Puck good; Conte...</td>\n",
       "      <td>178</td>\n",
       "      <td>[-0.0031321949791163206, -0.010046787559986115...</td>\n",
       "    </tr>\n",
       "    <tr>\n",
       "      <th>538589</th>\n",
       "      <td>B0048KH218</td>\n",
       "      <td>AVDNKJE3E46HW</td>\n",
       "      <td>5</td>\n",
       "      <td>Excellent Value</td>\n",
       "      <td>I discovered quinoa recently. You can read all...</td>\n",
       "      <td>Title: Excellent Value; Content: I discovered ...</td>\n",
       "      <td>57</td>\n",
       "      <td>[0.0026609161868691444, 0.01671537756919861, 0...</td>\n",
       "    </tr>\n",
       "    <tr>\n",
       "      <th>201428</th>\n",
       "      <td>B001U2HRLM</td>\n",
       "      <td>A1T666SZMKVT5Y</td>\n",
       "      <td>5</td>\n",
       "      <td>Babys Only Toddler Formula Lactose Relief Organic</td>\n",
       "      <td>I have been using this for the last 4 months f...</td>\n",
       "      <td>Title: Babys Only Toddler Formula Lactose Reli...</td>\n",
       "      <td>54</td>\n",
       "      <td>[-0.013263222761452198, -4.496865221881308e-05...</td>\n",
       "    </tr>\n",
       "    <tr>\n",
       "      <th>405314</th>\n",
       "      <td>B005K4Q4LK</td>\n",
       "      <td>AH1QYCY9W98C5</td>\n",
       "      <td>4</td>\n",
       "      <td>K -Cup Cappuccino</td>\n",
       "      <td>This is a product that we will use again as it...</td>\n",
       "      <td>Title: K -Cup Cappuccino; Content: This is a p...</td>\n",
       "      <td>44</td>\n",
       "      <td>[-2.4473529265378602e-05, 0.008355854079127312...</td>\n",
       "    </tr>\n",
       "    <tr>\n",
       "      <th>446988</th>\n",
       "      <td>B004HU7TC6</td>\n",
       "      <td>A1BUNS3B1N43T9</td>\n",
       "      <td>5</td>\n",
       "      <td>Better than Western Candy</td>\n",
       "      <td>I love the strawberry flavor of Pocky the best...</td>\n",
       "      <td>Title: Better than Western Candy; Content: I l...</td>\n",
       "      <td>75</td>\n",
       "      <td>[0.009444493800401688, 0.005671391729265451, 0...</td>\n",
       "    </tr>\n",
       "  </tbody>\n",
       "</table>\n",
       "</div>"
      ],
      "text/plain": [
       "         ProductId          UserId  Score  \\\n",
       "535731  B003VXHGDM  A21VWSCGW7UUAR      4   \n",
       "538589  B0048KH218   AVDNKJE3E46HW      5   \n",
       "201428  B001U2HRLM  A1T666SZMKVT5Y      5   \n",
       "405314  B005K4Q4LK   AH1QYCY9W98C5      4   \n",
       "446988  B004HU7TC6  A1BUNS3B1N43T9      5   \n",
       "\n",
       "                                                  Summary  \\\n",
       "535731                   Good, but not Wolfgang Puck good   \n",
       "538589                                    Excellent Value   \n",
       "201428  Babys Only Toddler Formula Lactose Relief Organic   \n",
       "405314                                  K -Cup Cappuccino   \n",
       "446988                          Better than Western Candy   \n",
       "\n",
       "                                                     Text  \\\n",
       "535731  Honestly, I have to admit that I expected a li...   \n",
       "538589  I discovered quinoa recently. You can read all...   \n",
       "201428  I have been using this for the last 4 months f...   \n",
       "405314  This is a product that we will use again as it...   \n",
       "446988  I love the strawberry flavor of Pocky the best...   \n",
       "\n",
       "                                                 combined  n_tokens  \\\n",
       "535731  Title: Good, but not Wolfgang Puck good; Conte...       178   \n",
       "538589  Title: Excellent Value; Content: I discovered ...        57   \n",
       "201428  Title: Babys Only Toddler Formula Lactose Reli...        54   \n",
       "405314  Title: K -Cup Cappuccino; Content: This is a p...        44   \n",
       "446988  Title: Better than Western Candy; Content: I l...        75   \n",
       "\n",
       "                                            ada_embedding  \n",
       "535731  [-0.0031321949791163206, -0.010046787559986115...  \n",
       "538589  [0.0026609161868691444, 0.01671537756919861, 0...  \n",
       "201428  [-0.013263222761452198, -4.496865221881308e-05...  \n",
       "405314  [-2.4473529265378602e-05, 0.008355854079127312...  \n",
       "446988  [0.009444493800401688, 0.005671391729265451, 0...  "
      ]
     },
     "execution_count": 56,
     "metadata": {},
     "output_type": "execute_result"
    }
   ],
   "source": [
    "df.sample(5)"
   ]
  },
  {
   "cell_type": "code",
   "execution_count": 108,
   "id": "243cde4f-2738-4825-8443-071e8131c823",
   "metadata": {
    "tags": []
   },
   "outputs": [],
   "source": [
    "save_file_path = r'D:\\AI-DATASETS\\02-MISC-large\\GenAI-LLMs\\amazon_food_reviews_with_embeddings_2k.csv'\n",
    "df.to_csv(save_file_path)"
   ]
  },
  {
   "cell_type": "markdown",
   "id": "088fe8bf-e8dd-459a-84c9-1694fde95595",
   "metadata": {},
   "source": [
    "To load the data from a saved file, you can run the following:"
   ]
  },
  {
   "cell_type": "code",
   "execution_count": 44,
   "id": "f9c97731-61c4-4db4-9dba-f4ca56d5209e",
   "metadata": {},
   "outputs": [],
   "source": [
    "df_loaded = pd.read_csv(save_file_path)\n",
    "df_loaded['ada_embedding'] = df_loaded.ada_embedding.apply(eval).apply(np.array)"
   ]
  },
  {
   "cell_type": "code",
   "execution_count": null,
   "id": "a68122fa-593f-4c48-bce4-525f91c168f7",
   "metadata": {},
   "outputs": [],
   "source": []
  }
 ],
 "metadata": {
  "kernelspec": {
   "display_name": "Python 3 (ipykernel)",
   "language": "python",
   "name": "python3"
  },
  "language_info": {
   "codemirror_mode": {
    "name": "ipython",
    "version": 3
   },
   "file_extension": ".py",
   "mimetype": "text/x-python",
   "name": "python",
   "nbconvert_exporter": "python",
   "pygments_lexer": "ipython3",
   "version": "3.12.7"
  }
 },
 "nbformat": 4,
 "nbformat_minor": 5
}
