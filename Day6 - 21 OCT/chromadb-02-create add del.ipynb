{
 "cells": [
  {
   "cell_type": "code",
   "execution_count": 1,
   "id": "cc73baf0-4794-4967-a5c5-5dd9dc4447a9",
   "metadata": {},
   "outputs": [],
   "source": [
    "#pip uninstall chromadb"
   ]
  },
  {
   "cell_type": "code",
   "execution_count": null,
   "id": "c36bf4d1-b432-4caa-a316-828a0178b26b",
   "metadata": {},
   "outputs": [],
   "source": [
    "#!pip install --upgrade chromadb --user"
   ]
  },
  {
   "cell_type": "markdown",
   "id": "dc7e6138-9a13-41d0-83c3-1605d3fd8fbb",
   "metadata": {},
   "source": [
    "#### ChromDB\n",
    "- Creating, inspecting, and deleting Collections"
   ]
  },
  {
   "cell_type": "code",
   "execution_count": 2,
   "id": "8c11bf98-d057-4e18-a7ad-ce7c3efa10ea",
   "metadata": {},
   "outputs": [],
   "source": [
    "import chromadb\n",
    "\n",
    "from chromadb.config import Settings"
   ]
  },
  {
   "cell_type": "markdown",
   "id": "94eb3830-b4e0-4eec-9807-c219253c7f62",
   "metadata": {},
   "source": [
    "In the ChromaDB client, the `allow_reset` parameter allows the user to reset \n",
    "the in-memory state or database during the client's lifecycle.\n",
    "\n",
    "When `allow_reset = True`, the following behaviors are enabled:\n",
    " - It allows clearing all stored embeddings and metadata, effectively resetting ChromaDB.\n",
    " - Useful for testing, temporary data handling, or freeing up resources.\n",
    " - In production, it is recommended to set this to `False` to avoid unintended data loss."
   ]
  },
  {
   "cell_type": "code",
   "execution_count": 5,
   "id": "c9ebb5d0-6358-47f1-a097-f29f52fcc4e2",
   "metadata": {},
   "outputs": [],
   "source": [
    "# Create a ChromaDB client\n",
    "chroma_client = chromadb.Client(Settings(allow_reset = True))"
   ]
  },
  {
   "cell_type": "code",
   "execution_count": 6,
   "id": "b64a0721-0549-418c-a171-ab454de78128",
   "metadata": {},
   "outputs": [
    {
     "data": {
      "text/plain": [
       "True"
      ]
     },
     "execution_count": 6,
     "metadata": {},
     "output_type": "execute_result"
    }
   ],
   "source": [
    "# resets entire database - this *cant* be undone!\n",
    "chroma_client.reset()"
   ]
  },
  {
   "cell_type": "code",
   "execution_count": 7,
   "id": "85ccbb92-a3da-43e2-8ec6-9bdd4a320671",
   "metadata": {},
   "outputs": [
    {
     "data": {
      "text/plain": [
       "[]"
      ]
     },
     "execution_count": 7,
     "metadata": {},
     "output_type": "execute_result"
    }
   ],
   "source": [
    "# list all collections\n",
    "chroma_client.list_collections()"
   ]
  },
  {
   "cell_type": "code",
   "execution_count": 8,
   "id": "6f5bcb47-3fe2-4f0a-9823-3267d85ab90a",
   "metadata": {},
   "outputs": [],
   "source": [
    "# make a new collection\n",
    "collection = chroma_client.create_collection(\"first_coll\")"
   ]
  },
  {
   "cell_type": "code",
   "execution_count": 9,
   "id": "30ddfa18-081d-4ef9-8cfa-beb70290228e",
   "metadata": {},
   "outputs": [
    {
     "data": {
      "text/plain": [
       "Collection(id=b17bd350-6dce-4cb8-a1a5-da6335f275b2, name=first_coll)"
      ]
     },
     "execution_count": 9,
     "metadata": {},
     "output_type": "execute_result"
    }
   ],
   "source": [
    "# get an existing collection\n",
    "collection = chroma_client.get_collection(\"first_coll\")\n",
    "collection"
   ]
  },
  {
   "cell_type": "code",
   "execution_count": 10,
   "id": "87a7aab9-c817-4d48-956f-d99963e6be23",
   "metadata": {},
   "outputs": [],
   "source": [
    "# get a collection or create if it doesn't exist already\n",
    "collection = chroma_client.get_or_create_collection(\"first_coll\")"
   ]
  },
  {
   "cell_type": "code",
   "execution_count": 11,
   "id": "d751e620-7ce2-4959-89ce-b04180f19e70",
   "metadata": {},
   "outputs": [],
   "source": [
    "# delete a collection\n",
    "chroma_client.delete_collection(\"first_coll\")"
   ]
  },
  {
   "cell_type": "code",
   "execution_count": 12,
   "id": "a424766e-8fa4-43e3-88e7-6c1ba2f8d123",
   "metadata": {},
   "outputs": [
    {
     "data": {
      "text/plain": [
       "[Collection(id=18c3c13e-0b9d-4e0b-b15c-8e614a0570d0, name=first_coll2)]"
      ]
     },
     "execution_count": 12,
     "metadata": {},
     "output_type": "execute_result"
    }
   ],
   "source": [
    "# get a collection or create if it doesn't exist already\n",
    "collection = chroma_client.get_or_create_collection(\"first_coll\")\n",
    "\n",
    "# change the name or metadata on a collection\n",
    "collection.modify(name=\"first_coll2\")\n",
    "\n",
    "# list all collections\n",
    "chroma_client.list_collections()"
   ]
  },
  {
   "cell_type": "code",
   "execution_count": 13,
   "id": "13ff7111-31e0-4392-abb4-15240e657995",
   "metadata": {},
   "outputs": [
    {
     "data": {
      "text/plain": [
       "0"
      ]
     },
     "execution_count": 13,
     "metadata": {},
     "output_type": "execute_result"
    }
   ],
   "source": [
    "# get the number of items in a collection\n",
    "collection.count()"
   ]
  },
  {
   "cell_type": "code",
   "execution_count": 15,
   "id": "897f623c-26f4-4a68-ba63-1b247ca12d4a",
   "metadata": {},
   "outputs": [
    {
     "data": {
      "text/plain": [
       "{'ids': [],\n",
       " 'embeddings': None,\n",
       " 'metadatas': [],\n",
       " 'documents': [],\n",
       " 'uris': None,\n",
       " 'data': None,\n",
       " 'included': ['metadatas', 'documents']}"
      ]
     },
     "execution_count": 15,
     "metadata": {},
     "output_type": "execute_result"
    }
   ],
   "source": [
    "# get items from a collection\n",
    "collection.get()"
   ]
  },
  {
   "cell_type": "code",
   "execution_count": 16,
   "id": "9df40b06-607f-44f1-b0ac-5d9a520dd1de",
   "metadata": {},
   "outputs": [],
   "source": [
    "# add new items to a collection\n",
    "# either one at a time\n",
    "collection.add(\n",
    "    embeddings = [1.5, 2.9, 3.4],\n",
    "    metadatas  = {\"uri\": \"img9.png\", \"style\": \"style1\"},\n",
    "    documents  =\"doc1000101\",\n",
    "    ids        =\"ur99\",\n",
    ")"
   ]
  },
  {
   "cell_type": "code",
   "execution_count": 17,
   "id": "e63685ce-3cc0-4c5a-b12c-b831f8041b03",
   "metadata": {},
   "outputs": [],
   "source": [
    "collection.add(\n",
    "    embeddings= [[1.5, 2.9, 3.4], \n",
    "                 [9.8, 2.3, 2.9]],\n",
    "    metadatas = [{\"style\": \"style1\"}, \n",
    "                 {\"style\": \"style2\"}],\n",
    "    ids       = [\"uri9\", \n",
    "                 \"uri10\"],\n",
    ")"
   ]
  },
  {
   "cell_type": "code",
   "execution_count": null,
   "id": "fad3cd6b-4193-4343-a6ba-93b4309aff3d",
   "metadata": {},
   "outputs": [],
   "source": []
  }
 ],
 "metadata": {
  "kernelspec": {
   "display_name": "Python 3 (ipykernel)",
   "language": "python",
   "name": "python3"
  },
  "language_info": {
   "codemirror_mode": {
    "name": "ipython",
    "version": 3
   },
   "file_extension": ".py",
   "mimetype": "text/x-python",
   "name": "python",
   "nbconvert_exporter": "python",
   "pygments_lexer": "ipython3",
   "version": "3.12.4"
  }
 },
 "nbformat": 4,
 "nbformat_minor": 5
}
