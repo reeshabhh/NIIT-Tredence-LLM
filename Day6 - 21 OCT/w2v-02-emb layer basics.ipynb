{
 "cells": [
  {
   "cell_type": "markdown",
   "id": "ed3f6a1d-5d1d-4036-ae35-af945ae08b6c",
   "metadata": {},
   "source": [
    "-----------------------------\n",
    "#### Embedding layer in Keras\n",
    "------------------------------"
   ]
  },
  {
   "cell_type": "code",
   "execution_count": 1,
   "id": "4f87736c-d895-4f88-a9e3-6e303725e526",
   "metadata": {},
   "outputs": [],
   "source": [
    "# Define the sentences\n",
    "sentences = [\n",
    "    \"I love machine learning\",\n",
    "    \"Deep learning is fascinating\",\n",
    "    \"Natural language processing is a challenge\",\n",
    "    \"I enjoy learning new things\",\n",
    "    \"Machine learning models are powerful\"\n",
    "]\n",
    "\n",
    "# Define the binary labels\n",
    "labels = [1, 1, 0, 0, 1]"
   ]
  },
  {
   "cell_type": "code",
   "execution_count": 3,
   "id": "e5124b1e-172e-45b6-9c45-25c888dbe18d",
   "metadata": {},
   "outputs": [],
   "source": [
    "from tensorflow.keras.preprocessing.text import Tokenizer"
   ]
  },
  {
   "cell_type": "markdown",
   "id": "2270eaab-ff02-4bd9-a5e8-31cbf7e8d441",
   "metadata": {},
   "source": [
    "#### tokenization and integer encoding"
   ]
  },
  {
   "cell_type": "code",
   "execution_count": 4,
   "id": "cf5ff0d4-0156-4335-bca0-4af7954c2306",
   "metadata": {},
   "outputs": [],
   "source": [
    "# Initialize the Tokenizer\n",
    "tokenizer = Tokenizer()"
   ]
  },
  {
   "cell_type": "code",
   "execution_count": 6,
   "id": "863df92d-2087-4b0d-9808-8ea6b7dcb744",
   "metadata": {},
   "outputs": [],
   "source": [
    "tokenizer.fit_on_texts(sentences)"
   ]
  },
  {
   "cell_type": "code",
   "execution_count": 7,
   "id": "4a28beef-f107-44e9-a5a6-46169817fbcb",
   "metadata": {},
   "outputs": [
    {
     "name": "stdout",
     "output_type": "stream",
     "text": [
      "{'learning': 1, 'i': 2, 'machine': 3, 'is': 4, 'love': 5, 'deep': 6, 'fascinating': 7, 'natural': 8, 'language': 9, 'processing': 10, 'a': 11, 'challenge': 12, 'enjoy': 13, 'new': 14, 'things': 15, 'models': 16, 'are': 17, 'powerful': 18}\n"
     ]
    }
   ],
   "source": [
    "# Word index mapping\n",
    "word_index = tokenizer.word_index\n",
    "print(word_index)"
   ]
  },
  {
   "cell_type": "code",
   "execution_count": 8,
   "id": "ec74c9a0-7f85-4bdd-9f76-54ab7f1b108f",
   "metadata": {},
   "outputs": [],
   "source": [
    "# Convert sentences to integer sequences\n",
    "sequences = tokenizer.texts_to_sequences(sentences)"
   ]
  },
  {
   "cell_type": "code",
   "execution_count": 9,
   "id": "882d3d27-6186-493d-a082-c226af2d165f",
   "metadata": {},
   "outputs": [
    {
     "data": {
      "text/plain": [
       "[[2, 5, 3, 1],\n",
       " [6, 1, 4, 7],\n",
       " [8, 9, 10, 4, 11, 12],\n",
       " [2, 13, 1, 14, 15],\n",
       " [3, 1, 16, 17, 18]]"
      ]
     },
     "execution_count": 9,
     "metadata": {},
     "output_type": "execute_result"
    }
   ],
   "source": [
    "sequences"
   ]
  },
  {
   "cell_type": "markdown",
   "id": "3b04eae8-bb05-452c-83a4-938a06c26d51",
   "metadata": {},
   "source": [
    "#### padding\n",
    "- Since the sentences have different lengths, we pad them to ensure they all have the same length."
   ]
  },
  {
   "cell_type": "code",
   "execution_count": 10,
   "id": "a6c6d841-e7bb-4fe6-905e-0765bf9cbde5",
   "metadata": {},
   "outputs": [
    {
     "data": {
      "text/plain": [
       "array([[ 2,  5,  3,  1,  0,  0,  0],\n",
       "       [ 6,  1,  4,  7,  0,  0,  0],\n",
       "       [ 8,  9, 10,  4, 11, 12,  0],\n",
       "       [ 2, 13,  1, 14, 15,  0,  0],\n",
       "       [ 3,  1, 16, 17, 18,  0,  0]])"
      ]
     },
     "execution_count": 10,
     "metadata": {},
     "output_type": "execute_result"
    }
   ],
   "source": [
    "from tensorflow.keras.preprocessing.sequence import pad_sequences\n",
    "\n",
    "# Pad sequences to the same length\n",
    "max_length       = 7  # Maximum length of the sentences after padding\n",
    "padded_sequences = pad_sequences(sequences, maxlen=max_length, padding='post')\n",
    "\n",
    "padded_sequences"
   ]
  },
  {
   "cell_type": "markdown",
   "id": "36eb3c1c-7ae7-48a1-bc6c-18afc9789f9a",
   "metadata": {},
   "source": [
    "#### Model Construction\n",
    "- We construct a simple neural network model with an Embedding layer followed by a dense layer for binary classification."
   ]
  },
  {
   "cell_type": "code",
   "execution_count": 11,
   "id": "f139fb77-ef88-449d-909a-04c10de5783c",
   "metadata": {},
   "outputs": [],
   "source": [
    "from keras.models import Sequential\n",
    "from keras.layers import Embedding, Flatten, Dense"
   ]
  },
  {
   "cell_type": "code",
   "execution_count": 12,
   "id": "8b7b2672-f537-4dd6-93e1-a16380a2fc97",
   "metadata": {},
   "outputs": [
    {
     "data": {
      "text/plain": [
       "18"
      ]
     },
     "execution_count": 12,
     "metadata": {},
     "output_type": "execute_result"
    }
   ],
   "source": [
    "len(word_index)"
   ]
  },
  {
   "cell_type": "code",
   "execution_count": 13,
   "id": "7e0ea448-55a6-41e7-98c5-f6930b76d823",
   "metadata": {},
   "outputs": [],
   "source": [
    "# Define vocabulary size and embedding size\n",
    "vocab_size    = len(word_index) + 1  # Adding 1 because indexing starts from 1\n",
    "embedding_dim = 8                    # Dimension of the dense embedding"
   ]
  },
  {
   "cell_type": "code",
   "execution_count": 14,
   "id": "4f0992c8-8311-4057-ab50-cdaa7ed053ed",
   "metadata": {},
   "outputs": [
    {
     "name": "stderr",
     "output_type": "stream",
     "text": [
      "D:\\ANACONDA\\Lib\\site-packages\\keras\\src\\layers\\core\\embedding.py:90: UserWarning: Argument `input_length` is deprecated. Just remove it.\n",
      "  warnings.warn(\n"
     ]
    }
   ],
   "source": [
    "# Create the model\n",
    "model = Sequential()\n",
    "\n",
    "model.add(Embedding(input_dim   = vocab_size,     # 18\n",
    "                    output_dim  = embedding_dim,  # 8\n",
    "                    input_length= max_length))    # 7\n",
    "\n",
    "model.add(Flatten())\n",
    "model.add(Dense(1, activation='sigmoid'))"
   ]
  },
  {
   "cell_type": "code",
   "execution_count": null,
   "id": "cba9dd79-8c4f-4eb9-9f42-61dc50512b90",
   "metadata": {},
   "outputs": [],
   "source": []
  }
 ],
 "metadata": {
  "kernelspec": {
   "display_name": "Python 3 (ipykernel)",
   "language": "python",
   "name": "python3"
  },
  "language_info": {
   "codemirror_mode": {
    "name": "ipython",
    "version": 3
   },
   "file_extension": ".py",
   "mimetype": "text/x-python",
   "name": "python",
   "nbconvert_exporter": "python",
   "pygments_lexer": "ipython3",
   "version": "3.12.4"
  }
 },
 "nbformat": 4,
 "nbformat_minor": 5
}
