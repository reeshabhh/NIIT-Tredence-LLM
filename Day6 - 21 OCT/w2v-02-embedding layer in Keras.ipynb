{
 "cells": [
  {
   "cell_type": "markdown",
   "id": "e6e550b8-68ab-442b-ad51-37c53d8718f7",
   "metadata": {},
   "source": [
    "-----------------------------\n",
    "#### Embedding layer in Keras\n",
    "------------------------------"
   ]
  },
  {
   "cell_type": "code",
   "execution_count": 4,
   "id": "5339df31-0561-4e5a-a0a8-929d1d38c55d",
   "metadata": {},
   "outputs": [],
   "source": [
    "from keras.preprocessing.text import Tokenizer"
   ]
  },
  {
   "cell_type": "code",
   "execution_count": 5,
   "id": "f3ef5ca7-69eb-41b2-92db-c0c70667dca7",
   "metadata": {},
   "outputs": [],
   "source": [
    "# Define the sentences\n",
    "sentences = [\n",
    "    \"I love machine learning\",\n",
    "    \"Deep learning is fascinating\",\n",
    "    \"Natural language processing is a challenge\",\n",
    "    \"I enjoy learning new things\",\n",
    "    \"Machine learning models are powerful\"\n",
    "]\n",
    "\n",
    "# Define the binary labels\n",
    "labels = [1, 1, 0, 0, 1]"
   ]
  },
  {
   "cell_type": "markdown",
   "id": "d76a7874-ccc9-474d-a3da-aefadb1afabe",
   "metadata": {},
   "source": [
    "#### tokenization and integer encoding"
   ]
  },
  {
   "cell_type": "code",
   "execution_count": 6,
   "id": "4a081fe0-d85a-4a65-8204-7b3fa43daadc",
   "metadata": {},
   "outputs": [],
   "source": [
    "# Initialize the Tokenizer\n",
    "tokenizer = Tokenizer()\n",
    "tokenizer.fit_on_texts(sentences)"
   ]
  },
  {
   "cell_type": "code",
   "execution_count": 26,
   "id": "438c0a8e-fcea-44ee-8932-e00e767242a6",
   "metadata": {},
   "outputs": [
    {
     "name": "stdout",
     "output_type": "stream",
     "text": [
      "{'learning': 1, 'i': 2, 'machine': 3, 'is': 4, 'love': 5, 'deep': 6, 'fascinating': 7, 'natural': 8, 'language': 9, 'processing': 10, 'a': 11, 'challenge': 12, 'enjoy': 13, 'new': 14, 'things': 15, 'models': 16, 'are': 17, 'powerful': 18}\n"
     ]
    }
   ],
   "source": [
    "# Word index mapping\n",
    "word_index = tokenizer.word_index\n",
    "print(word_index)"
   ]
  },
  {
   "cell_type": "code",
   "execution_count": 14,
   "id": "e4b06258-cd22-49e6-a77b-4682ec0274e1",
   "metadata": {},
   "outputs": [],
   "source": [
    "# Convert sentences to integer sequences\n",
    "sequences = tokenizer.texts_to_sequences(sentences)"
   ]
  },
  {
   "cell_type": "code",
   "execution_count": 15,
   "id": "5696818f-0582-4d52-a2f9-f7db53ec2d93",
   "metadata": {},
   "outputs": [
    {
     "data": {
      "text/plain": [
       "[[2, 5, 3, 1],\n",
       " [6, 1, 4, 7],\n",
       " [8, 9, 10, 4, 11, 12],\n",
       " [2, 13, 1, 14, 15],\n",
       " [3, 1, 16, 17, 18]]"
      ]
     },
     "execution_count": 15,
     "metadata": {},
     "output_type": "execute_result"
    }
   ],
   "source": [
    "sequences"
   ]
  },
  {
   "cell_type": "markdown",
   "id": "2f198e5b-3bb0-417e-bd2c-2e455d065d94",
   "metadata": {},
   "source": [
    "#### padding\n",
    "- Since the sentences have different lengths, we pad them to ensure they all have the same length."
   ]
  },
  {
   "cell_type": "code",
   "execution_count": 17,
   "id": "df5f7b7f-d010-45c6-9cf9-c197e18d62a7",
   "metadata": {},
   "outputs": [
    {
     "data": {
      "text/plain": [
       "array([[ 2,  5,  3,  1,  0,  0,  0],\n",
       "       [ 6,  1,  4,  7,  0,  0,  0],\n",
       "       [ 8,  9, 10,  4, 11, 12,  0],\n",
       "       [ 2, 13,  1, 14, 15,  0,  0],\n",
       "       [ 3,  1, 16, 17, 18,  0,  0]])"
      ]
     },
     "execution_count": 17,
     "metadata": {},
     "output_type": "execute_result"
    }
   ],
   "source": [
    "from tensorflow.keras.preprocessing.sequence import pad_sequences\n",
    "\n",
    "# Pad sequences to the same length\n",
    "max_length = 7  # Maximum length of the sentences after padding\n",
    "padded_sequences = pad_sequences(sequences, maxlen=max_length, padding='post')\n",
    "\n",
    "padded_sequences"
   ]
  },
  {
   "cell_type": "markdown",
   "id": "83f1c893-e45b-4b36-93cf-40c1e09eff1f",
   "metadata": {},
   "source": [
    "Each sentence is now represented as a fixed-length sequence of integers, with padding (zeros) added to the end of shorter sentences."
   ]
  },
  {
   "cell_type": "markdown",
   "id": "fce6beeb-102b-4749-b8cc-8605aaa16251",
   "metadata": {},
   "source": [
    "#### Model Construction\n",
    "- We construct a simple neural network model with an Embedding layer followed by a dense layer for binary classification."
   ]
  },
  {
   "cell_type": "code",
   "execution_count": 18,
   "id": "e1f66b23-3979-40cb-89d1-00828e20714c",
   "metadata": {},
   "outputs": [],
   "source": [
    "from keras.models import Sequential\n",
    "from keras.layers import Embedding, Flatten, Dense"
   ]
  },
  {
   "cell_type": "code",
   "execution_count": 19,
   "id": "dea3868c-58da-4e50-85a3-fe920c53b68e",
   "metadata": {},
   "outputs": [
    {
     "data": {
      "text/plain": [
       "18"
      ]
     },
     "execution_count": 19,
     "metadata": {},
     "output_type": "execute_result"
    }
   ],
   "source": [
    "len(word_index)"
   ]
  },
  {
   "cell_type": "code",
   "execution_count": 20,
   "id": "9c6012bc-e29a-4187-81b6-1571b2534daf",
   "metadata": {},
   "outputs": [],
   "source": [
    "# Define vocabulary size and embedding size\n",
    "vocab_size    = len(word_index) + 1  # Adding 1 because indexing starts from 1\n",
    "embedding_dim = 8                    # Dimension of the dense embedding"
   ]
  },
  {
   "cell_type": "code",
   "execution_count": 21,
   "id": "3b0e947a-43c4-479b-b1f1-af8c9be29b0b",
   "metadata": {},
   "outputs": [],
   "source": [
    "# Create the model\n",
    "model = Sequential()\n",
    "\n",
    "model.add(Embedding(input_dim   = vocab_size,     # 18\n",
    "                    output_dim  = embedding_dim,  # 8\n",
    "                    input_length= max_length))    # 7\n",
    "\n",
    "model.add(Flatten())\n",
    "model.add(Dense(1, activation='sigmoid'))"
   ]
  },
  {
   "cell_type": "code",
   "execution_count": 22,
   "id": "6e25bdbb-7b15-4cc0-9a96-cb9a3f184aa8",
   "metadata": {},
   "outputs": [],
   "source": [
    "# Compile the model\n",
    "model.compile(optimizer='adam', loss='binary_crossentropy', metrics=['accuracy'])"
   ]
  },
  {
   "cell_type": "code",
   "execution_count": 23,
   "id": "0d3447ac-4147-49af-bb31-81988d59998b",
   "metadata": {},
   "outputs": [
    {
     "name": "stdout",
     "output_type": "stream",
     "text": [
      "Model: \"sequential\"\n",
      "_________________________________________________________________\n",
      " Layer (type)                Output Shape              Param #   \n",
      "=================================================================\n",
      " embedding (Embedding)       (None, 7, 8)              152       \n",
      "                                                                 \n",
      " flatten (Flatten)           (None, 56)                0         \n",
      "                                                                 \n",
      " dense (Dense)               (None, 1)                 57        \n",
      "                                                                 \n",
      "=================================================================\n",
      "Total params: 209\n",
      "Trainable params: 209\n",
      "Non-trainable params: 0\n",
      "_________________________________________________________________\n"
     ]
    }
   ],
   "source": [
    "# Display model summary\n",
    "model.summary()"
   ]
  },
  {
   "cell_type": "code",
   "execution_count": 27,
   "id": "4c20989a-9d65-4bb8-8e18-25ee71bbbd6c",
   "metadata": {},
   "outputs": [],
   "source": [
    "# Save the model\n",
    "model.save('my_model.h5')"
   ]
  },
  {
   "cell_type": "code",
   "execution_count": 24,
   "id": "de7c1d9a-84a3-4245-b3bd-aa0a4a0c654a",
   "metadata": {},
   "outputs": [],
   "source": [
    "from keras.utils import plot_model"
   ]
  },
  {
   "cell_type": "code",
   "execution_count": 25,
   "id": "e56e7784-3d69-47f3-b87e-30e992130c7a",
   "metadata": {},
   "outputs": [
    {
     "data": {
      "image/png": "[encoded data removed]",
      "text/plain": [
       "<IPython.core.display.Image object>"
      ]
     },
     "execution_count": 25,
     "metadata": {},
     "output_type": "execute_result"
    }
   ],
   "source": [
    "# Plot the model\n",
    "plot_model(model, to_file='model_plot.png', show_shapes=True, show_layer_names=True)"
   ]
  },
  {
   "cell_type": "code",
   "execution_count": 30,
   "id": "3ceacae5-18da-4b2e-926f-62107e6edc6e",
   "metadata": {},
   "outputs": [],
   "source": [
    "from tensorflow.keras.layers import Dense, Flatten, Input\n",
    "model = Sequential()\n",
    "\n",
    "model.add(Input(shape=(56,)))  # Specify input shape as 56\n",
    "\n",
    "# Add a Dense layer with 1 node and sigmoid activation function\n",
    "model.add(Dense(1, activation='sigmoid'))\n",
    "\n",
    "# Compile the model\n",
    "model.compile(optimizer='adam', loss='binary_crossentropy', metrics=['accuracy'])\n",
    "\n",
    "# Save the model\n",
    "model.save('my_model.h5')"
   ]
  },
  {
   "cell_type": "code",
   "execution_count": 31,
   "id": "f7a37001-875f-492e-80a2-c8c6fcb34dc2",
   "metadata": {},
   "outputs": [
    {
     "name": "stdout",
     "output_type": "stream",
     "text": [
      "Collecting keras-visualizer\n",
      "  Downloading keras_visualizer-3.2.0-py3-none-any.whl (7.1 kB)\n",
      "Requirement already satisfied: graphviz in d:\\anaconda-16-feb\\lib\\site-packages (from keras-visualizer) (0.20.3)\n",
      "Installing collected packages: keras-visualizer\n",
      "Successfully installed keras-visualizer-3.2.0\n",
      "Note: you may need to restart the kernel to use updated packages.\n"
     ]
    },
    {
     "name": "stderr",
     "output_type": "stream",
     "text": [
      "WARNING: Ignoring invalid distribution -rotobuf (c:\\users\\bhupe\\appdata\\roaming\\python\\python39\\site-packages)\n",
      "WARNING: Ignoring invalid distribution -treamlit (d:\\anaconda-16-feb\\lib\\site-packages)\n",
      "WARNING: Ignoring invalid distribution - (d:\\anaconda-16-feb\\lib\\site-packages)\n",
      "WARNING: Ignoring invalid distribution -rotobuf (c:\\users\\bhupe\\appdata\\roaming\\python\\python39\\site-packages)\n",
      "WARNING: Ignoring invalid distribution -treamlit (d:\\anaconda-16-feb\\lib\\site-packages)\n",
      "WARNING: Ignoring invalid distribution - (d:\\anaconda-16-feb\\lib\\site-packages)\n",
      "WARNING: Ignoring invalid distribution -rotobuf (c:\\users\\bhupe\\appdata\\roaming\\python\\python39\\site-packages)\n",
      "WARNING: Ignoring invalid distribution -treamlit (d:\\anaconda-16-feb\\lib\\site-packages)\n",
      "WARNING: Ignoring invalid distribution - (d:\\anaconda-16-feb\\lib\\site-packages)\n",
      "WARNING: Ignoring invalid distribution -treamlit (d:\\anaconda-16-feb\\lib\\site-packages)\n",
      "WARNING: Ignoring invalid distribution -rotobuf (d:\\anaconda-16-feb\\lib\\site-packages)\n",
      "WARNING: Ignoring invalid distribution - (d:\\anaconda-16-feb\\lib\\site-packages)\n",
      "WARNING: Ignoring invalid distribution -rotobuf (c:\\users\\bhupe\\appdata\\roaming\\python\\python39\\site-packages)\n",
      "WARNING: Ignoring invalid distribution -treamlit (d:\\anaconda-16-feb\\lib\\site-packages)\n",
      "WARNING: Ignoring invalid distribution - (d:\\anaconda-16-feb\\lib\\site-packages)\n",
      "WARNING: Ignoring invalid distribution -rotobuf (c:\\users\\bhupe\\appdata\\roaming\\python\\python39\\site-packages)\n",
      "WARNING: Ignoring invalid distribution -treamlit (d:\\anaconda-16-feb\\lib\\site-packages)\n",
      "WARNING: Ignoring invalid distribution - (d:\\anaconda-16-feb\\lib\\site-packages)\n",
      "WARNING: Ignoring invalid distribution -rotobuf (c:\\users\\bhupe\\appdata\\roaming\\python\\python39\\site-packages)\n",
      "WARNING: Ignoring invalid distribution -treamlit (d:\\anaconda-16-feb\\lib\\site-packages)\n",
      "WARNING: Ignoring invalid distribution - (d:\\anaconda-16-feb\\lib\\site-packages)\n"
     ]
    }
   ],
   "source": [
    "pip install keras-visualizer"
   ]
  },
  {
   "cell_type": "code",
   "execution_count": 33,
   "id": "3589d0ae-0c49-4118-acba-5dfb10bce618",
   "metadata": {},
   "outputs": [],
   "source": [
    "from keras_visualizer import visualizer\n",
    "\n",
    "# create your model here\n",
    "# model = ...\n",
    "\n",
    "visualizer(model, file_format='png', view=True)"
   ]
  },
  {
   "cell_type": "code",
   "execution_count": null,
   "id": "f67ff567-1eeb-4f93-b1f8-d47fae5e8ed8",
   "metadata": {},
   "outputs": [],
   "source": [
    "[[0.3, -0.3, 0.4, ...],  # Embedding for index 2\n",
    " [0.6, -0.2, 0.1, ...],  # Embedding for index 5\n",
    " [0.5, 0.2, -0.1, ...]]  # Embedding for index 3"
   ]
  }
 ],
 "metadata": {
  "kernelspec": {
   "display_name": "Python 3 (ipykernel)",
   "language": "python",
   "name": "python3"
  },
  "language_info": {
   "codemirror_mode": {
    "name": "ipython",
    "version": 3
   },
   "file_extension": ".py",
   "mimetype": "text/x-python",
   "name": "python",
   "nbconvert_exporter": "python",
   "pygments_lexer": "ipython3",
   "version": "3.12.4"
  }
 },
 "nbformat": 4,
 "nbformat_minor": 5
}
